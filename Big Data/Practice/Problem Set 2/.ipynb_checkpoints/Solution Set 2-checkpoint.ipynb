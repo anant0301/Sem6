{
 "cells": [
  {
   "cell_type": "code",
   "execution_count": 38,
   "metadata": {},
   "outputs": [],
   "source": [
    "import matplotlib.pyplot as plt\n",
    "import numpy as np"
   ]
  },
  {
   "cell_type": "markdown",
   "metadata": {},
   "source": [
    "COM 506 P ANALYTICS & SYSTEMS OF BIGT DATA PRACTICE – PROBLEM SET II\n",
    "1. On New Year’s Eve, Tina walked into a random shop and surprised to see a huge crowd there. She is interested to find what kind of products they sell the most, for which she needs the age distribution of customers. Help her to find out the same using histogram. The age details of the customers are given below\n",
    "\n",
    "7, 9, 27, 28, 55, 45, 34, 65, 54, 67, 34, 23, 24, 66, 53, 45, 44, 88, 22, 33, 55, 35, 33, 37, 47, 41,31, 30,\n",
    "29, 12.\n",
    "\n",
    "Identify the type of histogram (eg. Bimodal, Multimodal, Skewed..etc). Use different bin sizes.\n"
   ]
  },
  {
   "cell_type": "code",
   "execution_count": 28,
   "metadata": {},
   "outputs": [
    {
     "data": {
      "text/plain": [
       "30"
      ]
     },
     "execution_count": 28,
     "metadata": {},
     "output_type": "execute_result"
    }
   ],
   "source": [
    "data = [7, 9, 27, 28, 55, 45, 34, 65, 54, 67, 34, 23, 24, 66, 53, 45, 44, 88, 22, 33, 55, 35, 33, 37, 47, 41,31, 30, 29, 12]\n",
    "len(data)"
   ]
  },
  {
   "cell_type": "code",
   "execution_count": 25,
   "metadata": {},
   "outputs": [
    {
     "data": {
      "text/plain": [
       "(array([30.]), array([ 7., 88.]), <a list of 1 Patch objects>)"
      ]
     },
     "execution_count": 25,
     "metadata": {},
     "output_type": "execute_result"
    },
    {
     "data": {
      "image/png": "[encoded data removed]",
      "text/plain": [
       "<Figure size 432x288 with 1 Axes>"
      ]
     },
     "metadata": {
      "needs_background": "light"
     },
     "output_type": "display_data"
    }
   ],
   "source": [
    "#  the graph below is uniform histogram\n",
    "plt.hist(data, bins= 1)"
   ]
  },
  {
   "cell_type": "code",
   "execution_count": 22,
   "metadata": {},
   "outputs": [
    {
     "data": {
      "text/plain": [
       "(array([ 5., 12.,  9.,  3.,  1.]),\n",
       " array([ 7. , 23.2, 39.4, 55.6, 71.8, 88. ]),\n",
       " <a list of 5 Patch objects>)"
      ]
     },
     "execution_count": 22,
     "metadata": {},
     "output_type": "execute_result"
    },
    {
     "data": {
      "image/png": "[encoded data removed]",
      "text/plain": [
       "<Figure size 432x288 with 1 Axes>"
      ]
     },
     "metadata": {
      "needs_background": "light"
     },
     "output_type": "display_data"
    }
   ],
   "source": [
    "#  the graph below is normal histogram\n",
    "plt.hist(data, bins= 5)"
   ]
  },
  {
   "cell_type": "code",
   "execution_count": 20,
   "metadata": {},
   "outputs": [
    {
     "data": {
      "text/plain": [
       "(array([3., 2., 6., 6., 5., 4., 0., 3., 0., 1.]),\n",
       " array([ 7. , 15.1, 23.2, 31.3, 39.4, 47.5, 55.6, 63.7, 71.8, 79.9, 88. ]),\n",
       " <a list of 10 Patch objects>)"
      ]
     },
     "execution_count": 20,
     "metadata": {},
     "output_type": "execute_result"
    },
    {
     "data": {
      "image/png": "[encoded data removed]",
      "text/plain": [
       "<Figure size 432x288 with 1 Axes>"
      ]
     },
     "metadata": {
      "needs_background": "light"
     },
     "output_type": "display_data"
    }
   ],
   "source": [
    "# This graph is normal histogram\n",
    "plt.hist(data)"
   ]
  },
  {
   "cell_type": "code",
   "execution_count": 27,
   "metadata": {},
   "outputs": [
    {
     "data": {
      "text/plain": [
       "(array([3., 0., 2., 3., 5., 4., 2., 3., 4., 0., 2., 1., 0., 0., 1.]),\n",
       " array([ 7. , 12.4, 17.8, 23.2, 28.6, 34. , 39.4, 44.8, 50.2, 55.6, 61. ,\n",
       "        66.4, 71.8, 77.2, 82.6, 88. ]),\n",
       " <a list of 15 Patch objects>)"
      ]
     },
     "execution_count": 27,
     "metadata": {},
     "output_type": "execute_result"
    },
    {
     "data": {
      "image/png": "[encoded data removed]",
      "text/plain": [
       "<Figure size 432x288 with 1 Axes>"
      ]
     },
     "metadata": {
      "needs_background": "light"
     },
     "output_type": "display_data"
    }
   ],
   "source": [
    "# This graph here is multimodal histogram\n",
    "plt.hist(data, bins= 15)"
   ]
  },
  {
   "cell_type": "markdown",
   "metadata": {},
   "source": [
    "Variations with number of bins\n",
    "\n",
    "Number of Bins | Histogram Type | Number of bins |  Number data points | Comments\n",
    "---|---|---|---|---\n",
    "1 | Uniform | 1 | 30 | When number of bins is very less - not even comparable to the number of the data points (< 0.05), the data becomes more uniform.\n",
    "5 | Normal | 5 | 30 | When number of bins is less that of data points (0.1 - 0.4 of data points).\n",
    "10 | Normal | 10 | 30 | The number of bins about a third of the number of data points.\n",
    "15 | Bimodal | 15 | 30 | The number of bins about half of the number of data points.\n",
    "\n",
    "## Conclusion ##\n",
    "As the number of data points reach the number of data points the conclusions drawn from the graph changes, it is like drilling up. The number of bins hence are needed to be decided on the scale we work in "
   ]
  },
  {
   "cell_type": "markdown",
   "metadata": {},
   "source": [
    "2. A Coach tracked the number of points that each of his 30 players on the team had in one game. The points scored by each player is given below. Visualize the data using ordered stem-leaf plot and also detect the outliers and shape of the distribution.\n",
    "\n",
    "22, 21, 24, 19, 27, 28, 24, 25, 29, 28, 26, 31, 28, 27, 22, 39, 20, 10, 26, 24, 27, 28, 26, 28, 18, 32, 29,\n",
    "25, 31, 27."
   ]
  },
  {
   "cell_type": "code",
   "execution_count": 75,
   "metadata": {},
   "outputs": [
    {
     "data": {
      "text/plain": [
       "{0: [2],\n",
       " 1: [0, 8, 9],\n",
       " 2: [0, 1, 2, 2, 4, 4, 4, 5, 5, 6, 6, 6, 7, 7, 7, 8, 8, 8, 8, 8, 9, 9],\n",
       " 3: [1, 1, 2, 9]}"
      ]
     },
     "execution_count": 75,
     "metadata": {},
     "output_type": "execute_result"
    }
   ],
   "source": [
    "data = [22, 21, 24, 19, 27, 28, 24, 25, 29, 28, 26, 31, 28, 27, 22, 39, 20, 10, 26, 24, 27, 28, 26, 28, 18, 32, 29, 25, 31, 2]\n",
    "stem_leaf = {}\n",
    "data = sorted(data)\n",
    "for i in data:\n",
    "    if (i // 10) in stem_leaf:\n",
    "        stem_leaf[i // 10].append(i % 10)\n",
    "    else:\n",
    "        stem_leaf[i // 10] = list([i % 10])\n",
    "stem_leaf"
   ]
  },
  {
   "cell_type": "markdown",
   "metadata": {},
   "source": [
    "The outliers here can be said to be the entry 02 and if taken very strictly then even data points 10 and 39 are outliers."
   ]
  },
  {
   "cell_type": "markdown",
   "metadata": {},
   "source": [
    "3. For a sample space of 15 people, a statistician wanted to know the consumption of water and other beverages. He collected their average consumption of water and beverages for 30 days (in litres). Help him to visualize the data using density plot, rug plot and identify the mean, median, mode and skewness of the data from the plot.\n",
    "\n",
    "WATER | 3.2| 3.5| 3.6| 2.5| 2.8| 5.9| 2.9| 3.9| 4.9| 6.9| 7.9| 8.0| 3.3| 6.6| 4.4\n",
    "---|---|---|---|---|---|---|---|---|---|---|---|---|---|---|---\n",
    "BEVERAGES | 2.2| 2.5| 2.6| 1.5| 3.8| 1.9| 0.9| 3.9| 4.9| 6.9| 0.1| 8.0| 0.3| 2.6| 1.4"
   ]
  },
  {
   "cell_type": "code",
   "execution_count": null,
   "metadata": {},
   "outputs": [],
   "source": []
  },
  {
   "cell_type": "markdown",
   "metadata": {},
   "source": [
    "4. A car company wants to predict how much fuel different cars will use based on their masses. They took a sample of cars, drove each car 100km, and measured how much fuel was used in each case (in litres). Visualize the data using scatterplot and also find co-relation between the 2 variables (eg. Positive//Negative, Linear/ Non-linear co-relation) The data is summarized in the table below. (Use a reasonable scale on both axes and put the explanatory variable on the x-axis.)\n",
    "\n",
    "Fuel used (L) | 3.6 | 6.7 | 9.8 | 11.2 | 14.7\n",
    "---|---|---|---|---|--- \n",
    "Mass (metric tons)| 0.45| 0.91| 1.36| 1.81| 2.27\n"
   ]
  },
  {
   "cell_type": "markdown",
   "metadata": {},
   "source": [
    "5. The data below represents the number of chairs in each class of a government high school. Create a box plot and swarm plot (add jitter) and find the number of data points that are outliers.\n",
    "\n",
    "35, 54, 60, 65, 66, 67, 69, 70, 72, 73, 75, 76, 54, 25, 15, 60, 65, 66, 67, 69, 70, 72, 130, 73, 75, 76\n"
   ]
  },
  {
   "cell_type": "markdown",
   "metadata": {},
   "source": [
    "6. Generate random numbers from the following distribution and visualize the data using violin plot.\n",
    "(i) Standard-Normal distribution.\n",
    "(ii) Log-Normal distribution.\n"
   ]
  },
  {
   "cell_type": "markdown",
   "metadata": {},
   "source": [
    "7. An Advertisement agency develops new ads for various clients (like Jewellery shops, Textile shops).\n",
    "The Agency wants to assess their performance, for which they want to know the number of ads they\n",
    "developed in each quarter for different shop category. Help them to visualize data using radar/spider\n",
    "charts.Shop Category\n",
    "Textile\n",
    "Jewellery\n",
    "Cleaning Essentials\n",
    "Cosmetics\n",
    "Quarter\n",
    "1\n",
    "10\n",
    "5\n",
    "15\n",
    "14\n",
    "Quarter\n",
    "2\n",
    "6\n",
    "5\n",
    "20\n",
    "10\n",
    "Quarter\n",
    "3\n",
    "8\n",
    "2\n",
    "16\n",
    "21\n",
    "Quarter\n",
    "4\n",
    "13\n",
    "4\n",
    "15\n",
    "11"
   ]
  },
  {
   "cell_type": "markdown",
   "metadata": {},
   "source": [
    "\n",
    "8. An organization wants to calculate the % of time they spent on each process for their product\n",
    "development. Visualize the data using funnel chart with the data given below.\n",
    "Product Development steps\n",
    "Requirement Elicitation\n",
    "Requirement Analysis\n",
    "Software Development\n",
    "Debugging & Testing\n",
    "Others\n",
    "Time spent\n",
    "(in hours)\n",
    "50\n",
    "110\n",
    "250\n",
    "180\n",
    "70\n",
    "9. Let's say you are the new owner of a small ice-cream shop in a little village near the beach. You\n",
    "noticed that there was more business in the warmer months than the cooler months. Before you alter\n",
    "your purchasing pattern to match this trend, you want to be sure that the relationship is real. Help him\n",
    "to find the correlation between the data given.\n",
    "Temperature\n",
    "98\n",
    "87\n",
    "90\n",
    "85\n",
    "95\n",
    "75\n",
    "Number of Customers\n",
    "15\n",
    "12\n",
    "10\n",
    "10\n",
    "16\n",
    "7"
   ]
  }
 ],
 "metadata": {
  "kernelspec": {
   "display_name": "Python 3",
   "language": "python",
   "name": "python3"
  },
  "language_info": {
   "codemirror_mode": {
    "name": "ipython",
    "version": 3
   },
   "file_extension": ".py",
   "mimetype": "text/x-python",
   "name": "python",
   "nbconvert_exporter": "python",
   "pygments_lexer": "ipython3",
   "version": "3.7.6"
  }
 },
 "nbformat": 4,
 "nbformat_minor": 4
}
