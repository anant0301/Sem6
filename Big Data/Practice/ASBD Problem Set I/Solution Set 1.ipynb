{
 "cells": [
  {
   "attachments": {
    "image.png": {
     "image/png": "[encoded data removed]"
    }
   },
   "cell_type": "markdown",
   "metadata": {},
   "source": [
    "1. Given the following setup {Class,Tally score, Frequency}, develop an application that generates the table shown ; (you can populate the relevant data ; minimum data size :50 records). The table is only an illustration for a data of color scores, you are free to test the application over any data set with the application generating the tally and frequency scores.\n",
    "![image.png](attachment:image.png)\n"
   ]
  },
  {
   "cell_type": "markdown",
   "metadata": {},
   "source": [
    "### Logic ###\n",
    "#### Input ####\n",
    "The input to the program is a csv file containing two columns, the names being Score and Frequency.\n",
    "#### Output ####\n",
    "The output is an simple \n",
    "The mark ||||\\ represents 5 and each | represents 1."
   ]
  },
  {
   "cell_type": "code",
   "execution_count": 1,
   "metadata": {},
   "outputs": [],
   "source": [
    "import random\n",
    "import pandas as pd"
   ]
  },
  {
   "cell_type": "markdown",
   "metadata": {},
   "source": [
    "### Sample File Generation ###\n",
    "To column headers Score and Frequency, here the Score is for color represented in hexadecimal coding.\n",
    "\n",
    "__Note:__\n",
    "There could be some duplicate records in score."
   ]
  },
  {
   "cell_type": "code",
   "execution_count": 2,
   "metadata": {},
   "outputs": [
    {
     "name": "stdout",
     "output_type": "stream",
     "text": [
      "The number of iterations: 444\n"
     ]
    }
   ],
   "source": [
    "num = int(input(\"The number of iterations: \"))\n",
    "score = list()\n",
    "frequency = list()\n",
    "for i in range(num):\n",
    "    score.append('#'+ str(hex(random.randint(0,16777215)))[2:])\n",
    "    frequency.append(random.randint(0, 50))\n",
    "pd.DataFrame({'Score': score, 'Frequency': frequency}).to_csv('sample_data_1.csv', index= False)"
   ]
  },
  {
   "cell_type": "code",
   "execution_count": 3,
   "metadata": {},
   "outputs": [
    {
     "data": {
      "text/html": [
       "<div>\n",
       "<style scoped>\n",
       "    .dataframe tbody tr th:only-of-type {\n",
       "        vertical-align: middle;\n",
       "    }\n",
       "\n",
       "    .dataframe tbody tr th {\n",
       "        vertical-align: top;\n",
       "    }\n",
       "\n",
       "    .dataframe thead th {\n",
       "        text-align: right;\n",
       "    }\n",
       "</style>\n",
       "<table border=\"1\" class=\"dataframe\">\n",
       "  <thead>\n",
       "    <tr style=\"text-align: right;\">\n",
       "      <th></th>\n",
       "      <th>Score</th>\n",
       "      <th>Tally</th>\n",
       "      <th>Frequency</th>\n",
       "    </tr>\n",
       "  </thead>\n",
       "  <tbody>\n",
       "    <tr>\n",
       "      <th>0</th>\n",
       "      <td>#ac642d</td>\n",
       "      <td>||||\\ ||||\\ ||||\\  ||</td>\n",
       "      <td>17</td>\n",
       "    </tr>\n",
       "    <tr>\n",
       "      <th>1</th>\n",
       "      <td>#2b5cda</td>\n",
       "      <td>||||\\ ||||\\ ||||\\ ||||\\ ||||\\ ||||\\ ||||\\ ||||...</td>\n",
       "      <td>41</td>\n",
       "    </tr>\n",
       "    <tr>\n",
       "      <th>2</th>\n",
       "      <td>#c24dd5</td>\n",
       "      <td>||||\\ ||||\\ ||||\\ ||||\\  |||</td>\n",
       "      <td>23</td>\n",
       "    </tr>\n",
       "    <tr>\n",
       "      <th>3</th>\n",
       "      <td>#f3d013</td>\n",
       "      <td>||||\\ ||||\\ ||||\\ ||||\\  |||</td>\n",
       "      <td>23</td>\n",
       "    </tr>\n",
       "    <tr>\n",
       "      <th>4</th>\n",
       "      <td>#df414f</td>\n",
       "      <td>||||\\ ||||\\  ||||</td>\n",
       "      <td>14</td>\n",
       "    </tr>\n",
       "    <tr>\n",
       "      <th>...</th>\n",
       "      <td>...</td>\n",
       "      <td>...</td>\n",
       "      <td>...</td>\n",
       "    </tr>\n",
       "    <tr>\n",
       "      <th>439</th>\n",
       "      <td>#b3ba25</td>\n",
       "      <td>||||\\ ||||\\ ||||\\ ||||\\ ||||\\ ||||\\</td>\n",
       "      <td>30</td>\n",
       "    </tr>\n",
       "    <tr>\n",
       "      <th>440</th>\n",
       "      <td>#b56af6</td>\n",
       "      <td>||||\\ ||||\\ ||||\\ ||||\\ ||||\\ ||||\\ ||||\\ ||||...</td>\n",
       "      <td>49</td>\n",
       "    </tr>\n",
       "    <tr>\n",
       "      <th>441</th>\n",
       "      <td>#82a64c</td>\n",
       "      <td>||||\\ ||||\\  ||</td>\n",
       "      <td>12</td>\n",
       "    </tr>\n",
       "    <tr>\n",
       "      <th>442</th>\n",
       "      <td>#1ec644</td>\n",
       "      <td>||||\\ ||||\\ ||||\\ ||||\\ ||||\\  |</td>\n",
       "      <td>26</td>\n",
       "    </tr>\n",
       "    <tr>\n",
       "      <th>443</th>\n",
       "      <td>#92b14d</td>\n",
       "      <td>||||\\ ||||\\ ||||\\  |</td>\n",
       "      <td>16</td>\n",
       "    </tr>\n",
       "  </tbody>\n",
       "</table>\n",
       "<p>444 rows × 3 columns</p>\n",
       "</div>"
      ],
      "text/plain": [
       "       Score                                              Tally  Frequency\n",
       "0    #ac642d                              ||||\\ ||||\\ ||||\\  ||         17\n",
       "1    #2b5cda  ||||\\ ||||\\ ||||\\ ||||\\ ||||\\ ||||\\ ||||\\ ||||...         41\n",
       "2    #c24dd5                       ||||\\ ||||\\ ||||\\ ||||\\  |||         23\n",
       "3    #f3d013                       ||||\\ ||||\\ ||||\\ ||||\\  |||         23\n",
       "4    #df414f                                  ||||\\ ||||\\  ||||         14\n",
       "..       ...                                                ...        ...\n",
       "439  #b3ba25              ||||\\ ||||\\ ||||\\ ||||\\ ||||\\ ||||\\           30\n",
       "440  #b56af6  ||||\\ ||||\\ ||||\\ ||||\\ ||||\\ ||||\\ ||||\\ ||||...         49\n",
       "441  #82a64c                                    ||||\\ ||||\\  ||         12\n",
       "442  #1ec644                   ||||\\ ||||\\ ||||\\ ||||\\ ||||\\  |         26\n",
       "443  #92b14d                               ||||\\ ||||\\ ||||\\  |         16\n",
       "\n",
       "[444 rows x 3 columns]"
      ]
     },
     "execution_count": 3,
     "metadata": {},
     "output_type": "execute_result"
    }
   ],
   "source": [
    "df = pd.read_csv('sample_data_1.csv')\n",
    "tally = []\n",
    "for frequency in df.Frequency:\n",
    "    ones = '|' * (frequency % 5)\n",
    "    fives= '||||\\ ' * (frequency // 5)\n",
    "    tally.append(fives + ' ' + ones)\n",
    "df['Tally'] = tally\n",
    "df[['Score', 'Tally', 'Frequency']]"
   ]
  },
  {
   "cell_type": "markdown",
   "metadata": {},
   "source": [
    "2. In a class of 18 students, assume marks distribution in an exam are as follows. Let the roll numbers start with CSE20D01 and all the odd roll numbers secure marks as follows: 25+((i+7)%10) and even roll numbers :  25+((i+8)%10). Develop an application that sets up the data and calculate the mean and median for the marks obtained using the platform support."
   ]
  },
  {
   "cell_type": "markdown",
   "metadata": {},
   "source": [
    "#### Logic ####\n",
    "The information given is pretty much self-explanatory.\n",
    "The python module used for the mean and median is __statastics__, this module contains basics statastical methods in python."
   ]
  },
  {
   "cell_type": "code",
   "execution_count": 4,
   "metadata": {},
   "outputs": [],
   "source": [
    "import statistics as ss"
   ]
  },
  {
   "cell_type": "code",
   "execution_count": 5,
   "metadata": {},
   "outputs": [
    {
     "name": "stdout",
     "output_type": "stream",
     "text": [
      "Mean: 28.666666666666668\n",
      "Median: 29.0\n"
     ]
    }
   ],
   "source": [
    "total_students = 18\n",
    "rollno, marks = [], []\n",
    "for i in range(1, total_students + 1):\n",
    "    rollno.append('CSE2-D' + \"{0:2d}\".format(i))\n",
    "    marks.append(25 + ((i + (7 if i%2 else 8)) % 10))\n",
    "print(\"Mean:\", ss.mean(marks))\n",
    "print(\"Median:\", ss.median(marks))"
   ]
  },
  {
   "cell_type": "markdown",
   "metadata": {},
   "source": [
    "3. For a sample space of 20 elements, the values are fitted to the line Y=2X+3, X>5. Develop an application that sets up the data and computes the standard deviation of this sample space. (use random number generator supported in your development platform to generate values of X"
   ]
  },
  {
   "cell_type": "code",
   "execution_count": 7,
   "metadata": {},
   "outputs": [],
   "source": [
    "import random\n",
    "import statistics as ss"
   ]
  },
  {
   "cell_type": "code",
   "execution_count": 8,
   "metadata": {},
   "outputs": [
    {
     "data": {
      "text/plain": [
       "6097.800689808711"
      ]
     },
     "execution_count": 8,
     "metadata": {},
     "output_type": "execute_result"
    }
   ],
   "source": [
    "x = [random.randint(5,10000) for i in range(20)]\n",
    "y = [2 * e + 3 for e in x]\n",
    "ss.stdev(y)"
   ]
  },
  {
   "cell_type": "markdown",
   "metadata": {},
   "source": [
    "4. For a given data of heights of a class, the heights of 15 students are recorded as 167.65, 167, 172, 175, 165, 167, 168, 167, 167.3, 170, 167.5, 170, 167, 169, and 172. Develop an application that computes; explore if there are any packages supported in your platform that depicts these measures / their calculation of central tendency in a visual form for ease of understanding.\n",
    "    - Mean height of the student\n",
    "    - Median and Mode of the sample space\n",
    "    - Standard deviation\n",
    "    - Measure of skewness. [(Mean-Mode)/standard deviation]"
   ]
  },
  {
   "cell_type": "markdown",
   "metadata": {},
   "source": [
    "### Logic ###\n",
    "#### Input ####\n",
    "The height list\n",
    "h = _[167.65, 167, 172, 175, 165, 167, 168, 167, 167.3, 170, 167.5, 170, 167, 169, 172]_\n",
    "#### Output ####\n",
    "    Mean\n",
    "    Median\n",
    "    Standard Deviation\n",
    "    Skew"
   ]
  },
  {
   "cell_type": "code",
   "execution_count": 11,
   "metadata": {},
   "outputs": [],
   "source": [
    "import statistics as ss\n",
    "import scipy.stats"
   ]
  },
  {
   "cell_type": "code",
   "execution_count": 12,
   "metadata": {},
   "outputs": [
    {
     "name": "stdout",
     "output_type": "stream",
     "text": [
      "Mean: 168.76333333333332\n",
      "Median: 167.65\n",
      "Standard Deviation: 2.606617037647145\n",
      "Skew: 0.9684699214981036\n"
     ]
    }
   ],
   "source": [
    "h = [167.65, 167, 172, 175, 165, 167, 168, 167, 167.3, 170, 167.5, 170, 167, 169, 172]\n",
    "print(\"Mean:\", ss.mean(h))\n",
    "print(\"Median:\", ss.median(h))\n",
    "print(\"Standard Deviation:\", ss.stdev(h))\n",
    "print(\"Skew:\", scipy.stats.skew(h))"
   ]
  },
  {
   "cell_type": "markdown",
   "metadata": {},
   "source": [
    "6. On a given day (average basis), a student is observed to spend 33% of time in studying, 30% in sleeping, 18% in playing, 5% for hobby activities, and rest for spending with friends and family. Plot a pie chart showing his daily activities. "
   ]
  },
  {
   "cell_type": "markdown",
   "metadata": {},
   "source": [
    "### Imports\n",
    "**matplotlib.pyplot** contains almost all of the basic plotting features from available in python.\n",
    "\n",
    "The pie chart parameter passed in the options are:\n",
    "- sizes: The input values for the labels in the pie chart\n",
    "- labels: The labels for the corresponding input values\n",
    "- explode: should the sector of the respective label be exploded and to what degree\n",
    "- autopct: The number format that should be given on each sector\n",
    "- shadow: shows the shadows beneath the pie\n",
    "- startangle: The starting angle from which every label and respective sizes are put in an ordered anti-clockwise way"
   ]
  },
  {
   "cell_type": "code",
   "execution_count": 13,
   "metadata": {},
   "outputs": [
    {
     "data": {
      "image/png": "[encoded data removed]",
      "text/plain": [
       "<Figure size 432x288 with 1 Axes>"
      ]
     },
     "metadata": {},
     "output_type": "display_data"
    }
   ],
   "source": [
    "import matplotlib.pyplot as plt\n",
    "\n",
    "# Pie chart slices will be ordered and plotted counter-clockwise:\n",
    "labels = 'Studying', 'Sleeping', 'Playing', 'Hobby', 'Spending time with friends and family'\n",
    "sizes = [33, 30, 18, 5]\n",
    "# rest of the time\n",
    "sizes.append(100 - sum(sizes))\n",
    "explode = (0.06, 0.01, 0.02, 0.03, 0.04)  # only \"explode\" the 2nd slice (i.e. 'Hogs')\n",
    "fig1, ax1 = plt.subplots()\n",
    "ax1.pie(sizes, explode=explode, labels=labels, autopct='%d%%',\n",
    "        shadow=True, startangle=90)\n",
    "\n",
    "\n",
    "# putting a white circle at the centre of the pie chart\n",
    "centre_circle = plt.Circle((0,0),0.80,fc='white')\n",
    "fig = plt.gcf()\n",
    "fig.gca().add_artist(centre_circle)\n",
    "\n",
    "ax1.axis('equal')  # Equal aspect ratio ensures that pie is drawn as a circle.\n",
    "plt.show()"
   ]
  },
  {
   "cell_type": "markdown",
   "metadata": {},
   "source": [
    "7. Develop an application (absolute grader) that accepts marks scored by 20 students in ASBD course (as a split up of three : Mid Sem (30), End Sem(50) and Assignments(20). Compute the total and use it to grade the students following absolute grading : >=90 – S ; >=80 – A and so on till D. Compute the Class average for total marks in the course and 50% of class average would be fixed as the cut off for E. Generate a frequency table for the grades as well (Table displaying the grades and counts of them). "
   ]
  },
  {
   "cell_type": "markdown",
   "metadata": {},
   "source": [
    "8. Extend the application developed in (7) to support relative grading which uses the class average (mean) andstandard deviation to compute the cutoffs for various grades as opposed to fixing them statically; you canr efer the sample grader (excel sheet) attached to understand the formulas for fixing the cutoffs; the grader would involve, mean, standard deviation, max mark, passed students data mean, etc. Understand the excel grader thoroughly before you try mimicking such an application in your development platform. "
   ]
  },
  {
   "cell_type": "markdown",
   "metadata": {},
   "source": [
    "9. Consider the following sample of weights for 45 individuals: \n",
    "\n",
    "> 79 71 89 57 76 64 82 82 67 80 81 65 73 79 79 60 58 83 74 68 78 80 78 81 76 65 70 76 58 82 59 73 72 79 87 63 74 90 69 70 83 76 61 66 71 60 57 81 57 65 81 78 77 81 81 63 71 66 56 62 75 64 74 74 70 71 56 69 63 72 81 54 72 91 92.\n",
    "   \n",
    "- For the above data generates histograms and depict them using packages in your platform. Explore the different types of histograms available and test drive the types supported in your platform. "
   ]
  },
  {
   "cell_type": "code",
   "execution_count": 37,
   "metadata": {},
   "outputs": [
    {
     "data": {
      "image/png": "[encoded data removed]",
      "text/plain": [
       "<Figure size 432x288 with 1 Axes>"
      ]
     },
     "metadata": {
      "needs_background": "light"
     },
     "output_type": "display_data"
    },
    {
     "data": {
      "text/plain": [
       "72.24"
      ]
     },
     "execution_count": 37,
     "metadata": {},
     "output_type": "execute_result"
    }
   ],
   "source": [
    "import matplotlib.pyplot as plt\n",
    "data = [79, 71, 89, 57, 76, 64, 82, 82, 67, 80, 81, 65, 73, 79, 79, 60, 58, 83, \n",
    "        74, 68, 78, 80, 78, 81, 76, 65, 70, 76, 58, 82, 59, 73, 72, 79, 87, 63, \n",
    "        74, 90, 69, 70, 83, 76, 61, 66, 71, 60, 57, 81, 57, 65, 81, 78, 77, 81,\n",
    "        81, 63, 71, 66, 56, 62, 75, 64, 74, 74, 70, 71, 56, 69, 63, 72, 81, 54, \n",
    "        72, 91, 92,]\n",
    "fig, axs = plt.subplots()\n",
    "# normal histogram\n",
    "plt.hist(data, bins= 11)\n",
    "\n",
    "plt.show()\n",
    "sum(data) / len(data)"
   ]
  }
 ],
 "metadata": {
  "kernelspec": {
   "display_name": "Python 3",
   "language": "python",
   "name": "python3"
  },
  "language_info": {
   "codemirror_mode": {
    "name": "ipython",
    "version": 3
   },
   "file_extension": ".py",
   "mimetype": "text/x-python",
   "name": "python",
   "nbconvert_exporter": "python",
   "pygments_lexer": "ipython3",
   "version": "3.7.6"
  }
 },
 "nbformat": 4,
 "nbformat_minor": 4
}
