{
 "cells": [
  {
   "cell_type": "markdown",
   "metadata": {},
   "source": [
    "## General Imports ##\n",
    "### pandas ###\n",
    "The **pandas** is one of the most used libraries for tabular data extraction, data transformation, data cleaning and data visualization support in python.\n",
    "\n",
    "\n",
    "This module provides classes like **DataSeries** and **DataFrame** that help to read, store and write tables in a effective way.\n",
    "\n",
    "\n",
    "The Library extended multiple data visualisation supports in **pandas.DataFrame.plot** where the user can various graphs using the **line()**, **bar()**, **pie()**, etc methods\n",
    "\n",
    "--- \n",
    "### statistics ###\n",
    "This library provides methods for descriptive analysis, the common methods for mean, median and mode are available in this library.\n",
    "\n",
    "---\n",
    "### scipy.stats ###\n",
    "This library is widely used for statistical calculations.\n",
    "\n",
    "\n",
    "The **scipy** is more popular for the variety of computational and technical calculation capacities it offers modules for optimization, linear algebra, integration, interpolation, special functions, FFT, signal and image processing, ODE solvers and other tasks common in science and engineering."
   ]
  },
  {
   "attachments": {
    "image.png": {
     "image/png": "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"
    }
   },
   "cell_type": "markdown",
   "metadata": {},
   "source": [
    "1. Given the following setup {Class,Tally score, Frequency}, develop an application that generates the table shown ; (you can populate the relevant data ; minimum data size :50 records). The table is only an illustration for a data of color scores, you are free to test the application over any data set with the application generating the tally and frequency scores.\n",
    "![image.png](attachment:image.png)\n"
   ]
  },
  {
   "cell_type": "markdown",
   "metadata": {},
   "source": [
    "### Logic ###\n",
    "#### Input ####\n",
    "The input to the program is a csv file containing two columns, the names being Score and Frequency.\n",
    "#### Output ####\n",
    "The output is an simple \n",
    "The mark ||||\\ represents 5 and each | represents 1."
   ]
  },
  {
   "cell_type": "code",
   "execution_count": 1,
   "metadata": {},
   "outputs": [],
   "source": [
    "import random\n",
    "import pandas as pd"
   ]
  },
  {
   "cell_type": "markdown",
   "metadata": {},
   "source": [
    "### Sample File Generation ###\n",
    "To column headers Score and Frequency, here the Score is for color represented in hexadecimal coding.\n",
    "\n",
    "__Note:__\n",
    "There could be some duplicate records in score."
   ]
  },
  {
   "cell_type": "code",
   "execution_count": 2,
   "metadata": {},
   "outputs": [],
   "source": [
    "num = 50\n",
    "score = list()\n",
    "frequency = list()\n",
    "for i in range(num):\n",
    "    score.append('#'+ (\"{:6s}\".format(str(hex(random.randint(0,16777215)))[2:])))\n",
    "    frequency.append(random.randint(0, 50))\n",
    "pd.DataFrame({'Score': score, 'Frequency': frequency}).to_csv('sample_data_1.csv', index= False)"
   ]
  },
  {
   "cell_type": "code",
   "execution_count": 3,
   "metadata": {},
   "outputs": [
    {
     "data": {
      "text/html": [
       "<div>\n",
       "<style scoped>\n",
       "    .dataframe tbody tr th:only-of-type {\n",
       "        vertical-align: middle;\n",
       "    }\n",
       "\n",
       "    .dataframe tbody tr th {\n",
       "        vertical-align: top;\n",
       "    }\n",
       "\n",
       "    .dataframe thead th {\n",
       "        text-align: right;\n",
       "    }\n",
       "</style>\n",
       "<table border=\"1\" class=\"dataframe\">\n",
       "  <thead>\n",
       "    <tr style=\"text-align: right;\">\n",
       "      <th></th>\n",
       "      <th>Score</th>\n",
       "      <th>Tally</th>\n",
       "      <th>Frequency</th>\n",
       "    </tr>\n",
       "  </thead>\n",
       "  <tbody>\n",
       "    <tr>\n",
       "      <th>0</th>\n",
       "      <td>#6eed89</td>\n",
       "      <td>||||\\ ||||\\ ||||\\ ||||\\ ||||\\  |||</td>\n",
       "      <td>28</td>\n",
       "    </tr>\n",
       "    <tr>\n",
       "      <th>1</th>\n",
       "      <td>#377d34</td>\n",
       "      <td>||||\\ ||||\\ ||||\\ ||||\\ ||||\\ ||||\\ ||||\\ ||||...</td>\n",
       "      <td>43</td>\n",
       "    </tr>\n",
       "    <tr>\n",
       "      <th>2</th>\n",
       "      <td>#889192</td>\n",
       "      <td>||||</td>\n",
       "      <td>4</td>\n",
       "    </tr>\n",
       "    <tr>\n",
       "      <th>3</th>\n",
       "      <td>#6afd24</td>\n",
       "      <td></td>\n",
       "      <td>0</td>\n",
       "    </tr>\n",
       "    <tr>\n",
       "      <th>4</th>\n",
       "      <td>#889aa7</td>\n",
       "      <td>|</td>\n",
       "      <td>1</td>\n",
       "    </tr>\n",
       "    <tr>\n",
       "      <th>5</th>\n",
       "      <td>#654dc1</td>\n",
       "      <td>||||\\ ||||\\  |||</td>\n",
       "      <td>13</td>\n",
       "    </tr>\n",
       "    <tr>\n",
       "      <th>6</th>\n",
       "      <td>#dd919</td>\n",
       "      <td>||||\\ ||||\\ ||||\\ ||||\\ ||||\\ ||||\\ ||||\\ ||||...</td>\n",
       "      <td>46</td>\n",
       "    </tr>\n",
       "    <tr>\n",
       "      <th>7</th>\n",
       "      <td>#45d051</td>\n",
       "      <td>||||\\ ||||\\ ||||\\ ||||\\ ||||\\  ||</td>\n",
       "      <td>27</td>\n",
       "    </tr>\n",
       "    <tr>\n",
       "      <th>8</th>\n",
       "      <td>#aec7c2</td>\n",
       "      <td>||||\\ ||||\\ ||||\\  |</td>\n",
       "      <td>16</td>\n",
       "    </tr>\n",
       "    <tr>\n",
       "      <th>9</th>\n",
       "      <td>#cc39ad</td>\n",
       "      <td>||||\\ ||||\\ ||||\\ ||||\\ ||||\\ ||||\\ ||||\\ ||||...</td>\n",
       "      <td>42</td>\n",
       "    </tr>\n",
       "    <tr>\n",
       "      <th>10</th>\n",
       "      <td>#a759fa</td>\n",
       "      <td>||||\\ ||||\\ ||||\\ ||||\\ ||||\\  ||</td>\n",
       "      <td>27</td>\n",
       "    </tr>\n",
       "    <tr>\n",
       "      <th>11</th>\n",
       "      <td>#e6536</td>\n",
       "      <td>||||\\ ||||\\ ||||\\ ||||\\ ||||\\ ||||\\  ||</td>\n",
       "      <td>32</td>\n",
       "    </tr>\n",
       "    <tr>\n",
       "      <th>12</th>\n",
       "      <td>#9171d0</td>\n",
       "      <td>||||\\ ||||\\ ||||\\ ||||\\ ||||\\  ||||</td>\n",
       "      <td>29</td>\n",
       "    </tr>\n",
       "    <tr>\n",
       "      <th>13</th>\n",
       "      <td>#e23fd4</td>\n",
       "      <td>||||\\ ||||\\ ||||\\  |</td>\n",
       "      <td>16</td>\n",
       "    </tr>\n",
       "    <tr>\n",
       "      <th>14</th>\n",
       "      <td>#6054c5</td>\n",
       "      <td>||||\\ ||||\\ ||||\\ ||||\\ ||||\\ ||||\\ ||||\\ ||||...</td>\n",
       "      <td>42</td>\n",
       "    </tr>\n",
       "    <tr>\n",
       "      <th>15</th>\n",
       "      <td>#39169e</td>\n",
       "      <td></td>\n",
       "      <td>0</td>\n",
       "    </tr>\n",
       "    <tr>\n",
       "      <th>16</th>\n",
       "      <td>#faca92</td>\n",
       "      <td>|||</td>\n",
       "      <td>3</td>\n",
       "    </tr>\n",
       "    <tr>\n",
       "      <th>17</th>\n",
       "      <td>#5d5a63</td>\n",
       "      <td>||||\\ ||||\\ ||||\\ ||||\\ ||||\\  |||</td>\n",
       "      <td>28</td>\n",
       "    </tr>\n",
       "    <tr>\n",
       "      <th>18</th>\n",
       "      <td>#6bb267</td>\n",
       "      <td>||||\\ ||||\\ ||||\\ ||||\\ ||||\\ ||||\\ ||||\\ ||||...</td>\n",
       "      <td>44</td>\n",
       "    </tr>\n",
       "    <tr>\n",
       "      <th>19</th>\n",
       "      <td>#3e56fb</td>\n",
       "      <td>||||\\ ||||\\ ||||\\ ||||\\ ||||\\ ||||\\ ||||\\  |</td>\n",
       "      <td>36</td>\n",
       "    </tr>\n",
       "    <tr>\n",
       "      <th>20</th>\n",
       "      <td>#a6f3da</td>\n",
       "      <td>||||\\ ||||\\ ||||\\ ||||\\ ||||\\ ||||\\ ||||\\  |</td>\n",
       "      <td>36</td>\n",
       "    </tr>\n",
       "    <tr>\n",
       "      <th>21</th>\n",
       "      <td>#7dcc2e</td>\n",
       "      <td>||||\\</td>\n",
       "      <td>5</td>\n",
       "    </tr>\n",
       "    <tr>\n",
       "      <th>22</th>\n",
       "      <td>#180e00</td>\n",
       "      <td>||||\\ ||||\\ ||||\\ ||||\\ ||||\\ ||||\\ ||||\\  ||</td>\n",
       "      <td>37</td>\n",
       "    </tr>\n",
       "    <tr>\n",
       "      <th>23</th>\n",
       "      <td>#116d0</td>\n",
       "      <td>||||\\ ||||\\ ||||\\ ||||\\ ||||\\ ||||\\ ||||\\  ||</td>\n",
       "      <td>37</td>\n",
       "    </tr>\n",
       "    <tr>\n",
       "      <th>24</th>\n",
       "      <td>#5151d0</td>\n",
       "      <td>||||\\ ||||\\  |</td>\n",
       "      <td>11</td>\n",
       "    </tr>\n",
       "    <tr>\n",
       "      <th>25</th>\n",
       "      <td>#3c5e94</td>\n",
       "      <td>||||\\ ||||\\  |</td>\n",
       "      <td>11</td>\n",
       "    </tr>\n",
       "    <tr>\n",
       "      <th>26</th>\n",
       "      <td>#a245ce</td>\n",
       "      <td>||||\\ ||||\\ ||||\\ ||||\\ ||||\\  |||</td>\n",
       "      <td>28</td>\n",
       "    </tr>\n",
       "    <tr>\n",
       "      <th>27</th>\n",
       "      <td>#e439a4</td>\n",
       "      <td>||||\\  ||</td>\n",
       "      <td>7</td>\n",
       "    </tr>\n",
       "    <tr>\n",
       "      <th>28</th>\n",
       "      <td>#69afb8</td>\n",
       "      <td>||||\\ ||||\\ ||||\\ ||||\\ ||||\\  |</td>\n",
       "      <td>26</td>\n",
       "    </tr>\n",
       "    <tr>\n",
       "      <th>29</th>\n",
       "      <td>#2c7dec</td>\n",
       "      <td>||||\\ ||||\\  |||</td>\n",
       "      <td>13</td>\n",
       "    </tr>\n",
       "    <tr>\n",
       "      <th>30</th>\n",
       "      <td>#19bafc</td>\n",
       "      <td>||||\\ ||||\\ ||||\\ ||||\\ ||||\\</td>\n",
       "      <td>25</td>\n",
       "    </tr>\n",
       "    <tr>\n",
       "      <th>31</th>\n",
       "      <td>#ad5b6f</td>\n",
       "      <td>||||\\ ||||\\ ||||\\ ||||\\ ||||\\ ||||\\  |||</td>\n",
       "      <td>33</td>\n",
       "    </tr>\n",
       "    <tr>\n",
       "      <th>32</th>\n",
       "      <td>#af2da4</td>\n",
       "      <td>||||\\ ||||\\ ||||\\ ||||\\ ||||\\ ||||\\ ||||\\ ||||...</td>\n",
       "      <td>42</td>\n",
       "    </tr>\n",
       "    <tr>\n",
       "      <th>33</th>\n",
       "      <td>#ae0c95</td>\n",
       "      <td>|||</td>\n",
       "      <td>3</td>\n",
       "    </tr>\n",
       "    <tr>\n",
       "      <th>34</th>\n",
       "      <td>#4bbdce</td>\n",
       "      <td>||||\\ ||||\\ ||||\\ ||||\\ ||||\\ ||||\\ ||||\\</td>\n",
       "      <td>35</td>\n",
       "    </tr>\n",
       "    <tr>\n",
       "      <th>35</th>\n",
       "      <td>#ccf346</td>\n",
       "      <td>||||\\ ||||\\ ||||\\ ||||\\ ||||\\ ||||\\ ||||\\ ||||...</td>\n",
       "      <td>45</td>\n",
       "    </tr>\n",
       "    <tr>\n",
       "      <th>36</th>\n",
       "      <td>#a81d26</td>\n",
       "      <td>||||\\ ||||\\ ||||\\ ||||\\ ||||\\ ||||\\ ||||\\ ||||...</td>\n",
       "      <td>41</td>\n",
       "    </tr>\n",
       "    <tr>\n",
       "      <th>37</th>\n",
       "      <td>#762c4c</td>\n",
       "      <td>||||\\ ||||\\  ||</td>\n",
       "      <td>12</td>\n",
       "    </tr>\n",
       "    <tr>\n",
       "      <th>38</th>\n",
       "      <td>#fd487b</td>\n",
       "      <td>||||\\ ||||\\ ||||\\ ||||\\ ||||\\ ||||\\ ||||\\ ||||...</td>\n",
       "      <td>46</td>\n",
       "    </tr>\n",
       "    <tr>\n",
       "      <th>39</th>\n",
       "      <td>#984a32</td>\n",
       "      <td>||||\\ ||||\\  ||||</td>\n",
       "      <td>14</td>\n",
       "    </tr>\n",
       "    <tr>\n",
       "      <th>40</th>\n",
       "      <td>#4df21</td>\n",
       "      <td>||||\\ ||||\\ ||||\\ ||||\\ ||||\\ ||||\\ ||||\\ ||||\\</td>\n",
       "      <td>40</td>\n",
       "    </tr>\n",
       "    <tr>\n",
       "      <th>41</th>\n",
       "      <td>#782c84</td>\n",
       "      <td>||||\\ ||||\\ ||||\\ ||||\\ ||||\\ ||||\\ ||||\\  |</td>\n",
       "      <td>36</td>\n",
       "    </tr>\n",
       "    <tr>\n",
       "      <th>42</th>\n",
       "      <td>#dcbe2b</td>\n",
       "      <td>||||\\  |</td>\n",
       "      <td>6</td>\n",
       "    </tr>\n",
       "    <tr>\n",
       "      <th>43</th>\n",
       "      <td>#ed3279</td>\n",
       "      <td>||||\\ ||||\\ ||||\\ ||||\\ ||||\\ ||||\\ ||||\\ ||||...</td>\n",
       "      <td>45</td>\n",
       "    </tr>\n",
       "    <tr>\n",
       "      <th>44</th>\n",
       "      <td>#16e2a2</td>\n",
       "      <td>||||\\  ||</td>\n",
       "      <td>7</td>\n",
       "    </tr>\n",
       "    <tr>\n",
       "      <th>45</th>\n",
       "      <td>#92b1ba</td>\n",
       "      <td>||||\\ ||||\\  ||||</td>\n",
       "      <td>14</td>\n",
       "    </tr>\n",
       "    <tr>\n",
       "      <th>46</th>\n",
       "      <td>#e5278b</td>\n",
       "      <td>|||</td>\n",
       "      <td>3</td>\n",
       "    </tr>\n",
       "    <tr>\n",
       "      <th>47</th>\n",
       "      <td>#4ccec3</td>\n",
       "      <td>||||\\ ||||\\ ||||\\</td>\n",
       "      <td>15</td>\n",
       "    </tr>\n",
       "    <tr>\n",
       "      <th>48</th>\n",
       "      <td>#aefa87</td>\n",
       "      <td>||||\\ ||||\\  |||</td>\n",
       "      <td>13</td>\n",
       "    </tr>\n",
       "    <tr>\n",
       "      <th>49</th>\n",
       "      <td>#7abe7c</td>\n",
       "      <td>||||\\ ||||\\ ||||\\ ||||\\ ||||\\ ||||\\ ||||\\ ||||...</td>\n",
       "      <td>50</td>\n",
       "    </tr>\n",
       "  </tbody>\n",
       "</table>\n",
       "</div>"
      ],
      "text/plain": [
       "      Score                                              Tally  Frequency\n",
       "0   #6eed89                 ||||\\ ||||\\ ||||\\ ||||\\ ||||\\  |||         28\n",
       "1   #377d34  ||||\\ ||||\\ ||||\\ ||||\\ ||||\\ ||||\\ ||||\\ ||||...         43\n",
       "2   #889192                                               ||||          4\n",
       "3   #6afd24                                                             0\n",
       "4   #889aa7                                                  |          1\n",
       "5   #654dc1                                   ||||\\ ||||\\  |||         13\n",
       "6   #dd919   ||||\\ ||||\\ ||||\\ ||||\\ ||||\\ ||||\\ ||||\\ ||||...         46\n",
       "7   #45d051                  ||||\\ ||||\\ ||||\\ ||||\\ ||||\\  ||         27\n",
       "8   #aec7c2                               ||||\\ ||||\\ ||||\\  |         16\n",
       "9   #cc39ad  ||||\\ ||||\\ ||||\\ ||||\\ ||||\\ ||||\\ ||||\\ ||||...         42\n",
       "10  #a759fa                  ||||\\ ||||\\ ||||\\ ||||\\ ||||\\  ||         27\n",
       "11  #e6536             ||||\\ ||||\\ ||||\\ ||||\\ ||||\\ ||||\\  ||         32\n",
       "12  #9171d0                ||||\\ ||||\\ ||||\\ ||||\\ ||||\\  ||||         29\n",
       "13  #e23fd4                               ||||\\ ||||\\ ||||\\  |         16\n",
       "14  #6054c5  ||||\\ ||||\\ ||||\\ ||||\\ ||||\\ ||||\\ ||||\\ ||||...         42\n",
       "15  #39169e                                                             0\n",
       "16  #faca92                                                |||          3\n",
       "17  #5d5a63                 ||||\\ ||||\\ ||||\\ ||||\\ ||||\\  |||         28\n",
       "18  #6bb267  ||||\\ ||||\\ ||||\\ ||||\\ ||||\\ ||||\\ ||||\\ ||||...         44\n",
       "19  #3e56fb       ||||\\ ||||\\ ||||\\ ||||\\ ||||\\ ||||\\ ||||\\  |         36\n",
       "20  #a6f3da       ||||\\ ||||\\ ||||\\ ||||\\ ||||\\ ||||\\ ||||\\  |         36\n",
       "21  #7dcc2e                                            ||||\\            5\n",
       "22  #180e00      ||||\\ ||||\\ ||||\\ ||||\\ ||||\\ ||||\\ ||||\\  ||         37\n",
       "23  #116d0       ||||\\ ||||\\ ||||\\ ||||\\ ||||\\ ||||\\ ||||\\  ||         37\n",
       "24  #5151d0                                     ||||\\ ||||\\  |         11\n",
       "25  #3c5e94                                     ||||\\ ||||\\  |         11\n",
       "26  #a245ce                 ||||\\ ||||\\ ||||\\ ||||\\ ||||\\  |||         28\n",
       "27  #e439a4                                          ||||\\  ||          7\n",
       "28  #69afb8                   ||||\\ ||||\\ ||||\\ ||||\\ ||||\\  |         26\n",
       "29  #2c7dec                                   ||||\\ ||||\\  |||         13\n",
       "30  #19bafc                    ||||\\ ||||\\ ||||\\ ||||\\ ||||\\           25\n",
       "31  #ad5b6f           ||||\\ ||||\\ ||||\\ ||||\\ ||||\\ ||||\\  |||         33\n",
       "32  #af2da4  ||||\\ ||||\\ ||||\\ ||||\\ ||||\\ ||||\\ ||||\\ ||||...         42\n",
       "33  #ae0c95                                                |||          3\n",
       "34  #4bbdce        ||||\\ ||||\\ ||||\\ ||||\\ ||||\\ ||||\\ ||||\\           35\n",
       "35  #ccf346  ||||\\ ||||\\ ||||\\ ||||\\ ||||\\ ||||\\ ||||\\ ||||...         45\n",
       "36  #a81d26  ||||\\ ||||\\ ||||\\ ||||\\ ||||\\ ||||\\ ||||\\ ||||...         41\n",
       "37  #762c4c                                    ||||\\ ||||\\  ||         12\n",
       "38  #fd487b  ||||\\ ||||\\ ||||\\ ||||\\ ||||\\ ||||\\ ||||\\ ||||...         46\n",
       "39  #984a32                                  ||||\\ ||||\\  ||||         14\n",
       "40  #4df21   ||||\\ ||||\\ ||||\\ ||||\\ ||||\\ ||||\\ ||||\\ ||||\\           40\n",
       "41  #782c84       ||||\\ ||||\\ ||||\\ ||||\\ ||||\\ ||||\\ ||||\\  |         36\n",
       "42  #dcbe2b                                           ||||\\  |          6\n",
       "43  #ed3279  ||||\\ ||||\\ ||||\\ ||||\\ ||||\\ ||||\\ ||||\\ ||||...         45\n",
       "44  #16e2a2                                          ||||\\  ||          7\n",
       "45  #92b1ba                                  ||||\\ ||||\\  ||||         14\n",
       "46  #e5278b                                                |||          3\n",
       "47  #4ccec3                                ||||\\ ||||\\ ||||\\           15\n",
       "48  #aefa87                                   ||||\\ ||||\\  |||         13\n",
       "49  #7abe7c  ||||\\ ||||\\ ||||\\ ||||\\ ||||\\ ||||\\ ||||\\ ||||...         50"
      ]
     },
     "execution_count": 3,
     "metadata": {},
     "output_type": "execute_result"
    }
   ],
   "source": [
    "df = pd.read_csv('sample_data_1.csv')\n",
    "tally = []\n",
    "for frequency in df.Frequency:\n",
    "    ones = '|' * (frequency % 5)\n",
    "    fives= '||||\\ ' * (frequency // 5)\n",
    "    tally.append(fives + ' ' + ones)\n",
    "df['Tally'] = tally\n",
    "df[['Score', 'Tally', 'Frequency']]"
   ]
  },
  {
   "cell_type": "markdown",
   "metadata": {},
   "source": [
    "2. In a class of 18 students, assume marks distribution in an exam are as follows. Let the roll numbers start with CSE20D01 and all the odd roll numbers secure marks as follows: 25+((i+7)%10) and even roll numbers :  25+((i+8)%10). Develop an application that sets up the data and calculate the mean and median for the marks obtained using the platform support."
   ]
  },
  {
   "cell_type": "markdown",
   "metadata": {},
   "source": [
    "#### Logic ####\n",
    "The information given is pretty much self-explanatory.\n",
    "The python module used for the mean and median is __statastics__, this module contains basics statastical methods in python."
   ]
  },
  {
   "cell_type": "code",
   "execution_count": 4,
   "metadata": {},
   "outputs": [],
   "source": [
    "import statistics as ss"
   ]
  },
  {
   "cell_type": "code",
   "execution_count": 5,
   "metadata": {},
   "outputs": [
    {
     "name": "stdout",
     "output_type": "stream",
     "text": [
      "Mean: 28.666666666666668\n",
      "Median: 29.0\n"
     ]
    }
   ],
   "source": [
    "total_students = 18\n",
    "rollno, marks = [], []\n",
    "for i in range(1, total_students + 1):\n",
    "    rollno.append('CSE2-D' + \"{0:2d}\".format(i))\n",
    "    marks.append(25 + ((i + (7 if i%2 else 8)) % 10))\n",
    "print(\"Mean:\", ss.mean(marks))\n",
    "print(\"Median:\", ss.median(marks))"
   ]
  },
  {
   "cell_type": "markdown",
   "metadata": {},
   "source": [
    "3. For a sample space of 20 elements, the values are fitted to the line Y=2X+3, X>5. Develop an application that sets up the data and computes the standard deviation of this sample space. (use random number generator supported in your development platform to generate values of X"
   ]
  },
  {
   "cell_type": "code",
   "execution_count": 6,
   "metadata": {},
   "outputs": [],
   "source": [
    "import random\n",
    "import statistics as ss"
   ]
  },
  {
   "cell_type": "code",
   "execution_count": 7,
   "metadata": {},
   "outputs": [
    {
     "name": "stdout",
     "output_type": "stream",
     "text": [
      "5377.52\n"
     ]
    }
   ],
   "source": [
    "x = [random.randint(5,10000) for i in range(20)]\n",
    "y = [2 * e + 3 for e in x]\n",
    "print(\"%.2f\" % ss.stdev(y))"
   ]
  },
  {
   "cell_type": "markdown",
   "metadata": {},
   "source": [
    "4. For a given data of heights of a class, the heights of 15 students are recorded as 167.65, 167, 172, 175, 165, 167, 168, 167, 167.3, 170, 167.5, 170, 167, 169, and 172. Develop an application that computes; explore if there are any packages supported in your platform that depicts these measures / their calculation of central tendency in a visual form for ease of understanding.\n",
    "    - Mean height of the student\n",
    "    - Median and Mode of the sample space\n",
    "    - Standard deviation\n",
    "    - Measure of skewness. [(Mean-Mode)/standard deviation]"
   ]
  },
  {
   "cell_type": "markdown",
   "metadata": {},
   "source": [
    "### Logic ###\n",
    "#### Input ####\n",
    "The height list\n",
    "h = _[167.65, 167, 172, 175, 165, 167, 168, 167, 167.3, 170, 167.5, 170, 167, 169, 172]_\n",
    "#### Output ####\n",
    "    Mean\n",
    "    Median\n",
    "    Standard Deviation\n",
    "    Skew"
   ]
  },
  {
   "cell_type": "code",
   "execution_count": 8,
   "metadata": {},
   "outputs": [],
   "source": [
    "import statistics as ss\n",
    "import scipy.stats"
   ]
  },
  {
   "cell_type": "code",
   "execution_count": 9,
   "metadata": {},
   "outputs": [
    {
     "name": "stdout",
     "output_type": "stream",
     "text": [
      "Mean: 168.76333333333332\n",
      "Median: 167.65\n",
      "Standard Deviation: 2.606617037647145\n",
      "Skew: 0.9684699214981036\n"
     ]
    }
   ],
   "source": [
    "h = [167.65, 167, 172, 175, 165, 167, 168, 167, 167.3, 170, 167.5, 170, 167, 169, 172]\n",
    "print(\"Mean:\", ss.mean(h))\n",
    "print(\"Median:\", ss.median(h))\n",
    "print(\"Standard Deviation:\", ss.stdev(h))\n",
    "print(\"Skew:\", scipy.stats.skew(h))"
   ]
  },
  {
   "cell_type": "markdown",
   "metadata": {},
   "source": [
    "## Visualization ##\n",
    "- Mean- In a normal distribution the mean would be the centre of the distribution.\n",
    "- Median- The median is a measure of split of data into equal halves, hence the median can be best represented in a cumulative histogram, and then simply making a line passsing through the middle of the frequency range.\n",
    "- Mode- The histogram of any plot for that matter that can quantify the frequency of the data. Here the one with the highest frequency becomes the mode (or rather the mean of the range in case of the histogram). \n",
    "- Skew- The skew is measure of the data's tendency to be not normal and tending towards right or left, hence the skew can be present in histogram and we measure it using the formulae."
   ]
  },
  {
   "cell_type": "code",
   "execution_count": 10,
   "metadata": {},
   "outputs": [
    {
     "data": {
      "image/png": "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\n",
      "text/plain": [
       "<Figure size 432x288 with 1 Axes>"
      ]
     },
     "metadata": {
      "needs_background": "light"
     },
     "output_type": "display_data"
    }
   ],
   "source": [
    "import matplotlib.pyplot as plt\n",
    "fig, ax1 = plt.subplots()\n",
    "plt.hist(h)\n",
    "plt.show()"
   ]
  },
  {
   "cell_type": "markdown",
   "metadata": {},
   "source": [
    "5. In Analytics and Systems of Bigdata course, for a class of 100 students, around 31 students secured ‘S’ grade, 29 secured ‘B’ grade, 25 ‘C’ grades, and rest of them secured ‘D’ grades. If the range of each grade is 15 marks. (S for 85 to 100 marks, A for 70 to 85 ...). Develop an application that represents the above data : using Pie and Bar graphs."
   ]
  },
  {
   "cell_type": "code",
   "execution_count": 11,
   "metadata": {},
   "outputs": [
    {
     "data": {
      "image/png": "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\n",
      "text/plain": [
       "<Figure size 864x288 with 2 Axes>"
      ]
     },
     "metadata": {
      "needs_background": "light"
     },
     "output_type": "display_data"
    }
   ],
   "source": [
    "import matplotlib.pyplot as plt\n",
    "count = {\n",
    "    'S': 31,\n",
    "    'B': 29,\n",
    "    'C': 25,\n",
    "    'D': 15\n",
    "}\n",
    "dist = {\n",
    "    'S': 85,\n",
    "    'B': 70,\n",
    "    'C': 55,\n",
    "    'D': 40\n",
    "}\n",
    "fig = plt.figure(figsize= (12, 4))\n",
    "ax1 = fig.add_subplot(1, 2, 1)\n",
    "ax1.pie(count.values(), labels= count.keys(), autopct=\"%d\")\n",
    "ax2 = fig.add_subplot(1, 2, 2)\n",
    "ax2.bar(height= count.values(), x= [i for i in range(4)])\n",
    "plt.xticks([i for i in range(4)], count.keys())\n",
    "plt.show()\n"
   ]
  },
  {
   "cell_type": "markdown",
   "metadata": {},
   "source": [
    "6. On a given day (average basis), a student is observed to spend 33% of time in studying, 30% in sleeping, 18% in playing, 5% for hobby activities, and rest for spending with friends and family. Plot a pie chart showing his daily activities. "
   ]
  },
  {
   "cell_type": "markdown",
   "metadata": {},
   "source": [
    "### Imports\n",
    "**matplotlib.pyplot** contains almost all of the basic plotting features from available in python.\n",
    "\n",
    "The pie chart parameter passed in the options are:\n",
    "- sizes: The input values for the labels in the pie chart\n",
    "- labels: The labels for the corresponding input values\n",
    "- explode: should the sector of the respective label be exploded and to what degree\n",
    "- autopct: The number format that should be given on each sector\n",
    "- shadow: shows the shadows beneath the pie\n",
    "- startangle: The starting angle from which every label and respective sizes are put in an ordered anti-clockwise way"
   ]
  },
  {
   "cell_type": "code",
   "execution_count": 12,
   "metadata": {},
   "outputs": [
    {
     "data": {
      "image/png": "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\n",
      "text/plain": [
       "<Figure size 432x288 with 1 Axes>"
      ]
     },
     "metadata": {},
     "output_type": "display_data"
    }
   ],
   "source": [
    "import matplotlib.pyplot as plt\n",
    "\n",
    "# Pie chart slices will be ordered and plotted counter-clockwise:\n",
    "labels = 'Studying', 'Sleeping', 'Playing', 'Hobby', 'Spending time with friends and family'\n",
    "sizes = [33, 30, 18, 5]\n",
    "# rest of the time\n",
    "sizes.append(100 - sum(sizes))\n",
    "explode = (0.06, 0.01, 0.02, 0.03, 0.04)  # only \"explode\" the 2nd slice (i.e. 'Hogs')\n",
    "fig1, ax1 = plt.subplots()\n",
    "ax1.pie(sizes, explode=explode, labels=labels, autopct='%d%%',\n",
    "        shadow=True, startangle=90)\n",
    "\n",
    "\n",
    "# putting a white circle at the centre of the pie chart\n",
    "centre_circle = plt.Circle((0,0),0.80,fc='white')\n",
    "fig = plt.gcf()\n",
    "fig.gca().add_artist(centre_circle)\n",
    "\n",
    "ax1.axis('equal')  # Equal aspect ratio ensures that pie is drawn as a circle.\n",
    "plt.show()"
   ]
  },
  {
   "cell_type": "markdown",
   "metadata": {},
   "source": [
    "7. Develop an application (absolute grader) that accepts marks scored by 20 students in ASBD course (as a split up of three : Mid Sem (30), End Sem(50) and Assignments(20). Compute the total and use it to grade the students following absolute grading : >=90 – S ; >=80 – A and so on till D. Compute the Class average for total marks in the course and 50% of class average would be fixed as the cut off for E. Generate a frequency table for the grades as well (Table displaying the grades and counts of them). "
   ]
  },
  {
   "cell_type": "markdown",
   "metadata": {},
   "source": [
    "## Imports ##\n",
    "There are various ways to import excel data into python, the most popular ones being \n",
    ">    **pandas.read_excel** \n",
    "\n",
    "this function reads from the excel file even from a worksheet within the file but this function gets complicated in the reading multiple tables sharing same columns in excel.\n",
    "\n",
    "For this the easiest module is \n",
    ">    **openpyxl**\n",
    " \n",
    "This library has a support to directly read all cells within a specific range using relatively easier way than **pandas.read_excel**"
   ]
  },
  {
   "cell_type": "code",
<<<<<<< HEAD
   "execution_count": 13,
=======
   "execution_count": 28,
>>>>>>> 278a5b907680c85338873aeb6294b6134831547e
   "metadata": {},
   "outputs": [],
   "source": [
    "from openpyxl import load_workbook as ldr\n",
    "import pandas as pd"
   ]
  },
  {
   "cell_type": "code",
<<<<<<< HEAD
   "execution_count": 14,
=======
   "execution_count": 53,
>>>>>>> 278a5b907680c85338873aeb6294b6134831547e
   "metadata": {},
   "outputs": [
    {
     "data": {
      "text/plain": [
       "(       RollNo             Name  Marks Grade\n",
       " 0   CSE20B001       AJAY KUMAR     20     U\n",
       " 1   CSE20B002      VIJAY KUMAR     30     U\n",
       " 2   CSE20B003          KARTHIK     40     E\n",
       " 3   CSE20B004        AISHWARYA     78     B\n",
       " 4   CSE20B005         ABISHEKH     70     B\n",
       " 5   CSE20B006  RAMESH KRISHNAN     65     C\n",
       " 6   CSE20B007          ANAND V     65     C\n",
       " 7   CSE20B008           OSWALD     88     A\n",
       " 8   CSE20B009       SOWBARNIKA     87     A\n",
       " 9   CSE20B010     VISHNU PRIYA     78     B\n",
       " 10  CSE20B011      SHIV VIDYUT     76     B\n",
       " 11  CSE20B012          SIRISHA     68     C\n",
       " 12  CSE20B013           NIKHIL     45     E\n",
       " 13  CSE20B014         SUDHEERA     69     C\n",
       " 14  CSE20B015   VIGNESH SAIRAJ     93     S\n",
       " 15  CSE20B016         RAMKUMAR     23     U\n",
       " 16  CSE20B017       RAVI KUMAR     45     E\n",
       " 17  CSE20B018   ILAM  BHARATHI     78     B\n",
       " 18  CSE20B019      SOWMYA JAIN     97     S\n",
       " 19  CSE20B020           BALAJI     78     B,\n",
       "   Grade  Frequency\n",
       " 0     U          3\n",
       " 1     E          3\n",
       " 2     B          6\n",
       " 3     C          4\n",
       " 4     A          2\n",
       " 5     S          2)"
      ]
     },
<<<<<<< HEAD
     "execution_count": 14,
=======
     "execution_count": 53,
>>>>>>> 278a5b907680c85338873aeb6294b6134831547e
     "metadata": {},
     "output_type": "execute_result"
    }
   ],
   "source": [
    "worksheet = ldr(filename= 'SampleGrader.xlsx', read_only= True)['Sheet1']\n",
    "data = []\n",
    "for row in worksheet['A2':'C21']:\n",
    "    entry = []\n",
    "    for cell in row:\n",
    "        entry.append(cell.value)\n",
    "    data.append(entry)\n",
    "\n",
    "data = pd.DataFrame(data, columns= ['RollNo', 'Name', 'Marks'])\n",
    "marks_mean = data['Marks'].mean()\n",
    "passing_marks = marks_mean / 2\n",
    "max_marks = max(data.Marks)\n",
    "interval = round((max_marks - passing_marks) / 6, 1) \n",
    "\n",
    "# containing the grade distribtion and grades: (max_marks, min_marks, grade)\n",
    "grade_dist = [ #]\n",
    "    (100 , 90, 'S'),\n",
    "    (90 , 80, 'A'),\n",
    "    (80 , 70, 'B'),\n",
    "    (70 , 60, 'C'),\n",
    "    (60 , 50, 'D'),\n",
    "    (50 , 40, 'E'),\n",
    "    (passing_marks, 0, 'U')\n",
    "\n",
    "]\n",
    "grade_list = []\n",
    "grade_freq = {}\n",
    "for marks in data.Marks:\n",
    "    for max_m, min_m, grade in grade_dist:\n",
    "        if marks >= min_m:\n",
    "            grade_list.append(grade)\n",
    "            grade_freq[grade] = grade_freq.get(grade, 0) + 1\n",
    "            break\n",
    "        else: continue \n",
    "data['Grade'] = grade_list  \n",
    "grade_freq = pd.DataFrame(columns= ['Grade', 'Frequency'], data= grade_freq.items())\n",
    "data, grade_freq"
   ]
  },
  {
   "cell_type": "code",
<<<<<<< HEAD
   "execution_count": 15,
=======
   "execution_count": 54,
>>>>>>> 278a5b907680c85338873aeb6294b6134831547e
   "metadata": {},
   "outputs": [
    {
     "data": {
      "text/plain": [
<<<<<<< HEAD
       "<matplotlib.axes._subplots.AxesSubplot at 0x7f97ae5f5e50>"
      ]
     },
     "execution_count": 15,
=======
       "<matplotlib.axes._subplots.AxesSubplot at 0x20438c074c8>"
      ]
     },
     "execution_count": 54,
>>>>>>> 278a5b907680c85338873aeb6294b6134831547e
     "metadata": {},
     "output_type": "execute_result"
    },
    {
     "data": {
<<<<<<< HEAD
      "image/png": "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\n",
=======
      "image/png": "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\n",
>>>>>>> 278a5b907680c85338873aeb6294b6134831547e
      "text/plain": [
       "<Figure size 432x288 with 1 Axes>"
      ]
     },
     "metadata": {
      "needs_background": "light"
     },
     "output_type": "display_data"
    }
   ],
   "source": [
    "grade_freq.plot.bar(x= 'Grade', y= 'Frequency', color= ['c', 'y', 'g'])"
   ]
  },
  {
   "cell_type": "markdown",
   "metadata": {},
   "source": [
    "8. Extend the application developed in (7) to support relative grading which uses the class average (mean) andstandard deviation to compute the cutoffs for various grades as opposed to fixing them statically; you canr efer the sample grader (excel sheet) attached to understand the formulas for fixing the cutoffs; the grader would involve, mean, standard deviation, max mark, passed students data mean, etc. Understand the excel grader thoroughly before you try mimicking such an application in your development platform. "
   ]
  },
  {
   "cell_type": "markdown",
   "metadata": {},
   "source": [
    "### Code ##\n",
    "This code imports the data from the above question and re-write the parts of the data."
   ]
  },
  {
   "cell_type": "code",
<<<<<<< HEAD
   "execution_count": 16,
=======
   "execution_count": 62,
>>>>>>> 278a5b907680c85338873aeb6294b6134831547e
   "metadata": {},
   "outputs": [
    {
     "name": "stdout",
     "output_type": "stream",
     "text": [
      "       RollNo             Name  Marks Grade\n",
      "0   CSE20B001       AJAY KUMAR     20     U\n",
      "1   CSE20B002      VIJAY KUMAR     30     U\n",
      "2   CSE20B003          KARTHIK     40     E\n",
      "3   CSE20B004        AISHWARYA     78     A\n",
      "4   CSE20B005         ABISHEKH     70     B\n",
      "5   CSE20B006  RAMESH KRISHNAN     65     B\n",
      "6   CSE20B007          ANAND V     65     B\n",
      "7   CSE20B008           OSWALD     88     S\n",
      "8   CSE20B009       SOWBARNIKA     87     S\n",
      "9   CSE20B010     VISHNU PRIYA     78     A\n",
      "10  CSE20B011      SHIV VIDYUT     76     A\n",
      "11  CSE20B012          SIRISHA     68     B\n",
      "12  CSE20B013           NIKHIL     45     D\n",
      "13  CSE20B014         SUDHEERA     69     B\n",
      "14  CSE20B015   VIGNESH SAIRAJ     93     S\n",
      "15  CSE20B016         RAMKUMAR     23     U\n",
      "16  CSE20B017       RAVI KUMAR     45     D\n",
      "17  CSE20B018   ILAM  BHARATHI     78     A\n",
      "18  CSE20B019      SOWMYA JAIN     97     S\n",
      "19  CSE20B020           BALAJI     78     A \n",
      "   Grade  Frequency\n",
      "0     U          3\n",
      "1     E          1\n",
      "2     A          5\n",
      "3     B          5\n",
      "4     S          4\n",
      "5     D          2\n"
     ]
    }
   ],
   "source": [
    "grade_dist = [ #]\n",
    "    (100 , max_marks - interval, 'S'),\n",
    "    (max_marks - interval, max_marks - 2 * interval, 'A'),\n",
    "    (max_marks - 2 * interval, max_marks - 3 * interval, 'B'),\n",
    "    (max_marks - 3 * interval, max_marks - 4 * interval, 'C'),\n",
    "    (max_marks - 4 * interval, max_marks - 5 * interval, 'D'),\n",
    "    (max_marks - 5 * interval, round(passing_marks, 0), 'E'),\n",
    "    (passing_marks, 0, 'U')\n",
    "]\n",
    "grade_list = []\n",
    "grade_freq = {}\n",
    "for marks in data.Marks:\n",
    "    for max_m, min_m, grade in grade_dist:\n",
    "        if marks >= min_m:\n",
    "            grade_list.append(grade)\n",
    "            grade_freq[grade] = grade_freq.get(grade, 0) + 1\n",
    "            break\n",
    "        else: continue \n",
    "data['Grade'] = grade_list  \n",
    "grade_freq = pd.DataFrame(columns= ['Grade', 'Frequency'], data= grade_freq.items())\n",
    "print(*(data, '\\n', grade_freq))"
   ]
  },
  {
   "cell_type": "code",
<<<<<<< HEAD
   "execution_count": 17,
   "metadata": {},
   "outputs": [
    {
     "data": {
      "text/plain": [
       "(       RollNo             Name  Marks Grade\n",
       " 0   CSE20B001       AJAY KUMAR     20     U\n",
       " 1   CSE20B002      VIJAY KUMAR     30     U\n",
       " 2   CSE20B003          KARTHIK     40     E\n",
       " 3   CSE20B004        AISHWARYA     78     A\n",
       " 4   CSE20B005         ABISHEKH     70     B\n",
       " 5   CSE20B006  RAMESH KRISHNAN     65     B\n",
       " 6   CSE20B007          ANAND V     65     B\n",
       " 7   CSE20B008           OSWALD     88     S\n",
       " 8   CSE20B009       SOWBARNIKA     87     S\n",
       " 9   CSE20B010     VISHNU PRIYA     78     A\n",
       " 10  CSE20B011      SHIV VIDYUT     76     A\n",
       " 11  CSE20B012          SIRISHA     68     B\n",
       " 12  CSE20B013           NIKHIL     45     D\n",
       " 13  CSE20B014         SUDHEERA     69     B\n",
       " 14  CSE20B015   VIGNESH SAIRAJ     93     S\n",
       " 15  CSE20B016         RAMKUMAR     23     U\n",
       " 16  CSE20B017       RAVI KUMAR     45     D\n",
       " 17  CSE20B018   ILAM  BHARATHI     78     A\n",
       " 18  CSE20B019      SOWMYA JAIN     97     S\n",
       " 19  CSE20B020           BALAJI     78     A,\n",
       "   Grade  Frequency\n",
       " 0     U          3\n",
       " 1     E          1\n",
       " 2     A          5\n",
       " 3     B          5\n",
       " 4     S          4\n",
       " 5     D          2)"
      ]
     },
     "execution_count": 17,
     "metadata": {},
     "output_type": "execute_result"
    }
   ],
=======
   "execution_count": null,
   "metadata": {},
   "outputs": [],
>>>>>>> 278a5b907680c85338873aeb6294b6134831547e
   "source": [
    "grade_list = []\n",
    "grade_freq = {}\n",
    "for marks in data.Marks:\n",
    "    for max_m, min_m, grade in grade_dist:\n",
    "        if marks >= min_m:\n",
    "            grade_list.append(grade)\n",
    "            grade_freq[grade] = grade_freq.get(grade, 0) + 1\n",
    "            break\n",
    "        else: continue \n",
    "data['Grade'] = grade_list  \n",
    "grade_freq = pd.DataFrame(columns= ['Grade', 'Frequency'], data= grade_freq.items())\n",
    "data, grade_freq"
   ]
  },
  {
   "cell_type": "markdown",
   "metadata": {},
   "source": [
    "9. Consider the following sample of weights for 45 individuals: \n",
    "\n",
    "> 79 71 89 57 76 64 82 82 67 80 81 65 73 79 79 60 58 83 74 68 78 80 78 81 76 65 70 76 58 82 59 73 72 79 87 63 74 90 69 70 83 76 61 66 71 60 57 81 57 65 81 78 77 81 81 63 71 66 56 62 75 64 74 74 70 71 56 69 63 72 81 54 72 91 92.\n",
    "   \n",
    "- For the above data generates histograms and depict them using packages in your platform. Explore the different types of histograms available and test drive the types supported in your platform. "
   ]
  },
  {
   "cell_type": "code",
   "execution_count": 18,
   "metadata": {},
   "outputs": [
    {
     "data": {
      "image/png": "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\n",
      "text/plain": [
       "<Figure size 432x288 with 1 Axes>"
      ]
     },
     "metadata": {
      "needs_background": "light"
     },
     "output_type": "display_data"
    },
    {
     "data": {
      "text/plain": [
       "72.24"
      ]
     },
     "execution_count": 18,
     "metadata": {},
     "output_type": "execute_result"
    }
   ],
   "source": [
    "import matplotlib.pyplot as plt\n",
    "data = [79, 71, 89, 57, 76, 64, 82, 82, 67, 80, 81, 65, 73, 79, 79, 60, 58, 83, \n",
    "        74, 68, 78, 80, 78, 81, 76, 65, 70, 76, 58, 82, 59, 73, 72, 79, 87, 63, \n",
    "        74, 90, 69, 70, 83, 76, 61, 66, 71, 60, 57, 81, 57, 65, 81, 78, 77, 81,\n",
    "        81, 63, 71, 66, 56, 62, 75, 64, 74, 74, 70, 71, 56, 69, 63, 72, 81, 54, \n",
    "        72, 91, 92,]\n",
    "fig, axs = plt.subplots()\n",
    "# normal histogram\n",
    "plt.hist(data, bins= 11)\n",
    "\n",
    "plt.show()\n",
    "sum(data) / len(data)"
   ]
  }
 ],
 "metadata": {
  "kernelspec": {
   "display_name": "Python 3",
   "language": "python",
   "name": "python3"
  },
  "language_info": {
   "codemirror_mode": {
    "name": "ipython",
    "version": 3
   },
   "file_extension": ".py",
   "mimetype": "text/x-python",
   "name": "python",
   "nbconvert_exporter": "python",
   "pygments_lexer": "ipython3",
   "version": "3.7.6"
  }
 },
 "nbformat": 4,
 "nbformat_minor": 4
}
