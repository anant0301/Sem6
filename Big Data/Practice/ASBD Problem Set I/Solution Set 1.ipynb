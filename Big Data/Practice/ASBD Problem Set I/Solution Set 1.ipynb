{
 "cells": [
  {
   "attachments": {
    "image.png": {
     "image/png": "[encoded data removed]"
    }
   },
   "cell_type": "markdown",
   "metadata": {},
   "source": [
    "1. Given the following setup {Class,Tally score, Frequency}, develop an application that generates the table shown ; (you can populate the relevant data ; minimum data size :50 records). The table is only an illustration for a data of color scores, you are free to test the application over any data set with the application generating the tally and frequency scores.\n",
    "![image.png](attachment:image.png)\n"
   ]
  },
  {
   "cell_type": "markdown",
   "metadata": {},
   "source": [
    "### Logic ###\n",
    "#### Input ####\n",
    "The input to the program is a csv file containing two columns, the names being Score and Frequency.\n",
    "#### Output ####\n",
    "The output is an simple \n",
    "The mark ||||\\ represents 5 and each | represents 1."
   ]
  },
  {
   "cell_type": "code",
   "execution_count": 1,
   "metadata": {},
   "outputs": [],
   "source": [
    "import random\n",
    "import pandas as pd"
   ]
  },
  {
   "cell_type": "markdown",
   "metadata": {},
   "source": [
    "### Sample File Generation ###\n",
    "To column headers Score and Frequency, here the Score is for color represented in hexadecimal coding.\n",
    "\n",
    "__Note:__\n",
    "There could be some duplicate records in score."
   ]
  },
  {
   "cell_type": "code",
   "execution_count": 2,
   "metadata": {},
   "outputs": [
    {
     "name": "stdout",
     "output_type": "stream",
     "text": [
      "The number of iterations: 100\n"
     ]
    }
   ],
   "source": [
    "num = int(input(\"The number of iterations: \"))\n",
    "score = list()\n",
    "frequency = list()\n",
    "for i in range(num):\n",
    "    score.append('#'+ str(hex(random.randint(0,16777215)))[2:])\n",
    "    frequency.append(random.randint(0, 50))\n",
    "pd.DataFrame({'Score': score, 'Frequency': frequency}).to_csv('sample_data_1.csv', index= False)"
   ]
  },
  {
   "cell_type": "code",
   "execution_count": 6,
   "metadata": {},
   "outputs": [
    {
     "data": {
      "text/html": [
       "<div>\n",
       "<style scoped>\n",
       "    .dataframe tbody tr th:only-of-type {\n",
       "        vertical-align: middle;\n",
       "    }\n",
       "\n",
       "    .dataframe tbody tr th {\n",
       "        vertical-align: top;\n",
       "    }\n",
       "\n",
       "    .dataframe thead th {\n",
       "        text-align: right;\n",
       "    }\n",
       "</style>\n",
       "<table border=\"1\" class=\"dataframe\">\n",
       "  <thead>\n",
       "    <tr style=\"text-align: right;\">\n",
       "      <th></th>\n",
       "      <th>Score</th>\n",
       "      <th>Tally</th>\n",
       "      <th>Frequency</th>\n",
       "    </tr>\n",
       "  </thead>\n",
       "  <tbody>\n",
       "    <tr>\n",
       "      <th>0</th>\n",
       "      <td>#6c39b0</td>\n",
       "      <td>||||\\ ||||\\  |||</td>\n",
       "      <td>13</td>\n",
       "    </tr>\n",
       "    <tr>\n",
       "      <th>1</th>\n",
       "      <td>#dbf720</td>\n",
       "      <td>||||\\ ||||\\ ||||\\  |</td>\n",
       "      <td>16</td>\n",
       "    </tr>\n",
       "    <tr>\n",
       "      <th>2</th>\n",
       "      <td>#407036</td>\n",
       "      <td>||||\\ ||||\\ ||||\\ ||||\\ ||||\\ ||||\\  ||</td>\n",
       "      <td>32</td>\n",
       "    </tr>\n",
       "    <tr>\n",
       "      <th>3</th>\n",
       "      <td>#dcce73</td>\n",
       "      <td>||||\\ ||||\\ ||||\\ ||||\\ ||||\\ ||||\\ ||||\\ ||||...</td>\n",
       "      <td>42</td>\n",
       "    </tr>\n",
       "    <tr>\n",
       "      <th>4</th>\n",
       "      <td>#1d0a37</td>\n",
       "      <td>||||\\ ||||\\ ||||\\ ||||\\ ||||\\ ||||\\ ||||\\ ||||...</td>\n",
       "      <td>46</td>\n",
       "    </tr>\n",
       "    <tr>\n",
       "      <th>...</th>\n",
       "      <td>...</td>\n",
       "      <td>...</td>\n",
       "      <td>...</td>\n",
       "    </tr>\n",
       "    <tr>\n",
       "      <th>95</th>\n",
       "      <td>#722f3d</td>\n",
       "      <td>||||\\ ||||\\ ||||\\ ||||\\ ||||\\ ||||\\ ||||\\ ||||\\</td>\n",
       "      <td>40</td>\n",
       "    </tr>\n",
       "    <tr>\n",
       "      <th>96</th>\n",
       "      <td>#25f4dd</td>\n",
       "      <td>||||\\ ||||\\ ||||\\ ||||\\ ||||\\  ||||</td>\n",
       "      <td>29</td>\n",
       "    </tr>\n",
       "    <tr>\n",
       "      <th>97</th>\n",
       "      <td>#163742</td>\n",
       "      <td>||||\\ ||||\\ ||||\\ ||||\\ ||||\\ ||||\\  |</td>\n",
       "      <td>31</td>\n",
       "    </tr>\n",
       "    <tr>\n",
       "      <th>98</th>\n",
       "      <td>#3d517a</td>\n",
       "      <td>||||\\ ||||\\ ||||\\ ||||\\ ||||\\ ||||\\ ||||\\ ||||...</td>\n",
       "      <td>44</td>\n",
       "    </tr>\n",
       "    <tr>\n",
       "      <th>99</th>\n",
       "      <td>#6f4c0f</td>\n",
       "      <td>||||\\ ||||\\ ||||\\  |</td>\n",
       "      <td>16</td>\n",
       "    </tr>\n",
       "  </tbody>\n",
       "</table>\n",
       "<p>100 rows × 3 columns</p>\n",
       "</div>"
      ],
      "text/plain": [
       "      Score                                              Tally  Frequency\n",
       "0   #6c39b0                                   ||||\\ ||||\\  |||         13\n",
       "1   #dbf720                               ||||\\ ||||\\ ||||\\  |         16\n",
       "2   #407036            ||||\\ ||||\\ ||||\\ ||||\\ ||||\\ ||||\\  ||         32\n",
       "3   #dcce73  ||||\\ ||||\\ ||||\\ ||||\\ ||||\\ ||||\\ ||||\\ ||||...         42\n",
       "4   #1d0a37  ||||\\ ||||\\ ||||\\ ||||\\ ||||\\ ||||\\ ||||\\ ||||...         46\n",
       "..      ...                                                ...        ...\n",
       "95  #722f3d  ||||\\ ||||\\ ||||\\ ||||\\ ||||\\ ||||\\ ||||\\ ||||\\           40\n",
       "96  #25f4dd                ||||\\ ||||\\ ||||\\ ||||\\ ||||\\  ||||         29\n",
       "97  #163742             ||||\\ ||||\\ ||||\\ ||||\\ ||||\\ ||||\\  |         31\n",
       "98  #3d517a  ||||\\ ||||\\ ||||\\ ||||\\ ||||\\ ||||\\ ||||\\ ||||...         44\n",
       "99  #6f4c0f                               ||||\\ ||||\\ ||||\\  |         16\n",
       "\n",
       "[100 rows x 3 columns]"
      ]
     },
     "execution_count": 6,
     "metadata": {},
     "output_type": "execute_result"
    }
   ],
   "source": [
    "df = pd.read_csv('sample_data_1.csv')\n",
    "tally = []\n",
    "for frequency in df.Frequency:\n",
    "    ones = '|' * (frequency % 5)\n",
    "    fives= '||||\\ ' * (frequency // 5)\n",
    "    tally.append(fives + ' ' + ones)\n",
    "df['Tally'] = tally\n",
    "df[['Score', 'Tally', 'Frequency']]"
   ]
  },
  {
   "cell_type": "markdown",
   "metadata": {},
   "source": [
    "2. In a class of 18 students, assume marks distribution in an exam are as follows. Let the roll numbers start with CSE20D01 and all the odd roll numbers secure marks as follows: 25+((i+7)%10) and even roll numbers :  25+((i+8)%10). Develop an application that sets up the data and calculate the mean and median for the marks obtained using the platform support."
   ]
  },
  {
   "cell_type": "markdown",
   "metadata": {},
   "source": [
    "#### Logic ####\n",
    "The information given is pretty much self-explanatory.\n",
    "The python module used for the mean and median is __statastics__, this module contains basics statastical methods in python."
   ]
  },
  {
   "cell_type": "code",
   "execution_count": 13,
   "metadata": {},
   "outputs": [],
   "source": [
    "import statistics as ss"
   ]
  },
  {
   "cell_type": "code",
   "execution_count": 18,
   "metadata": {},
   "outputs": [
    {
     "name": "stdout",
     "output_type": "stream",
     "text": [
      "Mean: 28.666666666666668\n",
      "Median: 29.0\n"
     ]
    }
   ],
   "source": [
    "total_students = 18\n",
    "rollno, marks = [], []\n",
    "for i in range(1, total_students + 1):\n",
    "    rollno.append('CSE2-D' + \"{0:2d}\".format(i))\n",
    "    marks.append(25 + ((i + (7 if i%2 else 8)) % 10))\n",
    "print(\"Mean:\", ss.mean(marks))\n",
    "print(\"Median:\", ss.median(marks))"
   ]
  },
  {
   "cell_type": "markdown",
   "metadata": {},
   "source": [
    "3. For a sample space of 20 elements, the values are fitted to the line Y=2X+3, X>5. Develop an application that sets up the data and computes the standard deviation of this sample space. (use random number generator supported in your development platform to generate values of X"
   ]
  },
  {
   "cell_type": "code",
   "execution_count": 19,
   "metadata": {},
   "outputs": [],
   "source": [
    "import random\n",
    "import statastics as ss"
   ]
  },
  {
   "cell_type": "code",
   "execution_count": 76,
   "metadata": {},
   "outputs": [
    {
     "data": {
      "text/plain": [
       "5159.000290754014"
      ]
     },
     "execution_count": 76,
     "metadata": {},
     "output_type": "execute_result"
    }
   ],
   "source": [
    "x = [random.randint(5,10000) for i in range(20)]\n",
    "y = [2 * e + 3 for e in x]\n",
    "ss.stdev(y)"
   ]
  },
  {
   "cell_type": "markdown",
   "metadata": {},
   "source": [
    "4. For a given data of heights of a class, the heights of 15 students are recorded as 167.65, 167, 172, 175, 165, 167, 168, 167, 167.3, 170, 167.5, 170, 167, 169, and 172. Develop an application that computes; explore if there are any packages supported in your platform that depicts these measures / their calculation of central tendency in a visual form for ease of understanding.\n",
    "    - Mean height of the student\n",
    "    - Median and Mode of the sample space\n",
    "    - Standard deviation\n",
    "    - Measure of skewness. [(Mean-Mode)/standard deviation]"
   ]
  },
  {
   "cell_type": "markdown",
   "metadata": {},
   "source": [
    "### Logic ###\n",
    "#### Input ####\n",
    "The height list\n",
    "h = _[167.65, 167, 172, 175, 165, 167, 168, 167, 167.3, 170, 167.5, 170, 167, 169, 172]_\n",
    "#### Output ####\n",
    "    Mean\n",
    "    Median\n",
    "    Standard Deviation\n",
    "    Skew"
   ]
  },
  {
   "cell_type": "code",
   "execution_count": 87,
   "metadata": {},
   "outputs": [],
   "source": [
    "import statistics as ss\n",
    "import scipy"
   ]
  },
  {
   "cell_type": "code",
   "execution_count": 93,
   "metadata": {},
   "outputs": [
    {
     "name": "stdout",
     "output_type": "stream",
     "text": [
      "Mean: 168.76333333333332\n",
      "Median: 167.65\n",
      "Standard Deviation: 2.606617037647145\n",
      "Skew: 0.9684699214981036\n"
     ]
    }
   ],
   "source": [
    "h = [167.65, 167, 172, 175, 165, 167, 168, 167, 167.3, 170, 167.5, 170, 167, 169, 172]\n",
    "print(\"Mean:\", ss.mean(h))\n",
    "print(\"Median:\", ss.median(h))\n",
    "print(\"Standard Deviation:\", ss.stdev(h))\n",
    "print(\"Skew:\", scipy.stats.skew(h))"
   ]
  },
  {
   "cell_type": "code",
   "execution_count": null,
   "metadata": {},
   "outputs": [],
   "source": []
  }
 ],
 "metadata": {
  "kernelspec": {
   "display_name": "Python 3",
   "language": "python",
   "name": "python3"
  },
  "language_info": {
   "codemirror_mode": {
    "name": "ipython",
    "version": 3
   },
   "file_extension": ".py",
   "mimetype": "text/x-python",
   "name": "python",
   "nbconvert_exporter": "python",
   "pygments_lexer": "ipython3",
   "version": "3.7.6"
  }
 },
 "nbformat": 4,
 "nbformat_minor": 4
}
