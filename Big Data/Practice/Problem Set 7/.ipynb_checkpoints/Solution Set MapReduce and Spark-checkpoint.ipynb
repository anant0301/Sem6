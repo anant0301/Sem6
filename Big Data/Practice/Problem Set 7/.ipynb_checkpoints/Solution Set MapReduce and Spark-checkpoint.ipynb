{
 "cells": [
  {
   "cell_type": "markdown",
   "metadata": {},
   "source": [
    "## PROBLEM SET (MapReduce & SPARK)"
   ]
  },
  {
   "cell_type": "code",
   "execution_count": null,
   "metadata": {},
   "outputs": [],
   "source": [
    "import sys\n",
    "import os\n",
    "os.environ['SPARK_HOME'] = '/usr/lib/spark'\n",
    "os.environ['PYSPARK_PYTHON'] = '/usr/local/bin/python2.7'\n",
    "os.environ['PYSPARK_SUBMIT_ARGS'] = ('--packages com.databricks:spark-csv_2.10:1.3.0 pyspark-shell')\n",
    "# SparkContext is available as sc and HiveContext is available as sqlContext.\n",
    "sys.path.append('/usr/lib/spark/python')\n",
    "sys.path.append('/usr/lib/spark/python/lib/py4j-0.9-src.zip')\n"
   ]
  },
  {
   "cell_type": "code",
   "execution_count": 14,
   "metadata": {},
   "outputs": [],
   "source": [
    "import findspark\n",
    "findspark.init()"
   ]
  },
  {
   "cell_type": "code",
   "execution_count": 17,
   "metadata": {},
   "outputs": [],
   "source": [
    "from pyspark import SparkContext as SC\n",
    "sc = SC('local')"
   ]
  },
  {
   "cell_type": "markdown",
   "metadata": {},
   "source": [
    "1. For the given input file, calculate Wordcount using Hadoop MapReduce and Spark. Also, develop an equivalent conventional program (without spark RDDs) and compare the time taken by the two versions."
   ]
  },
  {
   "cell_type": "code",
   "execution_count": 18,
   "metadata": {},
   "outputs": [],
   "source": [
    "import time"
   ]
  },
  {
   "cell_type": "code",
   "execution_count": 19,
   "metadata": {},
   "outputs": [
    {
     "name": "stdout",
     "output_type": "stream",
     "text": [
      "Counter({'the': 255, 'of': 145, 'to': 133, '': 116, 'and': 100, 'in': 76, 'be': 75, 'a': 57, 'that': 55, 'is': 49, 'i': 42, 'by': 41, 'it': 40, 'or': 35, 'as': 34, 'not': 33, 'all': 32, 'no': 30, 'any': 28, 'will': 26, 'for': 25, 'with': 20, 'are': 20, 'this': 20, 'can': 20, 'if': 19, 'there': 18, 'but': 18, 'have': 18, 'you': 17, 'which': 16, 'from': 16, 'so': 16, 'shall': 16, 'they': 15, 'upon': 15, 'union': 15, 'constitution': 14, 'do': 14, 'people': 14, 'their': 14, 'such': 14, 'now': 14, 'while': 13, 'one': 13, 'than': 13, 'our': 13, 'may': 13, 'on': 12, 'law': 12, 'government': 11, 'its': 11, 'who': 10, 'we': 10, 'only': 9, 'would': 9, 'national': 9, 'states': 8, 'my': 8, 'own': 8, 'constitutional': 8, 'his': 7, 'never': 7, 'right': 7, 'state': 7, 'under': 7, 'being': 7, 'must': 7, 'cannot': 7, 'states,': 6, 'at': 6, 'among': 6, 'has': 6, 'these': 6, 'provision': 6, 'make': 6, 'constitution,': 6, 'it,': 6, 'citizens': 5, 'united': 5, 'those': 5, 'them.': 5, 'more': 5, 'each': 5, 'doing': 5, 'much': 5, 'clause': 5, 'other': 5, 'laws': 5, 'was': 5, 'should': 5, 'them': 5, 'great': 5, 'expressly': 5, 'government,': 5, 'nor': 5, 'majority': 5, 'it.': 5, 'before': 4, 'your': 4, 'oath': 4, 'me': 4, 'been': 4, 'most': 4, 'him': 4, 'slavery': 4, 'made': 4, 'and,': 4, 'force': 4, 'what': 4, 'case': 4, 'section': 4, 'lawfully': 4, 'service': 4, 'plainly': 4, 'written': 4, 'held': 4, 'party': 4, 'congress': 4, 'whole': 4, 'cases': 4, 'good': 4, 'some': 4, 'very': 4, 'authority': 4, 'case,': 4, 'same': 4, 'take': 4, 'both': 4, 'having': 4, 'that,': 4, 'ever': 4, 'itself.': 4, 'an': 4, 'it?': 4, 'does': 4, 'perfect': 4, 'vital': 4, 'unless': 4, 'better': 4, 'every': 4, 'fly': 4, 'minority': 4, 'questions': 4, 'secede': 4, 'present': 4, 'object': 4, 'still': 4, 'between': 4, 'either': 4, 'address': 3, 'old': 3, 'administration': 3, 'security': 3, 'nearly': 3, 'you.': 3, 'when': 3, 'where': 3, 'had': 3, 'many': 3, 'rights': 3, 'according': 3, 'power': 3, 'given': 3, 'labor': 3, 'into': 3, 'other.': 3, 'then,': 3, 'terms': 3, 'equal': 3, 'surely': 3, 'little': 3, 'others': 3, 'go': 3, 'again,': 3, 'ought': 3, 'surrendered': 3, 'well': 3, 'purpose': 3, 'particular': 3, 'acts': 3, 'different': 3, 'federal': 3, 'continue': 3, 'express': 3, 'destroy': 3, 'parties': 3, 'legal': 3, 'possible,': 3, 'effect': 3, 'view': 3, 'duty': 3, 'far': 3, 'people,': 3, 'precisely': 3, 'why': 3, 'right,': 3, 'this.': 3, 'say.': 3, 'side': 3, 'new': 3, 'decisions': 3, 'over': 3, 'after': 3, 'separation': 3, 'without': 3, 'first': 2, 'prescribed': 2, 'president': 2, 'consider': 2, 'about': 2, 'seems': 2, 'exist': 2, 'property': 2, 'personal': 2, 'reasonable': 2, 'evidence': 2, 'speeches': 2, 'purpose,': 2, 'interfere': 2, 'so,': 2, 'this,': 2, 'themselves': 2, 'me,': 2, 'especially': 2, 'domestic': 2, 'institutions': 2, 'judgment': 2, 'political': 2, 'matter': 2, 'public': 2, 'wise': 2, 'administration.': 2, 'laws,': 2, 'cheerfully': 2, 'controversy': 2, 'up': 2, 'fugitives': 2, 'consequence': 2, 'delivered': 2, 'claim': 2, 'fugitive': 2, 'within': 2, 'could': 2, 'unanimity': 2, 'frame': 2, 'difference': 2, 'enforced': 2, 'one.': 2, 'surrendered,': 2, 'content': 2, 'subject,': 2, 'free': 2, 'might': 2, 'time': 2, 'citizen': 2, 'entitled': 2, 'official': 2, 'proper': 2, 'enforced,': 2, 'all,': 2, 'abide': 2, 'violate': 2, 'them,': 2, 'find': 2, 'years': 2, 'constitution.': 2, 'have,': 2, 'government.': 2, 'four': 2, 'difficulty.': 2, 'union,': 2, 'hold': 2, 'contemplation': 2, 'universal': 2, 'organic': 2, 'provisions': 2, 'provided': 2, 'instrument': 2, 'proper,': 2, 'association': 2, 'contract': 2, 'less': 2, 'articles': 2, 'faith': 2, 'declared': 2, 'form': 2, 'destruction': 2, 'lost': 2, 'mere': 2, 'out': 2, 'against': 2, 'extent': 2, 'faithfully': 2, 'states.': 2, 'deem': 2, 'rightful': 2, 'american': 2, 'defend': 2, 'beyond': 2, 'prevent': 2, 'competent': 2, 'holding': 2, 'offices,': 2, 'attempt': 2, 'exercise': 2, 'parts': 2, 'sense': 2, 'change': 2, 'best': 2, 'exercised': 2, 'hope': 2, 'persons': 2, 'seek': 2, 'such,': 2, 'however,': 2, 'grave': 2, 'step': 2, 'portion': 2, 'ills': 2, 'real': 2, 'think': 2, 'reach': 2, 'think,': 2, 'single': 2, 'moral': 2, 'were': 2, 'possible': 2, 'territories?': 2, 'divide': 2, 'acquiesce,': 2, 'rather': 2, 'precedent': 2, 'turn': 2, 'whenever': 2, 'people.': 2, 'anarchy': 2, 'supreme': 2, 'suit,': 2, 'also': 2, 'cases,': 2, 'hands': 2, 'country': 2, 'believes': 2, 'foreign': 2, 'slave-trade,': 2, 'imperfectly': 2, 'break': 2, 'sections': 2, 'intercourse': 2, 'aliens': 2, 'treaties': 2, 'again': 2, 'existing': 2, 'amendments': 2, 'nothing': 2, 'hands,': 2, 'justice': 2, 'truth': 2, 'short': 2, 'taking': 2, 'frustrated': 2, 'dissatisfied': 2, 'yet': 2, 'land,': 2, \"lincoln's\": 1, 'inaugural': 1, 'march': 1, '4,': 1, '1861': 1, 'fellow': 1, 'states:': 1, 'compliance': 1, 'custom': 1, 'itself,': 1, 'appear': 1, 'briefly': 1, 'take,': 1, 'presence,': 1, 'taken': 1, '\"before': 1, 'he': 1, 'enters': 1, 'execution': 1, 'office.\"': 1, 'necessary,': 1, 'present,': 1, 'discuss': 1, 'matters': 1, 'special': 1, 'anxiety,': 1, 'excitement.': 1, 'apprehension': 1, 'southern': 1, 'accession': 1, 'republican': 1, 'peace': 1, 'endangered.': 1, 'cause': 1, 'apprehension.': 1, 'indeed,': 1, 'ample': 1, 'contrary': 1, 'existed': 1, 'open': 1, 'inspection.': 1, 'found': 1, 'published': 1, 'addresses': 1, 'quote': 1, 'declare': 1, '\"i': 1, 'directly': 1, 'indirectly,': 1, 'institution': 1, 'exists.': 1, 'believe': 1, 'lawful': 1, 'inclination': 1, 'so.\"': 1, 'nominated': 1, 'elected': 1, 'did': 1, 'full': 1, 'knowledge': 1, 'similar': 1, 'declarations,': 1, 'recanted': 1, 'placed': 1, 'platform': 1, 'acceptance,': 1, 'clear': 1, 'emphatic': 1, 'resolution': 1, 'read:': 1, '\"resolved:': 1, 'maintenance': 1, 'inviolate': 1, 'order': 1, 'control': 1, 'exclusively,': 1, 'essential': 1, 'balance': 1, 'perfection': 1, 'endurance': 1, 'fabric': 1, 'depend,': 1, 'denounce': 1, 'lawless': 1, 'invasion': 1, 'armed': 1, 'soil': 1, 'territory,': 1, 'pretext,': 1, 'gravest': 1, 'crimes.\"': 1, 'reiterate': 1, 'sentiments;': 1, 'press': 1, 'attention': 1, 'conclusive': 1, 'susceptible,': 1, 'property,': 1, 'peace,': 1, 'endangered': 1, 'incoming': 1, 'add,': 1, 'too,': 1, 'protection': 1, 'which,': 1, 'consistently': 1, 'given,': 1, 'demanded,': 1, 'whatever': 1, 'cause--': 1, 'another.': 1, 'delivering': 1, 'labor.': 1, 'read': 1, 'provisions:': 1, '\"no': 1, 'person': 1, 'state,': 1, 'thereof,': 1, 'escaping': 1, 'another,': 1, 'regulation': 1, 'therein': 1, 'discharged': 1, 'labor,': 1, 'whom': 1, 'due.\"': 1, 'scarcely': 1, 'questioned': 1, 'intended': 1, 'reclaiming': 1, 'call': 1, 'slaves;': 1, 'intention': 1, 'lawgiver': 1, 'law.': 1, 'members': 1, 'swear': 1, 'support': 1, 'constitution--': 1, 'proposition,': 1, 'slaves': 1, 'whose': 1, 'come': 1, '\"shall': 1, 'up\",': 1, 'oaths': 1, 'unanimous.': 1, 'now,': 1, 'effort': 1, 'temper,': 1, 'pass': 1, 'means': 1, 'keep': 1, 'unanimous': 1, 'oath?': 1, 'opinion': 1, 'whether': 1, 'authority;': 1, 'material': 1, 'slave': 1, 'done.': 1, 'unkept': 1, 'merely': 1, 'unsubstantial': 1, 'how': 1, 'kept?': 1, 'safeguards': 1, 'liberty': 1, 'known': 1, 'civilized': 1, 'humane': 1, 'jurisprudence': 1, 'introduced,': 1, 'man': 1, 'not,': 1, 'slave?': 1, 'provide': 1, 'enforcement': 1, 'guarantees': 1, '\"the': 1, 'privileges': 1, 'immunities': 1, 'several': 1, 'states?\"': 1, 'today': 1, 'mental': 1, 'reservations,': 1, 'construe': 1, 'hypercritical': 1, 'rules.': 1, 'choose': 1, 'specify': 1, 'suggest': 1, 'safer': 1, 'private': 1, 'stations,': 1, 'conform': 1, 'stand': 1, 'unrepealed,': 1, 'trusting': 1, 'impunity': 1, 'unconstitutional.': 1, 'seventy-two': 1, 'since': 1, 'inauguration': 1, 'during': 1, 'period': 1, 'fifteen': 1, 'greatly': 1, 'distinguished': 1, 'succession,': 1, 'administered': 1, 'executive': 1, 'branch': 1, 'conducted': 1, 'through': 1, 'perils,': 1, 'generally': 1, 'success.': 1, 'yet,': 1, 'scope': 1, 'precedent,': 1, 'enter': 1, 'task': 1, 'brief': 1, 'term': 1, 'peculiar': 1, 'disruption': 1, 'heretofore': 1, 'menaced,': 1, 'formidably': 1, 'attempted.': 1, 'perpetual.': 1, 'perpetuity': 1, 'implied,': 1, 'expressed,': 1, 'fundamental': 1, 'governments.': 1, 'safe': 1, 'assert': 1, 'termination.': 1, 'execute': 1, 'endure': 1, 'forever--it': 1, 'impossible': 1, 'except': 1, 'action': 1, 'nature': 1, 'merely,': 1, 'contract,': 1, 'peaceably': 1, 'unmade': 1, 'it--break': 1, 'speak;': 1, 'require': 1, 'rescind': 1, 'descending': 1, 'general': 1, 'principles,': 1, 'proposition': 1, 'perpetual': 1, 'confirmed': 1, 'history': 1, 'older': 1, 'formed,': 1, 'fact,': 1, '1774.': 1, 'matured': 1, 'continued': 1, 'declaration': 1, 'independence': 1, '1776.': 1, 'further': 1, 'matured,': 1, 'then': 1, 'thirteen': 1, 'plighted': 1, 'engaged': 1, 'perpetual,': 1, 'confederation': 1, '1778.': 1, 'finally,': 1, '1787': 1, 'objects': 1, 'ordaining': 1, 'establishing': 1, '\"to': 1, 'union.\"': 1, 'part': 1, 'element': 1, 'perpetuity.': 1, 'follows': 1, 'views': 1, 'motion': 1, 'get': 1, 'union;': 1, 'resolves': 1, 'ordinances': 1, 'legally': 1, 'void;': 1, 'violence,': 1, 'insurrectionary': 1, 'revolutionary,': 1, 'circumstances.': 1, 'therefore': 1, 'unbroken;': 1, 'ability': 1, 'care,': 1, 'itself': 1, 'enjoins': 1, 'executed': 1, 'simple': 1, 'part;': 1, 'perform': 1, 'practicable,': 1, 'masters,': 1, 'withhold': 1, 'requisite': 1, 'means,': 1, 'authoritative': 1, 'manner': 1, 'direct': 1, 'contrary.': 1, 'trust': 1, 'regarded': 1, 'menace,': 1, 'constitutionally': 1, 'maintain': 1, 'needs': 1, 'bloodshed': 1, 'violence;': 1, 'none,': 1, 'forced': 1, 'authority.': 1, 'confided': 1, 'used': 1, 'hold,': 1, 'occupy,': 1, 'possess': 1, 'places': 1, 'belonging': 1, 'collect': 1, 'duties': 1, 'imposts;': 1, 'necessary': 1, 'objects,': 1, 'invasion,': 1, 'using': 1, 'anywhere.': 1, 'hostility': 1, 'interior': 1, 'locality,': 1, 'resident': 1, 'obnoxious': 1, 'strangers': 1, 'object.': 1, 'strict': 1, 'enforce': 1, 'irritating,': 1, 'impracticable': 1, 'withal,': 1, 'forego': 1, 'uses': 1, 'offices.': 1, 'mails,': 1, 'repelled,': 1, 'furnished': 1, 'union.': 1, 'everywhere': 1, 'favorable': 1, 'calm': 1, 'thought': 1, 'reflection.': 1, 'course': 1, 'here': 1, 'indicated': 1, 'followed': 1, 'current': 1, 'events': 1, 'experience': 1, 'show': 1, 'modification': 1, 'exigency': 1, 'discretion': 1, 'circumstances': 1, 'actually': 1, 'existing,': 1, 'peaceful': 1, 'solution': 1, 'troubles': 1, 'restoration': 1, 'fraternal': 1, 'sympathies': 1, 'affections.': 1, 'another': 1, 'events,': 1, 'glad': 1, 'pretext': 1, 'neither': 1, 'affirm': 1, 'deny;': 1, 'need': 1, 'word': 1, 'those,': 1, 'really': 1, 'love': 1, 'speak?': 1, 'entering': 1, 'fabric,': 1, 'benefits,': 1, 'memories,': 1, 'hopes,': 1, 'ascertain': 1, 'hazard': 1, 'desperate': 1, 'possibility': 1, 'existence?': 1, 'you,': 1, 'certain': 1, 'greater': 1, 'ones': 1, 'from--will': 1, 'risk': 1, 'commission': 1, 'fearful': 1, 'mistake?': 1, 'profess': 1, 'maintained.': 1, 'true,': 1, 'denied?': 1, 'not.': 1, 'happily': 1, 'human': 1, 'mind': 1, 'constituted': 1, 'audacity': 1, 'can,': 1, 'instance': 1, 'denied.': 1, 'numbers': 1, 'deprive': 1, 'clearly': 1, 'might,': 1, 'point': 1, 'view,': 1, 'justify': 1, 'revolution--certainly': 1, 'case.': 1, 'minorities': 1, 'individuals': 1, 'assured': 1, 'affirmations': 1, 'negations,': 1, 'guaranties': 1, 'prohibitions,': 1, 'controversies': 1, 'arise': 1, 'concerning': 1, 'framed': 1, 'specifically': 1, 'applicable': 1, 'question': 1, 'occur': 1, 'practical': 1, 'foresight': 1, 'anticipate,': 1, 'document': 1, 'length': 1, 'contain,': 1, 'questions.': 1, 'authority?': 1, 'prohibit': 1, 'protect': 1, 'class': 1, 'spring': 1, 'controversies,': 1, 'majorities': 1, 'minorities.': 1, 'must,': 1, 'cease.': 1, 'alternative;': 1, 'continuing': 1, 'acquiescence': 1, 'ruin': 1, 'them;': 1, 'refuses': 1, 'controlled': 1, 'minority.': 1, 'instance,': 1, 'confederacy': 1, 'year': 1, 'two': 1, 'hence': 1, 'arbitrarily': 1, 'portions': 1, 'cherish': 1, 'disunion': 1, 'sentiments': 1, 'educated': 1, 'exact': 1, 'temper': 1, 'identity': 1, 'interests': 1, 'compose': 1, 'produce': 1, 'harmony': 1, 'only,': 1, 'renewed': 1, 'secession?': 1, 'plainly,': 1, 'central': 1, 'idea': 1, 'secession': 1, 'essence': 1, 'anarchy.': 1, 'restraint': 1, 'checks': 1, 'limitations,': 1, 'always': 1, 'changing': 1, 'easily': 1, 'deliberate': 1, 'changes': 1, 'popular': 1, 'opinions': 1, 'sentiments,': 1, 'true': 1, 'sovereign': 1, 'whoever': 1, 'rejects': 1, 'does,': 1, 'necessity,': 1, 'despotism.': 1, 'impossible;': 1, 'rule': 1, 'minority,': 1, 'permanent': 1, 'arrangement,': 1, 'wholly': 1, 'inadmissible;': 1, 'rejecting': 1, 'principle,': 1, 'despotism': 1, 'left.': 1, 'forget': 1, 'position,': 1, 'assumed': 1, 'some,': 1, 'decided': 1, 'court;': 1, 'deny': 1, 'binding,': 1, 'high': 1, 'respect': 1, 'consideration': 1, 'parallel': 1, 'departments': 1, 'obviously': 1, 'decision': 1, 'erroneous': 1, 'evil': 1, 'following': 1, 'limited': 1, 'chance': 1, 'overruled': 1, 'become': 1, 'borne': 1, 'evils': 1, 'practice.': 1, 'time,': 1, 'candid': 1, 'confess': 1, 'policy': 1, 'affecting': 1, 'irrevocably': 1, 'fixed': 1, 'court,': 1, 'instant': 1, 'made,': 1, 'ordinary': 1, 'litigation': 1, 'actions,': 1, 'ceased': 1, 'rulers,': 1, 'practically': 1, 'resigned': 1, 'eminent': 1, 'tribunal.': 1, 'assault': 1, 'court': 1, 'judges.': 1, 'shrink': 1, 'decide': 1, 'properly': 1, 'brought': 1, 'fault': 1, 'theirs': 1, 'purposes.': 1, 'extended,': 1, 'wrong,': 1, 'extended.': 1, 'substantial': 1, 'dispute.': 1, 'fugitive-slave': 1, 'suppression': 1, 'perhaps,': 1, 'community': 1, 'supports': 1, 'body': 1, 'dry': 1, 'obligation': 1, 'few': 1, 'each.': 1, 'perfectly': 1, 'cured;': 1, 'worse': 1, 'before.': 1, 'suppressed,': 1, 'ultimately': 1, 'revived,': 1, 'restriction,': 1, 'section,': 1, 'slaves,': 1, 'partially': 1, 'physically': 1, 'speaking,': 1, 'separate.': 1, 'remove': 1, 'respective': 1, 'other,': 1, 'build': 1, 'impassable': 1, 'wall': 1, 'husband': 1, 'wife': 1, 'divorced,': 1, 'presence': 1, 'other;': 1, 'remain': 1, 'face': 1, 'face,': 1, 'intercourse,': 1, 'amicable': 1, 'hostile,': 1, 'advantageous': 1, 'satisfactory': 1, 'before?': 1, 'easier': 1, 'friends': 1, 'laws?': 1, 'friends?': 1, 'suppose': 1, 'war,': 1, 'fight': 1, 'always;': 1, 'when,': 1, 'loss': 1, 'sides,': 1, 'gain': 1, 'either,': 1, 'cease': 1, 'fighting,': 1, 'identical': 1, 'country,': 1, 'institutions,': 1, 'belongs': 1, 'inhabit': 1, 'grow': 1, 'weary': 1, 'amending': 1, 'revolutionary': 1, 'dismember': 1, 'overthrow': 1, 'ignorant': 1, 'fact': 1, 'worthy': 1, 'patriotic': 1, 'desirous': 1, 'amended.': 1, 'recommendation': 1, 'amendments,': 1, 'fully': 1, 'recognize': 1, 'modes': 1, 'itself;': 1, 'should,': 1, 'circumstances,': 1, 'favor': 1, 'oppose': 1, 'fair': 1, 'opportunity': 1, 'afforded': 1, 'act': 1, 'venture': 1, 'add': 1, 'convention': 1, 'mode': 1, 'preferable,': 1, 'allows': 1, 'originate': 1, 'themselves,': 1, 'instead': 1, 'permitting': 1, 'reject': 1, 'propositions': 1, 'originated': 1, 'chosen': 1, 'wish': 1, 'accept': 1, 'refuse.': 1, 'understand': 1, 'proposed': 1, 'amendment': 1, 'constitution--which': 1, 'amendment,': 1, 'seen--has': 1, 'passed': 1, 'congress,': 1, 'including': 1, 'service.': 1, 'avoid': 1, 'misconstruction': 1, 'said,': 1, 'depart': 1, 'speak': 1, 'say': 1, 'implied': 1, 'law,': 1, 'objection': 1, 'irrevocable.': 1, 'chief': 1, 'magistrate': 1, 'derives': 1, 'conferred': 1, 'none': 1, 'fix': 1, 'choose;': 1, 'executive,': 1, 'administer': 1, 'came': 1, 'transmit': 1, 'unimpaired': 1, 'him,': 1, 'successor.': 1, 'patient': 1, 'confidence': 1, 'ultimate': 1, 'people?': 1, 'world?': 1, 'differences': 1, 'right?': 1, 'almighty': 1, 'ruler': 1, 'nations,': 1, 'eternal': 1, 'justice,': 1, 'north,': 1, 'yours': 1, 'south,': 1, 'prevail,': 1, 'tribunal,': 1, 'live,': 1, 'wisely': 1, 'servants': 1, 'mischief;': 1, 'wisdom,': 1, 'return': 1, 'intervals.': 1, 'retain': 1, 'virtue': 1, 'vigilance,': 1, 'administration,': 1, 'extreme': 1, 'wickedness': 1, 'folly,': 1, 'seriously': 1, 'injure': 1, 'space': 1, 'years.': 1, 'countrymen,': 1, 'calmly': 1, 'subject.': 1, 'valuable': 1, 'time.': 1, 'hurry': 1, 'hot': 1, 'haste': 1, 'deliberately,': 1, 'time;': 1, 'dissatisfied,': 1, 'unimpaired,': 1, 'sensitive': 1, 'point,': 1, 'framing': 1, 'it;': 1, 'immediate': 1, 'power,': 1, 'would,': 1, 'either.': 1, 'admitted': 1, 'dispute,': 1, 'reason': 1, 'precipitate': 1, 'action.': 1, 'intelligence,': 1, 'patriotism,': 1, 'christianity,': 1, 'firm': 1, 'reliance': 1, 'forsaken': 1, 'favored': 1, 'adjust': 1, 'way': 1, 'fellow-countrymen,': 1, 'mine,': 1, 'momentous': 1, 'issue': 1, 'civil': 1, 'war.': 1, 'assail': 1, 'conflict': 1, 'yourselves': 1, 'aggressors.': 1, 'registered': 1, 'heaven': 1, '_i_': 1, 'solemn': 1, '\"preserve,': 1, 'protect,': 1, 'it.\"': 1, 'am': 1, 'loathe': 1, 'close.': 1, 'enemies,': 1, 'friends.': 1, 'enemies.': 1, 'though': 1, 'passion': 1, 'strained,': 1, 'bonds': 1, 'affection.': 1, 'mystic': 1, 'chords': 1, 'memory,': 1, 'stretching': 1, 'battlefield': 1, 'patriot': 1, 'living': 1, 'heart': 1, 'hearthstone': 1, 'broad': 1, 'swell': 1, 'chorus': 1, 'touched,': 1, 'be,': 1, 'angels': 1, 'nature.': 1})\n",
      "--- 0.002615213394165039 seconds ---\n"
     ]
    }
   ],
   "source": [
    "start_time = time.time()\n",
    "from collections import Counter\n",
    "with open(\"./WordCount input.txt\", \"r\") as fp:\n",
    "    word_count = Counter([word.lower() for line in fp.readlines() for word in line.strip().split(\" \")])\n",
    "    print(word_count)\n",
    "print(\"--- %s seconds ---\" % (time.time() - start_time))    "
   ]
  },
  {
   "cell_type": "code",
   "execution_count": 25,
   "metadata": {},
   "outputs": [
    {
     "ename": "Py4JJavaError",
     "evalue": "An error occurred while calling o65.partitions.\n: org.apache.hadoop.mapred.InvalidInputException: Input path does not exist: file:/opt/spark/data/wordcount.txt\n\tat org.apache.hadoop.mapred.FileInputFormat.singleThreadedListStatus(FileInputFormat.java:287)\n\tat org.apache.hadoop.mapred.FileInputFormat.listStatus(FileInputFormat.java:229)\n\tat org.apache.hadoop.mapred.FileInputFormat.getSplits(FileInputFormat.java:315)\n\tat org.apache.spark.rdd.HadoopRDD.getPartitions(HadoopRDD.scala:205)\n\tat org.apache.spark.rdd.RDD.$anonfun$partitions$2(RDD.scala:276)\n\tat scala.Option.getOrElse(Option.scala:189)\n\tat org.apache.spark.rdd.RDD.partitions(RDD.scala:272)\n\tat org.apache.spark.rdd.MapPartitionsRDD.getPartitions(MapPartitionsRDD.scala:49)\n\tat org.apache.spark.rdd.RDD.$anonfun$partitions$2(RDD.scala:276)\n\tat scala.Option.getOrElse(Option.scala:189)\n\tat org.apache.spark.rdd.RDD.partitions(RDD.scala:272)\n\tat org.apache.spark.api.java.JavaRDDLike.partitions(JavaRDDLike.scala:61)\n\tat org.apache.spark.api.java.JavaRDDLike.partitions$(JavaRDDLike.scala:61)\n\tat org.apache.spark.api.java.AbstractJavaRDDLike.partitions(JavaRDDLike.scala:45)\n\tat java.base/jdk.internal.reflect.NativeMethodAccessorImpl.invoke0(Native Method)\n\tat java.base/jdk.internal.reflect.NativeMethodAccessorImpl.invoke(NativeMethodAccessorImpl.java:62)\n\tat java.base/jdk.internal.reflect.DelegatingMethodAccessorImpl.invoke(DelegatingMethodAccessorImpl.java:43)\n\tat java.base/java.lang.reflect.Method.invoke(Method.java:566)\n\tat py4j.reflection.MethodInvoker.invoke(MethodInvoker.java:244)\n\tat py4j.reflection.ReflectionEngine.invoke(ReflectionEngine.java:357)\n\tat py4j.Gateway.invoke(Gateway.java:282)\n\tat py4j.commands.AbstractCommand.invokeMethod(AbstractCommand.java:132)\n\tat py4j.commands.CallCommand.execute(CallCommand.java:79)\n\tat py4j.GatewayConnection.run(GatewayConnection.java:238)\n\tat java.base/java.lang.Thread.run(Thread.java:834)\n",
     "output_type": "error",
     "traceback": [
      "\u001b[0;31m---------------------------------------------------------------------------\u001b[0m",
      "\u001b[0;31mPy4JJavaError\u001b[0m                             Traceback (most recent call last)",
      "\u001b[0;32m<ipython-input-25-0e7de6c4b34d>\u001b[0m in \u001b[0;36m<module>\u001b[0;34m\u001b[0m\n\u001b[1;32m      3\u001b[0m \u001b[0mcounts\u001b[0m \u001b[0;34m=\u001b[0m \u001b[0mtext_file\u001b[0m\u001b[0;34m.\u001b[0m\u001b[0mflatMap\u001b[0m\u001b[0;34m(\u001b[0m\u001b[0;32mlambda\u001b[0m \u001b[0mline\u001b[0m\u001b[0;34m:\u001b[0m \u001b[0mline\u001b[0m\u001b[0;34m.\u001b[0m\u001b[0msplit\u001b[0m\u001b[0;34m(\u001b[0m\u001b[0;34m\" \"\u001b[0m\u001b[0;34m)\u001b[0m\u001b[0;34m)\u001b[0m\u001b[0;31m \u001b[0m\u001b[0;31m\\\u001b[0m\u001b[0;34m\u001b[0m\u001b[0;34m\u001b[0m\u001b[0m\n\u001b[1;32m      4\u001b[0m              \u001b[0;34m.\u001b[0m\u001b[0mmap\u001b[0m\u001b[0;34m(\u001b[0m\u001b[0;32mlambda\u001b[0m \u001b[0mword\u001b[0m\u001b[0;34m:\u001b[0m \u001b[0;34m(\u001b[0m\u001b[0mword\u001b[0m\u001b[0;34m,\u001b[0m \u001b[0;36m1\u001b[0m\u001b[0;34m)\u001b[0m\u001b[0;34m)\u001b[0m\u001b[0;31m \u001b[0m\u001b[0;31m\\\u001b[0m\u001b[0;34m\u001b[0m\u001b[0;34m\u001b[0m\u001b[0m\n\u001b[0;32m----> 5\u001b[0;31m              \u001b[0;34m.\u001b[0m\u001b[0mreduceByKey\u001b[0m\u001b[0;34m(\u001b[0m\u001b[0;32mlambda\u001b[0m \u001b[0ma\u001b[0m\u001b[0;34m,\u001b[0m \u001b[0mb\u001b[0m\u001b[0;34m:\u001b[0m \u001b[0ma\u001b[0m \u001b[0;34m+\u001b[0m \u001b[0mb\u001b[0m\u001b[0;34m)\u001b[0m\u001b[0;34m\u001b[0m\u001b[0;34m\u001b[0m\u001b[0m\n\u001b[0m\u001b[1;32m      6\u001b[0m \u001b[0moutput\u001b[0m \u001b[0;34m=\u001b[0m \u001b[0mcounts\u001b[0m\u001b[0;34m.\u001b[0m\u001b[0mcollect\u001b[0m\u001b[0;34m(\u001b[0m\u001b[0;34m)\u001b[0m\u001b[0;34m\u001b[0m\u001b[0;34m\u001b[0m\u001b[0m\n\u001b[1;32m      7\u001b[0m \u001b[0mprint\u001b[0m\u001b[0;34m(\u001b[0m\u001b[0moutput\u001b[0m\u001b[0;34m)\u001b[0m\u001b[0;34m\u001b[0m\u001b[0;34m\u001b[0m\u001b[0m\n",
      "\u001b[0;32m/opt/spark/python/pyspark/rdd.py\u001b[0m in \u001b[0;36mreduceByKey\u001b[0;34m(self, func, numPartitions, partitionFunc)\u001b[0m\n\u001b[1;32m   1709\u001b[0m         \u001b[0;34m[\u001b[0m\u001b[0;34m(\u001b[0m\u001b[0;34m'a'\u001b[0m\u001b[0;34m,\u001b[0m \u001b[0;36m2\u001b[0m\u001b[0;34m)\u001b[0m\u001b[0;34m,\u001b[0m \u001b[0;34m(\u001b[0m\u001b[0;34m'b'\u001b[0m\u001b[0;34m,\u001b[0m \u001b[0;36m1\u001b[0m\u001b[0;34m)\u001b[0m\u001b[0;34m]\u001b[0m\u001b[0;34m\u001b[0m\u001b[0;34m\u001b[0m\u001b[0m\n\u001b[1;32m   1710\u001b[0m         \"\"\"\n\u001b[0;32m-> 1711\u001b[0;31m         \u001b[0;32mreturn\u001b[0m \u001b[0mself\u001b[0m\u001b[0;34m.\u001b[0m\u001b[0mcombineByKey\u001b[0m\u001b[0;34m(\u001b[0m\u001b[0;32mlambda\u001b[0m \u001b[0mx\u001b[0m\u001b[0;34m:\u001b[0m \u001b[0mx\u001b[0m\u001b[0;34m,\u001b[0m \u001b[0mfunc\u001b[0m\u001b[0;34m,\u001b[0m \u001b[0mfunc\u001b[0m\u001b[0;34m,\u001b[0m \u001b[0mnumPartitions\u001b[0m\u001b[0;34m,\u001b[0m \u001b[0mpartitionFunc\u001b[0m\u001b[0;34m)\u001b[0m\u001b[0;34m\u001b[0m\u001b[0;34m\u001b[0m\u001b[0m\n\u001b[0m\u001b[1;32m   1712\u001b[0m \u001b[0;34m\u001b[0m\u001b[0m\n\u001b[1;32m   1713\u001b[0m     \u001b[0;32mdef\u001b[0m \u001b[0mreduceByKeyLocally\u001b[0m\u001b[0;34m(\u001b[0m\u001b[0mself\u001b[0m\u001b[0;34m,\u001b[0m \u001b[0mfunc\u001b[0m\u001b[0;34m)\u001b[0m\u001b[0;34m:\u001b[0m\u001b[0;34m\u001b[0m\u001b[0;34m\u001b[0m\u001b[0m\n",
      "\u001b[0;32m/opt/spark/python/pyspark/rdd.py\u001b[0m in \u001b[0;36mcombineByKey\u001b[0;34m(self, createCombiner, mergeValue, mergeCombiners, numPartitions, partitionFunc)\u001b[0m\n\u001b[1;32m   1936\u001b[0m         \"\"\"\n\u001b[1;32m   1937\u001b[0m         \u001b[0;32mif\u001b[0m \u001b[0mnumPartitions\u001b[0m \u001b[0;32mis\u001b[0m \u001b[0;32mNone\u001b[0m\u001b[0;34m:\u001b[0m\u001b[0;34m\u001b[0m\u001b[0;34m\u001b[0m\u001b[0m\n\u001b[0;32m-> 1938\u001b[0;31m             \u001b[0mnumPartitions\u001b[0m \u001b[0;34m=\u001b[0m \u001b[0mself\u001b[0m\u001b[0;34m.\u001b[0m\u001b[0m_defaultReducePartitions\u001b[0m\u001b[0;34m(\u001b[0m\u001b[0;34m)\u001b[0m\u001b[0;34m\u001b[0m\u001b[0;34m\u001b[0m\u001b[0m\n\u001b[0m\u001b[1;32m   1939\u001b[0m \u001b[0;34m\u001b[0m\u001b[0m\n\u001b[1;32m   1940\u001b[0m         \u001b[0mserializer\u001b[0m \u001b[0;34m=\u001b[0m \u001b[0mself\u001b[0m\u001b[0;34m.\u001b[0m\u001b[0mctx\u001b[0m\u001b[0;34m.\u001b[0m\u001b[0mserializer\u001b[0m\u001b[0;34m\u001b[0m\u001b[0;34m\u001b[0m\u001b[0m\n",
      "\u001b[0;32m/opt/spark/python/pyspark/rdd.py\u001b[0m in \u001b[0;36m_defaultReducePartitions\u001b[0;34m(self)\u001b[0m\n\u001b[1;32m   2346\u001b[0m             \u001b[0;32mreturn\u001b[0m \u001b[0mself\u001b[0m\u001b[0;34m.\u001b[0m\u001b[0mctx\u001b[0m\u001b[0;34m.\u001b[0m\u001b[0mdefaultParallelism\u001b[0m\u001b[0;34m\u001b[0m\u001b[0;34m\u001b[0m\u001b[0m\n\u001b[1;32m   2347\u001b[0m         \u001b[0;32melse\u001b[0m\u001b[0;34m:\u001b[0m\u001b[0;34m\u001b[0m\u001b[0;34m\u001b[0m\u001b[0m\n\u001b[0;32m-> 2348\u001b[0;31m             \u001b[0;32mreturn\u001b[0m \u001b[0mself\u001b[0m\u001b[0;34m.\u001b[0m\u001b[0mgetNumPartitions\u001b[0m\u001b[0;34m(\u001b[0m\u001b[0;34m)\u001b[0m\u001b[0;34m\u001b[0m\u001b[0;34m\u001b[0m\u001b[0m\n\u001b[0m\u001b[1;32m   2349\u001b[0m \u001b[0;34m\u001b[0m\u001b[0m\n\u001b[1;32m   2350\u001b[0m     \u001b[0;32mdef\u001b[0m \u001b[0mlookup\u001b[0m\u001b[0;34m(\u001b[0m\u001b[0mself\u001b[0m\u001b[0;34m,\u001b[0m \u001b[0mkey\u001b[0m\u001b[0;34m)\u001b[0m\u001b[0;34m:\u001b[0m\u001b[0;34m\u001b[0m\u001b[0;34m\u001b[0m\u001b[0m\n",
      "\u001b[0;32m/opt/spark/python/pyspark/rdd.py\u001b[0m in \u001b[0;36mgetNumPartitions\u001b[0;34m(self)\u001b[0m\n\u001b[1;32m   2612\u001b[0m \u001b[0;34m\u001b[0m\u001b[0m\n\u001b[1;32m   2613\u001b[0m     \u001b[0;32mdef\u001b[0m \u001b[0mgetNumPartitions\u001b[0m\u001b[0;34m(\u001b[0m\u001b[0mself\u001b[0m\u001b[0;34m)\u001b[0m\u001b[0;34m:\u001b[0m\u001b[0;34m\u001b[0m\u001b[0;34m\u001b[0m\u001b[0m\n\u001b[0;32m-> 2614\u001b[0;31m         \u001b[0;32mreturn\u001b[0m \u001b[0mself\u001b[0m\u001b[0;34m.\u001b[0m\u001b[0m_prev_jrdd\u001b[0m\u001b[0;34m.\u001b[0m\u001b[0mpartitions\u001b[0m\u001b[0;34m(\u001b[0m\u001b[0;34m)\u001b[0m\u001b[0;34m.\u001b[0m\u001b[0msize\u001b[0m\u001b[0;34m(\u001b[0m\u001b[0;34m)\u001b[0m\u001b[0;34m\u001b[0m\u001b[0;34m\u001b[0m\u001b[0m\n\u001b[0m\u001b[1;32m   2615\u001b[0m \u001b[0;34m\u001b[0m\u001b[0m\n\u001b[1;32m   2616\u001b[0m     \u001b[0;34m@\u001b[0m\u001b[0mproperty\u001b[0m\u001b[0;34m\u001b[0m\u001b[0;34m\u001b[0m\u001b[0m\n",
      "\u001b[0;32m/opt/spark/python/lib/py4j-0.10.9-src.zip/py4j/java_gateway.py\u001b[0m in \u001b[0;36m__call__\u001b[0;34m(self, *args)\u001b[0m\n\u001b[1;32m   1303\u001b[0m         \u001b[0manswer\u001b[0m \u001b[0;34m=\u001b[0m \u001b[0mself\u001b[0m\u001b[0;34m.\u001b[0m\u001b[0mgateway_client\u001b[0m\u001b[0;34m.\u001b[0m\u001b[0msend_command\u001b[0m\u001b[0;34m(\u001b[0m\u001b[0mcommand\u001b[0m\u001b[0;34m)\u001b[0m\u001b[0;34m\u001b[0m\u001b[0;34m\u001b[0m\u001b[0m\n\u001b[1;32m   1304\u001b[0m         return_value = get_return_value(\n\u001b[0;32m-> 1305\u001b[0;31m             answer, self.gateway_client, self.target_id, self.name)\n\u001b[0m\u001b[1;32m   1306\u001b[0m \u001b[0;34m\u001b[0m\u001b[0m\n\u001b[1;32m   1307\u001b[0m         \u001b[0;32mfor\u001b[0m \u001b[0mtemp_arg\u001b[0m \u001b[0;32min\u001b[0m \u001b[0mtemp_args\u001b[0m\u001b[0;34m:\u001b[0m\u001b[0;34m\u001b[0m\u001b[0;34m\u001b[0m\u001b[0m\n",
      "\u001b[0;32m/opt/spark/python/lib/py4j-0.10.9-src.zip/py4j/protocol.py\u001b[0m in \u001b[0;36mget_return_value\u001b[0;34m(answer, gateway_client, target_id, name)\u001b[0m\n\u001b[1;32m    326\u001b[0m                 raise Py4JJavaError(\n\u001b[1;32m    327\u001b[0m                     \u001b[0;34m\"An error occurred while calling {0}{1}{2}.\\n\"\u001b[0m\u001b[0;34m.\u001b[0m\u001b[0;34m\u001b[0m\u001b[0;34m\u001b[0m\u001b[0m\n\u001b[0;32m--> 328\u001b[0;31m                     format(target_id, \".\", name), value)\n\u001b[0m\u001b[1;32m    329\u001b[0m             \u001b[0;32melse\u001b[0m\u001b[0;34m:\u001b[0m\u001b[0;34m\u001b[0m\u001b[0;34m\u001b[0m\u001b[0m\n\u001b[1;32m    330\u001b[0m                 raise Py4JError(\n",
      "\u001b[0;31mPy4JJavaError\u001b[0m: An error occurred while calling o65.partitions.\n: org.apache.hadoop.mapred.InvalidInputException: Input path does not exist: file:/opt/spark/data/wordcount.txt\n\tat org.apache.hadoop.mapred.FileInputFormat.singleThreadedListStatus(FileInputFormat.java:287)\n\tat org.apache.hadoop.mapred.FileInputFormat.listStatus(FileInputFormat.java:229)\n\tat org.apache.hadoop.mapred.FileInputFormat.getSplits(FileInputFormat.java:315)\n\tat org.apache.spark.rdd.HadoopRDD.getPartitions(HadoopRDD.scala:205)\n\tat org.apache.spark.rdd.RDD.$anonfun$partitions$2(RDD.scala:276)\n\tat scala.Option.getOrElse(Option.scala:189)\n\tat org.apache.spark.rdd.RDD.partitions(RDD.scala:272)\n\tat org.apache.spark.rdd.MapPartitionsRDD.getPartitions(MapPartitionsRDD.scala:49)\n\tat org.apache.spark.rdd.RDD.$anonfun$partitions$2(RDD.scala:276)\n\tat scala.Option.getOrElse(Option.scala:189)\n\tat org.apache.spark.rdd.RDD.partitions(RDD.scala:272)\n\tat org.apache.spark.api.java.JavaRDDLike.partitions(JavaRDDLike.scala:61)\n\tat org.apache.spark.api.java.JavaRDDLike.partitions$(JavaRDDLike.scala:61)\n\tat org.apache.spark.api.java.AbstractJavaRDDLike.partitions(JavaRDDLike.scala:45)\n\tat java.base/jdk.internal.reflect.NativeMethodAccessorImpl.invoke0(Native Method)\n\tat java.base/jdk.internal.reflect.NativeMethodAccessorImpl.invoke(NativeMethodAccessorImpl.java:62)\n\tat java.base/jdk.internal.reflect.DelegatingMethodAccessorImpl.invoke(DelegatingMethodAccessorImpl.java:43)\n\tat java.base/java.lang.reflect.Method.invoke(Method.java:566)\n\tat py4j.reflection.MethodInvoker.invoke(MethodInvoker.java:244)\n\tat py4j.reflection.ReflectionEngine.invoke(ReflectionEngine.java:357)\n\tat py4j.Gateway.invoke(Gateway.java:282)\n\tat py4j.commands.AbstractCommand.invokeMethod(AbstractCommand.java:132)\n\tat py4j.commands.CallCommand.execute(CallCommand.java:79)\n\tat py4j.GatewayConnection.run(GatewayConnection.java:238)\n\tat java.base/java.lang.Thread.run(Thread.java:834)\n"
     ]
    }
   ],
   "source": [
    "start_time = time.time()\n",
    "text_file = sc.textFile(\"/opt/spark/data/wordcount.txt\")\n",
    "counts = text_file.flatMap(lambda line: line.split(\" \")) \\\n",
    "             .map(lambda word: (word, 1)) \\\n",
    "             .reduceByKey(lambda a, b: a + b)\n",
    "output = counts.collect()\n",
    "print(output)\n",
    "print(\"--- %s seconds ---\" % (time.time() - start_time))    "
   ]
  },
  {
   "cell_type": "markdown",
   "metadata": {},
   "source": [
    "2. Consider two 10*10 matrix and perform Matrix Multiplication using Hadoop Mapreduce and Pyspark. (Note: matrix elements can be randomly populated)\n"
   ]
  },
  {
   "cell_type": "code",
   "execution_count": null,
   "metadata": {},
   "outputs": [],
   "source": []
  },
  {
   "cell_type": "markdown",
   "metadata": {},
   "source": [
    "3. Randomly populate 1000 numbers and calculate mean, variance, standard deviation for the generated data.\n"
   ]
  },
  {
   "cell_type": "code",
   "execution_count": null,
   "metadata": {},
   "outputs": [],
   "source": []
  },
  {
   "cell_type": "markdown",
   "metadata": {},
   "source": [
    "4. Compute correlation between the given two series using Pearson’s and Spearman’s Method. (Use the Spark MLlib libraries and helper functions available)\n",
    "    * Series A: 35, 23, 47, 17, 10, 43, 9, 6, 28\n",
    "    * Series B: 30, 33, 45, 23, 8, 49, 12, 4, 31\n"
   ]
  },
  {
   "cell_type": "code",
   "execution_count": null,
   "metadata": {},
   "outputs": [],
   "source": []
  },
  {
   "cell_type": "markdown",
   "metadata": {},
   "source": [
    "5. Remove Stop words from the ‘sentence’ column given in the “StopWordRemoval_input” document.\n"
   ]
  },
  {
   "cell_type": "code",
   "execution_count": null,
   "metadata": {},
   "outputs": [],
   "source": []
  },
  {
   "cell_type": "markdown",
   "metadata": {},
   "source": [
    "6. In the given input file, binarize the column ‘E’ (fifth column). Set the threshold as 2.5\n"
   ]
  },
  {
   "cell_type": "code",
   "execution_count": null,
   "metadata": {},
   "outputs": [],
   "source": [
    "7. a. Randomly generate 10k numbers and apply the following functions on the generated random numbers. Also, develop an equivalent conventional program (without spark RDDs) and compare the time taken by the two versions.\n",
    "Exponential Function, f1(x)=e x\n",
    "Logarithmic Function, f2(x)=log(x)\n",
    "Square root Function, f3(x)= √x\n",
    "Square function, f(4)=x 2\n",
    "7. b. Extension to the previous question: Instead of printing transformed values for all 10k words, print transformed values of the first 100 numbers only. Also, develop an equivalent conventional program (without spark RDDs) and compare the time taken by the two versions."
   ]
  }
 ],
 "metadata": {
  "kernelspec": {
   "display_name": "Python 3",
   "language": "python",
   "name": "python3"
  },
  "language_info": {
   "codemirror_mode": {
    "name": "ipython",
    "version": 3
   },
   "file_extension": ".py",
   "mimetype": "text/x-python",
   "name": "python",
   "nbconvert_exporter": "python",
   "pygments_lexer": "ipython3",
   "version": "3.7.6"
  }
 },
 "nbformat": 4,
 "nbformat_minor": 4
}
