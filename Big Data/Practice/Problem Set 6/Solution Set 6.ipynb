{
 "cells": [
  {
   "cell_type": "markdown",
   "metadata": {},
   "source": [
    "# Solution Set 6"
   ]
  },
  {
   "cell_type": "markdown",
   "metadata": {},
   "source": [
    "## 1. a\n",
    "Test drive / Implement A Close , Pincer Search algorithm for CFI and MFI mining and LFI mining algorithm. To the extent possible add features that depict the trace or working of each of the algorithms for user-controlled parameters such as Support, Confidence etc."
   ]
  },
  {
   "cell_type": "code",
   "execution_count": 1,
   "metadata": {},
   "outputs": [],
   "source": [
    "\"\"\" A-Close: Closed Frequent Itemsets Mining Algorithm \"\"\"\n",
    "\n",
    "from itertools import combinations"
   ]
  },
  {
   "cell_type": "code",
   "execution_count": 2,
   "metadata": {},
   "outputs": [],
   "source": [
    "def generateCandidateItemsets(level_k, level_frequent_itemsets):\n",
    "        \"\"\" Generate and prune the candidate itemsets for next level using the frequent itemsets of the current level\n",
    "        Parameters\n",
    "        ----------\n",
    "        level_k : int\n",
    "                The current level number\n",
    "        level_frequent_itemsets : list of lists\n",
    "                The list of frequent itemsets of current level\n",
    "        Returns\n",
    "        -------\n",
    "        list of lists\n",
    "                The candidate itemsets of the next level\n",
    "        \"\"\"\n",
    "\n",
    "        n_frequent_itemsets = len(level_frequent_itemsets)\n",
    "\n",
    "        candidate_frequent_itemsets = []\n",
    "\n",
    "        for i in range(n_frequent_itemsets):\n",
    "                j = i + 1\n",
    "                while (j < n_frequent_itemsets) and (level_frequent_itemsets[i][:level_k - 1] == level_frequent_itemsets[j][:level_k - 1]):\n",
    "\n",
    "                        candidate_itemset = level_frequent_itemsets[i][:level_k - 1] + [level_frequent_itemsets[i][level_k - 1]] + [level_frequent_itemsets[j][level_k - 1]]\n",
    "                        candidate_itemset_pass = False\n",
    "\n",
    "                        if level_k == 1:\n",
    "                                candidate_itemset_pass = True\n",
    "\n",
    "                        elif (level_k == 2) and (candidate_itemset[-2:] in level_frequent_itemsets):\n",
    "                                candidate_itemset_pass = True\n",
    "\n",
    "                        elif all((list(_)+candidate_itemset[-2:]) in level_frequent_itemsets for _ in combinations(candidate_itemset[:-2], level_k - 2)):\n",
    "                                candidate_itemset_pass = True\n",
    "\n",
    "                        if candidate_itemset_pass:\n",
    "                                candidate_frequent_itemsets.append(candidate_itemset)\n",
    "\n",
    "                        j += 1\n",
    "\n",
    "        return candidate_frequent_itemsets"
   ]
  },
  {
   "cell_type": "code",
   "execution_count": 3,
   "metadata": {},
   "outputs": [],
   "source": [
    "def generateClosures(transactions, generators):\n",
    "        \"\"\" Generate the closures of the generators\n",
    "        transactions : list of sets\n",
    "                The list of transactions\n",
    "        generators : lists of lists\n",
    "                The list of generator itemsets whose closures need to be computed\n",
    "        Returns\n",
    "        -------\n",
    "        list of sets\n",
    "                The list of closures mapped from the generators\n",
    "        \"\"\"\n",
    "\n",
    "        # The indices of transactions where generators occur\n",
    "        generators_trans_indices = [[] for _ in range(len(generators))]\n",
    "\n",
    "        for trans_index, transaction in enumerate(transactions):\n",
    "                for generator_index, generator in enumerate(generators):\n",
    "                        if all(_item in transaction for _item in generator):\n",
    "                                generators_trans_indices[generator_index].append(trans_index)\n",
    "\n",
    "        generators_closures = []\n",
    "        for generator_trans_indices in generators_trans_indices:\n",
    "\n",
    "                if generator_trans_indices:\n",
    "                        closure = transactions[generator_trans_indices[0]].copy()\n",
    "\n",
    "                else:\n",
    "                        closure = set()\n",
    "\n",
    "                for trans_index in generator_trans_indices[1:]:\n",
    "                        closure.intersection_update(transactions[trans_index])\n",
    "                generators_closures.append(closure)\n",
    "\n",
    "        return generators_closures"
   ]
  },
  {
   "cell_type": "code",
   "execution_count": 4,
   "metadata": {},
   "outputs": [],
   "source": [
    "def AClose(transactions, min_support):\n",
    "        \"\"\" Extract the closed frequent itemsets from the transactions\n",
    "        Returns the closed closed frequent itemsets mined from the transactions that have a support greater than the minimum\n",
    "        threshold. There is one optional output in addition to the closed frequent itemsets: The support counts of the\n",
    "        closed frequent itemsets mined.\n",
    "        Parameters\n",
    "        ----------\n",
    "        transactions : list of sets\n",
    "                The list of transactions\n",
    "        min_support : int\n",
    "                The minimum support threshold\n",
    "        return_support_counts : bool, optional\n",
    "                If true, also return the support count of each itemset\n",
    "        Returns\n",
    "        -------\n",
    "        closed_frequent_itemsets : list of sets\n",
    "                closed frequent itemsets mined from the transactions that have support greater than the minimum threshold\n",
    "        support_counts : list of integers, optional\n",
    "                The support count of the closed frequent itemsets mined. Only provided if `return_support_counts` is True.\n",
    "        \"\"\"\n",
    "\n",
    "        items = set()\n",
    "        for transaction in transactions:\n",
    "                items.update(transaction)\n",
    "        items = sorted(list(items))\n",
    "\n",
    "        # The list of all generator from whose closure we can derive all CFIs\n",
    "        generators = []\n",
    "\n",
    "        level_k = 1\n",
    "\n",
    "        prev_level_freq_itemsets_cnts = [] # Level 0: Frequent Itemsets and its support counts\n",
    "        candidate_frequent_itemsets = [[item] for item in items] # Level 1: Candidate Itemsets\n",
    "\n",
    "        # candidate_frequent_itemsets will be empty from as the ne\n",
    "        while candidate_frequent_itemsets:\n",
    "\n",
    "                print(\"LEVEL {}:\".format(level_k))\n",
    "\n",
    "                # Count the support of all candidate frequent itemsets\n",
    "                candidate_freq_itemsets_cnts = [0]*len(candidate_frequent_itemsets)\n",
    "\n",
    "                for transaction in transactions:\n",
    "                        for i, itemset in enumerate(candidate_frequent_itemsets):\n",
    "                                if all(_item in transaction for _item in itemset):\n",
    "                                        candidate_freq_itemsets_cnts[i] += 1\n",
    "\n",
    "                # print Candidate Itemset for current level\n",
    "                print(\"C{}: \".format(level_k), end='')\n",
    "                for itemset, support in zip(candidate_frequent_itemsets, candidate_freq_itemsets_cnts):\n",
    "                        print(\"{} -> {}\".format(itemset, support), end=', ')\n",
    "                print()\n",
    "\n",
    "                # Generate the frequent itemsets of level k by pruning infrequent itemsets\n",
    "                level_frequent_itemsets_cnts = [(itemset,support) for itemset, support in zip(candidate_frequent_itemsets, candidate_freq_itemsets_cnts) if support >= min_support]\n",
    "\n",
    "                # print Frequent Itemset for current level\n",
    "                print(\"L{}: \".format(level_k), end='')\n",
    "                for itemset, support in level_frequent_itemsets_cnts:\n",
    "                        print(\"{} -> {}\".format(itemset, support), end=', ')\n",
    "                print()\n",
    "\n",
    "                # Prune the frequent itemsets of level k which have same support as some frequent subset in level k-1\n",
    "                print(\"Itemsets Pruned from L{}: \".format(level_k), end='')\n",
    "                for level_freq_itemset, level_freq_itemset_sup in level_frequent_itemsets_cnts.copy():\n",
    "                        for prev_level_freq_itemset, prev_level_freq_itemset_sup in prev_level_freq_itemsets_cnts:\n",
    "\n",
    "                                # If the previous level itemset is a subset of current level itemset and both have same support\n",
    "                                if all(_item in level_freq_itemset for _item in prev_level_freq_itemset) and prev_level_freq_itemset_sup == level_freq_itemset_sup:\n",
    "                                        print(level_freq_itemset, end=', ')\n",
    "                                        level_frequent_itemsets_cnts.remove((level_freq_itemset, level_freq_itemset_sup))\n",
    "                                        break\n",
    "                print()\n",
    "\n",
    "                # print Frequent Itemset after closure removal\n",
    "                print(\"L{} After Pruning: \".format(level_k), end='')\n",
    "                for itemset, support in level_frequent_itemsets_cnts:\n",
    "                        print(\"{} -> {}\".format(itemset, support), end=', ')\n",
    "                print()\n",
    "\n",
    "                # Generate candidate sets of level k+1 using frequent itemsets of level k\n",
    "                level_frequent_itemsets = [itemset for itemset,support in level_frequent_itemsets_cnts]\n",
    "                candidate_frequent_itemsets = generateCandidateItemsets(level_k, level_frequent_itemsets)\n",
    "                generators.extend(level_frequent_itemsets)\n",
    "\n",
    "                level_k += 1\n",
    "\n",
    "                prev_level_freq_itemsets_cnts = level_frequent_itemsets_cnts\n",
    "                print()\n",
    "\n",
    "        # Generate the closure of the generators\n",
    "        generators_closures = generateClosures(transactions, generators)\n",
    "\n",
    "        closed_frequent_itemsets = []\n",
    "\n",
    "        # Remove the duplicates from the list of closures\n",
    "        for generator_closure in generators_closures:\n",
    "                if generator_closure not in closed_frequent_itemsets:\n",
    "                        closed_frequent_itemsets.append(generator_closure)\n",
    "\n",
    "        # Generate count of cfi's\n",
    "        closed_frequent_itemsets_cnts = [0]*len(closed_frequent_itemsets)\n",
    "        for transaction in transactions:\n",
    "                for i, itemset in enumerate(closed_frequent_itemsets):\n",
    "                        if all(_item in transaction for _item in itemset):\n",
    "                            closed_frequent_itemsets_cnts[i] += 1\n",
    "        return closed_frequent_itemsets, closed_frequent_itemsets_cnts"
   ]
  },
  {
   "cell_type": "code",
   "execution_count": 5,
   "metadata": {},
   "outputs": [],
   "source": [
    "\"\"\" Pincer Search: An algorithm for Maximal Frequent Itemset (MFI) mining\n",
    "References:\n",
    "    1. Data Mining\n",
    "        - Arjun K Pujari\n",
    "    2. Pincer Search: A New Algorithm for Discovering the Maximum Frequent Set\n",
    "        - Dao-I-Lin, Zvi M. Kedem\n",
    "\"\"\"\n",
    "\n",
    "from itertools import combinations"
   ]
  },
  {
   "cell_type": "code",
   "execution_count": 6,
   "metadata": {},
   "outputs": [],
   "source": [
    "def generateMFCS(MFCS, infrequent_itemsets):\n",
    "    \"\"\" Generate the updated MFCS by modifing itemsets that have infrequent itemsets as its subset\n",
    "    Parameters\n",
    "    ----------\n",
    "    MFCS : list of lists\n",
    "        The list of Maximal Frequent Candidate Sets\n",
    "    infrequent_itemsets : list of lists\n",
    "        The list of infrequent itemsets\n",
    "    Returns\n",
    "    -------\n",
    "    lists of lists\n",
    "        Updated MFCS\n",
    "    \"\"\"\n",
    "\n",
    "    MFCS = MFCS.copy()\n",
    "\n",
    "    for infrequent_itemset in infrequent_itemsets:\n",
    "\n",
    "        for MFCS_itemset in MFCS.copy():\n",
    "\n",
    "            # If infrequent itemset is a subset of MFCS itemset\n",
    "            if all(_item in MFCS_itemset for _item in infrequent_itemset):\n",
    "                MFCS.remove(MFCS_itemset)\n",
    "\n",
    "                for item in infrequent_itemset:\n",
    "                    updated_MFCS_itemset = MFCS_itemset.copy()\n",
    "                    updated_MFCS_itemset.remove(item)\n",
    "\n",
    "                    if not any(all(_item in _MFCS_itemset for _item in updated_MFCS_itemset) for _MFCS_itemset in MFCS):\n",
    "                        MFCS.append(updated_MFCS_itemset)\n",
    "\n",
    "    return MFCS"
   ]
  },
  {
   "cell_type": "code",
   "execution_count": 7,
   "metadata": {},
   "outputs": [],
   "source": [
    "def pruneCandidatesUsingMFS(candidate_itemsets, MFS):\n",
    "    \"\"\" Prune the candidate itemsets that are subsets of MFS itemsets\n",
    "    Parameters\n",
    "    ----------\n",
    "    candidate_itemsets : lists of lists\n",
    "        The list of candidate itemsets\n",
    "    MFS : lists of lists\n",
    "        The list of Maximal Frequent Itemsets\n",
    "    Returns\n",
    "    -------\n",
    "    lists of lists\n",
    "        The list of candidate itemsets with are not subsets of any itemset in MFS\n",
    "    \"\"\"\n",
    "\n",
    "    candidate_itemsets = candidate_itemsets.copy()\n",
    "\n",
    "    for itemset in candidate_itemsets.copy():\n",
    "        if any(all(_item in _MFS_itemset for _item in itemset) for _MFS_itemset in MFS):\n",
    "            candidate_itemsets.remove(itemset)\n",
    "\n",
    "    return candidate_itemsets"
   ]
  },
  {
   "cell_type": "code",
   "execution_count": 8,
   "metadata": {},
   "outputs": [],
   "source": [
    "def generateCandidateItemsets(level_k, level_frequent_itemsets):\n",
    "    \"\"\" Generate and prune the candidate itemsets for next level using the frequent itemsets of the current level \n",
    "\n",
    "    Parameters\n",
    "    ----------\n",
    "    level_k : int\n",
    "        The current level number\n",
    "    level_frequent_itemsets : list of lists\n",
    "        The list of frequent itemsets of current level\n",
    "    Returns\n",
    "    -------\n",
    "    list of lists\n",
    "        The candidate itemsets of the next level\n",
    "    \"\"\"\n",
    "\n",
    "    n_frequent_itemsets = len(level_frequent_itemsets)\n",
    "\n",
    "    candidate_frequent_itemsets = []\n",
    "\n",
    "    for i in range(n_frequent_itemsets):\n",
    "        j = i+1\n",
    "        while (j<n_frequent_itemsets) and (level_frequent_itemsets[i][:level_k-1] == level_frequent_itemsets[j][:level_k-1]):\n",
    "\n",
    "            candidate_itemset = level_frequent_itemsets[i][:level_k-1] + [level_frequent_itemsets[i][level_k-1]] + [level_frequent_itemsets[j][level_k-1]]\n",
    "            candidate_itemset_pass = False\n",
    "\n",
    "            if level_k == 1:\n",
    "                candidate_itemset_pass = True\n",
    "\n",
    "            elif (level_k == 2) and (candidate_itemset[-2:] in level_frequent_itemsets):\n",
    "                candidate_itemset_pass = True\n",
    "\n",
    "            elif all((list(_)+candidate_itemset[-2:]) in level_frequent_itemsets for _ in combinations(candidate_itemset[:-2], level_k-2)):\n",
    "                candidate_itemset_pass = True\n",
    "\n",
    "            if candidate_itemset_pass:\n",
    "                candidate_frequent_itemsets.append(candidate_itemset)\n",
    "\n",
    "            j += 1\n",
    "\n",
    "    return candidate_frequent_itemsets"
   ]
  },
  {
   "cell_type": "code",
   "execution_count": 9,
   "metadata": {},
   "outputs": [],
   "source": [
    "def pruneCandidatesUsingMFCS(candidate_itemsets, MFCS):\n",
    "    \"\"\" Prune the candidate itemsets that are not subsets of any itemsets in current MFCS \n",
    "    Parameters\n",
    "    ----------\n",
    "    candidate_itemsets : lists of lists\n",
    "        The list of candidate itemsets\n",
    "    MFCS : lists of lists\n",
    "        The list of Maximal Frequent Candidate Itemsets\n",
    "    Returns\n",
    "    -------\n",
    "    lists of lists\n",
    "        The list of candidate itemsets that are subsets of some itemsets in current MFCS \n",
    "    \"\"\"\n",
    "\n",
    "    candidate_itemsets = candidate_itemsets.copy()\n",
    "\n",
    "    for itemset in candidate_itemsets.copy():\n",
    "        if not any(all(_item in _MFCS_itemset for _item in itemset) for _MFCS_itemset in MFCS):\n",
    "            candidate_itemsets.remove(itemset)\n",
    "\n",
    "    return candidate_itemsets"
   ]
  },
  {
   "cell_type": "code",
   "execution_count": 10,
   "metadata": {},
   "outputs": [],
   "source": [
    "def pincerSearch(transactions, min_support):\n",
    "    \"\"\" Extract the Maximal Frequent Itemsets (MFI) from the transactions \n",
    "\n",
    "    Parameters\n",
    "    ----------\n",
    "    transactions : a list of sets\n",
    "        The list of transactions\n",
    "    min_support : int\n",
    "        The minimum support for an itemset to be considered frequent\n",
    "    Returns\n",
    "    -------\n",
    "    list of lists\n",
    "        The list of MFS which contains all maximal frequent itemsets\n",
    "    \"\"\"\n",
    "\n",
    "    # Extract the list of items in the transactions\n",
    "    items = set()\n",
    "    for transaction in transactions:\n",
    "        items.update(transaction)\n",
    "    items = sorted(list(items))\n",
    "\n",
    "    level_k = 1 # The current level number\n",
    "\n",
    "    level_frequent_itemsets = [] # Level 0: Frequent itemsets\n",
    "    candidate_frequent_itemsets = [[item] for item in items] # Level 1: Candidate itemsets\n",
    "    level_infrequent_itemsets = [] # Level 0: Infrequent itemsets\n",
    "\n",
    "    MFCS = [items.copy()] # Maximal Frequent Candidate Sets\n",
    "    MFS = [] # Maximal Frequent Sets\n",
    "\n",
    "    print(\"MFCS = {}\".format(MFCS))\n",
    "    print(\"MFS = {}\\n\".format(MFS))\n",
    "\n",
    "    while candidate_frequent_itemsets:\n",
    "\n",
    "        print(\"LEVEL {}: \".format(level_k))\n",
    "        print(\"C{} = {}\".format(level_k, candidate_frequent_itemsets))\n",
    "\n",
    "        candidate_freq_itemsets_cnts = [0]*len(candidate_frequent_itemsets)\n",
    "        MFCS_itemsets_cnts = [0]*len(MFCS)\n",
    "\n",
    "        # Step 1: Read the database and count supports for Ck and MFCS\n",
    "        for transaction in transactions:\n",
    "\n",
    "            for i, itemset in enumerate(candidate_frequent_itemsets):\n",
    "                if all(_item in transaction for _item in itemset):\n",
    "                    candidate_freq_itemsets_cnts[i] += 1\n",
    "\n",
    "            for i, itemset in enumerate(MFCS):\n",
    "                if all(_item in transaction for _item in itemset):\n",
    "                    MFCS_itemsets_cnts[i] += 1\n",
    "\n",
    "        for itemset, support in zip(candidate_frequent_itemsets, candidate_freq_itemsets_cnts):\n",
    "            print(\"{} -> {}\".format(itemset, support), end=', ')\n",
    "        print()\n",
    "\n",
    "        for itemset, support in zip(MFCS, MFCS_itemsets_cnts):\n",
    "            print(\"{} -> {}\".format(itemset, support), end=', ')\n",
    "        print()\n",
    "\n",
    "        # Step 2: MFS := MFS U {frequent itemsets in MFCS}\n",
    "        MFS.extend([itemset for itemset, support in zip(MFCS, MFCS_itemsets_cnts) if ((support >= min_support) and (itemset not in MFS))])\n",
    "        print(\"MFS = {}\".format(MFS))\n",
    "\n",
    "        # Step 3: Sk := {infrequent itemsets in Ck}\n",
    "        level_frequent_itemsets = [itemset for itemset, support in zip(candidate_frequent_itemsets, candidate_freq_itemsets_cnts) if support >= min_support]\n",
    "        level_infrequent_itemsets = [itemset for itemset, support in zip(candidate_frequent_itemsets, candidate_freq_itemsets_cnts) if support < min_support]\n",
    "\n",
    "        print(\"L{} = {}\".format(level_k, level_frequent_itemsets))\n",
    "        print(\"S{} = {}\".format(level_k, level_infrequent_itemsets))\n",
    "\n",
    "        # Step 4: call MFCS-gen algorithm if Sk != NULL\n",
    "        MFCS = generateMFCS(MFCS, level_infrequent_itemsets)\n",
    "        print(\"MFCS = {}\".format(MFCS))\n",
    "\n",
    "        # Step 5: call MFS-pruning procedure\n",
    "        level_frequent_itemsets = pruneCandidatesUsingMFS(level_frequent_itemsets, MFS)\n",
    "        print(\"After Pruning: L{} = {}\\n\".format(level_k, level_frequent_itemsets))\n",
    "\n",
    "        # Step 6: Generate candidates Ck+1 from Ck (using generate and prune)\n",
    "        candidate_frequent_itemsets = generateCandidateItemsets(level_k, level_frequent_itemsets)\n",
    "\n",
    "        # Step 7: If any frequents itemsets in Ck is removed in MFS-pruning procedure\n",
    "        # Call the recovery procedure to recover candidates to Ck+1\n",
    "\n",
    "        # Step 8: call MFCS-prune procedure to prune candidates in Ck+1\n",
    "        candidate_frequent_itemsets = pruneCandidatesUsingMFCS(candidate_frequent_itemsets, MFCS)\n",
    "\n",
    "        # Step 9: k := k+1\n",
    "        level_k += 1\n",
    "\n",
    "    return MFS"
   ]
  },
  {
   "cell_type": "markdown",
   "metadata": {},
   "source": [
    "## 1. b\n",
    "Test drive or implement any one algorithm each for CFI, MFI which has not been discussed in the class (Other than A-close and Pincer). You are free to use any open-source available versions (eg. FIMI website etc.)"
   ]
  },
  {
   "cell_type": "code",
   "execution_count": 11,
   "metadata": {},
   "outputs": [],
   "source": [
    "import numpy as np\n",
    "import itertools \n",
    "import copy"
   ]
  },
  {
   "cell_type": "code",
   "execution_count": 12,
   "metadata": {},
   "outputs": [],
   "source": [
    "def CHARM(item, Data, min_sup):\n",
    "    nodes = []\n",
    "    CFI = []\n",
    "    t = set()\n",
    "    for i in range(len(item)):\n",
    "        t = set()\n",
    "        for j in range(len(Data)):\n",
    "            if Data[j][i]==1:\n",
    "                t = t.union({j})\n",
    "        if len(t)>=min_sup:\n",
    "            nodes.append([{item[i]},t])\n",
    "    nodes.sort(key = lambda x: len(x[1]))\n",
    "    CHARM_EXTEND(nodes, CFI, min_sup)\n",
    "    return(CFI)"
   ]
  },
  {
   "cell_type": "code",
   "execution_count": 13,
   "metadata": {},
   "outputs": [],
   "source": [
    "def CHARM_EXTEND(nodes, CFI, min_sup):\n",
    "    for item in nodes:\n",
    "        new_nodes = []\n",
    "        X = item\n",
    "        for item_ in nodes: \n",
    "            if len(item[1]) > len(item_[1]) :\n",
    "                X = [item[0].union(item_[0]), item[1].intersection(item_[1])]\n",
    "                CHARM_PROPERTY(nodes, new_nodes, X, item, item_, min_sup)\n",
    "        if new_nodes != []:\n",
    "            new_nodes.sort(key = lambda x: len(x[1])) \n",
    "            CHARM_EXTEND(new_nodes, CFI, min_sup)\n",
    "        if X not in CFI :\n",
    "            CFI.append(X)\n",
    "    return(CFI)"
   ]
  },
  {
   "cell_type": "code",
   "execution_count": 14,
   "metadata": {},
   "outputs": [],
   "source": [
    "def CHARM_PROPERTY(nodes, new_nodes, X, item, item_, min_sup):\n",
    "    if len(X[1]) >= min_sup:\n",
    "        if item[1] == item_[1]:\n",
    "            nodes.remove(item_)\n",
    "            for i in range(len(nodes)):\n",
    "                if nodes[i] == item:\n",
    "                    nodes[i] == X\n",
    "        elif item[1].issubset(item_[1]):\n",
    "            for i in range(len(nodes)):\n",
    "                if nodes[i] == item:\n",
    "                    nodes[i] == X\n",
    "        elif item_[1].issubset(item[1]):\n",
    "            nodes.remove(item_)\n",
    "            new_nodes.append(X)\n",
    "        elif item[1] != item_[1]:\n",
    "            new_nodes.append(X)"
   ]
  },
  {
   "cell_type": "code",
   "execution_count": 15,
   "metadata": {},
   "outputs": [],
   "source": [
    "\"\"\" MAFIA: A Maximal Frequent Itemset Algorithm\n",
    "Reference: \n",
    "    MAFIA: A Maximal Frequent Itemset Algorithm for Transactional Databases\n",
    "        - Doug Burdick, Manuel Calimlin, Johannes Gehrke (Department of CS, Cornell University)\n",
    "\"\"\"\n",
    "\n",
    "import numpy as np\n",
    "from functools import lru_cache"
   ]
  },
  {
   "cell_type": "code",
   "execution_count": 16,
   "metadata": {},
   "outputs": [],
   "source": [
    "class TransVerticalBitmaps:\n",
    "    \"\"\" Stores transactions as vertical bitmap of individual items and helps count itemset supports efficiently \n",
    "    Parameters\n",
    "    ----------\n",
    "    transactions : list of sets\n",
    "        The list of transactions\n",
    "    Attributes\n",
    "    ----------\n",
    "    transactions : list of sets\n",
    "        The list of transactions\n",
    "    n_transactions : int\n",
    "        The number of transactions\n",
    "    items : list\n",
    "        The list of all items in sorted order\n",
    "    items_vertical_bitmaps : dict\n",
    "        The dictionary of vertical bitmap representation of transactions indexed by item\n",
    "    \"\"\"\n",
    "\n",
    "    def __init__(self, transactions):\n",
    "\n",
    "        self.transactions = transactions\n",
    "        self.n_transactions = len(self.transactions)\n",
    "\n",
    "        # Extract the list of items in the transactions\n",
    "        items = set()\n",
    "        for transaction in self.transactions:\n",
    "            items.update(transaction)\n",
    "        self.items = sorted(items)\n",
    "\n",
    "        self.items_vertical_bitmaps = {item:np.zeros(shape=(self.n_transactions, ), dtype=np.bool) for item in self.items}\n",
    "\n",
    "        for i_transaction, transaction in enumerate(self.transactions):\n",
    "            for item in transaction:\n",
    "                self.items_vertical_bitmaps[item][i_transaction] = True\n",
    "\n",
    "\n",
    "    @lru_cache(maxsize = 32)\n",
    "    def compVerticalBitmap(self, itemset):\n",
    "        \"\"\" Compute the vertical bitmap of the given itemset\n",
    "\n",
    "        Parameters\n",
    "        ----------\n",
    "        itemset : tuple\n",
    "            The tuple of items (or itemset) for which support is to be counted\n",
    "        Returns\n",
    "        -------\n",
    "        np.array(bool)\n",
    "            Vertical bitmap of transactions in the which itemset is present\n",
    "        \"\"\"\n",
    "\n",
    "        if len(itemset) == 1:\n",
    "            item = itemset[0]\n",
    "            return self.items_vertical_bitmaps[item]\n",
    "\n",
    "        else:\n",
    "            last_item = itemset[-1]\n",
    "            return self.compVerticalBitmap(itemset[:-1])&self.items_vertical_bitmaps[last_item]\n",
    "\n",
    "\n",
    "    def countSupport(self, itemset):\n",
    "        \"\"\" Count the support of the itemset in the transactions \n",
    "        Parameters\n",
    "        ----------\n",
    "        itemset : tuple\n",
    "            The tuple of items for which support is to be counted\n",
    "        Returns\n",
    "        -------\n",
    "        int\n",
    "            The support count of the itemset in the transactions\n",
    "        \"\"\"\n",
    "\n",
    "        itemset_vertical_bitmap = self.compVerticalBitmap(itemset)\n",
    "        itemset_support_count = np.count_nonzero(itemset_vertical_bitmap)\n",
    "\n",
    "        return itemset_support_count"
   ]
  },
  {
   "cell_type": "code",
   "execution_count": 17,
   "metadata": {},
   "outputs": [],
   "source": [
    "class MafiaNode:\n",
    "    \"\"\" A node in the MAFIA candidate itemset tree \n",
    "\n",
    "    Parameters\n",
    "    ----------\n",
    "    head : set\n",
    "        The set of all items in head of the node\n",
    "    tail : tuple\n",
    "        The tuple of all items in tail of the node\n",
    "    support_count : int optional(default=None)\n",
    "        The support count of head of the node\n",
    "    Attributes\n",
    "    ----------\n",
    "    head : set\n",
    "        The set of all items in head of the node\n",
    "    tail : tuple\n",
    "        The tuple of all items in tail of the node\n",
    "    support_count : int\n",
    "        The support count of head of the node\n",
    "    Notes\n",
    "    -----\n",
    "        The :attr:`head` is of type tuple as opposed to set or list since it is passed to :meth:`compVerticalBitmap`\n",
    "        of :class:`transactions` that caches results and therefore requires the inputs to **hashable**.\n",
    "    \"\"\"\n",
    "\n",
    "    def __init__(self, head, tail, support_count=None):\n",
    "        self.head = head\n",
    "        self.tail = tail.copy()\n",
    "        self.support_count = support_count\n"
   ]
  },
  {
   "cell_type": "code",
   "execution_count": 18,
   "metadata": {},
   "outputs": [],
   "source": [
    "def _mafiaAlgorithm(current_node, MFIs, transactions, min_support_count):\n",
    "\n",
    "    # HUTMFI Pruning - Prune the subtree, if the HUT of the node has any superset in MFI\n",
    "    head_union_tail = current_node.head + tuple(current_node.tail)\n",
    "    if any(all(item in mfi for item in head_union_tail) for mfi in MFIs):\n",
    "        return\n",
    "\n",
    "    # Count the support of all children of the node\n",
    "    node_children_support_cnts = [( item ,transactions.countSupport(current_node.head + (item,)) ) for item in current_node.tail]\n",
    "    # Extract the frequent children of the node and their support counts\n",
    "    node_freq_children_sup_cnts = [(item, support_count) for item, support_count in node_children_support_cnts if support_count >= min_support_count]\n",
    "\n",
    "    node_children_items_parent_eq = [] # The items in tail with same support as parent\n",
    "    node_tail_items_sup_cnts = [] # The items in node's tail (except parent equivalence items) sorted by desc support\n",
    "\n",
    "    for item, support_count in node_freq_children_sup_cnts:\n",
    "        if support_count == current_node.support_count:\n",
    "            node_children_items_parent_eq.append(item)\n",
    "        else:\n",
    "            node_tail_items_sup_cnts.append((item, support_count))\n",
    "\n",
    "    # Sort the items in the trimmed tail by increasing support\n",
    "    node_tail_items_sup_cnts.sort(key=lambda x : x[1])\n",
    "    node_tail_items = [item for item, support in node_tail_items_sup_cnts]\n",
    "\n",
    "    current_node.head += tuple(node_children_items_parent_eq)\n",
    "    current_node.tail = node_tail_items\n",
    "\n",
    "    is_leaf = not bool(current_node.tail)\n",
    "\n",
    "    for i, item in enumerate(current_node.tail):\n",
    "        new_node_head = current_node.head + (item,)\n",
    "        new_node_tail = current_node.tail[i + 1:]\n",
    "        new_node_support_cnt = node_tail_items_sup_cnts[i][1]\n",
    "        new_node = MafiaNode(new_node_head, new_node_tail, new_node_support_cnt)\n",
    "\n",
    "        is_hut = (i == 0) # if i is the first element in the tail\n",
    "        _mafiaAlgorithm(new_node, MFIs, transactions, min_support_count)\n",
    "\n",
    "    # if current node is a leaf and no superset of current node head in MFIs\n",
    "    if is_leaf and current_node.head and not any(all(item in mfi for item in current_node.head) for mfi in MFIs):\n",
    "        MFIs.append(set(current_node.head))"
   ]
  },
  {
   "cell_type": "code",
   "execution_count": 19,
   "metadata": {},
   "outputs": [],
   "source": [
    "def mafiaAlgorithm(transactions, min_support_count):\n",
    "    \"\"\" Extract the MFIs (Maximal Frequent Itemsets) from transactions with min support count using MAFIA Algorithm\n",
    "    Parameters\n",
    "    ----------\n",
    "    transactions : list of sets\n",
    "        The list of transactions\n",
    "    min_support_count : int\n",
    "        The minimum support count threshold\n",
    "    Returns\n",
    "    -------\n",
    "    list of sets\n",
    "        The list of all maximal frequent itemsets\n",
    "    \"\"\"\n",
    "\n",
    "    transactions_vertical_bitmaps = TransVerticalBitmaps(transactions)\n",
    "    MFIs = []\n",
    "\n",
    "    # Create the root node of MAFIA candidate itemset tree\n",
    "    mafia_cand_itemset_root = MafiaNode(tuple(), transactions_vertical_bitmaps.items, transactions_vertical_bitmaps.n_transactions)\n",
    "\n",
    "    # Perform the MAFIA algorithm\n",
    "    _mafiaAlgorithm(mafia_cand_itemset_root, MFIs, transactions_vertical_bitmaps, min_support_count)\n",
    "    return MFIs"
   ]
  },
  {
   "cell_type": "code",
   "execution_count": 20,
   "metadata": {},
   "outputs": [],
   "source": [
    "transactions = [\n",
    "    {1, 5, 6, 8},\n",
    "    {2, 4, 8},\n",
    "    {4, 5, 7},\n",
    "    {2, 3},\n",
    "    {5, 6, 7},\n",
    "    {2, 3, 4},\n",
    "    {2, 6, 7, 9},\n",
    "    {5},\n",
    "    {8},\n",
    "    {3, 5, 7},\n",
    "    {3, 5, 7},\n",
    "    {5, 6, 8},\n",
    "    {2, 4, 6, 7},\n",
    "    {1, 3, 5, 7},\n",
    "    {2, 3, 9},\n",
    "]\n",
    "\n",
    "min_support_count = 3"
   ]
  },
  {
   "cell_type": "code",
   "execution_count": 21,
   "metadata": {},
   "outputs": [
    {
     "name": "stdout",
     "output_type": "stream",
     "text": [
      "MFCS = [[1, 2, 3, 4, 5, 6, 7, 8, 9]]\n",
      "MFS = []\n",
      "\n",
      "LEVEL 1: \n",
      "C1 = [[1], [2], [3], [4], [5], [6], [7], [8], [9]]\n",
      "[1] -> 2, [2] -> 6, [3] -> 6, [4] -> 4, [5] -> 8, [6] -> 5, [7] -> 7, [8] -> 4, [9] -> 2, \n",
      "[1, 2, 3, 4, 5, 6, 7, 8, 9] -> 0, \n",
      "MFS = []\n",
      "L1 = [[2], [3], [4], [5], [6], [7], [8]]\n",
      "S1 = [[1], [9]]\n",
      "MFCS = [[2, 3, 4, 5, 6, 7, 8]]\n",
      "After Pruning: L1 = [[2], [3], [4], [5], [6], [7], [8]]\n",
      "\n",
      "LEVEL 2: \n",
      "C2 = [[2, 3], [2, 4], [2, 5], [2, 6], [2, 7], [2, 8], [3, 4], [3, 5], [3, 6], [3, 7], [3, 8], [4, 5], [4, 6], [4, 7], [4, 8], [5, 6], [5, 7], [5, 8], [6, 7], [6, 8], [7, 8]]\n",
      "[2, 3] -> 3, [2, 4] -> 3, [2, 5] -> 0, [2, 6] -> 2, [2, 7] -> 2, [2, 8] -> 1, [3, 4] -> 1, [3, 5] -> 3, [3, 6] -> 0, [3, 7] -> 3, [3, 8] -> 0, [4, 5] -> 1, [4, 6] -> 1, [4, 7] -> 2, [4, 8] -> 1, [5, 6] -> 3, [5, 7] -> 5, [5, 8] -> 2, [6, 7] -> 3, [6, 8] -> 2, [7, 8] -> 0, \n",
      "[2, 3, 4, 5, 6, 7, 8] -> 0, \n",
      "MFS = []\n",
      "L2 = [[2, 3], [2, 4], [3, 5], [3, 7], [5, 6], [5, 7], [6, 7]]\n",
      "S2 = [[2, 5], [2, 6], [2, 7], [2, 8], [3, 4], [3, 6], [3, 8], [4, 5], [4, 6], [4, 7], [4, 8], [5, 8], [6, 8], [7, 8]]\n",
      "MFCS = [[2, 4], [2, 3], [3, 5, 7], [5, 6, 7], [8]]\n",
      "After Pruning: L2 = [[2, 3], [2, 4], [3, 5], [3, 7], [5, 6], [5, 7], [6, 7]]\n",
      "\n",
      "LEVEL 3: \n",
      "C3 = [[3, 5, 7], [5, 6, 7]]\n",
      "[3, 5, 7] -> 3, [5, 6, 7] -> 1, \n",
      "[2, 4] -> 3, [2, 3] -> 3, [3, 5, 7] -> 3, [5, 6, 7] -> 1, [8] -> 4, \n",
      "MFS = [[2, 4], [2, 3], [3, 5, 7], [8]]\n",
      "L3 = [[3, 5, 7]]\n",
      "S3 = [[5, 6, 7]]\n",
      "MFCS = [[2, 4], [2, 3], [3, 5, 7], [8], [6, 7], [5, 6]]\n",
      "After Pruning: L3 = []\n",
      "\n",
      "Maximal Frequent Set = [[2, 4], [2, 3], [3, 5, 7], [8]]\n"
     ]
    }
   ],
   "source": [
    "MFS = pincerSearch(transactions, min_support_count)\n",
    "print(\"Maximal Frequent Set = {}\".format(MFS))"
   ]
  },
  {
   "cell_type": "code",
   "execution_count": 22,
   "metadata": {},
   "outputs": [
    {
     "name": "stdout",
     "output_type": "stream",
     "text": [
      "LEVEL 1:\n",
      "C1: [1] -> 2, [2] -> 6, [3] -> 6, [4] -> 4, [5] -> 8, [6] -> 5, [7] -> 7, [8] -> 4, [9] -> 2, \n",
      "L1: [2] -> 6, [3] -> 6, [4] -> 4, [5] -> 8, [6] -> 5, [7] -> 7, [8] -> 4, \n",
      "Itemsets Pruned from L1: \n",
      "L1 After Pruning: [2] -> 6, [3] -> 6, [4] -> 4, [5] -> 8, [6] -> 5, [7] -> 7, [8] -> 4, \n",
      "\n",
      "LEVEL 2:\n",
      "C2: [2, 3] -> 3, [2, 4] -> 3, [2, 5] -> 0, [2, 6] -> 2, [2, 7] -> 2, [2, 8] -> 1, [3, 4] -> 1, [3, 5] -> 3, [3, 6] -> 0, [3, 7] -> 3, [3, 8] -> 0, [4, 5] -> 1, [4, 6] -> 1, [4, 7] -> 2, [4, 8] -> 1, [5, 6] -> 3, [5, 7] -> 5, [5, 8] -> 2, [6, 7] -> 3, [6, 8] -> 2, [7, 8] -> 0, \n",
      "L2: [2, 3] -> 3, [2, 4] -> 3, [3, 5] -> 3, [3, 7] -> 3, [5, 6] -> 3, [5, 7] -> 5, [6, 7] -> 3, \n",
      "Itemsets Pruned from L2: \n",
      "L2 After Pruning: [2, 3] -> 3, [2, 4] -> 3, [3, 5] -> 3, [3, 7] -> 3, [5, 6] -> 3, [5, 7] -> 5, [6, 7] -> 3, \n",
      "\n",
      "LEVEL 3:\n",
      "C3: [3, 5, 7] -> 3, [5, 6, 7] -> 1, \n",
      "L3: [3, 5, 7] -> 3, \n",
      "Itemsets Pruned from L3: [3, 5, 7], \n",
      "L3 After Pruning: \n",
      "\n",
      "Closed Frequent Itemsets (CFIs)\n",
      "-------------------------------\n",
      "Itemset: {2} Support count: 6\n",
      "Itemset: {3} Support count: 6\n",
      "Itemset: {4} Support count: 4\n",
      "Itemset: {5} Support count: 8\n",
      "Itemset: {6} Support count: 5\n",
      "Itemset: {7} Support count: 7\n",
      "Itemset: {8} Support count: 4\n",
      "Itemset: {2, 3} Support count: 3\n",
      "Itemset: {2, 4} Support count: 3\n",
      "Itemset: {3, 5, 7} Support count: 3\n",
      "Itemset: {5, 6} Support count: 3\n",
      "Itemset: {5, 7} Support count: 5\n",
      "Itemset: {6, 7} Support count: 3\n"
     ]
    }
   ],
   "source": [
    "CFIs, CFI_cnts = AClose(transactions, min_support_count)\n",
    "\n",
    "print(\"Closed Frequent Itemsets (CFIs)\")\n",
    "print(\"-------------------------------\")\n",
    "for itemset, cnt in zip(CFIs, CFI_cnts):\n",
    "    print(\"Itemset: {} Support count: {}\".format(itemset, cnt))"
   ]
  },
  {
   "cell_type": "code",
   "execution_count": 23,
   "metadata": {},
   "outputs": [
    {
     "name": "stdout",
     "output_type": "stream",
     "text": [
      "Maximal Frequent Itemsets (MFIs)\n",
      "{2, 4}\n",
      "{8}\n",
      "{6, 7}\n",
      "{5, 6}\n",
      "{2, 3}\n",
      "{3, 5, 7}\n"
     ]
    }
   ],
   "source": [
    "MFIs = mafiaAlgorithm(transactions, min_support_count)\n",
    "# Print the list of all maximal frequent itemsets (MFIs)\n",
    "print(\"Maximal Frequent Itemsets (MFIs)\")\n",
    "for mfi in MFIs:\n",
    "    print(mfi)"
   ]
  },
  {
   "cell_type": "code",
   "execution_count": 24,
   "metadata": {},
   "outputs": [
    {
     "name": "stdout",
     "output_type": "stream",
     "text": [
      "[[{3}, {2}], [{1, 3}, set()], [{2, 3}, {2}]]\n"
     ]
    }
   ],
   "source": [
    "Data = [[1, 1, 0],[1, 0, 0],[0, 1, 1],[0, 0, 0]]\n",
    "unique_itemset = [1, 2, 3]\n",
    "min_sup = 1\n",
    "\n",
    "print(CHARM(unique_itemset, Data, min_sup))"
   ]
  },
  {
   "cell_type": "markdown",
   "metadata": {},
   "source": [
    "### NOTE\n",
    "***The above is taken from a github [repo](https://github.com/guptaanmol184/big-data-lab)*** "
   ]
  },
  {
   "cell_type": "markdown",
   "metadata": {},
   "source": [
    "## 2\n",
    "Understand the working of the following classifier algorithms and trace the same for a sample dataset (min 10 records) which involves 2 classes (Binary Classifier) eg: 'Yes' or 'No' , 'True' or 'False'."
   ]
  },
  {
   "cell_type": "code",
   "execution_count": 25,
   "metadata": {},
   "outputs": [],
   "source": [
    "from sklearn.model_selection import cross_val_score\n",
    "from sklearn.tree import DecisionTreeClassifier\n",
    "from sklearn.model_selection import train_test_split\n",
    "from sklearn.datasets import load_iris\n",
    "from sklearn import tree\n",
    "from sklearn.metrics import confusion_matrix\n",
    "from sklearn.naive_bayes import GaussianNB\n",
    "\n",
    "import numpy as np\n",
    "import pandas as pd\n",
    "import matplotlib.pyplot as plt\n"
   ]
  },
  {
   "cell_type": "code",
   "execution_count": 26,
   "metadata": {},
   "outputs": [],
   "source": [
    "clf = DecisionTreeClassifier(random_state= 0)\n",
    "iris = load_iris()\n",
    "X = iris.data\n",
    "y = iris.target\n",
    "X_train, X_test, y_train, y_test = train_test_split(X, y, random_state=0)\n"
   ]
  },
  {
   "cell_type": "markdown",
   "metadata": {},
   "source": [
    "1. Decision Tree Induction\n",
    "    - Give pseudo code and trace decision tree algorithms.\n",
    "    - Understand attribute selection measures such as Information gain, gain ratio (use anyone for the trace)."
   ]
  },
  {
   "cell_type": "markdown",
   "metadata": {},
   "source": [
    "### PseudoCode- Decision Tree"
   ]
  },
  {
   "cell_type": "markdown",
   "metadata": {},
   "source": [
    "<pre><code>\n",
    "\n",
    "GenDecTree(SampIe S, Features F)\n",
    "Steps:\n",
    "1. If stopping_condition(S, F) = true then\n",
    "    a. Leaf = createNode()\n",
    "    b. leafLabeI = classify(s)\n",
    "    c. return leaf\n",
    "2. root = createNode()\n",
    "3. root.test_condition =findBestSpilt(S,F)\n",
    "4. V = {v I v a possible outcomecfroot.test_condition}\n",
    "5. For each value v C V:\n",
    "    a. Sv {s I root. test_condition(s) = vandsCS};\n",
    "    b. Child = Treec;rowth (Sv,F);\n",
    "    c. Add child as descent of root and label the edge {root —9\n",
    "child} as v\n",
    "6. return root\n",
    "</code> </pre>"
   ]
  },
  {
   "cell_type": "code",
   "execution_count": 27,
   "metadata": {},
   "outputs": [
    {
     "data": {
      "text/plain": [
       "DecisionTreeClassifier(ccp_alpha=0.0, class_weight=None, criterion='gini',\n",
       "                       max_depth=None, max_features=None, max_leaf_nodes=3,\n",
       "                       min_impurity_decrease=0.0, min_impurity_split=None,\n",
       "                       min_samples_leaf=1, min_samples_split=2,\n",
       "                       min_weight_fraction_leaf=0.0, presort='deprecated',\n",
       "                       random_state=0, splitter='best')"
      ]
     },
     "execution_count": 27,
     "metadata": {},
     "output_type": "execute_result"
    }
   ],
   "source": [
    "clf = DecisionTreeClassifier(max_leaf_nodes=3, random_state=0, criterion= 'gini')\n",
    "clf.fit(X_train, y_train)"
   ]
  },
  {
   "cell_type": "code",
   "execution_count": 28,
   "metadata": {},
   "outputs": [
    {
     "data": {
      "image/png": "[encoded data removed]",
      "text/plain": [
       "<Figure size 432x288 with 1 Axes>"
      ]
     },
     "metadata": {
      "needs_background": "light"
     },
     "output_type": "display_data"
    }
   ],
   "source": [
    "tree.plot_tree(clf)\n",
    "plt.show()"
   ]
  },
  {
   "cell_type": "markdown",
   "metadata": {},
   "source": [
    "[Decision Tree reference](https://openi.nlm.nih.gov/detailedresult?img=PMC3507711_1472-6947-12-131-1&req=4)"
   ]
  },
  {
   "cell_type": "markdown",
   "metadata": {},
   "source": [
    "2. Naive Bayesian Classifier (NBC)\n",
    "    - Read about Bayes theorem, conditional class independence, prior and posterior probabilities.\n",
    "    - How to handle zero probability scenario (Laplacian Estimator)\n",
    "    - Give a short pseudo code and trace."
   ]
  },
  {
   "cell_type": "markdown",
   "metadata": {},
   "source": [
    "### PseudoCode- Naive Bayesian Classifier\n",
    "<pre><code>\n",
    "<b>Input</b>\n",
    "F = (f1, f2, f3, ..., fn)\n",
    "F = Predictor Value for test dataset\n",
    "Training Data = D\n",
    "\n",
    "<b>Output</b>\n",
    "A class for testing dataset\n",
    "\n",
    "<b>Step</b>\n",
    "1. Read D\n",
    "2. Calculate mean and std. dev for each predictor in each class\n",
    "3. Repeat {\n",
    "    Ci = ith class \n",
    "    and \n",
    "    X is some training record row from D\n",
    "    P(X | Ci) = P(x1 | Ci) * P(x2 | Ci) * ... * P(xn | Ci)\n",
    "    xk are the attributes in the class record of D\n",
    "    P(xk | Ci) = Count of xk in the Class Ci / Total records in class Ci\n",
    "}\n",
    "4. Calculate the likelihood for each record and select the max\n",
    "    Calculate probablity density for each fi using the equation\n",
    "    P(Ci | X) = P(X | Ci) * P(Ci) / P(X) \n",
    "    P(Ci) = 1 / No of classes\n",
    "    but P(X) is common in all classes and hence can be ignored as we this only for comparision\n",
    "5. return the class that give max likelihood\n",
    "\n",
    "<b> end </b>\n",
    "\n",
    "</code></pre>"
   ]
  },
  {
   "cell_type": "code",
   "execution_count": 29,
   "metadata": {},
   "outputs": [
    {
     "data": {
      "text/plain": [
       "GaussianNB(priors=None, var_smoothing=1e-09)"
      ]
     },
     "execution_count": 29,
     "metadata": {},
     "output_type": "execute_result"
    }
   ],
   "source": [
    "classifier = GaussianNB()\n",
    "classifier.fit(X_train, y_train)"
   ]
  },
  {
   "cell_type": "code",
   "execution_count": 30,
   "metadata": {},
   "outputs": [
    {
     "data": {
      "text/plain": [
       "array([2, 1, 0, 2, 0, 2, 0, 1, 1, 1, 2, 1, 1, 1, 1, 0, 1, 1, 0, 0, 2, 1,\n",
       "       0, 0, 2, 0, 0, 1, 1, 0, 2, 1, 0, 2, 2, 1, 0, 1])"
      ]
     },
     "execution_count": 30,
     "metadata": {},
     "output_type": "execute_result"
    }
   ],
   "source": [
    "y_pred = classifier.predict(X_test) \n",
    "y_pred"
   ]
  },
  {
   "cell_type": "code",
   "execution_count": 31,
   "metadata": {},
   "outputs": [
    {
     "name": "stdout",
     "output_type": "stream",
     "text": [
      "Accuracy :  1.0\n"
     ]
    },
    {
     "data": {
      "text/plain": [
       "array([[13,  0,  0],\n",
       "       [ 0, 16,  0],\n",
       "       [ 0,  0,  9]])"
      ]
     },
     "execution_count": 31,
     "metadata": {},
     "output_type": "execute_result"
    }
   ],
   "source": [
    "cm = confusion_matrix(y_test, y_pred)\n",
    "from sklearn.metrics import accuracy_score \n",
    "print (\"Accuracy : \", accuracy_score(y_test, y_pred))\n",
    "cm"
   ]
  },
  {
   "cell_type": "code",
   "execution_count": 35,
   "metadata": {},
   "outputs": [
    {
     "data": {
      "text/plain": [
       "array([ True,  True,  True,  True,  True,  True,  True,  True,  True,\n",
       "        True,  True,  True,  True,  True,  True,  True,  True,  True,\n",
       "        True,  True,  True,  True,  True,  True,  True,  True,  True,\n",
       "        True,  True,  True,  True,  True,  True,  True,  True,  True,\n",
       "        True,  True])"
      ]
     },
     "execution_count": 35,
     "metadata": {},
     "output_type": "execute_result"
    }
   ],
   "source": [
    "y_test == y_pred"
   ]
  },
  {
   "cell_type": "markdown",
   "metadata": {},
   "source": [
    "[Naive Bayesian Classifier Reference](https://towardsdatascience.com/machine-learning-basics-naive-bayes-classification-964af6f2a965)"
   ]
  }
 ],
 "metadata": {
  "kernelspec": {
   "display_name": "Python 3",
   "language": "python",
   "name": "python3"
  },
  "language_info": {
   "codemirror_mode": {
    "name": "ipython",
    "version": 3
   },
   "file_extension": ".py",
   "mimetype": "text/x-python",
   "name": "python",
   "nbconvert_exporter": "python",
   "pygments_lexer": "ipython3",
   "version": "3.7.6"
  }
 },
 "nbformat": 4,
 "nbformat_minor": 4
}
