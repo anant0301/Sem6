{
 "cells": [
  {
   "cell_type": "code",
   "execution_count": 1,
   "metadata": {},
   "outputs": [],
   "source": [
    "import numpy as np\n",
    "import random"
   ]
  },
  {
   "cell_type": "markdown",
   "metadata": {},
   "source": [
    "1. get the list of items\n",
    "2. make a cross product\n",
    "3. scan the data set for check min support for every frequent itemset.\n",
    "4. repeat until only 1 item is left"
   ]
  },
  {
   "cell_type": "code",
   "execution_count": 2,
   "metadata": {},
   "outputs": [],
   "source": [
    "n = 10\n",
    "item_set = [sorted(list(set([random.randint(0, n) for i in range(random.randint(3, 12))]))) for i in range(n)]"
   ]
  },
  {
   "cell_type": "code",
   "execution_count": 3,
   "metadata": {},
   "outputs": [
    {
     "data": {
      "text/plain": [
       "[[1, 2, 3, 5, 6, 7, 10],\n",
       " [0, 3, 4, 6, 7, 9],\n",
       " [0, 1, 2, 5, 6, 7, 8, 9],\n",
       " [1, 3, 5],\n",
       " [0, 1, 3, 4],\n",
       " [1, 5, 6, 9, 10],\n",
       " [1, 2, 3, 5, 7, 8, 10],\n",
       " [0, 1, 2, 4, 5, 7, 8],\n",
       " [0, 1, 5, 8],\n",
       " [0, 6, 9]]"
      ]
     },
     "execution_count": 3,
     "metadata": {},
     "output_type": "execute_result"
    }
   ],
   "source": [
    "item_set"
   ]
  },
  {
   "cell_type": "code",
   "execution_count": 4,
   "metadata": {},
   "outputs": [],
   "source": [
    "min_sup = 3"
   ]
  },
  {
   "cell_type": "code",
   "execution_count": 5,
   "metadata": {},
   "outputs": [],
   "source": [
    "item_range = list(range(n))"
   ]
  },
  {
   "cell_type": "code",
   "execution_count": 6,
   "metadata": {},
   "outputs": [
    {
     "data": {
      "text/plain": [
       "[0, 1, 2, 3, 4, 5, 6, 7, 8, 9]"
      ]
     },
     "execution_count": 6,
     "metadata": {},
     "output_type": "execute_result"
    }
   ],
   "source": [
    "item_range"
   ]
  },
  {
   "cell_type": "code",
   "execution_count": 7,
   "metadata": {},
   "outputs": [
    {
     "data": {
      "text/plain": [
       "[[0, 1], [0, 2], [0, 3], [0, 4], [0, 5]]"
      ]
     },
     "execution_count": 7,
     "metadata": {},
     "output_type": "execute_result"
    }
   ],
   "source": [
    "# create C1\n",
    "c2 = [[i, j] for i in range(n) for j in range(n) if i != j]\n",
    "c2[:5]"
   ]
  },
  {
   "cell_type": "code",
   "execution_count": 8,
   "metadata": {},
   "outputs": [],
   "source": [
    "def next_comb_gen(li_1):\n",
    "    ci = [sorted([*x, y[-1]]) for x in li_1 for y in li_1 if x != y and x[:-1] == y[:-1]]\n",
    "    return ci"
   ]
  },
  {
   "cell_type": "code",
   "execution_count": 9,
   "metadata": {},
   "outputs": [],
   "source": [
    "def get_count(dataset, item):\n",
    "    count = 0\n",
    "    for record in dataset:\n",
    "        b = True\n",
    "        for i in range(len(item)):\n",
    "            if item[i] not in record:\n",
    "                b = False\n",
    "        if b:\n",
    "            count += 1\n",
    "    return count"
   ]
  },
  {
   "cell_type": "code",
   "execution_count": 10,
   "metadata": {},
   "outputs": [],
   "source": [
    "def apriori(dataset, min_support, c2):\n",
    "    freq_item = []\n",
    "    cn = c2\n",
    "    while (len(cn) >= 1):\n",
    "        ln_1 = [x for x in cn if get_count(dataset, x) >= min_support]\n",
    "        freq_item.extend(np.unique(ln_1, axis= 0))\n",
    "        cn = next_comb_gen(ln_1)\n",
    "    return freq_item"
   ]
  },
  {
   "cell_type": "code",
   "execution_count": 11,
   "metadata": {},
   "outputs": [],
   "source": [
    "freq_item = apriori(item_set, 3, c2)"
   ]
  },
  {
   "cell_type": "code",
   "execution_count": 12,
   "metadata": {},
   "outputs": [
    {
     "data": {
      "text/plain": [
       "[array([0, 1]),\n",
       " array([0, 4]),\n",
       " array([0, 5]),\n",
       " array([0, 6]),\n",
       " array([0, 7]),\n",
       " array([0, 8]),\n",
       " array([0, 9]),\n",
       " array([1, 0]),\n",
       " array([1, 2]),\n",
       " array([1, 3]),\n",
       " array([1, 5]),\n",
       " array([1, 6]),\n",
       " array([1, 7]),\n",
       " array([1, 8]),\n",
       " array([2, 1]),\n",
       " array([2, 5]),\n",
       " array([2, 7]),\n",
       " array([2, 8]),\n",
       " array([3, 1]),\n",
       " array([3, 5]),\n",
       " array([3, 7]),\n",
       " array([4, 0]),\n",
       " array([5, 0]),\n",
       " array([5, 1]),\n",
       " array([5, 2]),\n",
       " array([5, 3]),\n",
       " array([5, 6]),\n",
       " array([5, 7]),\n",
       " array([5, 8]),\n",
       " array([6, 0]),\n",
       " array([6, 1]),\n",
       " array([6, 5]),\n",
       " array([6, 7]),\n",
       " array([6, 9]),\n",
       " array([7, 0]),\n",
       " array([7, 1]),\n",
       " array([7, 2]),\n",
       " array([7, 3]),\n",
       " array([7, 5]),\n",
       " array([7, 6]),\n",
       " array([7, 8]),\n",
       " array([8, 0]),\n",
       " array([8, 1]),\n",
       " array([8, 2]),\n",
       " array([8, 5]),\n",
       " array([8, 7]),\n",
       " array([9, 0]),\n",
       " array([9, 6]),\n",
       " array([0, 1, 5]),\n",
       " array([0, 1, 8]),\n",
       " array([0, 5, 8]),\n",
       " array([0, 6, 9]),\n",
       " array([1, 2, 5]),\n",
       " array([1, 2, 7]),\n",
       " array([1, 2, 8]),\n",
       " array([1, 3, 5]),\n",
       " array([1, 5, 6]),\n",
       " array([1, 5, 7]),\n",
       " array([1, 5, 8]),\n",
       " array([1, 7, 8]),\n",
       " array([2, 5, 7]),\n",
       " array([2, 5, 8]),\n",
       " array([2, 7, 8]),\n",
       " array([5, 7, 8]),\n",
       " array([0, 1, 5, 8]),\n",
       " array([1, 2, 5, 7]),\n",
       " array([1, 2, 5, 8]),\n",
       " array([1, 2, 7, 8]),\n",
       " array([1, 5, 7, 8]),\n",
       " array([2, 5, 7, 8]),\n",
       " array([1, 2, 5, 7, 8])]"
      ]
     },
     "execution_count": 12,
     "metadata": {},
     "output_type": "execute_result"
    }
   ],
   "source": [
    "freq_item"
   ]
  }
 ],
 "metadata": {
  "kernelspec": {
   "display_name": "Python 3",
   "language": "python",
   "name": "python3"
  },
  "language_info": {
   "codemirror_mode": {
    "name": "ipython",
    "version": 3
   },
   "file_extension": ".py",
   "mimetype": "text/x-python",
   "name": "python",
   "nbconvert_exporter": "python",
   "pygments_lexer": "ipython3",
   "version": "3.7.6"
  }
 },
 "nbformat": 4,
 "nbformat_minor": 4
}
