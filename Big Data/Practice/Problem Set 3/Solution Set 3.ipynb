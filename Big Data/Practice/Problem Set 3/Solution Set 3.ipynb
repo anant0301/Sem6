{
 "cells": [
  {
   "cell_type": "code",
   "execution_count": 1,
   "metadata": {},
   "outputs": [],
   "source": [
    "import numpy as np\n",
    "import pandas as pd\n",
    "import matplotlib.pyplot as plt\n",
    "import re"
   ]
  },
  {
   "attachments": {
    "image.png": {
     "image/png": "[encoded data removed]"
    }
   },
   "cell_type": "markdown",
   "metadata": {},
   "source": [
    "## Normalization ##\n",
    "**\"In the simplest cases, normalization of ratings means adjusting values measured on different scales to a notionally common scale\"**\n",
    "... Wikipedia\n",
    "\n",
    "## Min-Max Normalization ##\n",
    "*Normalization is a scaling technique in which values are shifted and rescaled so that they end up ranging between 0 and 1. It is also known as Min-Max scaling.* \n",
    "\n",
    "![image.png](attachment:image.png)"
   ]
  },
  {
   "attachments": {
    "image.png": {
     "image/png": "[encoded data removed]"
    }
   },
   "cell_type": "markdown",
   "metadata": {},
   "source": [
    "## Z-score Normalization ##\n",
    "Unlike the Min-Max Normalization this normalization doesn't focus on reducing the value points to [0 .. 1].\n",
    "![image.png](attachment:image.png)\n",
    "σA, A is the standard deviation and mean of A respectively.\n"
   ]
  },
  {
   "cell_type": "markdown",
   "metadata": {},
   "source": [
    "## Decimal Scale Normalization ##\n",
    "To normalize by decimal scaling:\n",
    "- Find the largest number in the given range\n",
    "- Count the number of digits in the largest number, say i\n",
    "- Divide each number by 10 ^ i"
   ]
  },
  {
   "cell_type": "markdown",
   "metadata": {},
   "source": [
    "1. Suppose that the data for analysis includes the attribute age. The age values for the data tuples are (in increasing order) 13, 15, 16, 16, 19, 20, 20, 21, 22, 22, 25, 25, 25, 25, 30, 33, 33, 35, 35, 35, 35, 36, 40, 45, 46, 52, 70.\n"
   ]
  },
  {
   "cell_type": "code",
   "execution_count": 2,
   "metadata": {},
   "outputs": [],
   "source": [
    "data = [13, 15, 16, 16, 19, 20, 20, 21, 22, 22, 25, 25, 25, 25, 30, 33, 33, 35, 35, 35, 35, 36, 40, 45, 46, 52, 70]"
   ]
  },
  {
   "cell_type": "markdown",
   "metadata": {},
   "source": [
    "(a) Use min-max normalization to transform the values of age to the range [0:1]."
   ]
  },
  {
   "cell_type": "code",
   "execution_count": 3,
   "metadata": {},
   "outputs": [
    {
     "name": "stdout",
     "output_type": "stream",
     "text": [
      "0.0\t\t\t0.03508771929824561\t\t\t0.05263157894736842\t\t\t0.05263157894736842\t\t\t0.10526315789473684\t\t\t0.12280701754385964\t\t\t0.12280701754385964\t\t\t0.14035087719298245\t\t\t0.15789473684210525\t\t\t0.15789473684210525\t\t\t0.21052631578947367\t\t\t0.21052631578947367\t\t\t0.21052631578947367\t\t\t0.21052631578947367\t\t\t0.2982456140350877\t\t\t0.3508771929824561\t\t\t0.3508771929824561\t\t\t0.38596491228070173\t\t\t0.38596491228070173\t\t\t0.38596491228070173\t\t\t0.38596491228070173\t\t\t0.40350877192982454\t\t\t0.47368421052631576\t\t\t0.5614035087719298\t\t\t0.5789473684210527\t\t\t0.6842105263157895\t\t\t1.0\n"
     ]
    }
   ],
   "source": [
    "minimum = min(data)\n",
    "maximum = max(data)\n",
    "normalized_data = [(value - minimum) / (maximum - minimum) for value in data]\n",
    "print(*normalized_data, sep= '\\t\\t\\t')"
   ]
  },
  {
   "cell_type": "markdown",
   "metadata": {},
   "source": [
    "(b) Use z-score normalization to transform the values of age."
   ]
  },
  {
   "cell_type": "code",
   "execution_count": 4,
   "metadata": {},
   "outputs": [
    {
     "name": "stdout",
     "output_type": "stream",
     "text": [
      "-1.3356459850221374\t\t\t-1.1781680741243308\t\t\t-1.0994291186754275\t\t\t-1.0994291186754275\t\t\t-0.8632122523287176\t\t\t-0.7844732968798143\t\t\t-0.7844732968798143\t\t\t-0.705734341430911\t\t\t-0.6269953859820077\t\t\t-0.6269953859820077\t\t\t-0.39077851963529775\t\t\t-0.39077851963529775\t\t\t-0.39077851963529775\t\t\t-0.39077851963529775\t\t\t0.0029162576092187234\t\t\t0.23913312395592862\t\t\t0.23913312395592862\t\t\t0.3966110348537352\t\t\t0.3966110348537352\t\t\t0.3966110348537352\t\t\t0.3966110348537352\t\t\t0.4753499903026385\t\t\t0.7903058120982517\t\t\t1.1840005893427683\t\t\t1.2627395447916716\t\t\t1.7351732774850914\t\t\t3.152474475565351\n"
     ]
    }
   ],
   "source": [
    "mean = np.mean(data)\n",
    "std_dev = np.std(data)\n",
    "z_norm_data = [(value - mean) / std_dev for value in data]\n",
    "print(*z_norm_data, sep= '\\t\\t\\t')"
   ]
  },
  {
   "cell_type": "markdown",
   "metadata": {},
   "source": [
    "(c) Use normalization by decimal scaling to transform the values of age such that the transformed value is less than 1."
   ]
  },
  {
   "cell_type": "code",
   "execution_count": 5,
   "metadata": {},
   "outputs": [
    {
     "name": "stdout",
     "output_type": "stream",
     "text": [
      "0.13\t\t\t0.15\t\t\t0.16\t\t\t0.16\t\t\t0.19\t\t\t0.2\t\t\t0.2\t\t\t0.21\t\t\t0.22\t\t\t0.22\t\t\t0.25\t\t\t0.25\t\t\t0.25\t\t\t0.25\t\t\t0.3\t\t\t0.33\t\t\t0.33\t\t\t0.35\t\t\t0.35\t\t\t0.35\t\t\t0.35\t\t\t0.36\t\t\t0.4\t\t\t0.45\t\t\t0.46\t\t\t0.52\t\t\t0.7\n"
     ]
    }
   ],
   "source": [
    " i = len(str(maximum))\n",
    "dec_scale_data = [value / (10 ** i) for value in data]\n",
    "print(*dec_scale_data, sep= '\\t\\t\\t')"
   ]
  },
  {
   "cell_type": "markdown",
   "metadata": {},
   "source": [
    "---"
   ]
  },
  {
   "cell_type": "markdown",
   "metadata": {},
   "source": [
    "\n",
    "2. Use the given dataset and perform the operations listed below.\n",
    "\n",
    "**Dataset Description**\n",
    "\n",
    "It is a well-known fact that Millenials LOVE Avocado Toast. It's also a well known fact that all Millenials live in their parents basements. Clearly, they aren't buying home because they are buying too much Avocado Toast! But maybe there's hope... if a Millenial could find a city with cheap avocados, they could live out the Millenial American Dream. Help them to filter out the clutter using some pre-processing techniques.\n",
    "\n",
    "Some relevant columns in the dataset:\n",
    "- Date - The date of the observation\n",
    "- Average Price - the average price of a single avocado\n",
    "- type - conventional or organic\n",
    "- year - the year\n",
    "- Region - the city or region of the observation\n",
    "- Total Volume - Total number of avocados sold\n",
    "- 4046 - Total number of avocados with PLU* 4046 sold\n",
    "- 4225 - Total number of avocados with PLU* 4225 sold\n",
    "- 4770 - Total number of avocados with PLU* 4770 sold\n",
    "(Product Lookup codes (PLU’s)) *"
   ]
  },
  {
   "cell_type": "code",
   "execution_count": 6,
   "metadata": {},
   "outputs": [
    {
     "data": {
      "text/html": [
       "<div>\n",
       "<style scoped>\n",
       "    .dataframe tbody tr th:only-of-type {\n",
       "        vertical-align: middle;\n",
       "    }\n",
       "\n",
       "    .dataframe tbody tr th {\n",
       "        vertical-align: top;\n",
       "    }\n",
       "\n",
       "    .dataframe thead th {\n",
       "        text-align: right;\n",
       "    }\n",
       "</style>\n",
       "<table border=\"1\" class=\"dataframe\">\n",
       "  <thead>\n",
       "    <tr style=\"text-align: right;\">\n",
       "      <th></th>\n",
       "      <th>Date</th>\n",
       "      <th>AveragePrice</th>\n",
       "      <th>Total Volume</th>\n",
       "      <th>4046</th>\n",
       "      <th>4225</th>\n",
       "      <th>4770</th>\n",
       "      <th>Total Bags</th>\n",
       "      <th>Small Bags</th>\n",
       "      <th>Large Bags</th>\n",
       "      <th>XLarge Bags</th>\n",
       "      <th>type</th>\n",
       "      <th>year</th>\n",
       "      <th>region</th>\n",
       "    </tr>\n",
       "  </thead>\n",
       "  <tbody>\n",
       "    <tr>\n",
       "      <th>0</th>\n",
       "      <td>27-12-2015</td>\n",
       "      <td>1.33</td>\n",
       "      <td>64236.62</td>\n",
       "      <td>1036.74</td>\n",
       "      <td>54454.85</td>\n",
       "      <td>48.16</td>\n",
       "      <td>8696.87</td>\n",
       "      <td>8603.62</td>\n",
       "      <td>93.25</td>\n",
       "      <td>0.0</td>\n",
       "      <td>conventional</td>\n",
       "      <td>2015</td>\n",
       "      <td>Albany</td>\n",
       "    </tr>\n",
       "    <tr>\n",
       "      <th>1</th>\n",
       "      <td>20-12-2015</td>\n",
       "      <td>1.35</td>\n",
       "      <td>54876.98</td>\n",
       "      <td>674.28</td>\n",
       "      <td>44638.81</td>\n",
       "      <td>58.33</td>\n",
       "      <td>9505.56</td>\n",
       "      <td>9408.07</td>\n",
       "      <td>97.49</td>\n",
       "      <td>0.0</td>\n",
       "      <td>conventional</td>\n",
       "      <td>2015</td>\n",
       "      <td>Albany</td>\n",
       "    </tr>\n",
       "    <tr>\n",
       "      <th>2</th>\n",
       "      <td>13-12-2015</td>\n",
       "      <td>0.93</td>\n",
       "      <td>118220.22</td>\n",
       "      <td>794.70</td>\n",
       "      <td>109149.67</td>\n",
       "      <td>130.50</td>\n",
       "      <td>8145.35</td>\n",
       "      <td>8042.21</td>\n",
       "      <td>103.14</td>\n",
       "      <td>0.0</td>\n",
       "      <td>conventional</td>\n",
       "      <td>2015</td>\n",
       "      <td>Albany</td>\n",
       "    </tr>\n",
       "    <tr>\n",
       "      <th>3</th>\n",
       "      <td>06-12-2015</td>\n",
       "      <td>1.08</td>\n",
       "      <td>78992.15</td>\n",
       "      <td>1132.00</td>\n",
       "      <td>71976.41</td>\n",
       "      <td>72.58</td>\n",
       "      <td>5811.16</td>\n",
       "      <td>5677.40</td>\n",
       "      <td>133.76</td>\n",
       "      <td>0.0</td>\n",
       "      <td>conventional</td>\n",
       "      <td>2015</td>\n",
       "      <td>Albany</td>\n",
       "    </tr>\n",
       "    <tr>\n",
       "      <th>4</th>\n",
       "      <td>29-11-2015</td>\n",
       "      <td>1.29</td>\n",
       "      <td>51039.60</td>\n",
       "      <td>941.48</td>\n",
       "      <td>43838.39</td>\n",
       "      <td>75.78</td>\n",
       "      <td>6183.95</td>\n",
       "      <td>5986.26</td>\n",
       "      <td>197.69</td>\n",
       "      <td>0.0</td>\n",
       "      <td>conventional</td>\n",
       "      <td>2015</td>\n",
       "      <td>Albany</td>\n",
       "    </tr>\n",
       "    <tr>\n",
       "      <th>...</th>\n",
       "      <td>...</td>\n",
       "      <td>...</td>\n",
       "      <td>...</td>\n",
       "      <td>...</td>\n",
       "      <td>...</td>\n",
       "      <td>...</td>\n",
       "      <td>...</td>\n",
       "      <td>...</td>\n",
       "      <td>...</td>\n",
       "      <td>...</td>\n",
       "      <td>...</td>\n",
       "      <td>...</td>\n",
       "      <td>...</td>\n",
       "    </tr>\n",
       "    <tr>\n",
       "      <th>18245</th>\n",
       "      <td>28-01-2018</td>\n",
       "      <td>1.71</td>\n",
       "      <td>13888.04</td>\n",
       "      <td>1191.70</td>\n",
       "      <td>3431.50</td>\n",
       "      <td>0.00</td>\n",
       "      <td>9264.84</td>\n",
       "      <td>8940.04</td>\n",
       "      <td>324.80</td>\n",
       "      <td>0.0</td>\n",
       "      <td>organic</td>\n",
       "      <td>2018</td>\n",
       "      <td>WestTexNewMexico</td>\n",
       "    </tr>\n",
       "    <tr>\n",
       "      <th>18246</th>\n",
       "      <td>21-01-2018</td>\n",
       "      <td>1.87</td>\n",
       "      <td>13766.76</td>\n",
       "      <td>1191.92</td>\n",
       "      <td>2452.79</td>\n",
       "      <td>727.94</td>\n",
       "      <td>9394.11</td>\n",
       "      <td>9351.80</td>\n",
       "      <td>42.31</td>\n",
       "      <td>0.0</td>\n",
       "      <td>organic</td>\n",
       "      <td>2018</td>\n",
       "      <td>WestTexNewMexico</td>\n",
       "    </tr>\n",
       "    <tr>\n",
       "      <th>18247</th>\n",
       "      <td>14-01-2018</td>\n",
       "      <td>1.93</td>\n",
       "      <td>16205.22</td>\n",
       "      <td>1527.63</td>\n",
       "      <td>2981.04</td>\n",
       "      <td>727.01</td>\n",
       "      <td>10969.54</td>\n",
       "      <td>10919.54</td>\n",
       "      <td>50.00</td>\n",
       "      <td>0.0</td>\n",
       "      <td>organic</td>\n",
       "      <td>2018</td>\n",
       "      <td>WestTexNewMexico</td>\n",
       "    </tr>\n",
       "    <tr>\n",
       "      <th>18248</th>\n",
       "      <td>07-01-2018</td>\n",
       "      <td>1.62</td>\n",
       "      <td>17489.58</td>\n",
       "      <td>2894.77</td>\n",
       "      <td>2356.13</td>\n",
       "      <td>224.53</td>\n",
       "      <td>12014.15</td>\n",
       "      <td>11988.14</td>\n",
       "      <td>26.01</td>\n",
       "      <td>0.0</td>\n",
       "      <td>organic</td>\n",
       "      <td>2018</td>\n",
       "      <td>WestTexNewMexico</td>\n",
       "    </tr>\n",
       "    <tr>\n",
       "      <th>18249</th>\n",
       "      <td>18-03-2018</td>\n",
       "      <td>1.56</td>\n",
       "      <td>15896.38</td>\n",
       "      <td>2055.35</td>\n",
       "      <td>1499.55</td>\n",
       "      <td>0.00</td>\n",
       "      <td>12341.48</td>\n",
       "      <td>12114.81</td>\n",
       "      <td>226.67</td>\n",
       "      <td>0.0</td>\n",
       "      <td>organic</td>\n",
       "      <td>2018</td>\n",
       "      <td>WestTexNewMexico</td>\n",
       "    </tr>\n",
       "  </tbody>\n",
       "</table>\n",
       "<p>18250 rows × 13 columns</p>\n",
       "</div>"
      ],
      "text/plain": [
       "             Date AveragePrice  Total Volume     4046       4225    4770  \\\n",
       "0      27-12-2015         1.33      64236.62  1036.74   54454.85   48.16   \n",
       "1      20-12-2015         1.35      54876.98   674.28   44638.81   58.33   \n",
       "2      13-12-2015         0.93     118220.22   794.70  109149.67  130.50   \n",
       "3      06-12-2015         1.08      78992.15  1132.00   71976.41   72.58   \n",
       "4      29-11-2015         1.29      51039.60   941.48   43838.39   75.78   \n",
       "...           ...          ...           ...      ...        ...     ...   \n",
       "18245  28-01-2018         1.71      13888.04  1191.70    3431.50    0.00   \n",
       "18246  21-01-2018         1.87      13766.76  1191.92    2452.79  727.94   \n",
       "18247  14-01-2018         1.93      16205.22  1527.63    2981.04  727.01   \n",
       "18248  07-01-2018         1.62      17489.58  2894.77    2356.13  224.53   \n",
       "18249  18-03-2018         1.56      15896.38  2055.35    1499.55    0.00   \n",
       "\n",
       "       Total Bags  Small Bags  Large Bags  XLarge Bags          type  year  \\\n",
       "0         8696.87     8603.62       93.25          0.0  conventional  2015   \n",
       "1         9505.56     9408.07       97.49          0.0  conventional  2015   \n",
       "2         8145.35     8042.21      103.14          0.0  conventional  2015   \n",
       "3         5811.16     5677.40      133.76          0.0  conventional  2015   \n",
       "4         6183.95     5986.26      197.69          0.0  conventional  2015   \n",
       "...           ...         ...         ...          ...           ...   ...   \n",
       "18245     9264.84     8940.04      324.80          0.0       organic  2018   \n",
       "18246     9394.11     9351.80       42.31          0.0       organic  2018   \n",
       "18247    10969.54    10919.54       50.00          0.0       organic  2018   \n",
       "18248    12014.15    11988.14       26.01          0.0       organic  2018   \n",
       "18249    12341.48    12114.81      226.67          0.0       organic  2018   \n",
       "\n",
       "                 region  \n",
       "0                Albany  \n",
       "1                Albany  \n",
       "2                Albany  \n",
       "3                Albany  \n",
       "4                Albany  \n",
       "...                 ...  \n",
       "18245  WestTexNewMexico  \n",
       "18246  WestTexNewMexico  \n",
       "18247  WestTexNewMexico  \n",
       "18248  WestTexNewMexico  \n",
       "18249  WestTexNewMexico  \n",
       "\n",
       "[18250 rows x 13 columns]"
      ]
     },
     "execution_count": 6,
     "metadata": {},
     "output_type": "execute_result"
    }
   ],
   "source": [
    "data = pd.read_csv(filepath_or_buffer= \"./Avocado Dataset.csv\")\n",
    "data"
   ]
  },
  {
   "cell_type": "code",
   "execution_count": 7,
   "metadata": {},
   "outputs": [
    {
     "data": {
      "text/plain": [
       "[Date                  18-03-2018\n",
       " AveragePrice                1.56\n",
       " Total Volume             15896.4\n",
       " 4046                     2055.35\n",
       " 4225                     1499.55\n",
       " 4770                           0\n",
       " Total Bags               12341.5\n",
       " Small Bags               12114.8\n",
       " Large Bags                226.67\n",
       " XLarge Bags                    0\n",
       " type                     organic\n",
       " year                        2018\n",
       " region          WestTexNewMexico\n",
       " Name: 18238, dtype: object,\n",
       " Date                  18-03-2018\n",
       " AveragePrice                1.56\n",
       " Total Volume             15896.4\n",
       " 4046                     2055.35\n",
       " 4225                     1499.55\n",
       " 4770                           0\n",
       " Total Bags               12341.5\n",
       " Small Bags               12114.8\n",
       " Large Bags                226.67\n",
       " XLarge Bags                    0\n",
       " type                     organic\n",
       " year                        2018\n",
       " region          WestTexNewMexico\n",
       " Name: 18249, dtype: object]"
      ]
     },
     "execution_count": 7,
     "metadata": {},
     "output_type": "execute_result"
    }
   ],
   "source": [
    "# proof that there was a duplicate record\n",
    "new = []\n",
    "for i in range(len(data)):\n",
    "    if data['Date'].iloc[i] == '18-03-2018' and data['AveragePrice'].iloc[i] == '1.56':\n",
    "        new.append(data.iloc[i])\n",
    "new        "
   ]
  },
  {
   "cell_type": "code",
   "execution_count": 8,
   "metadata": {},
   "outputs": [],
   "source": [
    "# remove duplicates\n",
    "# data.drop_duplicates()"
   ]
  },
  {
   "cell_type": "markdown",
   "metadata": {},
   "source": [
    "1. Sort the attribute “Total Volume” in the given dataset and distribute the data into equal sized/frequency bins. Let the number of bins be 250. Smooth the sorted data by\n",
    "    - bin-means\n",
    "    - bin-medians\n",
    "    - bin-boundaries"
   ]
  },
  {
   "cell_type": "markdown",
   "metadata": {},
   "source": [
    "### Binning Method ###\n",
    "Binning method is used to smoothing data or to handle noisy data. In this method, the data is first sorted and then the sorted values are distributed into a number of buckets or bins. As binning methods consult the neighborhood of values, they perform local smoothing.\n",
    "1. Bin-Mean: Replacing the data values within a bin by the mean of the data in the bin\n",
    "2. Bin-Median: Replacing the data values within a bin by the median of the data in the bin\n",
    "3. Bin-Boundary: Replace the data by either of the boundary values, lower or upper, choosen by a decided measure of distance.\n"
   ]
  },
  {
   "cell_type": "code",
   "execution_count": 9,
   "metadata": {},
   "outputs": [],
   "source": [
    "vol_arr = sorted(np.array(data['Total Volume']))\n",
    "min_vol = vol_arr[0]\n",
    "max_vol = vol_arr[-1]\n",
    "n_bins = 250\n",
    "bins = list(np.arange(round(min_vol, -3), round(max_vol, -3), (round(max_vol, -4) - round(min_vol, -4)) / n_bins))\n",
    "bins.append(bins[-1] + (bins[1] - bins[0]))"
   ]
  },
  {
   "cell_type": "code",
   "execution_count": 10,
   "metadata": {},
   "outputs": [],
   "source": [
    "def binning(bins, data):\n",
    "    bin_index = 1\n",
    "    bin_mean = []\n",
    "    bin_median = []\n",
    "    bin_boundary = []\n",
    "    i = 0\n",
    "    length = len(data)\n",
    "    while i < length:\n",
    "        bin_elements = []\n",
    "        while i < length:\n",
    "            if bins[bin_index] >= data[i]:\n",
    "                bin_elements.append(data[i])\n",
    "                i += 1\n",
    "            else:\n",
    "                break\n",
    "        if bin_elements == []:\n",
    "            bin_index += 1\n",
    "            continue\n",
    "        mean = np.mean(bin_elements)\n",
    "        median = np.median(bin_elements)\n",
    "        count = len(bin_elements)\n",
    "        bin_mean.extend([mean] * count)\n",
    "        bin_median.extend([median] * count)\n",
    "        for element in bin_elements:\n",
    "            if element - bin_elements[0] > bin_elements[-1] - element:\n",
    "                bin_boundary.append(bin_elements[-1])\n",
    "            else:\n",
    "                bin_boundary.append(bin_elements[0])\n",
    "        bin_index += 1\n",
    "    return bin_mean, bin_median, bin_boundary"
   ]
  },
  {
   "cell_type": "code",
   "execution_count": 11,
   "metadata": {},
   "outputs": [
    {
     "data": {
      "image/png": "[encoded data removed]",
      "text/plain": [
       "<Figure size 432x288 with 1 Axes>"
      ]
     },
     "metadata": {
      "needs_background": "light"
     },
     "output_type": "display_data"
    }
   ],
   "source": [
    "bin_mean, bin_median, bin_boundary = binning(bins, vol_arr)\n",
    "plt.hist(bin_mean, bins= bins)\n",
    "plt.show()"
   ]
  },
  {
   "cell_type": "code",
   "execution_count": 12,
   "metadata": {},
   "outputs": [
    {
     "data": {
      "image/png": "[encoded data removed]",
      "text/plain": [
       "<Figure size 432x288 with 1 Axes>"
      ]
     },
     "metadata": {
      "needs_background": "light"
     },
     "output_type": "display_data"
    }
   ],
   "source": [
    "plt.hist(bin_mean, bins= bins)\n",
    "plt.ylim(0, 100)\n",
    "plt.show()"
   ]
  },
  {
   "cell_type": "markdown",
   "metadata": {},
   "source": [
    "Due to improper frequency distribution even after smoothing the data using binning methods curve still remains biased in the first few bin contain most of the data."
   ]
  },
  {
   "cell_type": "markdown",
   "metadata": {},
   "source": [
    "2. The dataset represents weekly retail scan data for National retail volume (units) and price. However, the company is interested in knowing the monthly (total per month) and annual sales (total per year), rather than the total per week. So, reduce the data accordingly.\n"
   ]
  },
  {
   "cell_type": "code",
   "execution_count": 13,
   "metadata": {},
   "outputs": [],
   "source": [
    "month_mean = {}\n",
    "year_mean = {}\n",
    "for i in data.index:\n",
    "    month = data.Date[i][3:]\n",
    "    year = data.year[i]\n",
    "    if month in month_mean:\n",
    "        month_mean[month].append(data['Total Volume'][i])\n",
    "    else:\n",
    "        month_mean[month] = [data['Total Volume'][i]]\n",
    "    if year in year_mean:\n",
    "        year_mean[year].append(data['Total Volume'][i])\n",
    "    else:\n",
    "        year_mean[year] = [data['Total Volume'][i]]\n",
    "\n",
    "for num in year_mean:\n",
    "    year_mean[num] = sum(year_mean[num]) / len(year_mean[num])\n",
    "for code in month_mean:\n",
    "    month_mean[code] = sum(month_mean[code]) / len(month_mean[code])"
   ]
  },
  {
   "cell_type": "markdown",
   "metadata": {},
   "source": [
    "3. Summarize the number of missing values for each attribute"
   ]
  },
  {
   "cell_type": "code",
   "execution_count": 14,
   "metadata": {},
   "outputs": [],
   "source": [
    "# Data format: number-number-number and length of string = 10\n",
    "check_date = lambda x: len(x) == 10 and re.match(r'[0-9]+-[0-9]+[0-9]', x)\n",
    "# the regex structure is 'numeric.numeric' = float or  'numeric' = float hence the function is_number\n",
    "is_number = lambda x: re.match(r'[+-]?[0-9]+\\.?[0-9]*', str(x))\n",
    "# the regex structure is '[alphabets]' = string -- non-empty strings\n",
    "is_str = lambda x: re.match(r'[A-Za-z]+', x)"
   ]
  },
  {
   "cell_type": "code",
   "execution_count": 15,
   "metadata": {},
   "outputs": [
    {
     "data": {
      "text/plain": [
       "0"
      ]
     },
     "execution_count": 15,
     "metadata": {},
     "output_type": "execute_result"
    }
   ],
   "source": [
    "# date check\n",
    "count_improper = dict()\n",
    "count_improper['Date'] = len([True for x in data.Date if check_date(x) == False])\n",
    "count_improper['Date']"
   ]
  },
  {
   "cell_type": "code",
   "execution_count": 16,
   "metadata": {},
   "outputs": [
    {
     "data": {
      "text/plain": [
       "48"
      ]
     },
     "execution_count": 16,
     "metadata": {},
     "output_type": "execute_result"
    }
   ],
   "source": [
    "# Average Price Check\n",
    "count_improper['AveragePrice'] = len([True for x in data.AveragePrice if is_number(x) is None])\n",
    "count_improper['AveragePrice']"
   ]
  },
  {
   "cell_type": "code",
   "execution_count": 17,
   "metadata": {},
   "outputs": [
    {
     "data": {
      "text/plain": [
       "0"
      ]
     },
     "execution_count": 17,
     "metadata": {},
     "output_type": "execute_result"
    }
   ],
   "source": [
    "# total volume Check \n",
    "count_improper['Total Volume'] = len([True for x in data['Total Volume'] if is_number(x) is None])\n",
    "count_improper['Total Volume']"
   ]
  },
  {
   "cell_type": "code",
   "execution_count": 18,
   "metadata": {},
   "outputs": [
    {
     "data": {
      "text/plain": [
       "{'Date': 0,\n",
       " 'AveragePrice': 48,\n",
       " 'Total Volume': 0,\n",
       " '4046': 0,\n",
       " '4225': 0,\n",
       " '4770': 0}"
      ]
     },
     "execution_count": 18,
     "metadata": {},
     "output_type": "execute_result"
    }
   ],
   "source": [
    "# 4046\t4225\t4770\n",
    "count_improper['4046'] = len([True for x in data['4046'] if is_number(x) is None])\n",
    "count_improper['4225'] = len([True for x in data['4225'] if is_number(x) is None])\n",
    "count_improper['4770'] = len([True for x in data['4770'] if is_number(x) is None])\n",
    "count_improper"
   ]
  },
  {
   "cell_type": "code",
   "execution_count": 19,
   "metadata": {},
   "outputs": [
    {
     "data": {
      "text/plain": [
       "{'Date': 0,\n",
       " 'AveragePrice': 48,\n",
       " 'Total Volume': 0,\n",
       " '4046': 0,\n",
       " '4225': 0,\n",
       " '4770': 0,\n",
       " 'Total Bags': 0,\n",
       " 'Small Bags': 0,\n",
       " 'Large Bags': 0,\n",
       " 'XLarge Bags': 0}"
      ]
     },
     "execution_count": 19,
     "metadata": {},
     "output_type": "execute_result"
    }
   ],
   "source": [
    "# Total Bags\tSmall Bags\tLarge Bags\tXLarge Bags check\n",
    "count_improper['Total Bags'] = len([True for x in data['Total Bags'] if is_number(x) is None])\n",
    "count_improper['Small Bags'] = len([True for x in data['Small Bags'] if is_number(x) is None])\n",
    "count_improper['Large Bags'] = len([True for x in data['Large Bags'] if is_number(x) is None])\n",
    "count_improper['XLarge Bags'] = len([True for x in data['XLarge Bags'] if is_number(x) is None])\n",
    "count_improper"
   ]
  },
  {
   "cell_type": "code",
   "execution_count": 20,
   "metadata": {},
   "outputs": [
    {
     "data": {
      "text/plain": [
       "{'Date': 0,\n",
       " 'AveragePrice': 48,\n",
       " 'Total Volume': 0,\n",
       " '4046': 0,\n",
       " '4225': 0,\n",
       " '4770': 0,\n",
       " 'Total Bags': 0,\n",
       " 'Small Bags': 0,\n",
       " 'Large Bags': 0,\n",
       " 'XLarge Bags': 0,\n",
       " 'type': 0,\n",
       " 'year': 0,\n",
       " 'region': 0}"
      ]
     },
     "execution_count": 20,
     "metadata": {},
     "output_type": "execute_result"
    }
   ],
   "source": [
    "# type\tyear\tregion check\n",
    "count_improper['type'] = len([True for x in data['type'] if is_str(x) is None])\n",
    "count_improper['year'] = len([True for x in data['year'] if is_number(x) is None])\n",
    "count_improper['region'] = len([True for x in data['region'] if is_str(x) is None])\n",
    "count_improper"
   ]
  },
  {
   "cell_type": "markdown",
   "metadata": {},
   "source": [
    "4. Populate data for the missing values of the attribute= “Average Price” by averaging all the values of the “Avg Price” attribute that fall under the same “REGION” attribute value.\n"
   ]
  },
  {
   "cell_type": "code",
   "execution_count": 21,
   "metadata": {},
   "outputs": [],
   "source": [
    "avg_by_region = dict()\n",
    "for i in data.index:\n",
    "    if is_number(data['AveragePrice'][i]):\n",
    "        if data['region'][i] in avg_by_region:\n",
    "            avg_by_region[data['region'][i]].append(float(data['AveragePrice'][i]))\n",
    "        else:\n",
    "            avg_by_region[data['region'][i]] = [float(data['AveragePrice'][i])]\n",
    "avg_of_region = {}\n",
    "for region in avg_by_region:\n",
    "    avg_of_region[region] = np.nanmean(avg_by_region[region])"
   ]
  },
  {
   "cell_type": "code",
   "execution_count": 22,
   "metadata": {},
   "outputs": [],
   "source": [
    "avg_data = []\n",
    "for i in data.index:\n",
    "    k = data['AveragePrice'][i]\n",
    "    if is_number(k) == None:\n",
    "        k = avg_of_region[data['region'][i]]\n",
    "    avg_data.append(k)\n",
    "data['AveragePrice'] = avg_data"
   ]
  },
  {
   "cell_type": "markdown",
   "metadata": {},
   "source": [
    "5. Discretize the attribute= “Date” using concept hierarchy into {Old, New, Recent} (Consider 2015,2016 : Old, 2017: New, 2018: Recent)."
   ]
  },
  {
   "cell_type": "code",
   "execution_count": 23,
   "metadata": {},
   "outputs": [],
   "source": [
    "data['year'] = data['year'].T.astype(int)"
   ]
  },
  {
   "cell_type": "code",
   "execution_count": 24,
   "metadata": {},
   "outputs": [
    {
     "data": {
      "text/html": [
       "<div>\n",
       "<style scoped>\n",
       "    .dataframe tbody tr th:only-of-type {\n",
       "        vertical-align: middle;\n",
       "    }\n",
       "\n",
       "    .dataframe tbody tr th {\n",
       "        vertical-align: top;\n",
       "    }\n",
       "\n",
       "    .dataframe thead th {\n",
       "        text-align: right;\n",
       "    }\n",
       "</style>\n",
       "<table border=\"1\" class=\"dataframe\">\n",
       "  <thead>\n",
       "    <tr style=\"text-align: right;\">\n",
       "      <th></th>\n",
       "      <th>Date</th>\n",
       "      <th>AveragePrice</th>\n",
       "      <th>Total Volume</th>\n",
       "      <th>4046</th>\n",
       "      <th>4225</th>\n",
       "      <th>4770</th>\n",
       "      <th>Total Bags</th>\n",
       "      <th>Small Bags</th>\n",
       "      <th>Large Bags</th>\n",
       "      <th>XLarge Bags</th>\n",
       "      <th>type</th>\n",
       "      <th>year</th>\n",
       "      <th>region</th>\n",
       "      <th>Hierarchy</th>\n",
       "    </tr>\n",
       "  </thead>\n",
       "  <tbody>\n",
       "    <tr>\n",
       "      <th>0</th>\n",
       "      <td>27-12-2015</td>\n",
       "      <td>1.33</td>\n",
       "      <td>64236.62</td>\n",
       "      <td>1036.74</td>\n",
       "      <td>54454.85</td>\n",
       "      <td>48.16</td>\n",
       "      <td>8696.87</td>\n",
       "      <td>8603.62</td>\n",
       "      <td>93.25</td>\n",
       "      <td>0.0</td>\n",
       "      <td>conventional</td>\n",
       "      <td>2015</td>\n",
       "      <td>Albany</td>\n",
       "      <td>Old</td>\n",
       "    </tr>\n",
       "    <tr>\n",
       "      <th>1</th>\n",
       "      <td>20-12-2015</td>\n",
       "      <td>1.35</td>\n",
       "      <td>54876.98</td>\n",
       "      <td>674.28</td>\n",
       "      <td>44638.81</td>\n",
       "      <td>58.33</td>\n",
       "      <td>9505.56</td>\n",
       "      <td>9408.07</td>\n",
       "      <td>97.49</td>\n",
       "      <td>0.0</td>\n",
       "      <td>conventional</td>\n",
       "      <td>2015</td>\n",
       "      <td>Albany</td>\n",
       "      <td>Old</td>\n",
       "    </tr>\n",
       "    <tr>\n",
       "      <th>2</th>\n",
       "      <td>13-12-2015</td>\n",
       "      <td>0.93</td>\n",
       "      <td>118220.22</td>\n",
       "      <td>794.70</td>\n",
       "      <td>109149.67</td>\n",
       "      <td>130.50</td>\n",
       "      <td>8145.35</td>\n",
       "      <td>8042.21</td>\n",
       "      <td>103.14</td>\n",
       "      <td>0.0</td>\n",
       "      <td>conventional</td>\n",
       "      <td>2015</td>\n",
       "      <td>Albany</td>\n",
       "      <td>Old</td>\n",
       "    </tr>\n",
       "    <tr>\n",
       "      <th>3</th>\n",
       "      <td>06-12-2015</td>\n",
       "      <td>1.08</td>\n",
       "      <td>78992.15</td>\n",
       "      <td>1132.00</td>\n",
       "      <td>71976.41</td>\n",
       "      <td>72.58</td>\n",
       "      <td>5811.16</td>\n",
       "      <td>5677.40</td>\n",
       "      <td>133.76</td>\n",
       "      <td>0.0</td>\n",
       "      <td>conventional</td>\n",
       "      <td>2015</td>\n",
       "      <td>Albany</td>\n",
       "      <td>Old</td>\n",
       "    </tr>\n",
       "    <tr>\n",
       "      <th>4</th>\n",
       "      <td>29-11-2015</td>\n",
       "      <td>1.29</td>\n",
       "      <td>51039.60</td>\n",
       "      <td>941.48</td>\n",
       "      <td>43838.39</td>\n",
       "      <td>75.78</td>\n",
       "      <td>6183.95</td>\n",
       "      <td>5986.26</td>\n",
       "      <td>197.69</td>\n",
       "      <td>0.0</td>\n",
       "      <td>conventional</td>\n",
       "      <td>2015</td>\n",
       "      <td>Albany</td>\n",
       "      <td>Old</td>\n",
       "    </tr>\n",
       "    <tr>\n",
       "      <th>...</th>\n",
       "      <td>...</td>\n",
       "      <td>...</td>\n",
       "      <td>...</td>\n",
       "      <td>...</td>\n",
       "      <td>...</td>\n",
       "      <td>...</td>\n",
       "      <td>...</td>\n",
       "      <td>...</td>\n",
       "      <td>...</td>\n",
       "      <td>...</td>\n",
       "      <td>...</td>\n",
       "      <td>...</td>\n",
       "      <td>...</td>\n",
       "      <td>...</td>\n",
       "    </tr>\n",
       "    <tr>\n",
       "      <th>18245</th>\n",
       "      <td>28-01-2018</td>\n",
       "      <td>1.71</td>\n",
       "      <td>13888.04</td>\n",
       "      <td>1191.70</td>\n",
       "      <td>3431.50</td>\n",
       "      <td>0.00</td>\n",
       "      <td>9264.84</td>\n",
       "      <td>8940.04</td>\n",
       "      <td>324.80</td>\n",
       "      <td>0.0</td>\n",
       "      <td>organic</td>\n",
       "      <td>2018</td>\n",
       "      <td>WestTexNewMexico</td>\n",
       "      <td>Recent</td>\n",
       "    </tr>\n",
       "    <tr>\n",
       "      <th>18246</th>\n",
       "      <td>21-01-2018</td>\n",
       "      <td>1.87</td>\n",
       "      <td>13766.76</td>\n",
       "      <td>1191.92</td>\n",
       "      <td>2452.79</td>\n",
       "      <td>727.94</td>\n",
       "      <td>9394.11</td>\n",
       "      <td>9351.80</td>\n",
       "      <td>42.31</td>\n",
       "      <td>0.0</td>\n",
       "      <td>organic</td>\n",
       "      <td>2018</td>\n",
       "      <td>WestTexNewMexico</td>\n",
       "      <td>Recent</td>\n",
       "    </tr>\n",
       "    <tr>\n",
       "      <th>18247</th>\n",
       "      <td>14-01-2018</td>\n",
       "      <td>1.93</td>\n",
       "      <td>16205.22</td>\n",
       "      <td>1527.63</td>\n",
       "      <td>2981.04</td>\n",
       "      <td>727.01</td>\n",
       "      <td>10969.54</td>\n",
       "      <td>10919.54</td>\n",
       "      <td>50.00</td>\n",
       "      <td>0.0</td>\n",
       "      <td>organic</td>\n",
       "      <td>2018</td>\n",
       "      <td>WestTexNewMexico</td>\n",
       "      <td>Recent</td>\n",
       "    </tr>\n",
       "    <tr>\n",
       "      <th>18248</th>\n",
       "      <td>07-01-2018</td>\n",
       "      <td>1.62</td>\n",
       "      <td>17489.58</td>\n",
       "      <td>2894.77</td>\n",
       "      <td>2356.13</td>\n",
       "      <td>224.53</td>\n",
       "      <td>12014.15</td>\n",
       "      <td>11988.14</td>\n",
       "      <td>26.01</td>\n",
       "      <td>0.0</td>\n",
       "      <td>organic</td>\n",
       "      <td>2018</td>\n",
       "      <td>WestTexNewMexico</td>\n",
       "      <td>Recent</td>\n",
       "    </tr>\n",
       "    <tr>\n",
       "      <th>18249</th>\n",
       "      <td>18-03-2018</td>\n",
       "      <td>1.56</td>\n",
       "      <td>15896.38</td>\n",
       "      <td>2055.35</td>\n",
       "      <td>1499.55</td>\n",
       "      <td>0.00</td>\n",
       "      <td>12341.48</td>\n",
       "      <td>12114.81</td>\n",
       "      <td>226.67</td>\n",
       "      <td>0.0</td>\n",
       "      <td>organic</td>\n",
       "      <td>2018</td>\n",
       "      <td>WestTexNewMexico</td>\n",
       "      <td>Recent</td>\n",
       "    </tr>\n",
       "  </tbody>\n",
       "</table>\n",
       "<p>18250 rows × 14 columns</p>\n",
       "</div>"
      ],
      "text/plain": [
       "             Date AveragePrice  Total Volume     4046       4225    4770  \\\n",
       "0      27-12-2015         1.33      64236.62  1036.74   54454.85   48.16   \n",
       "1      20-12-2015         1.35      54876.98   674.28   44638.81   58.33   \n",
       "2      13-12-2015         0.93     118220.22   794.70  109149.67  130.50   \n",
       "3      06-12-2015         1.08      78992.15  1132.00   71976.41   72.58   \n",
       "4      29-11-2015         1.29      51039.60   941.48   43838.39   75.78   \n",
       "...           ...          ...           ...      ...        ...     ...   \n",
       "18245  28-01-2018         1.71      13888.04  1191.70    3431.50    0.00   \n",
       "18246  21-01-2018         1.87      13766.76  1191.92    2452.79  727.94   \n",
       "18247  14-01-2018         1.93      16205.22  1527.63    2981.04  727.01   \n",
       "18248  07-01-2018         1.62      17489.58  2894.77    2356.13  224.53   \n",
       "18249  18-03-2018         1.56      15896.38  2055.35    1499.55    0.00   \n",
       "\n",
       "       Total Bags  Small Bags  Large Bags  XLarge Bags          type  year  \\\n",
       "0         8696.87     8603.62       93.25          0.0  conventional  2015   \n",
       "1         9505.56     9408.07       97.49          0.0  conventional  2015   \n",
       "2         8145.35     8042.21      103.14          0.0  conventional  2015   \n",
       "3         5811.16     5677.40      133.76          0.0  conventional  2015   \n",
       "4         6183.95     5986.26      197.69          0.0  conventional  2015   \n",
       "...           ...         ...         ...          ...           ...   ...   \n",
       "18245     9264.84     8940.04      324.80          0.0       organic  2018   \n",
       "18246     9394.11     9351.80       42.31          0.0       organic  2018   \n",
       "18247    10969.54    10919.54       50.00          0.0       organic  2018   \n",
       "18248    12014.15    11988.14       26.01          0.0       organic  2018   \n",
       "18249    12341.48    12114.81      226.67          0.0       organic  2018   \n",
       "\n",
       "                 region Hierarchy  \n",
       "0                Albany       Old  \n",
       "1                Albany       Old  \n",
       "2                Albany       Old  \n",
       "3                Albany       Old  \n",
       "4                Albany       Old  \n",
       "...                 ...       ...  \n",
       "18245  WestTexNewMexico    Recent  \n",
       "18246  WestTexNewMexico    Recent  \n",
       "18247  WestTexNewMexico    Recent  \n",
       "18248  WestTexNewMexico    Recent  \n",
       "18249  WestTexNewMexico    Recent  \n",
       "\n",
       "[18250 rows x 14 columns]"
      ]
     },
     "execution_count": 24,
     "metadata": {},
     "output_type": "execute_result"
    }
   ],
   "source": [
    "discrete ={\n",
    "    'Old' : [2015, 2016],\n",
    "    'New': [2017],\n",
    "    'Recent': [2018]\n",
    "}\n",
    "time_attr = []\n",
    "for x in data.year:\n",
    "    if x in discrete['Old']:\n",
    "        k = 'Old'\n",
    "    elif x in discrete['New']:\n",
    "        k = 'New'\n",
    "    elif x in discrete['Recent']:\n",
    "        k = 'Recent'\n",
    "    else:\n",
    "        k = 'Out of range'\n",
    "    time_attr.append(k)\n",
    "data['Hierarchy'] = time_attr\n",
    "data"
   ]
  }
 ],
 "metadata": {
  "kernelspec": {
   "display_name": "Python 3",
   "language": "python",
   "name": "python3"
  },
  "language_info": {
   "codemirror_mode": {
    "name": "ipython",
    "version": 3
   },
   "file_extension": ".py",
   "mimetype": "text/x-python",
   "name": "python",
   "nbconvert_exporter": "python",
   "pygments_lexer": "ipython3",
   "version": "3.7.6"
  }
 },
 "nbformat": 4,
 "nbformat_minor": 4
}
