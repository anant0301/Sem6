{
 "cells": [
  {
   "cell_type": "markdown",
   "metadata": {},
   "source": [
    "# PROBLEM SET 8\n"
   ]
  },
  {
   "cell_type": "code",
   "execution_count": 1,
   "metadata": {},
   "outputs": [
    {
     "name": "stdout",
     "output_type": "stream",
     "text": [
      "./\n",
      "├── connect.dat\n",
      "├── Problem Set 8.pdf\n",
      "└── Solution Set 8.ipynb\n",
      "\n",
      "0 directories, 3 files\n"
     ]
    }
   ],
   "source": [
    "%%bash\n",
    "tree ./"
   ]
  },
  {
   "cell_type": "markdown",
   "metadata": {},
   "source": [
    "## 1. \n",
    "Develop an application that simulates the working of Genetic Algorithm comprising of Basic Operators such as Selection, Crossover and Mutation to optimize a user input objective function. You are free to use any inbuilt / open-source packages supported in the programming platform. Ensure that the objective function involves atleast three parameters to be controlled.\n"
   ]
  },
  {
   "cell_type": "code",
   "execution_count": 2,
   "metadata": {},
   "outputs": [],
   "source": [
    "import numpy as np\n",
    "from geneticalgorithm import geneticalgorithm as ga\n"
   ]
  },
  {
   "cell_type": "code",
   "execution_count": 3,
   "metadata": {},
   "outputs": [],
   "source": [
    "def func(X):\n",
    "    \"\"\"\n",
    "    X: np.array\n",
    "        Contains the attribute values \n",
    "    return value:\n",
    "        returns an real number.\n",
    "    \"\"\"\n",
    "    return sum([1 / (1 + np.exp(x)) for x in X])"
   ]
  },
  {
   "cell_type": "code",
   "execution_count": 4,
   "metadata": {},
   "outputs": [
    {
     "data": {
      "text/plain": [
       "array([[  0,  10],\n",
       "       [  0,  12],\n",
       "       [  0,   1],\n",
       "       [ 10, 100]])"
      ]
     },
     "execution_count": 4,
     "metadata": {},
     "output_type": "execute_result"
    }
   ],
   "source": [
    "\"\"\"\n",
    "range for each attribute, here 4 attributes\n",
    "\"\"\"\n",
    "varbound=np.array([\n",
    "    [0, 10],\n",
    "    [0, 12],\n",
    "    [0, 1],\n",
    "    [10, 100]\n",
    "])\n",
    "varbound"
   ]
  },
  {
   "cell_type": "code",
   "execution_count": 5,
   "metadata": {},
   "outputs": [
    {
     "name": "stdout",
     "output_type": "stream",
     "text": [
      " The best solution found:                                                                           \n",
      " [ 9.99560056 11.96733249  0.99969259 62.94992528]\n",
      "\n",
      " Objective function:\n",
      " 0.2690538130913817\n"
     ]
    },
    {
     "data": {
      "image/png": "[encoded data removed]",
      "text/plain": [
       "<Figure size 432x288 with 1 Axes>"
      ]
     },
     "metadata": {
      "needs_background": "light"
     },
     "output_type": "display_data"
    }
   ],
   "source": [
    "\"\"\"\n",
    "minimize the various attributes for the objective function output\n",
    "\"\"\"\n",
    "model=ga(function=func,dimension=4, variable_type='real',variable_boundaries=varbound)\n",
    "model.run()"
   ]
  },
  {
   "cell_type": "code",
   "execution_count": 6,
   "metadata": {},
   "outputs": [
    {
     "data": {
      "text/plain": [
       "0.2690538130913817"
      ]
     },
     "execution_count": 6,
     "metadata": {},
     "output_type": "execute_result"
    }
   ],
   "source": [
    "\"\"\"\n",
    "the attribute such that the objective function is minimum\n",
    "\"\"\"\n",
    "model.best_function"
   ]
  },
  {
   "cell_type": "code",
   "execution_count": 7,
   "metadata": {},
   "outputs": [
    {
     "data": {
      "text/plain": [
       "array([ 9.99560056, 11.96733249,  0.99969259, 62.94992528])"
      ]
     },
     "execution_count": 7,
     "metadata": {},
     "output_type": "execute_result"
    }
   ],
   "source": [
    "\"\"\"\n",
    "the minimum value of the objective function\n",
    "\"\"\"\n",
    "model.best_variable"
   ]
  },
  {
   "cell_type": "markdown",
   "metadata": {},
   "source": [
    "## 2. \n",
    "Develop an application that learns a classifier model employing Genetic Algorithms to choose optimal split values / attributes as part of Decision Tree learning phase. You are free to make use of inbuilt / open-source packages to come up with a GA based DTree Classifier. You may test with the same example that was used to understand Decision Tree / Naive Bayes as part of class discussions.\n"
   ]
  },
  {
   "cell_type": "code",
   "execution_count": null,
   "metadata": {},
   "outputs": [],
   "source": []
  },
  {
   "cell_type": "markdown",
   "metadata": {},
   "source": [
    "## 3. \n",
    "Develop an application that simulates the working of Logic gates (any 5 including XOR) using perceptron based modeling. You are free to make use of any inbuilt support / open source packages to test drive the above application.\n"
   ]
  },
  {
   "cell_type": "markdown",
   "metadata": {},
   "source": [
    "![Perceptron Principle](data:image/jpeg;base64,/9j/4AAQSkZJRgABAQAAAQABAAD/2wCEAAoGBxMTExYUExMWGBYZFhgaGhYaGhoWFh4ZFhQYGh0YFhYaHysiIRwoHRkaIzQjKiwuMTExGSFDSTcvPiswMS4BCwsLBQUFDwUFDy4bFBsuLi4uLi4uLi4uLi4uLi4uLi4uLi4uLi4uLi4uLi4uLi4uLi4uLi4uLi4uLi4uLi4uLv/AABEIAIYBdwMBIgACEQEDEQH/xAAbAAEAAwEBAQEAAAAAAAAAAAAABAUGAwIBB//EAEwQAAIBAwIDBAUGCAwFBQEAAAECAwAEERIhBRMxBkFRYRQiMnGBI1RicpTTBxUWM0JSkZM0Q1NVY4KSobGy0dIkNURzdKKkwcLxF//EABQBAQAAAAAAAAAAAAAAAAAAAAD/xAAUEQEAAAAAAAAAAAAAAAAAAAAA/9oADAMBAAIRAxEAPwD9mpSlApUS/uuWoONTMwVFGxZiCcZ8MAknuCk91cVsHfeWVyf1UJjQeQK+sfeT8B0oLGlVrWLoMwyPn9VyZEPkS2XHvB28D0rvw+6Ei5wVYEqyHqrDqD+0EHvBB76CXSlKBSlKBSlKBSlKBSlKBSlKBSlKBSlKBSolzxGGMgSSxoTuA7qpI8QCa5/jy2+cQfvE/wBaCfSoH48tvnEH7xP9afjy2+cQfvE/1oJ9Kgfjy2+cQfvE/wBalRSqwDKQQRkEHIIPeCO6g60pSgUpSgUpSgUpSgUpSgUpSgUpSgUpSgUpSgUpSgUpSgrLtv8AioQenKmx4a9UOPjp1/DVXbisKPGyyMVQjchzH8NSkEA9Ou9eOL2RlUaW0uja0frhgCOneCCVI7wxFQW4uANF1Aw8cIZomx3jALDxwRt4nrQe+w82vh9o2rUfRocnOd+UucnxqRaSD0mZQRskJYfTJkznz0CP9gqGvFhjRaQMST1KGGIH9ZgQGPuA38R1quu/wfwStzneRbk7tcRu0cpJ8ChHqjAAHQADwoNhXOSQKCzEAAEkk4AA6kk9BWNFjxi1/NXEd2g/QnXTJjymjxv9ZTXr8cXM0M00tqYza+sYGYSq8iASMQUxqxHjQD+k+SMqtBpF4qrbxxyuP1gulfepkKhh5rkV7t+JRs2j1lfGdDqyMQOpUMBqAyMlcgZqgsu1byzGJFTDzqIm3Ia3Ak5kh366oZQCNvWjq7Lw3MZCurgEeshGVYAEMrdzAEEHzHcaCxpULhM7PGC/tKXRjjALRuULAdwJXIHgam0ClKgXfGIIk5ks0SJv6zOqrsSCMk9cgj4UE+lZSX8IEDbWsVxdHuMcZWP99JpQjzBNeFveLz7pFbWy/T13EnxwY1H99BrqVk/RuM/OrX7M339PRuM/OrX7M339BrKVk/RuM/OrX7M339PRuM/OrX7M339BrKVk/RuM/OrX7M339PRuM/OrX7M339B5vuHQzcW0zRRyAWAIEiK4B9JO4DA4qfccJ4XGwSSCzRm9lWSFWbJx6oIyd9qqOAxXS8Vb0qSOR/QRpKIYwF9IOxBdsnPfmrO9jdb8SYkCGGJcpHzFYrLKSrNpOnAYHO3XyoJ35L2XzO2/cxf7afkvZfM7b9zH/tqmg4fcMINb3Hyl1MZvlHXEKrc8pRgjQmeV7OCdsk1GlW8xKU9JExS715J5X6fI5Azo1exp0DOM6t6C+uOzFlobFnbeyf4mPw+rVT+CVyeHW+TnESAe7SK0EFty4dOp2wrEl2Z2JIJOWY+Pd0HQYG1fnn4NoOJmyi5M9usehdIeFnbGNssJRn9lB+pUrJei8Z+c2v2Zvv6ei8Z+c2v2Zvv6DW0rJei8Z+c2v2Zvv6ei8Z+c2v2Zvv6DW0rJei8Z+c2v2Zvv6++jcZ+c2v2dvv6DWUrL9leKXTXNzbXTRO0SQurxoYxibmZUqXbpyxvnvrUUClKUClKUClKUClKUClKUClKUClKUCvJUHurxcTqilnYKo6knAFRFvZX/ADcJx3NK3KyPEKAzj3MqmgnBQK9VXfjHSQJUaPJAD5DREk7DWDle4esFySAMmrGgVTiUR3Dq+yTaSpPTmquhkPmyBMeOlvLNxUDi6RNEwm06Oh1bjc4Ax3knAA6k4oPK8FgUKEiRNMbRoVUKUjbGVQgbDIBx5VFsovRI3knkXogJVSBhECKFXJJZj0A8QBnqYKWt3/ESXCx9wlMeceI5ivJ8Hx7q62NqolU3RlaXPyZl06M/0fLPLDHJ2wrEA7ECgqeFdtxAGW9tbiDMkj80pzYsSSMwDNHkrgEDcY261q+E8Zt7lddvPHKvijBse8DcfGpUkKsN1B+FZziv4P7KZuYI+VL1EsRMUgPjrQgn40F5xSy50Txa3TWpXUjFXAP6rDcHzrOdmvwbWVoPzYlcEkSSAM4BOdIOOmc/trh+KeLWv8Hu1uUGMR3S6mwOuJ48NkjvYNXtO3zQ7X9lPBjOZUHpEO3eWjGsfFKDXRW6L7KgV1qt4Px22ul1W88cg79DBiPrL1B94qyoFKUoFKV8JoPtKzN927tUcxwiW5dThlt0MoU+DSEiMHyLZrh+X8S7zWt5CnfI8QkUe/ku5HvIoOvaLhF36St1ZyxK/I5LLJG0gI5hfIKuuDmoWOOfytp+4f76tTw3iMM8YlgkSSM9HQhht3ZHePDuqZQYrHHP5W0/cP8AfUxxz+VtP3D/AH1bWlBinXjZBHNtNwR+ZfvH/eq27C8Fe0tY4HOSihc9M4GM4q/pQKUqh4v2ytIHMTO0ko6wwo00g+ssYOn+tigvqVkk/CBGPzlnfRr+u0IdfiIndh8RV7wjjEF0nMt5UkToSp3B8GXqreRANBYUpSgy3Bv+b3//AI9n/jPWprLcG/5vf/8Aj2f+M9amgUpSgUpSgUpSgUpSgUpSgUpSgUpSgq3+UudB9mJEcDuLytIoY+aiNsfX8QMR+J8e5M8dsYizzY5RDYDaT8rqOPV0Jh/pZwN698Rl5EwnI+TdBHK36uhmZHP0RrcH6wPQGutxweCZua2WY8sq4Y7cty6mMg7Ak749obHI2oJ0sasCrAMCCCCAQQRggj3HpWVl7YpaNJbyQ3UnKbSJI4jKpVlV0BbVqLBHVSTuSM99WVq62ouHkUIjza41UhmYtEilVUblyyMcDPte+pfBrdtBeVQJJGLsNjjOAqZ79KhVz36aClX8JFljLrcp9a2m/wDhDXXh/FVvxLNatq5StHFrR1AuDHqLNG+CcK8YHTYvvvWiNqh/RX9lVUki20zM2FhlC5boqSrtlz3Bl0jPQFB40FDadtJJXURqgWbkpb5BLGQFDchh/RrJ08YnrVrLFOsiAh1VjG432YBWxnxAYHI6fCukdlENOmNBpLMuFUYL51Mu2xOTkjrmq95PRTNJJIGMsoZI1XS5blpGI1yx1HCKc7AesTgdA78IvQU0PIDIjOjZI1Hluyh2A6FgA39arBXB6EGsovYG0mBkuYI3mkJeRsAnU5JIDEZ0jOB5AV4//l/Dx7ERT6jyJ/lYUGxrlJErbMAfeKyS/g2gX83cXSfVuJh/96L2DkX83xK+X3zM/wDnBoJfGOwVlO2sxBJRuJYyY5AfEOmDUD8TcVtf4NeCdB0iul1n3CZMP5ZOqui9k79fY4tc/wBYQv8A5oqfiLi6+zxTV9eCE/5QtB8j7eSQnF/Yzw/0sY9Ii950DWB71rQcG4/a3Q1W88cniFYFh9Zeo+IrPGw40OtxaSD6duR/lkFYbtRHpfVcScJEo3DRtLDcDwxynZ89aD9trGdoy9/cmwjdkgiVWunUlWcyDKW6uNwCvrPjcgqO81+W8P8Awk8TtphFG5uF2xHIskhx9F3VJenec1+n/glummguJ5U0Sy3crSLv6rAIoTfwUKP/ANoLu4ksuHQhnMcMSkKDjCgnoAAK5cN7WcPupBDDOkkhBIQKwOFGT1Ud1T+PcIhuoHgnUNG4we4jG4ZT3EHcHyqh/BnxOWe3kWRhKkMrRRXIGBMibB8eI9kt0OPfQcO0PDWsHa/tAQg3ubdfZkjHtSBeglUZIbvwQa2FtOsiq6HKsoZSOhDDIP7KXUQZGVuhUg+4ivzfsT2i4illAkPDlmjRNKSm4CFkUkKdPLONgO+g/TqVivyp4r/NCfah91QdquK/zQv2pfuqDa0rF/lVxP8AmgfaU+7r7+VfE/5o/wDcp/soJfa7iEzyx2NsxSWVS8kw6xQqQCy/TYnSp7sMe6rHgXZ2C1jCRRgd5PVmbvZmO5Y+J3rP9hrqWe+vpp4eVKFt4xGXEmlAjsMMBjdmY1o7rj8MbsjLPleum3ndenc6RlT8DQVM3bSxjlnhuJo0aKQKFIJOnlI2TgHvZv2VWXUEM+q/4TKpuIzhwuQkwA1GGYEDOR0bqpxvXDspxa39J4izpK2q6UriCZzjkRj1gsZKnbocGtpwm6ikVjErqAcHXHJEc47hIoJHnQOAcVS6t4p486ZEDYPVT0ZG+krAqfMGrCvzrsvxK8i9KjtrWOaFL25Cs0xiwTKWZAoiYYDMRnPjVz+PuKfzbD9qb7ig98G/5vf/APj2f+M9amvz6zl4nHd3Fz6BEebHCmj0hgF5OvfVyd88zwGMVa/j7in82w/am+4oNZSsr2K4xxCdpheWqRKrsI2VySQG2GkjcY/S9XOPZGaldqJmWSAM8qQMZOa8eoNqCDlqzICyqfXORjdVGd8ENBXkMKxCcWnijDSmf17Sfl/JuXZ0mbllkVciYxGM4IB9rbY4jcVd4DfzB5llPD4pEbLkFkSUMVB9Usp07d2r6VB+hV8JrEi/lUytHJO9uktmdbrIXyZjz1AKhigTlkgDC5bpggcjIZriCeRrgRrfTKhxKgCNbeplcAhC4IBIwdWO+g3lKUoFKUoFKUoFKUoPDoCMEZFVD9moskxtLFk5KxyPGpJ6kqjAZ86tZ5lRSzkBQMknoBUNLieTdI1Re4yZ1nz5a9B72B8hQeLLgMUba/Wd8Y1yM0j48NTknHlmrSq1riZN3jV17zHnWPPlHqPcxPgDU2GZXUMhDKQCCNwQe8UHWoXEp0VMOC2o6VQDLMxB9VR44BPgACSQATUzNVRjaSWdlbS6qIozgHSWQSFgCO8smf8AtCgrouz0v8W5gXujWSVwB4aFZEQ/Vz7zXSzs0t21zRkk+r6QXabGegdpPXQZ+so7yKo7XtdcylQMLzhHBGNIJS6Qp6R166RI+x2/4dvGtjDeRytJFg6lA1qysoKuWUEahhlOhhkeFBNFfaxCDizlo4JbeKGN3jSRkaWYrG5UatTBdQAxnfOM99dPyJnm/hXEbqTxVX5Cf2Ygv95NBpOI8Zt4BmeeKIfTdU/ZqNUE/wCEmx3EBmuCNsQQvIM+TkBPjqxXbhn4PeHwnK26Fv1mGtvizZP99aCGzjTZUA+FBk/yq4jNtb8M0Due4lC/tjjDH+8UHDeMzY5t7FAO9YIRn4PKXI/ZU3jnbe2gcwx6rif+QhGth/3G9lBv+kR7jVd+LeJ329zL6JCf4iBjzCPCSfr8FAoKPjvDOHxPyrq5u7+cnItxK8z5yPaiQrGijI9rArrwnsZczdIouHwn+LgCm5Yf0lxp2P1B8a2/AOzNtaJpgiVfE43J8WPUnzNXFBRcA7JWtouIYVBPVz6zsfFmO5PvNVMc/wCL7+USerbXjK6yHZUuQoQoxxsJFVSCT7Skd4rZ1E4pw2KeNopkDowwVIyP2UFR284Xd3NsYLSSNGdgJC7MmYsHUquisQW2GcdCa8dn7e/iMcUkNlHbqunEMszOoVTpCq8YB3xnJ6ZqFFwC/tfVs7sNEPZhuFMwUfqrKGWQDyJbFdHh4xL6pmtoVPVoomeT+qZXKg+9TQd+3PGWjQW0HrXVwCkajcoreq07+CICT5nAq54Hw5beCKBPZjjVB44VQN/OoHZ7sxFbFpMtLM+DJNIdcrEeLHuHcowB3AVe0ClKUClKUGO4/L6DfLeMP+HmjWG4b9QoxMUrfRBZlY9wYHuqVxM8UMjG2NkYTgoZI5HcgqNyyygHfOMDpitDc26yKUdQykEEHcEGsmnZi7tNuH3AWLORbzLzYl8ozqDoPIMR5UH38HPD5l9Lln5ZeW6cnQpVAYvkiFDEnGU8TVx2n47HZwlyNUjHTDEPakkPsoo9/U9wyapoYeLgFEFlECzMWVJZDqdizMFZwMliT1qbwbsmEl9IuJXnuMY5r49UH9GJAAqL5Ab9+aCT2K4S9tapHIQ0jFpJGHQySsXcjy1MQPICryvlfaBSlKD5X2lKBUe8tUlRo5F1I4Ksp6EHqDipFKD5ivtKUClKUClKUClKUClKUFZfHVPDGfZCyS48WiaNVyO8AyFveqnuqDxfj8kN1DbBEPO06GLY06WPN5g+pjRj2myNsZqZxqJwUmiXU8ZOU6F0fGtAT37Kw80G4Ga8QJaXOpwqOx0awRiQGJi8YZT6ylWJYdNznvoJ9texSahHIjlG0tpYNpYfotg7HyNZvis3EI7h4LGODQyrMzy6yEaRnVlSNMZyYy+7DdzU9JxbtLJcOnMkIChCWcohbRGkenO2onv3dzsNh1spdCvcXBWMyOgwxGEUkJHHq8ST/ac47qCk/Jzic38I4m6A/oQRxwj+2Qz/AN9SeG8KPDmZw80sUmOYXZ5pFZRgSDJLEY2IHguBsc6uod9dBAF0l2c4WMYyfEnOwUDck/4kAh6tZYpFDxsjrkkMuGGT1II796p3uRbySBX51xK2RHgaxudIdl9iJQe8dzY1Mxz5uOyyysXkWBWPcsWs+4yMfWHnpWu9pb+hrvHFyh1eNeXoHi6En1fFgdv1cZICw4TaGKJUJy27M3TLuxZmx3ZYk486mZrKcT7fQq5itEa8mG2iLHLU/wBJOfUX3DJ8qg/k3fX+/ELjREf+ltyY4ypz6ssvtvsRkZA26UFjxjt3bxuYYFe6uB/EwjUFO/52X2EG3ec+VQfxLxC/3vJvR4T/ANPbkqSPCSb2m9y6R760vB+BwWyBIIkRR3KAPjt31ZUFVwTs9b2qBIIlQDwGPifE+Zq1pSgUpSgVC4reGGJpAjOVxhFwGYlgoVSxAySR1NTah8VuIo42eUgIuCc+IYafjqxjzoK+PtRAcDVu2dAAJLDGxHhnBGD3iusnHY1WJiGAkQMo0sX9aSJFGhQf0pVHXb3ZI9x2ltH6wCR5JY4bQCZGZjrAOGy2o4Od814ums4tCu0QKYVAzZYadMoUAnORylYD6AoPlv2jt3IAZ99ABMbqCZViZQCR1xNGcd2T+qcSrLiSSu6KG9QKdRGFOosPVPkVNQY+F2aGVsoNRXUC+AuIokUAZGk6YYznr6o32GLK1sY4941C+qF2zjAJI297HfzoJVKUoFKUoKi/4/FDLypDj5NnLZGBpDMBp9okqkh2H6HmK53PaONH0uJFGMlmRgAOVNIe7qFiY74956H1cPavLJFIqFgqu5bTg5RgBuc50I2dsYzQehAli8RKYDFpNRBOtBr1MdzzJF339YigXXaKFA27MQrtpVTlhGxVtOcZ3B36ECvX5QwgHUWXGvPqPgBWkHrHTsTy3wPLzGYsTcPIYKYgiJyz62lFX1otOnPX1CucdF67VJjs7OVmVeW7AHUA2o4bXu4B3Pyj7ncaz40E6yullBZc7MQQylSCO4qwyO4/GpVcoolXOkY1HUfMkAZ/uFdaBSlKBSlKBSlKBSlKBSlKBSlKBSlKBSlKBVdf8DgmOZIlY+JAz+2pk0qopZiAqgkknAAAyST4YqHHczSbpGEXuaTOo+YjG4H1mB8qD7Y8EghOY4lU+IAzXe9Emj5LRqyvtZ041DV7O+dOceeKjPNOm7Isi9+jKP8ABGJB/tA7bA9K9TtDPFqdgYtmJ1NHgxuG9Y5BXDLuDjoQe8UE+qDilq8wuxGxWZUVIjkjDKglU7dxdgD4hAO6q687erIxi4dC13JnBdTotlO3tTkYbrnCA58RXzhNtxGCR7q6dJeYqLJDCuhY1TUVaLUcsQWbOo5IP0QCHHhIvJJ0aVJ0imkF0wbI5QjDqtucdCcQMV7yJK0XD+0EExVUL+vjTqjdAcx8wAFlAyUy2PAGulvxu2kG00fTdSwRxnuZGwyn3gVVtc240pZqssikaCrM8UZWIxBpHBx6sZI0Aljnu9oBN7LWMUUTLGiKFmmUaQAAFmcAfAAD4Vc1E4bacqNUySQN2PVmJyzHzJJJ99S6BSlKBSlKBSlKBUa+thIhRs4JHT6LBu/3VJpQULdmIyWLO5B1AAhMKGE4wPV7ue+58B556SdnUI062xrkYbLn5RJFYE4yfzrEeGB8bqlBRjszHq1FmOGkYAhMAymUsDtvvMxGemB55treLQirkkKoGT12GN67UoFKUoFKUoKviXBI5slmYE4GVIBxokTAyD1WVx8R4V5PA0yCrOrKWKsCuQXdmJGQR+mw3HQ+O9W1KCobgSZ1B5A2osGBXKktKdsqRj5VxvnY+QrtYcHihKmMEaVdQCcjDlCR/wChasaUClKUClKUClKUClKUClKUClKUClKUClKUClKUFbxL1pIYz7JZnI7jylyo/tFW/qVB7X8feyRJQqspYqyE4fJQlXU5xpUqS+2yam/RwZ3GbdyEePeSJtag7BhpKshPmrEZ7jg91eLW6t7ghsKZFUqUcDmoHwGUqdwDjGehx1IoJ1tq0LrKltI1FQQpbG5UEk4z03NZjjXZKC6vPl2do+Wj+j6jyTIHZTI6A4JICDf9WvPF+BQR8xmkjj1K6xALl1+QijjEaA5Yo0RcBR1O2OtXfB43ZnnddBcKqoeqxpkqGxtqJZmOOmrG+MkJllYxxKEjRVUDAAAAA8BipGK+0oIc/DIX3aNT8K7Q26p7Kge6u1KBSlKBSlKBSlKBSlKBSlKDyx2rKcH7YFgjTiJUe1a5LoxblqhTKyqR1IfYjrobbatYRVFF2VhFkbPorRctpFVVdjpxrIwQW7980HqXtTAo9bmBuYsfLMb83XIhdAExkhgDg9MgjuOO68diLsvr+p7baH5aHliQrI+MKwQgkHpkd9Q7bszp5ZJhUpMkvyUIhDaI3QK41nPtk57vCup4E2uYc75CcszxaBq1PEI2CyZ2U4DY0k5zvjagHtVbhGdjIoURHDRyBys8nLjZU06iC22wyO/Fcp+1cYMYWOVy85hddDB42ELS+umM7rpIHeGznaoF32VkSDlxcrXzbPDxwpE4WG7idnkOohyFUtjAGx23xU5ezb7yc4c83Czl+X8nqWDkBBFryF5f0s538qCS/ae3HMyXxHII2PLfBlLhBHGceu5ZlGFz1ry3aiABfzmppTEI+W5k5ix8zQUxkHR62emCDnFJ+AaoyglKt6QZ0fSDpfnc0Arn1l3KncZBPQ71ztezmmVZnk1S89pnIXSrMbb0cKq5OkBAveTkHxoJj8chFubosRCF1FtLagAcEFMagQcgjGdq5N2jgCys2teVBz5FZGVhHmUatJGc/JPt12HjXx+BA2r23MOGZzrxuNczSdM92cdajdoezLXBmKTcvn2xt5PUDkpmQqUJYaSOY+djkHuO9B0i4+FkuFk6JcpFGqKzSNqtIZsaRnJy7nOwCr5Zqz4dfJNGJIzlSWG4IIZGKsrKdwwZSCD0INU3EOyiSs7lgWa5WdQ8YkjDLapblWQkalKKT1BBPlVjwuwaIIoaMIqsCkcQiQuzhtSgMdOBkY3zqzmgs6UpQKUpQKUpQKUpQKUpQKUpQKUpQKUpQKUpQKgX3B4JvzkSt7wKUoPNlwG3iOY4kU+IAzVjSlApSlApSlApSlApSlApSlApSlApSlApSlApSlApSlApSlApSlApSlApSlApSlApSlApSlApSlApSlApSlApSlB//9k=)"
   ]
  },
  {
   "cell_type": "markdown",
   "metadata": {},
   "source": [
    "![Perceptron PseudoCode Image](https://miro.medium.com/max/1032/1*PbJBdf-WxR0Dd0xHvEoh4A.png)"
   ]
  },
  {
   "cell_type": "code",
   "execution_count": 8,
   "metadata": {},
   "outputs": [],
   "source": [
    "import numpy as np\n",
    "import random\n",
    "import matplotlib.pyplot as plt"
   ]
  },
  {
   "cell_type": "code",
   "execution_count": 9,
   "metadata": {},
   "outputs": [],
   "source": [
    "def activation_func(x):\n",
    "    \"\"\"\n",
    "    Input:\n",
    "    x: float\n",
    "    ---\n",
    "    output:\n",
    "    _ : float\n",
    "    Function\n",
    "    Step Function: if x >= 0: 1\n",
    "                    else: 0\n",
    "    \"\"\"\n",
    "    return 1 if x >= 0 else 0"
   ]
  },
  {
   "cell_type": "code",
   "execution_count": 10,
   "metadata": {},
   "outputs": [],
   "source": [
    "class Perceptron:\n",
    "    def __init__(self, X, y, bias= 1):\n",
    "        \"\"\"\n",
    "        Input:\n",
    "        X: 2d Array\n",
    "        y: 1d Array\n",
    "        ---\n",
    "        Description:\n",
    "        Initialize the data from and into the perceptron\n",
    "\n",
    "        X: attribute in the training data\n",
    "        y: Output of the training data\n",
    "        ---\n",
    "        \n",
    "        \"\"\"\n",
    "        self.X = np.asarray(X)\n",
    "        self.y = np.asarray(y)\n",
    "        self.bias = bias\n",
    "        \n",
    "    def predict(self, x):\n",
    "        \"\"\"\n",
    "        Input: \n",
    "        x: np.array(dtype= float)\n",
    "        ---\n",
    "        Output:\n",
    "        y_pred for the value of x\n",
    "        \"\"\"\n",
    "        def _predict(x, w):\n",
    "            return activation_func(np.sum(np.dot(x, self.w)))\n",
    "        if x.shape != self.w.shape:\n",
    "            x = np.insert(x, 0, 1)\n",
    "        return _predict(x, self.w)\n",
    "    \n",
    "    def train(self, epochs= 100, lr= 1):\n",
    "        \"\"\"\n",
    "        Input:\n",
    "        epochs: int\n",
    "        lr: float\n",
    "        ---\n",
    "        Perceptron Training model: The model is runs for epochs\n",
    "        epochs: no of iterations the perceptron runs\n",
    "        lr: learning rate\n",
    "        ---\n",
    "        \"\"\"\n",
    "        self.w = np.insert(np.array([random.randint(0, 1) for i in range(X.shape[1])]), 0, self.bias)\n",
    "        for _ in range(epochs):\n",
    "            for i in range(self.y.shape[0]):\n",
    "                x = np.insert(self.X[i], 0, 1)\n",
    "                y_pred = self.predict(x)\n",
    "                err = self.y[i] - y_pred\n",
    "                self.w = self.w + lr * err * x"
   ]
  },
  {
   "cell_type": "code",
   "execution_count": 11,
   "metadata": {},
   "outputs": [],
   "source": [
    "X = np.array([\n",
    "    [0, 0],\n",
    "    [0, 1],\n",
    "    [1, 0],\n",
    "    [1, 1]\n",
    "])\n",
    "y_and = np.array([x0 and x1 for x0, x1 in X])\n",
    "y_or = np.array([x0 or x1 for x0, x1 in X])\n",
    "y_nand = np.array([not(x0 and x1) for x0, x1 in X])\n",
    "y_nor = np.array([not(x0 or x1) for x0, x1 in X])\n",
    "\n",
    "and_per = Perceptron(X, y_and)\n",
    "or_per = Perceptron(X, y_or)\n",
    "nand_per = Perceptron(X, y_nand)\n",
    "nor_per = Perceptron(X, y_nor)\n"
   ]
  },
  {
   "cell_type": "code",
   "execution_count": 12,
   "metadata": {},
   "outputs": [],
   "source": [
    "and_per.train(100, 0.1)\n",
    "or_per.train(100, 0.1)\n",
    "nand_per.train(100, 0.1)\n",
    "nor_per.train(100, 0.1)"
   ]
  },
  {
   "cell_type": "code",
   "execution_count": 13,
   "metadata": {},
   "outputs": [
    {
     "name": "stdout",
     "output_type": "stream",
     "text": [
      "and[0 0] = 0\n",
      "and[0 1] = 0\n",
      "and[1 0] = 0\n",
      "and[1 1] = 1\n",
      "or[0 0] = 0\n",
      "or[0 1] = 1\n",
      "or[1 0] = 1\n",
      "or[1 1] = 1\n",
      "nand[0 0] = 1\n",
      "nand[0 1] = 1\n",
      "nand[1 0] = 1\n",
      "nand[1 1] = 0\n",
      "nor[0 0] = 1\n",
      "nor[0 1] = 0\n",
      "nor[1 0] = 0\n",
      "nor[1 1] = 0\n",
      "Correct Predictions\n"
     ]
    }
   ],
   "source": [
    "for x in X:\n",
    "    print(f\"and{x} = {and_per.predict(x)}\")\n",
    "for x in X:\n",
    "    print(f\"or{x} = {or_per.predict(x)}\")    \n",
    "for x in X:\n",
    "    print(f\"nand{x} = {nand_per.predict(x)}\")    \n",
    "for x in X:\n",
    "    print(f\"nor{x} = {nor_per.predict(x)}\")\n",
    "print(\"Correct Predictions\")    "
   ]
  },
  {
   "cell_type": "code",
   "execution_count": 14,
   "metadata": {},
   "outputs": [
    {
     "data": {
      "text/plain": [
       "array([-0.6,  0.4,  0.4])"
      ]
     },
     "execution_count": 14,
     "metadata": {},
     "output_type": "execute_result"
    }
   ],
   "source": [
    "and_per.w"
   ]
  },
  {
   "cell_type": "code",
   "execution_count": 15,
   "metadata": {},
   "outputs": [],
   "source": [
    "X = np.array([\n",
    "    [0, 0],\n",
    "    [0, 1],\n",
    "    [1, 0],\n",
    "    [1, 1]\n",
    "])\n",
    "y_xor = np.array([x0 ^ x1 for x0, x1 in X])\n",
    "y_xnor = np.array([not(x0 ^ x1) for x0, x1 in X])\n",
    "xor_per = Perceptron(X, y_xor)\n",
    "xnor_per = Perceptron(X, y_xnor)"
   ]
  },
  {
   "cell_type": "code",
   "execution_count": 16,
   "metadata": {},
   "outputs": [],
   "source": [
    "xor_per.train(100, 0.1)\n",
    "xnor_per.train(100, 0.1)"
   ]
  },
  {
   "cell_type": "code",
   "execution_count": 17,
   "metadata": {},
   "outputs": [
    {
     "name": "stdout",
     "output_type": "stream",
     "text": [
      "xor[0 0] = 1\n",
      "xor[0 1] = 0\n",
      "xor[1 0] = 0\n",
      "xor[1 1] = 0\n",
      "xnor[0 0] = 0\n",
      "xnor[0 1] = 1\n",
      "xnor[1 0] = 1\n",
      "xnor[1 1] = 1\n",
      "Wrong Prediction ... Unclear decision boundary\n"
     ]
    }
   ],
   "source": [
    "for x in X:\n",
    "    print(f\"xor{x} = {xor_per.predict(x)}\")\n",
    "for x in X:\n",
    "    print(f\"xnor{x} = {xnor_per.predict(x)}\")    \n",
    "print(\"Wrong Prediction ... Unclear decision boundary\")"
   ]
  },
  {
   "cell_type": "code",
   "execution_count": 18,
   "metadata": {},
   "outputs": [
    {
     "name": "stdout",
     "output_type": "stream",
     "text": [
      "xor[0 0] = 0\n",
      "xor[0 1] = 1\n",
      "xor[1 0] = 1\n",
      "xor[1 1] = 0\n",
      "Correct Predictions\n"
     ]
    }
   ],
   "source": [
    "def XOR_net(X):\n",
    "    nand_out = [nand_per.predict(x) for x in X]\n",
    "    or_out = [or_per.predict(x) for x in X]\n",
    "    xor_out = [and_per.predict(np.asarray([nand_out[i], or_out[i]])) for i in range(X.shape[0])]\n",
    "    return xor_out\n",
    "xor_out = XOR_net(X)\n",
    "for i, x in enumerate(X):\n",
    "    print(f\"xor{x} = {xor_out[i]}\")\n",
    "print(\"Correct Predictions\")"
   ]
  },
  {
   "cell_type": "markdown",
   "metadata": {},
   "source": [
    "## 4. \n",
    "Simulate the working of Back Propagation Network to learn a classifier model and generate class labels for test data set. Any built in / open-source packages could be used to test drive the above application. You may test it on classification datasets used for class discussion or any other larger data set of your choice if required to appreciate the power of neural networks in iterative learning.\n"
   ]
  },
  {
   "cell_type": "code",
   "execution_count": null,
   "metadata": {},
   "outputs": [],
   "source": []
  },
  {
   "cell_type": "markdown",
   "metadata": {},
   "source": [
    "## 5. \n",
    "Develop an application that simulates the working of K Means, K Medoids and Hierarchical clustering algorithms. Distance measure for the basic version could be based on Euclidean Distance. You may later test these implementations with other distance measures such as Cosine Similarity, Hamming, Minowski etc. If the platform supports these algorithms / measures or open-source packages exist.\n"
   ]
  },
  {
   "cell_type": "code",
   "execution_count": 19,
   "metadata": {},
   "outputs": [],
   "source": [
    "from sklearn.cluster import KMeans\n",
    "import numpy as np"
   ]
  },
  {
   "cell_type": "code",
   "execution_count": 20,
   "metadata": {},
   "outputs": [
    {
     "data": {
      "text/plain": [
       "array([[10.,  2.],\n",
       "       [ 1.,  2.]])"
      ]
     },
     "execution_count": 20,
     "metadata": {},
     "output_type": "execute_result"
    }
   ],
   "source": [
    "X = np.array([[1, 2], [1, 4], [1, 0],\n",
    "              [10, 2], [10, 4], [10, 0]])\n",
    "kmeans = KMeans(n_clusters=2, random_state=0).fit(X)\n",
    "kmeans.labels_\n",
    "\n",
    "kmeans.predict([[0, 0], [12, 3]])\n",
    "\n",
    "kmeans.cluster_centers_"
   ]
  },
  {
   "cell_type": "markdown",
   "metadata": {},
   "source": [
    "## 6. \n",
    "Extend the above hierarchical implementation to perform both agglomerative and divisive analysis (AGNES / DIANA) approaches to clustering. You may also use the support for Single, Average and Complete Linkage approaches to hierarchical clustering and depict the output as Dendrograms.\n"
   ]
  },
  {
   "cell_type": "code",
   "execution_count": null,
   "metadata": {},
   "outputs": [],
   "source": []
  },
  {
   "cell_type": "markdown",
   "metadata": {},
   "source": [
    "## 7. \n",
    "Test drive any one Frequent Itemset Mining algorithm other than FPGrowth which was discussed on Hadoop / Pyspark platform. You may use built in support / open source packages as part of any user defined function development. Choice could be algorithms such as Apriori, DIC or any other FIM in literature. You may test with large datasets such as FIMI etc.\n"
   ]
  },
  {
   "cell_type": "code",
   "execution_count": 5,
   "metadata": {},
   "outputs": [],
   "source": [
    "import sys\n",
    "import os\n",
    "os.environ['SPARK_HOME'] = '/opt/spark'\n",
    "# SparkContext is available as sc and HiveContext is available as sqlContext.\n",
    "sys.path.append('/opt/spark/python')\n",
    "sys.path.append('/opt/spark/data')\n"
   ]
  },
  {
   "cell_type": "code",
   "execution_count": 6,
   "metadata": {},
   "outputs": [],
   "source": [
    "import findspark\n",
    "findspark.init()"
   ]
  },
  {
   "cell_type": "code",
   "execution_count": 7,
   "metadata": {},
   "outputs": [
    {
     "ename": "ValueError",
     "evalue": "Cannot run multiple SparkContexts at once; existing SparkContext(app=FPGrowth, master=local[*]) created by __init__ at <ipython-input-3-98f01dd5b0d3>:4 ",
     "output_type": "error",
     "traceback": [
      "\u001b[0;31m---------------------------------------------------------------------------\u001b[0m",
      "\u001b[0;31mValueError\u001b[0m                                Traceback (most recent call last)",
      "\u001b[0;32m<ipython-input-7-98f01dd5b0d3>\u001b[0m in \u001b[0;36m<module>\u001b[0;34m\u001b[0m\n\u001b[1;32m      2\u001b[0m \u001b[0;32mfrom\u001b[0m \u001b[0mpyspark\u001b[0m \u001b[0;32mimport\u001b[0m \u001b[0mSparkContext\u001b[0m\u001b[0;34m\u001b[0m\u001b[0;34m\u001b[0m\u001b[0m\n\u001b[1;32m      3\u001b[0m \u001b[0;34m\u001b[0m\u001b[0m\n\u001b[0;32m----> 4\u001b[0;31m \u001b[0msc\u001b[0m \u001b[0;34m=\u001b[0m \u001b[0mSparkContext\u001b[0m\u001b[0;34m(\u001b[0m\u001b[0mappName\u001b[0m\u001b[0;34m=\u001b[0m\u001b[0;34m\"FPGrowth\"\u001b[0m\u001b[0;34m)\u001b[0m\u001b[0;34m\u001b[0m\u001b[0;34m\u001b[0m\u001b[0m\n\u001b[0m",
      "\u001b[0;32m/opt/spark/python/pyspark/context.py\u001b[0m in \u001b[0;36m__init__\u001b[0;34m(self, master, appName, sparkHome, pyFiles, environment, batchSize, serializer, conf, gateway, jsc, profiler_cls)\u001b[0m\n\u001b[1;32m    131\u001b[0m                 \" is not allowed as it is a security risk.\")\n\u001b[1;32m    132\u001b[0m \u001b[0;34m\u001b[0m\u001b[0m\n\u001b[0;32m--> 133\u001b[0;31m         \u001b[0mSparkContext\u001b[0m\u001b[0;34m.\u001b[0m\u001b[0m_ensure_initialized\u001b[0m\u001b[0;34m(\u001b[0m\u001b[0mself\u001b[0m\u001b[0;34m,\u001b[0m \u001b[0mgateway\u001b[0m\u001b[0;34m=\u001b[0m\u001b[0mgateway\u001b[0m\u001b[0;34m,\u001b[0m \u001b[0mconf\u001b[0m\u001b[0;34m=\u001b[0m\u001b[0mconf\u001b[0m\u001b[0;34m)\u001b[0m\u001b[0;34m\u001b[0m\u001b[0;34m\u001b[0m\u001b[0m\n\u001b[0m\u001b[1;32m    134\u001b[0m         \u001b[0;32mtry\u001b[0m\u001b[0;34m:\u001b[0m\u001b[0;34m\u001b[0m\u001b[0;34m\u001b[0m\u001b[0m\n\u001b[1;32m    135\u001b[0m             self._do_init(master, appName, sparkHome, pyFiles, environment, batchSize, serializer,\n",
      "\u001b[0;32m/opt/spark/python/pyspark/context.py\u001b[0m in \u001b[0;36m_ensure_initialized\u001b[0;34m(cls, instance, gateway, conf)\u001b[0m\n\u001b[1;32m    339\u001b[0m                         \u001b[0;34m\" created by %s at %s:%s \"\u001b[0m\u001b[0;34m\u001b[0m\u001b[0;34m\u001b[0m\u001b[0m\n\u001b[1;32m    340\u001b[0m                         % (currentAppName, currentMaster,\n\u001b[0;32m--> 341\u001b[0;31m                             callsite.function, callsite.file, callsite.linenum))\n\u001b[0m\u001b[1;32m    342\u001b[0m                 \u001b[0;32melse\u001b[0m\u001b[0;34m:\u001b[0m\u001b[0;34m\u001b[0m\u001b[0;34m\u001b[0m\u001b[0m\n\u001b[1;32m    343\u001b[0m                     \u001b[0mSparkContext\u001b[0m\u001b[0;34m.\u001b[0m\u001b[0m_active_spark_context\u001b[0m \u001b[0;34m=\u001b[0m \u001b[0minstance\u001b[0m\u001b[0;34m\u001b[0m\u001b[0;34m\u001b[0m\u001b[0m\n",
      "\u001b[0;31mValueError\u001b[0m: Cannot run multiple SparkContexts at once; existing SparkContext(app=FPGrowth, master=local[*]) created by __init__ at <ipython-input-3-98f01dd5b0d3>:4 "
     ]
    }
   ],
   "source": [
    "# sc.stop()\n",
    "from pyspark import SparkContext\n",
    "\n",
    "sc = SparkContext(appName=\"FPGrowth\")\n"
   ]
  },
  {
   "cell_type": "code",
   "execution_count": 8,
   "metadata": {},
   "outputs": [
    {
     "ename": "Py4JJavaError",
     "evalue": "An error occurred while calling o36.trainFPGrowthModel.\n: org.apache.hadoop.mapred.InvalidInputException: Input path does not exist: file:/home/anant/Desktop/Anant/Sem6/Big Data/Lectures/ASBD PPT/Code/connect.dat\n\tat org.apache.hadoop.mapred.FileInputFormat.singleThreadedListStatus(FileInputFormat.java:287)\n\tat org.apache.hadoop.mapred.FileInputFormat.listStatus(FileInputFormat.java:229)\n\tat org.apache.hadoop.mapred.FileInputFormat.getSplits(FileInputFormat.java:315)\n\tat org.apache.spark.rdd.HadoopRDD.getPartitions(HadoopRDD.scala:205)\n\tat org.apache.spark.rdd.RDD.$anonfun$partitions$2(RDD.scala:276)\n\tat scala.Option.getOrElse(Option.scala:189)\n\tat org.apache.spark.rdd.RDD.partitions(RDD.scala:272)\n\tat org.apache.spark.rdd.MapPartitionsRDD.getPartitions(MapPartitionsRDD.scala:49)\n\tat org.apache.spark.rdd.RDD.$anonfun$partitions$2(RDD.scala:276)\n\tat scala.Option.getOrElse(Option.scala:189)\n\tat org.apache.spark.rdd.RDD.partitions(RDD.scala:272)\n\tat org.apache.spark.api.python.PythonRDD.getPartitions(PythonRDD.scala:55)\n\tat org.apache.spark.rdd.RDD.$anonfun$partitions$2(RDD.scala:276)\n\tat scala.Option.getOrElse(Option.scala:189)\n\tat org.apache.spark.rdd.RDD.partitions(RDD.scala:272)\n\tat org.apache.spark.rdd.MapPartitionsRDD.getPartitions(MapPartitionsRDD.scala:49)\n\tat org.apache.spark.rdd.RDD.$anonfun$partitions$2(RDD.scala:276)\n\tat scala.Option.getOrElse(Option.scala:189)\n\tat org.apache.spark.rdd.RDD.partitions(RDD.scala:272)\n\tat org.apache.spark.rdd.MapPartitionsRDD.getPartitions(MapPartitionsRDD.scala:49)\n\tat org.apache.spark.rdd.RDD.$anonfun$partitions$2(RDD.scala:276)\n\tat scala.Option.getOrElse(Option.scala:189)\n\tat org.apache.spark.rdd.RDD.partitions(RDD.scala:272)\n\tat org.apache.spark.SparkContext.runJob(SparkContext.scala:2164)\n\tat org.apache.spark.rdd.RDD.count(RDD.scala:1227)\n\tat org.apache.spark.mllib.fpm.FPGrowth.run(FPGrowth.scala:215)\n\tat org.apache.spark.mllib.api.python.PythonMLLibAPI.trainFPGrowthModel(PythonMLLibAPI.scala:571)\n\tat java.base/jdk.internal.reflect.NativeMethodAccessorImpl.invoke0(Native Method)\n\tat java.base/jdk.internal.reflect.NativeMethodAccessorImpl.invoke(NativeMethodAccessorImpl.java:62)\n\tat java.base/jdk.internal.reflect.DelegatingMethodAccessorImpl.invoke(DelegatingMethodAccessorImpl.java:43)\n\tat java.base/java.lang.reflect.Method.invoke(Method.java:566)\n\tat py4j.reflection.MethodInvoker.invoke(MethodInvoker.java:244)\n\tat py4j.reflection.ReflectionEngine.invoke(ReflectionEngine.java:357)\n\tat py4j.Gateway.invoke(Gateway.java:282)\n\tat py4j.commands.AbstractCommand.invokeMethod(AbstractCommand.java:132)\n\tat py4j.commands.CallCommand.execute(CallCommand.java:79)\n\tat py4j.GatewayConnection.run(GatewayConnection.java:238)\n\tat java.base/java.lang.Thread.run(Thread.java:829)\n",
     "output_type": "error",
     "traceback": [
      "\u001b[0;31m---------------------------------------------------------------------------\u001b[0m",
      "\u001b[0;31mPy4JJavaError\u001b[0m                             Traceback (most recent call last)",
      "\u001b[0;32m<ipython-input-8-42caf1e788c2>\u001b[0m in \u001b[0;36m<module>\u001b[0;34m\u001b[0m\n\u001b[1;32m      8\u001b[0m \u001b[0;31m# there is no need to convert the numbers from str to int\u001b[0m\u001b[0;34m\u001b[0m\u001b[0;34m\u001b[0m\u001b[0;34m\u001b[0m\u001b[0m\n\u001b[1;32m      9\u001b[0m \u001b[0;31m# because, every number represents an item rather than a quantity\u001b[0m\u001b[0;34m\u001b[0m\u001b[0;34m\u001b[0m\u001b[0;34m\u001b[0m\u001b[0m\n\u001b[0;32m---> 10\u001b[0;31m \u001b[0mmodel\u001b[0m \u001b[0;34m=\u001b[0m \u001b[0mFPGrowth\u001b[0m\u001b[0;34m.\u001b[0m\u001b[0mtrain\u001b[0m\u001b[0;34m(\u001b[0m\u001b[0mtransactions\u001b[0m\u001b[0;34m,\u001b[0m \u001b[0mminSupport\u001b[0m\u001b[0;34m=\u001b[0m\u001b[0;36m0.9\u001b[0m\u001b[0;34m)\u001b[0m\u001b[0;34m\u001b[0m\u001b[0;34m\u001b[0m\u001b[0m\n\u001b[0m\u001b[1;32m     11\u001b[0m \u001b[0mresult\u001b[0m \u001b[0;34m=\u001b[0m \u001b[0mmodel\u001b[0m\u001b[0;34m.\u001b[0m\u001b[0mfreqItemsets\u001b[0m\u001b[0;34m(\u001b[0m\u001b[0;34m)\u001b[0m\u001b[0;34m.\u001b[0m\u001b[0mcollect\u001b[0m\u001b[0;34m(\u001b[0m\u001b[0;34m)\u001b[0m\u001b[0;34m\u001b[0m\u001b[0;34m\u001b[0m\u001b[0m\n\u001b[1;32m     12\u001b[0m \u001b[0mprint\u001b[0m\u001b[0;34m(\u001b[0m\u001b[0mresult\u001b[0m\u001b[0;34m)\u001b[0m\u001b[0;34m\u001b[0m\u001b[0;34m\u001b[0m\u001b[0m\n",
      "\u001b[0;32m/opt/spark/python/pyspark/mllib/fpm.py\u001b[0m in \u001b[0;36mtrain\u001b[0;34m(cls, data, minSupport, numPartitions)\u001b[0m\n\u001b[1;32m     90\u001b[0m           \u001b[0;34m(\u001b[0m\u001b[0mdefault\u001b[0m\u001b[0;34m:\u001b[0m \u001b[0;34m-\u001b[0m\u001b[0;36m1\u001b[0m\u001b[0;34m)\u001b[0m\u001b[0;34m\u001b[0m\u001b[0;34m\u001b[0m\u001b[0m\n\u001b[1;32m     91\u001b[0m         \"\"\"\n\u001b[0;32m---> 92\u001b[0;31m         \u001b[0mmodel\u001b[0m \u001b[0;34m=\u001b[0m \u001b[0mcallMLlibFunc\u001b[0m\u001b[0;34m(\u001b[0m\u001b[0;34m\"trainFPGrowthModel\"\u001b[0m\u001b[0;34m,\u001b[0m \u001b[0mdata\u001b[0m\u001b[0;34m,\u001b[0m \u001b[0mfloat\u001b[0m\u001b[0;34m(\u001b[0m\u001b[0mminSupport\u001b[0m\u001b[0;34m)\u001b[0m\u001b[0;34m,\u001b[0m \u001b[0mint\u001b[0m\u001b[0;34m(\u001b[0m\u001b[0mnumPartitions\u001b[0m\u001b[0;34m)\u001b[0m\u001b[0;34m)\u001b[0m\u001b[0;34m\u001b[0m\u001b[0;34m\u001b[0m\u001b[0m\n\u001b[0m\u001b[1;32m     93\u001b[0m         \u001b[0;32mreturn\u001b[0m \u001b[0mFPGrowthModel\u001b[0m\u001b[0;34m(\u001b[0m\u001b[0mmodel\u001b[0m\u001b[0;34m)\u001b[0m\u001b[0;34m\u001b[0m\u001b[0;34m\u001b[0m\u001b[0m\n\u001b[1;32m     94\u001b[0m \u001b[0;34m\u001b[0m\u001b[0m\n",
      "\u001b[0;32m/opt/spark/python/pyspark/mllib/common.py\u001b[0m in \u001b[0;36mcallMLlibFunc\u001b[0;34m(name, *args)\u001b[0m\n\u001b[1;32m    128\u001b[0m     \u001b[0msc\u001b[0m \u001b[0;34m=\u001b[0m \u001b[0mSparkContext\u001b[0m\u001b[0;34m.\u001b[0m\u001b[0mgetOrCreate\u001b[0m\u001b[0;34m(\u001b[0m\u001b[0;34m)\u001b[0m\u001b[0;34m\u001b[0m\u001b[0;34m\u001b[0m\u001b[0m\n\u001b[1;32m    129\u001b[0m     \u001b[0mapi\u001b[0m \u001b[0;34m=\u001b[0m \u001b[0mgetattr\u001b[0m\u001b[0;34m(\u001b[0m\u001b[0msc\u001b[0m\u001b[0;34m.\u001b[0m\u001b[0m_jvm\u001b[0m\u001b[0;34m.\u001b[0m\u001b[0mPythonMLLibAPI\u001b[0m\u001b[0;34m(\u001b[0m\u001b[0;34m)\u001b[0m\u001b[0;34m,\u001b[0m \u001b[0mname\u001b[0m\u001b[0;34m)\u001b[0m\u001b[0;34m\u001b[0m\u001b[0;34m\u001b[0m\u001b[0m\n\u001b[0;32m--> 130\u001b[0;31m     \u001b[0;32mreturn\u001b[0m \u001b[0mcallJavaFunc\u001b[0m\u001b[0;34m(\u001b[0m\u001b[0msc\u001b[0m\u001b[0;34m,\u001b[0m \u001b[0mapi\u001b[0m\u001b[0;34m,\u001b[0m \u001b[0;34m*\u001b[0m\u001b[0margs\u001b[0m\u001b[0;34m)\u001b[0m\u001b[0;34m\u001b[0m\u001b[0;34m\u001b[0m\u001b[0m\n\u001b[0m\u001b[1;32m    131\u001b[0m \u001b[0;34m\u001b[0m\u001b[0m\n\u001b[1;32m    132\u001b[0m \u001b[0;34m\u001b[0m\u001b[0m\n",
      "\u001b[0;32m/opt/spark/python/pyspark/mllib/common.py\u001b[0m in \u001b[0;36mcallJavaFunc\u001b[0;34m(sc, func, *args)\u001b[0m\n\u001b[1;32m    121\u001b[0m     \u001b[0;34m\"\"\" Call Java Function \"\"\"\u001b[0m\u001b[0;34m\u001b[0m\u001b[0;34m\u001b[0m\u001b[0m\n\u001b[1;32m    122\u001b[0m     \u001b[0margs\u001b[0m \u001b[0;34m=\u001b[0m \u001b[0;34m[\u001b[0m\u001b[0m_py2java\u001b[0m\u001b[0;34m(\u001b[0m\u001b[0msc\u001b[0m\u001b[0;34m,\u001b[0m \u001b[0ma\u001b[0m\u001b[0;34m)\u001b[0m \u001b[0;32mfor\u001b[0m \u001b[0ma\u001b[0m \u001b[0;32min\u001b[0m \u001b[0margs\u001b[0m\u001b[0;34m]\u001b[0m\u001b[0;34m\u001b[0m\u001b[0;34m\u001b[0m\u001b[0m\n\u001b[0;32m--> 123\u001b[0;31m     \u001b[0;32mreturn\u001b[0m \u001b[0m_java2py\u001b[0m\u001b[0;34m(\u001b[0m\u001b[0msc\u001b[0m\u001b[0;34m,\u001b[0m \u001b[0mfunc\u001b[0m\u001b[0;34m(\u001b[0m\u001b[0;34m*\u001b[0m\u001b[0margs\u001b[0m\u001b[0;34m)\u001b[0m\u001b[0;34m)\u001b[0m\u001b[0;34m\u001b[0m\u001b[0;34m\u001b[0m\u001b[0m\n\u001b[0m\u001b[1;32m    124\u001b[0m \u001b[0;34m\u001b[0m\u001b[0m\n\u001b[1;32m    125\u001b[0m \u001b[0;34m\u001b[0m\u001b[0m\n",
      "\u001b[0;32m/opt/spark/python/lib/py4j-0.10.9-src.zip/py4j/java_gateway.py\u001b[0m in \u001b[0;36m__call__\u001b[0;34m(self, *args)\u001b[0m\n\u001b[1;32m   1303\u001b[0m         \u001b[0manswer\u001b[0m \u001b[0;34m=\u001b[0m \u001b[0mself\u001b[0m\u001b[0;34m.\u001b[0m\u001b[0mgateway_client\u001b[0m\u001b[0;34m.\u001b[0m\u001b[0msend_command\u001b[0m\u001b[0;34m(\u001b[0m\u001b[0mcommand\u001b[0m\u001b[0;34m)\u001b[0m\u001b[0;34m\u001b[0m\u001b[0;34m\u001b[0m\u001b[0m\n\u001b[1;32m   1304\u001b[0m         return_value = get_return_value(\n\u001b[0;32m-> 1305\u001b[0;31m             answer, self.gateway_client, self.target_id, self.name)\n\u001b[0m\u001b[1;32m   1306\u001b[0m \u001b[0;34m\u001b[0m\u001b[0m\n\u001b[1;32m   1307\u001b[0m         \u001b[0;32mfor\u001b[0m \u001b[0mtemp_arg\u001b[0m \u001b[0;32min\u001b[0m \u001b[0mtemp_args\u001b[0m\u001b[0;34m:\u001b[0m\u001b[0;34m\u001b[0m\u001b[0;34m\u001b[0m\u001b[0m\n",
      "\u001b[0;32m/opt/spark/python/lib/py4j-0.10.9-src.zip/py4j/protocol.py\u001b[0m in \u001b[0;36mget_return_value\u001b[0;34m(answer, gateway_client, target_id, name)\u001b[0m\n\u001b[1;32m    326\u001b[0m                 raise Py4JJavaError(\n\u001b[1;32m    327\u001b[0m                     \u001b[0;34m\"An error occurred while calling {0}{1}{2}.\\n\"\u001b[0m\u001b[0;34m.\u001b[0m\u001b[0;34m\u001b[0m\u001b[0;34m\u001b[0m\u001b[0m\n\u001b[0;32m--> 328\u001b[0;31m                     format(target_id, \".\", name), value)\n\u001b[0m\u001b[1;32m    329\u001b[0m             \u001b[0;32melse\u001b[0m\u001b[0;34m:\u001b[0m\u001b[0;34m\u001b[0m\u001b[0;34m\u001b[0m\u001b[0m\n\u001b[1;32m    330\u001b[0m                 raise Py4JError(\n",
      "\u001b[0;31mPy4JJavaError\u001b[0m: An error occurred while calling o36.trainFPGrowthModel.\n: org.apache.hadoop.mapred.InvalidInputException: Input path does not exist: file:/home/anant/Desktop/Anant/Sem6/Big Data/Lectures/ASBD PPT/Code/connect.dat\n\tat org.apache.hadoop.mapred.FileInputFormat.singleThreadedListStatus(FileInputFormat.java:287)\n\tat org.apache.hadoop.mapred.FileInputFormat.listStatus(FileInputFormat.java:229)\n\tat org.apache.hadoop.mapred.FileInputFormat.getSplits(FileInputFormat.java:315)\n\tat org.apache.spark.rdd.HadoopRDD.getPartitions(HadoopRDD.scala:205)\n\tat org.apache.spark.rdd.RDD.$anonfun$partitions$2(RDD.scala:276)\n\tat scala.Option.getOrElse(Option.scala:189)\n\tat org.apache.spark.rdd.RDD.partitions(RDD.scala:272)\n\tat org.apache.spark.rdd.MapPartitionsRDD.getPartitions(MapPartitionsRDD.scala:49)\n\tat org.apache.spark.rdd.RDD.$anonfun$partitions$2(RDD.scala:276)\n\tat scala.Option.getOrElse(Option.scala:189)\n\tat org.apache.spark.rdd.RDD.partitions(RDD.scala:272)\n\tat org.apache.spark.api.python.PythonRDD.getPartitions(PythonRDD.scala:55)\n\tat org.apache.spark.rdd.RDD.$anonfun$partitions$2(RDD.scala:276)\n\tat scala.Option.getOrElse(Option.scala:189)\n\tat org.apache.spark.rdd.RDD.partitions(RDD.scala:272)\n\tat org.apache.spark.rdd.MapPartitionsRDD.getPartitions(MapPartitionsRDD.scala:49)\n\tat org.apache.spark.rdd.RDD.$anonfun$partitions$2(RDD.scala:276)\n\tat scala.Option.getOrElse(Option.scala:189)\n\tat org.apache.spark.rdd.RDD.partitions(RDD.scala:272)\n\tat org.apache.spark.rdd.MapPartitionsRDD.getPartitions(MapPartitionsRDD.scala:49)\n\tat org.apache.spark.rdd.RDD.$anonfun$partitions$2(RDD.scala:276)\n\tat scala.Option.getOrElse(Option.scala:189)\n\tat org.apache.spark.rdd.RDD.partitions(RDD.scala:272)\n\tat org.apache.spark.SparkContext.runJob(SparkContext.scala:2164)\n\tat org.apache.spark.rdd.RDD.count(RDD.scala:1227)\n\tat org.apache.spark.mllib.fpm.FPGrowth.run(FPGrowth.scala:215)\n\tat org.apache.spark.mllib.api.python.PythonMLLibAPI.trainFPGrowthModel(PythonMLLibAPI.scala:571)\n\tat java.base/jdk.internal.reflect.NativeMethodAccessorImpl.invoke0(Native Method)\n\tat java.base/jdk.internal.reflect.NativeMethodAccessorImpl.invoke(NativeMethodAccessorImpl.java:62)\n\tat java.base/jdk.internal.reflect.DelegatingMethodAccessorImpl.invoke(DelegatingMethodAccessorImpl.java:43)\n\tat java.base/java.lang.reflect.Method.invoke(Method.java:566)\n\tat py4j.reflection.MethodInvoker.invoke(MethodInvoker.java:244)\n\tat py4j.reflection.ReflectionEngine.invoke(ReflectionEngine.java:357)\n\tat py4j.Gateway.invoke(Gateway.java:282)\n\tat py4j.commands.AbstractCommand.invokeMethod(AbstractCommand.java:132)\n\tat py4j.commands.CallCommand.execute(CallCommand.java:79)\n\tat py4j.GatewayConnection.run(GatewayConnection.java:238)\n\tat java.base/java.lang.Thread.run(Thread.java:829)\n"
     ]
    }
   ],
   "source": [
    "# Will start a spark session and then run programs\n",
    "from pyspark.mllib.fpm import FPGrowth\n",
    "# $example off$\n",
    "\n",
    "# $example on$\n",
    "data = sc.textFile(\"connect.dat\")\n",
    "transactions = data.map(lambda line: line.strip().split(' '))\n",
    "# there is no need to convert the numbers from str to int\n",
    "# because, every number represents an item rather than a quantity\n",
    "model = FPGrowth.train(transactions, minSupport=0.9)\n",
    "result = model.freqItemsets().collect()\n",
    "print(result)\n",
    "\n",
    "sc.stop()"
   ]
  },
  {
   "cell_type": "markdown",
   "metadata": {},
   "source": [
    "## 8.\n",
    "Test drive the Decision Tree or Naive Bayesian Classifier; K Means or Hierarchical Clustering on Hadoop / Pyspark over large datasets.\n"
   ]
  },
  {
   "cell_type": "code",
   "execution_count": 27,
   "metadata": {},
   "outputs": [],
   "source": [
    "from pyspark.sql import SparkSession\n",
    "spark = SparkSession.builder \\\n",
    "         .master(\"local\") \\\n",
    "         .appName(\"Decision Tree\") \\\n",
    "         .config(\"spark.some.config.option\", \"some-value\") \\\n",
    "         .getOrCreate()\n"
   ]
  },
  {
   "cell_type": "code",
   "execution_count": 28,
   "metadata": {},
   "outputs": [
    {
     "name": "stdout",
     "output_type": "stream",
     "text": [
      "+----------+------------+--------------------+\n",
      "|prediction|indexedLabel|            features|\n",
      "+----------+------------+--------------------+\n",
      "|       1.0|         1.0|(692,[124,125,126...|\n",
      "|       1.0|         1.0|(692,[124,125,126...|\n",
      "|       1.0|         1.0|(692,[124,125,126...|\n",
      "|       1.0|         1.0|(692,[126,127,128...|\n",
      "|       1.0|         1.0|(692,[126,127,128...|\n",
      "+----------+------------+--------------------+\n",
      "only showing top 5 rows\n",
      "\n",
      "Test Error = 0 \n",
      "DecisionTreeClassificationModel: uid=DecisionTreeClassifier_6db9ab71568a, depth=2, numNodes=5, numClasses=2, numFeatures=692\n"
     ]
    }
   ],
   "source": [
    "from pyspark.ml import Pipeline\n",
    "from pyspark.ml.classification import DecisionTreeClassifier\n",
    "from pyspark.ml.feature import StringIndexer, VectorIndexer\n",
    "from pyspark.ml.evaluation import MulticlassClassificationEvaluator\n",
    "\n",
    "# Load the data stored in LIBSVM format as a DataFrame.\n",
    "data = spark.read.format(\"libsvm\").load(\"/opt/spark/data/mllib/sample_libsvm_data.txt\")\n",
    "\n",
    "# Index labels, adding metadata to the label column.\n",
    "# Fit on whole dataset to include all labels in index.\n",
    "labelIndexer = StringIndexer(inputCol=\"label\", outputCol=\"indexedLabel\").fit(data)\n",
    "\n",
    "# Automatically identify categorical features, and index them.\n",
    "# We specify maxCategories so features with > 4 distinct values are treated as continuous.\n",
    "featureIndexer =\\\n",
    "    VectorIndexer(inputCol=\"features\", outputCol=\"indexedFeatures\", maxCategories=4).fit(data)\n",
    "\n",
    "# Split the data into training and test sets (30% held out for testing)\n",
    "(trainingData, testData) = data.randomSplit([0.7, 0.3])\n",
    "\n",
    "# Train a DecisionTree model.\n",
    "dt = DecisionTreeClassifier(labelCol=\"indexedLabel\", featuresCol=\"indexedFeatures\")\n",
    "\n",
    "# Chain indexers and tree in a Pipeline\n",
    "pipeline = Pipeline(stages=[labelIndexer, featureIndexer, dt])\n",
    "\n",
    "# Train model.  This also runs the indexers.\n",
    "model = pipeline.fit(trainingData)\n",
    "\n",
    "# Make predictions.\n",
    "predictions = model.transform(testData)\n",
    "\n",
    "# Select example rows to display.\n",
    "predictions.select(\"prediction\", \"indexedLabel\", \"features\").show(5)\n",
    "\n",
    "# Select (prediction, true label) and compute test error\n",
    "evaluator = MulticlassClassificationEvaluator(\n",
    "    labelCol=\"indexedLabel\", predictionCol=\"prediction\", metricName=\"accuracy\")\n",
    "accuracy = evaluator.evaluate(predictions)\n",
    "print(\"Test Error = %g \" % (1.0 - accuracy))\n",
    "\n",
    "treeModel = model.stages[2]\n",
    "# summary only\n",
    "print(treeModel)"
   ]
  },
  {
   "cell_type": "code",
   "execution_count": 29,
   "metadata": {},
   "outputs": [],
   "source": [
    "spark.stop()"
   ]
  },
  {
   "cell_type": "markdown",
   "metadata": {},
   "source": [
    "Above code is taken from Taken from [PySpark Documentation](https://spark.apache.org/docs/latest/ml-classification-regression.html#decision-tree-classifier)"
   ]
  },
  {
   "cell_type": "markdown",
   "metadata": {},
   "source": [
    "## Non Mandatory:\n"
   ]
  },
  {
   "cell_type": "markdown",
   "metadata": {},
   "source": [
    "9. Develop a Heap based version of Hierarchical clustering algorithm to reduce the time complexity of Clustering process. *Refer Ullmann for algorithmic discussions.*\n"
   ]
  },
  {
   "cell_type": "code",
   "execution_count": null,
   "metadata": {},
   "outputs": [],
   "source": []
  },
  {
   "cell_type": "markdown",
   "metadata": {},
   "source": [
    "10. Test Drive / Implement A close ; Pincer Search ; BPN ; Bucket Brigade Classifiers in Hadoop / Pyspark platforms."
   ]
  },
  {
   "cell_type": "code",
   "execution_count": null,
   "metadata": {},
   "outputs": [],
   "source": []
  }
 ],
 "metadata": {
  "kernelspec": {
   "display_name": "Python 3",
   "language": "python",
   "name": "python3"
  },
  "language_info": {
   "codemirror_mode": {
    "name": "ipython",
    "version": 3
   },
   "file_extension": ".py",
   "mimetype": "text/x-python",
   "name": "python",
   "nbconvert_exporter": "python",
   "pygments_lexer": "ipython3",
   "version": "3.7.6"
  }
 },
 "nbformat": 4,
 "nbformat_minor": 4
}
