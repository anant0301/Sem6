{
  "nbformat": 4,
  "nbformat_minor": 0,
  "metadata": {
    "kernelspec": {
      "display_name": "Python 3",
      "language": "python",
      "name": "python3"
    },
    "language_info": {
      "codemirror_mode": {
        "name": "ipython",
        "version": 3
      },
      "file_extension": ".py",
      "mimetype": "text/x-python",
      "name": "python",
      "nbconvert_exporter": "python",
      "pygments_lexer": "ipython3",
      "version": "3.7.6"
    },
    "colab": {
      "name": "Solution Set 1.ipynb",
      "provenance": [],
      "collapsed_sections": []
    }
  },
  "cells": [
    {
      "cell_type": "markdown",
      "metadata": {
        "id": "Os_gRuvHcPIQ"
      },
      "source": [
        "## General Imports ##\n",
        "### pandas ###\n",
        "The **pandas** is one of the most used libraries for tabular data extraction, data transformation, data cleaning and data visualization support in python.\n",
        "\n",
        "\n",
        "This module provides classes like **DataSeries** and **DataFrame** that help to read, store and write tables in a effective way.\n",
        "\n",
        "\n",
        "The Library extended multiple data visualisation supports in **pandas.DataFrame.plot** where the user can various graphs using the **line()**, **bar()**, **pie()**, etc methods\n",
        "\n",
        "--- \n",
        "### statistics ###\n",
        "This library provides methods for descriptive analysis, the common methods for mean, median and mode are available in this library.\n",
        "\n",
        "---\n",
        "### scipy.stats ###\n",
        "This library is widely used for statistical calculations.\n",
        "\n",
        "\n",
        "The **scipy** is more popular for the variety of computational and technical calculation capacities it offers modules for optimization, linear algebra, integration, interpolation, special functions, FFT, signal and image processing, ODE solvers and other tasks common in science and engineering."
      ]
    },
    {
      "cell_type": "markdown",
      "metadata": {
        "id": "djFADYTGcPIS"
      },
      "source": [
        "1. Given the following setup {Class,Tally score, Frequency}, develop an application that generates the table shown ; (you can populate the relevant data ; minimum data size :50 records). The table is only an illustration for a data of color scores, you are free to test the application over any data set with the application generating the tally and frequency scores.\n",
        "\n",
        "![Screenshot from 2021-01-10 17-10-42.png](data:image/png;base64,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)\n"
      ]
    },
    {
      "cell_type": "markdown",
      "metadata": {
        "id": "gSFj-_JDcPIS"
      },
      "source": [
        "### Logic ###\n",
        "#### Input ####\n",
        "The input to the program is a csv file containing two columns, the names being Score and Frequency.\n",
        "#### Output ####\n",
        "The output is an simple \n",
        "The mark ||||\\ represents 5 and each | represents 1."
      ]
    },
    {
      "cell_type": "code",
      "metadata": {
        "id": "Oh90ouq0cPIT"
      },
      "source": [
        "import random\n",
        "import pandas as pd"
      ],
      "execution_count": null,
      "outputs": []
    },
    {
      "cell_type": "markdown",
      "metadata": {
        "id": "H7SAzwefcPIT"
      },
      "source": [
        "### Sample File Generation ###\n",
        "To column headers Score and Frequency, here the Score is for color represented in hexadecimal coding.\n",
        "\n",
        "__Note:__\n",
        "There could be some duplicate records in score."
      ]
    },
    {
      "cell_type": "code",
      "metadata": {
        "id": "XvKfBphacPIU"
      },
      "source": [
        "num = 50\n",
        "score = list()\n",
        "frequency = list()\n",
        "for i in range(num):\n",
        "    score.append('#'+ (\"{:6s}\".format(str(hex(random.randint(0,16777215)))[2:])))\n",
        "    frequency.append(random.randint(0, 50))\n",
        "pd.DataFrame({'Score': score, 'Frequency': frequency}).to_csv('sample_data_1.csv', index= False)"
      ],
      "execution_count": null,
      "outputs": []
    },
    {
      "cell_type": "code",
      "metadata": {
        "id": "CgXl2i2lcPIU",
        "outputId": "6731d2fa-b70a-4396-a568-494fab2f6d3c"
      },
      "source": [
        "df = pd.read_csv('sample_data_1.csv')\n",
        "tally = []\n",
        "for frequency in df.Frequency:\n",
        "    ones = '|' * (frequency % 5)\n",
        "    fives= '||||\\ ' * (frequency // 5)\n",
        "    tally.append(fives + ' ' + ones)\n",
        "df['Tally'] = tally\n",
        "df[['Score', 'Tally', 'Frequency']]"
      ],
      "execution_count": null,
      "outputs": [
        {
          "output_type": "execute_result",
          "data": {
            "text/html": [
              "<div>\n",
              "<style scoped>\n",
              "    .dataframe tbody tr th:only-of-type {\n",
              "        vertical-align: middle;\n",
              "    }\n",
              "\n",
              "    .dataframe tbody tr th {\n",
              "        vertical-align: top;\n",
              "    }\n",
              "\n",
              "    .dataframe thead th {\n",
              "        text-align: right;\n",
              "    }\n",
              "</style>\n",
              "<table border=\"1\" class=\"dataframe\">\n",
              "  <thead>\n",
              "    <tr style=\"text-align: right;\">\n",
              "      <th></th>\n",
              "      <th>Score</th>\n",
              "      <th>Tally</th>\n",
              "      <th>Frequency</th>\n",
              "    </tr>\n",
              "  </thead>\n",
              "  <tbody>\n",
              "    <tr>\n",
              "      <th>0</th>\n",
              "      <td>#6eed89</td>\n",
              "      <td>||||\\ ||||\\ ||||\\ ||||\\ ||||\\  |||</td>\n",
              "      <td>28</td>\n",
              "    </tr>\n",
              "    <tr>\n",
              "      <th>1</th>\n",
              "      <td>#377d34</td>\n",
              "      <td>||||\\ ||||\\ ||||\\ ||||\\ ||||\\ ||||\\ ||||\\ ||||...</td>\n",
              "      <td>43</td>\n",
              "    </tr>\n",
              "    <tr>\n",
              "      <th>2</th>\n",
              "      <td>#889192</td>\n",
              "      <td>||||</td>\n",
              "      <td>4</td>\n",
              "    </tr>\n",
              "    <tr>\n",
              "      <th>3</th>\n",
              "      <td>#6afd24</td>\n",
              "      <td></td>\n",
              "      <td>0</td>\n",
              "    </tr>\n",
              "    <tr>\n",
              "      <th>4</th>\n",
              "      <td>#889aa7</td>\n",
              "      <td>|</td>\n",
              "      <td>1</td>\n",
              "    </tr>\n",
              "    <tr>\n",
              "      <th>5</th>\n",
              "      <td>#654dc1</td>\n",
              "      <td>||||\\ ||||\\  |||</td>\n",
              "      <td>13</td>\n",
              "    </tr>\n",
              "    <tr>\n",
              "      <th>6</th>\n",
              "      <td>#dd919</td>\n",
              "      <td>||||\\ ||||\\ ||||\\ ||||\\ ||||\\ ||||\\ ||||\\ ||||...</td>\n",
              "      <td>46</td>\n",
              "    </tr>\n",
              "    <tr>\n",
              "      <th>7</th>\n",
              "      <td>#45d051</td>\n",
              "      <td>||||\\ ||||\\ ||||\\ ||||\\ ||||\\  ||</td>\n",
              "      <td>27</td>\n",
              "    </tr>\n",
              "    <tr>\n",
              "      <th>8</th>\n",
              "      <td>#aec7c2</td>\n",
              "      <td>||||\\ ||||\\ ||||\\  |</td>\n",
              "      <td>16</td>\n",
              "    </tr>\n",
              "    <tr>\n",
              "      <th>9</th>\n",
              "      <td>#cc39ad</td>\n",
              "      <td>||||\\ ||||\\ ||||\\ ||||\\ ||||\\ ||||\\ ||||\\ ||||...</td>\n",
              "      <td>42</td>\n",
              "    </tr>\n",
              "    <tr>\n",
              "      <th>10</th>\n",
              "      <td>#a759fa</td>\n",
              "      <td>||||\\ ||||\\ ||||\\ ||||\\ ||||\\  ||</td>\n",
              "      <td>27</td>\n",
              "    </tr>\n",
              "    <tr>\n",
              "      <th>11</th>\n",
              "      <td>#e6536</td>\n",
              "      <td>||||\\ ||||\\ ||||\\ ||||\\ ||||\\ ||||\\  ||</td>\n",
              "      <td>32</td>\n",
              "    </tr>\n",
              "    <tr>\n",
              "      <th>12</th>\n",
              "      <td>#9171d0</td>\n",
              "      <td>||||\\ ||||\\ ||||\\ ||||\\ ||||\\  ||||</td>\n",
              "      <td>29</td>\n",
              "    </tr>\n",
              "    <tr>\n",
              "      <th>13</th>\n",
              "      <td>#e23fd4</td>\n",
              "      <td>||||\\ ||||\\ ||||\\  |</td>\n",
              "      <td>16</td>\n",
              "    </tr>\n",
              "    <tr>\n",
              "      <th>14</th>\n",
              "      <td>#6054c5</td>\n",
              "      <td>||||\\ ||||\\ ||||\\ ||||\\ ||||\\ ||||\\ ||||\\ ||||...</td>\n",
              "      <td>42</td>\n",
              "    </tr>\n",
              "    <tr>\n",
              "      <th>15</th>\n",
              "      <td>#39169e</td>\n",
              "      <td></td>\n",
              "      <td>0</td>\n",
              "    </tr>\n",
              "    <tr>\n",
              "      <th>16</th>\n",
              "      <td>#faca92</td>\n",
              "      <td>|||</td>\n",
              "      <td>3</td>\n",
              "    </tr>\n",
              "    <tr>\n",
              "      <th>17</th>\n",
              "      <td>#5d5a63</td>\n",
              "      <td>||||\\ ||||\\ ||||\\ ||||\\ ||||\\  |||</td>\n",
              "      <td>28</td>\n",
              "    </tr>\n",
              "    <tr>\n",
              "      <th>18</th>\n",
              "      <td>#6bb267</td>\n",
              "      <td>||||\\ ||||\\ ||||\\ ||||\\ ||||\\ ||||\\ ||||\\ ||||...</td>\n",
              "      <td>44</td>\n",
              "    </tr>\n",
              "    <tr>\n",
              "      <th>19</th>\n",
              "      <td>#3e56fb</td>\n",
              "      <td>||||\\ ||||\\ ||||\\ ||||\\ ||||\\ ||||\\ ||||\\  |</td>\n",
              "      <td>36</td>\n",
              "    </tr>\n",
              "    <tr>\n",
              "      <th>20</th>\n",
              "      <td>#a6f3da</td>\n",
              "      <td>||||\\ ||||\\ ||||\\ ||||\\ ||||\\ ||||\\ ||||\\  |</td>\n",
              "      <td>36</td>\n",
              "    </tr>\n",
              "    <tr>\n",
              "      <th>21</th>\n",
              "      <td>#7dcc2e</td>\n",
              "      <td>||||\\</td>\n",
              "      <td>5</td>\n",
              "    </tr>\n",
              "    <tr>\n",
              "      <th>22</th>\n",
              "      <td>#180e00</td>\n",
              "      <td>||||\\ ||||\\ ||||\\ ||||\\ ||||\\ ||||\\ ||||\\  ||</td>\n",
              "      <td>37</td>\n",
              "    </tr>\n",
              "    <tr>\n",
              "      <th>23</th>\n",
              "      <td>#116d0</td>\n",
              "      <td>||||\\ ||||\\ ||||\\ ||||\\ ||||\\ ||||\\ ||||\\  ||</td>\n",
              "      <td>37</td>\n",
              "    </tr>\n",
              "    <tr>\n",
              "      <th>24</th>\n",
              "      <td>#5151d0</td>\n",
              "      <td>||||\\ ||||\\  |</td>\n",
              "      <td>11</td>\n",
              "    </tr>\n",
              "    <tr>\n",
              "      <th>25</th>\n",
              "      <td>#3c5e94</td>\n",
              "      <td>||||\\ ||||\\  |</td>\n",
              "      <td>11</td>\n",
              "    </tr>\n",
              "    <tr>\n",
              "      <th>26</th>\n",
              "      <td>#a245ce</td>\n",
              "      <td>||||\\ ||||\\ ||||\\ ||||\\ ||||\\  |||</td>\n",
              "      <td>28</td>\n",
              "    </tr>\n",
              "    <tr>\n",
              "      <th>27</th>\n",
              "      <td>#e439a4</td>\n",
              "      <td>||||\\  ||</td>\n",
              "      <td>7</td>\n",
              "    </tr>\n",
              "    <tr>\n",
              "      <th>28</th>\n",
              "      <td>#69afb8</td>\n",
              "      <td>||||\\ ||||\\ ||||\\ ||||\\ ||||\\  |</td>\n",
              "      <td>26</td>\n",
              "    </tr>\n",
              "    <tr>\n",
              "      <th>29</th>\n",
              "      <td>#2c7dec</td>\n",
              "      <td>||||\\ ||||\\  |||</td>\n",
              "      <td>13</td>\n",
              "    </tr>\n",
              "    <tr>\n",
              "      <th>30</th>\n",
              "      <td>#19bafc</td>\n",
              "      <td>||||\\ ||||\\ ||||\\ ||||\\ ||||\\</td>\n",
              "      <td>25</td>\n",
              "    </tr>\n",
              "    <tr>\n",
              "      <th>31</th>\n",
              "      <td>#ad5b6f</td>\n",
              "      <td>||||\\ ||||\\ ||||\\ ||||\\ ||||\\ ||||\\  |||</td>\n",
              "      <td>33</td>\n",
              "    </tr>\n",
              "    <tr>\n",
              "      <th>32</th>\n",
              "      <td>#af2da4</td>\n",
              "      <td>||||\\ ||||\\ ||||\\ ||||\\ ||||\\ ||||\\ ||||\\ ||||...</td>\n",
              "      <td>42</td>\n",
              "    </tr>\n",
              "    <tr>\n",
              "      <th>33</th>\n",
              "      <td>#ae0c95</td>\n",
              "      <td>|||</td>\n",
              "      <td>3</td>\n",
              "    </tr>\n",
              "    <tr>\n",
              "      <th>34</th>\n",
              "      <td>#4bbdce</td>\n",
              "      <td>||||\\ ||||\\ ||||\\ ||||\\ ||||\\ ||||\\ ||||\\</td>\n",
              "      <td>35</td>\n",
              "    </tr>\n",
              "    <tr>\n",
              "      <th>35</th>\n",
              "      <td>#ccf346</td>\n",
              "      <td>||||\\ ||||\\ ||||\\ ||||\\ ||||\\ ||||\\ ||||\\ ||||...</td>\n",
              "      <td>45</td>\n",
              "    </tr>\n",
              "    <tr>\n",
              "      <th>36</th>\n",
              "      <td>#a81d26</td>\n",
              "      <td>||||\\ ||||\\ ||||\\ ||||\\ ||||\\ ||||\\ ||||\\ ||||...</td>\n",
              "      <td>41</td>\n",
              "    </tr>\n",
              "    <tr>\n",
              "      <th>37</th>\n",
              "      <td>#762c4c</td>\n",
              "      <td>||||\\ ||||\\  ||</td>\n",
              "      <td>12</td>\n",
              "    </tr>\n",
              "    <tr>\n",
              "      <th>38</th>\n",
              "      <td>#fd487b</td>\n",
              "      <td>||||\\ ||||\\ ||||\\ ||||\\ ||||\\ ||||\\ ||||\\ ||||...</td>\n",
              "      <td>46</td>\n",
              "    </tr>\n",
              "    <tr>\n",
              "      <th>39</th>\n",
              "      <td>#984a32</td>\n",
              "      <td>||||\\ ||||\\  ||||</td>\n",
              "      <td>14</td>\n",
              "    </tr>\n",
              "    <tr>\n",
              "      <th>40</th>\n",
              "      <td>#4df21</td>\n",
              "      <td>||||\\ ||||\\ ||||\\ ||||\\ ||||\\ ||||\\ ||||\\ ||||\\</td>\n",
              "      <td>40</td>\n",
              "    </tr>\n",
              "    <tr>\n",
              "      <th>41</th>\n",
              "      <td>#782c84</td>\n",
              "      <td>||||\\ ||||\\ ||||\\ ||||\\ ||||\\ ||||\\ ||||\\  |</td>\n",
              "      <td>36</td>\n",
              "    </tr>\n",
              "    <tr>\n",
              "      <th>42</th>\n",
              "      <td>#dcbe2b</td>\n",
              "      <td>||||\\  |</td>\n",
              "      <td>6</td>\n",
              "    </tr>\n",
              "    <tr>\n",
              "      <th>43</th>\n",
              "      <td>#ed3279</td>\n",
              "      <td>||||\\ ||||\\ ||||\\ ||||\\ ||||\\ ||||\\ ||||\\ ||||...</td>\n",
              "      <td>45</td>\n",
              "    </tr>\n",
              "    <tr>\n",
              "      <th>44</th>\n",
              "      <td>#16e2a2</td>\n",
              "      <td>||||\\  ||</td>\n",
              "      <td>7</td>\n",
              "    </tr>\n",
              "    <tr>\n",
              "      <th>45</th>\n",
              "      <td>#92b1ba</td>\n",
              "      <td>||||\\ ||||\\  ||||</td>\n",
              "      <td>14</td>\n",
              "    </tr>\n",
              "    <tr>\n",
              "      <th>46</th>\n",
              "      <td>#e5278b</td>\n",
              "      <td>|||</td>\n",
              "      <td>3</td>\n",
              "    </tr>\n",
              "    <tr>\n",
              "      <th>47</th>\n",
              "      <td>#4ccec3</td>\n",
              "      <td>||||\\ ||||\\ ||||\\</td>\n",
              "      <td>15</td>\n",
              "    </tr>\n",
              "    <tr>\n",
              "      <th>48</th>\n",
              "      <td>#aefa87</td>\n",
              "      <td>||||\\ ||||\\  |||</td>\n",
              "      <td>13</td>\n",
              "    </tr>\n",
              "    <tr>\n",
              "      <th>49</th>\n",
              "      <td>#7abe7c</td>\n",
              "      <td>||||\\ ||||\\ ||||\\ ||||\\ ||||\\ ||||\\ ||||\\ ||||...</td>\n",
              "      <td>50</td>\n",
              "    </tr>\n",
              "  </tbody>\n",
              "</table>\n",
              "</div>"
            ],
            "text/plain": [
              "      Score                                              Tally  Frequency\n",
              "0   #6eed89                 ||||\\ ||||\\ ||||\\ ||||\\ ||||\\  |||         28\n",
              "1   #377d34  ||||\\ ||||\\ ||||\\ ||||\\ ||||\\ ||||\\ ||||\\ ||||...         43\n",
              "2   #889192                                               ||||          4\n",
              "3   #6afd24                                                             0\n",
              "4   #889aa7                                                  |          1\n",
              "5   #654dc1                                   ||||\\ ||||\\  |||         13\n",
              "6   #dd919   ||||\\ ||||\\ ||||\\ ||||\\ ||||\\ ||||\\ ||||\\ ||||...         46\n",
              "7   #45d051                  ||||\\ ||||\\ ||||\\ ||||\\ ||||\\  ||         27\n",
              "8   #aec7c2                               ||||\\ ||||\\ ||||\\  |         16\n",
              "9   #cc39ad  ||||\\ ||||\\ ||||\\ ||||\\ ||||\\ ||||\\ ||||\\ ||||...         42\n",
              "10  #a759fa                  ||||\\ ||||\\ ||||\\ ||||\\ ||||\\  ||         27\n",
              "11  #e6536             ||||\\ ||||\\ ||||\\ ||||\\ ||||\\ ||||\\  ||         32\n",
              "12  #9171d0                ||||\\ ||||\\ ||||\\ ||||\\ ||||\\  ||||         29\n",
              "13  #e23fd4                               ||||\\ ||||\\ ||||\\  |         16\n",
              "14  #6054c5  ||||\\ ||||\\ ||||\\ ||||\\ ||||\\ ||||\\ ||||\\ ||||...         42\n",
              "15  #39169e                                                             0\n",
              "16  #faca92                                                |||          3\n",
              "17  #5d5a63                 ||||\\ ||||\\ ||||\\ ||||\\ ||||\\  |||         28\n",
              "18  #6bb267  ||||\\ ||||\\ ||||\\ ||||\\ ||||\\ ||||\\ ||||\\ ||||...         44\n",
              "19  #3e56fb       ||||\\ ||||\\ ||||\\ ||||\\ ||||\\ ||||\\ ||||\\  |         36\n",
              "20  #a6f3da       ||||\\ ||||\\ ||||\\ ||||\\ ||||\\ ||||\\ ||||\\  |         36\n",
              "21  #7dcc2e                                            ||||\\            5\n",
              "22  #180e00      ||||\\ ||||\\ ||||\\ ||||\\ ||||\\ ||||\\ ||||\\  ||         37\n",
              "23  #116d0       ||||\\ ||||\\ ||||\\ ||||\\ ||||\\ ||||\\ ||||\\  ||         37\n",
              "24  #5151d0                                     ||||\\ ||||\\  |         11\n",
              "25  #3c5e94                                     ||||\\ ||||\\  |         11\n",
              "26  #a245ce                 ||||\\ ||||\\ ||||\\ ||||\\ ||||\\  |||         28\n",
              "27  #e439a4                                          ||||\\  ||          7\n",
              "28  #69afb8                   ||||\\ ||||\\ ||||\\ ||||\\ ||||\\  |         26\n",
              "29  #2c7dec                                   ||||\\ ||||\\  |||         13\n",
              "30  #19bafc                    ||||\\ ||||\\ ||||\\ ||||\\ ||||\\           25\n",
              "31  #ad5b6f           ||||\\ ||||\\ ||||\\ ||||\\ ||||\\ ||||\\  |||         33\n",
              "32  #af2da4  ||||\\ ||||\\ ||||\\ ||||\\ ||||\\ ||||\\ ||||\\ ||||...         42\n",
              "33  #ae0c95                                                |||          3\n",
              "34  #4bbdce        ||||\\ ||||\\ ||||\\ ||||\\ ||||\\ ||||\\ ||||\\           35\n",
              "35  #ccf346  ||||\\ ||||\\ ||||\\ ||||\\ ||||\\ ||||\\ ||||\\ ||||...         45\n",
              "36  #a81d26  ||||\\ ||||\\ ||||\\ ||||\\ ||||\\ ||||\\ ||||\\ ||||...         41\n",
              "37  #762c4c                                    ||||\\ ||||\\  ||         12\n",
              "38  #fd487b  ||||\\ ||||\\ ||||\\ ||||\\ ||||\\ ||||\\ ||||\\ ||||...         46\n",
              "39  #984a32                                  ||||\\ ||||\\  ||||         14\n",
              "40  #4df21   ||||\\ ||||\\ ||||\\ ||||\\ ||||\\ ||||\\ ||||\\ ||||\\           40\n",
              "41  #782c84       ||||\\ ||||\\ ||||\\ ||||\\ ||||\\ ||||\\ ||||\\  |         36\n",
              "42  #dcbe2b                                           ||||\\  |          6\n",
              "43  #ed3279  ||||\\ ||||\\ ||||\\ ||||\\ ||||\\ ||||\\ ||||\\ ||||...         45\n",
              "44  #16e2a2                                          ||||\\  ||          7\n",
              "45  #92b1ba                                  ||||\\ ||||\\  ||||         14\n",
              "46  #e5278b                                                |||          3\n",
              "47  #4ccec3                                ||||\\ ||||\\ ||||\\           15\n",
              "48  #aefa87                                   ||||\\ ||||\\  |||         13\n",
              "49  #7abe7c  ||||\\ ||||\\ ||||\\ ||||\\ ||||\\ ||||\\ ||||\\ ||||...         50"
            ]
          },
          "metadata": {
            "tags": []
          },
          "execution_count": 3
        }
      ]
    },
    {
      "cell_type": "markdown",
      "metadata": {
        "id": "dgPqypYmcPIV"
      },
      "source": [
        "2. In a class of 18 students, assume marks distribution in an exam are as follows. Let the roll numbers start with CSE20D01 and all the odd roll numbers secure marks as follows: 25+((i+7)%10) and even roll numbers :  25+((i+8)%10). Develop an application that sets up the data and calculate the mean and median for the marks obtained using the platform support."
      ]
    },
    {
      "cell_type": "markdown",
      "metadata": {
        "id": "h1-_XXsfcPIV"
      },
      "source": [
        "#### Logic ####\n",
        "The information given is pretty much self-explanatory.\n",
        "The python module used for the mean and median is __statastics__, this module contains basics statastical methods in python."
      ]
    },
    {
      "cell_type": "code",
      "metadata": {
        "id": "xwAxMWhxcPIV"
      },
      "source": [
        "import statistics as ss"
      ],
      "execution_count": null,
      "outputs": []
    },
    {
      "cell_type": "code",
      "metadata": {
        "id": "gQApDzMkcPIW",
        "outputId": "a63c4a9e-5b55-466d-f7d2-4408c7858c8c"
      },
      "source": [
        "total_students = 18\n",
        "rollno, marks = [], []\n",
        "for i in range(1, total_students + 1):\n",
        "    rollno.append('CSE2-D' + \"{0:2d}\".format(i))\n",
        "    marks.append(25 + ((i + (7 if i%2 else 8)) % 10))\n",
        "print(\"Mean:\", ss.mean(marks))\n",
        "print(\"Median:\", ss.median(marks))"
      ],
      "execution_count": null,
      "outputs": [
        {
          "output_type": "stream",
          "text": [
            "Mean: 28.666666666666668\n",
            "Median: 29.0\n"
          ],
          "name": "stdout"
        }
      ]
    },
    {
      "cell_type": "markdown",
      "metadata": {
        "id": "6WcaaVAMcPIW"
      },
      "source": [
        "3. For a sample space of 20 elements, the values are fitted to the line Y=2X+3, X>5. Develop an application that sets up the data and computes the standard deviation of this sample space. (use random number generator supported in your development platform to generate values of X"
      ]
    },
    {
      "cell_type": "code",
      "metadata": {
        "id": "IL6P5M4LcPIX"
      },
      "source": [
        "import random\n",
        "import statistics as ss"
      ],
      "execution_count": null,
      "outputs": []
    },
    {
      "cell_type": "code",
      "metadata": {
        "id": "tDIE-jjhcPIX",
        "outputId": "70cded36-29ba-44ed-a07b-e2932790c39d"
      },
      "source": [
        "x = [random.randint(5,10000) for i in range(20)]\n",
        "y = [2 * e + 3 for e in x]\n",
        "print(\"%.2f\" % ss.stdev(y))"
      ],
      "execution_count": null,
      "outputs": [
        {
          "output_type": "stream",
          "text": [
            "5377.52\n"
          ],
          "name": "stdout"
        }
      ]
    },
    {
      "cell_type": "markdown",
      "metadata": {
        "id": "HdfbeT5tcPIX"
      },
      "source": [
        "4. For a given data of heights of a class, the heights of 15 students are recorded as 167.65, 167, 172, 175, 165, 167, 168, 167, 167.3, 170, 167.5, 170, 167, 169, and 172. Develop an application that computes; explore if there are any packages supported in your platform that depicts these measures / their calculation of central tendency in a visual form for ease of understanding.\n",
        "    - Mean height of the student\n",
        "    - Median and Mode of the sample space\n",
        "    - Standard deviation\n",
        "    - Measure of skewness. [(Mean-Mode)/standard deviation]"
      ]
    },
    {
      "cell_type": "markdown",
      "metadata": {
        "id": "0IP4tY1ocPIY"
      },
      "source": [
        "### Logic ###\n",
        "#### Input ####\n",
        "The height list\n",
        "h = _[167.65, 167, 172, 175, 165, 167, 168, 167, 167.3, 170, 167.5, 170, 167, 169, 172]_\n",
        "#### Output ####\n",
        "    Mean\n",
        "    Median\n",
        "    Standard Deviation\n",
        "    Skew"
      ]
    },
    {
      "cell_type": "code",
      "metadata": {
        "id": "6GI8rEhmcPIY"
      },
      "source": [
        "import statistics as ss\n",
        "import scipy.stats"
      ],
      "execution_count": null,
      "outputs": []
    },
    {
      "cell_type": "code",
      "metadata": {
        "id": "Ree3Uy_kcPIY",
        "outputId": "3e953555-0b28-40a0-fe07-5839cb52ce40"
      },
      "source": [
        "h = [167.65, 167, 172, 175, 165, 167, 168, 167, 167.3, 170, 167.5, 170, 167, 169, 172]\n",
        "print(\"Mean:\", ss.mean(h))\n",
        "print(\"Median:\", ss.median(h))\n",
        "print(\"Standard Deviation:\", ss.stdev(h))\n",
        "print(\"Skew:\", scipy.stats.skew(h))"
      ],
      "execution_count": null,
      "outputs": [
        {
          "output_type": "stream",
          "text": [
            "Mean: 168.76333333333332\n",
            "Median: 167.65\n",
            "Standard Deviation: 2.606617037647145\n",
            "Skew: 0.9684699214981036\n"
          ],
          "name": "stdout"
        }
      ]
    },
    {
      "cell_type": "markdown",
      "metadata": {
        "id": "0HdGBumgcPIZ"
      },
      "source": [
        "## Visualization ##\n",
        "- Mean- In a normal distribution the mean would be the centre of the distribution.\n",
        "- Median- The median is a measure of split of data into equal halves, hence the median can be best represented in a cumulative histogram, and then simply making a line passsing through the middle of the frequency range.\n",
        "- Mode- The histogram of any plot for that matter that can quantify the frequency of the data. Here the one with the highest frequency becomes the mode (or rather the mean of the range in case of the histogram). \n",
        "- Skew- The skew is measure of the data's tendency to be not normal and tending towards right or left, hence the skew can be present in histogram and we measure it using the formulae."
      ]
    },
    {
      "cell_type": "code",
      "metadata": {
        "id": "XjspDobNcPIZ",
        "outputId": "743c03a6-a54f-4b81-dd00-f0b65a6bd29c"
      },
      "source": [
        "import matplotlib.pyplot as plt\n",
        "fig, ax1 = plt.subplots()\n",
        "plt.hist(h)\n",
        "plt.show()"
      ],
      "execution_count": null,
      "outputs": [
        {
          "output_type": "display_data",
          "data": {
            "image/png": "[encoded data removed]",
            "text/plain": [
              "<Figure size 432x288 with 1 Axes>"
            ]
          },
          "metadata": {
            "tags": [],
            "needs_background": "light"
          }
        }
      ]
    },
    {
      "cell_type": "markdown",
      "metadata": {
        "id": "P2CMLP2ucPIZ"
      },
      "source": [
        "5. In Analytics and Systems of Bigdata course, for a class of 100 students, around 31 students secured ‘S’ grade, 29 secured ‘B’ grade, 25 ‘C’ grades, and rest of them secured ‘D’ grades. If the range of each grade is 15 marks. (S for 85 to 100 marks, A for 70 to 85 ...). Develop an application that represents the above data : using Pie and Bar graphs."
      ]
    },
    {
      "cell_type": "code",
      "metadata": {
        "id": "HRXA6goqcPIh",
        "outputId": "3916b9e3-f6bb-4ef3-fbf9-9063fd2fdf37"
      },
      "source": [
        "import matplotlib.pyplot as plt\n",
        "count = {\n",
        "    'S': 31,\n",
        "    'B': 29,\n",
        "    'C': 25,\n",
        "    'D': 15\n",
        "}\n",
        "dist = {\n",
        "    'S': 85,\n",
        "    'B': 70,\n",
        "    'C': 55,\n",
        "    'D': 40\n",
        "}\n",
        "fig = plt.figure(figsize= (12, 4))\n",
        "ax1 = fig.add_subplot(1, 2, 1)\n",
        "ax1.pie(count.values(), labels= count.keys(), autopct=\"%d\")\n",
        "ax2 = fig.add_subplot(1, 2, 2)\n",
        "ax2.bar(height= count.values(), x= [i for i in range(4)])\n",
        "plt.xticks([i for i in range(4)], count.keys())\n",
        "plt.show()\n"
      ],
      "execution_count": null,
      "outputs": [
        {
          "output_type": "display_data",
          "data": {
            "image/png": "[encoded data removed]",
            "text/plain": [
              "<Figure size 864x288 with 2 Axes>"
            ]
          },
          "metadata": {
            "tags": [],
            "needs_background": "light"
          }
        }
      ]
    },
    {
      "cell_type": "markdown",
      "metadata": {
        "id": "b-zoxkMbcPIi"
      },
      "source": [
        "6. On a given day (average basis), a student is observed to spend 33% of time in studying, 30% in sleeping, 18% in playing, 5% for hobby activities, and rest for spending with friends and family. Plot a pie chart showing his daily activities. "
      ]
    },
    {
      "cell_type": "markdown",
      "metadata": {
        "id": "MUbgBo0ycPIi"
      },
      "source": [
        "### Imports\n",
        "**matplotlib.pyplot** contains almost all of the basic plotting features from available in python.\n",
        "\n",
        "The pie chart parameter passed in the options are:\n",
        "- sizes: The input values for the labels in the pie chart\n",
        "- labels: The labels for the corresponding input values\n",
        "- explode: should the sector of the respective label be exploded and to what degree\n",
        "- autopct: The number format that should be given on each sector\n",
        "- shadow: shows the shadows beneath the pie\n",
        "- startangle: The starting angle from which every label and respective sizes are put in an ordered anti-clockwise way"
      ]
    },
    {
      "cell_type": "code",
      "metadata": {
        "id": "wDWEKhwGcPIj",
        "outputId": "422a5100-50ac-4f9b-d13d-c6a188a5bccf"
      },
      "source": [
        "import matplotlib.pyplot as plt\n",
        "\n",
        "# Pie chart slices will be ordered and plotted counter-clockwise:\n",
        "labels = 'Studying', 'Sleeping', 'Playing', 'Hobby', 'Spending time with friends and family'\n",
        "sizes = [33, 30, 18, 5]\n",
        "# rest of the time\n",
        "sizes.append(100 - sum(sizes))\n",
        "explode = (0.06, 0.01, 0.02, 0.03, 0.04)  # only \"explode\" the 2nd slice (i.e. 'Hogs')\n",
        "fig1, ax1 = plt.subplots()\n",
        "ax1.pie(sizes, explode=explode, labels=labels, autopct='%d%%',\n",
        "        shadow=True, startangle=90)\n",
        "\n",
        "\n",
        "# putting a white circle at the centre of the pie chart\n",
        "centre_circle = plt.Circle((0,0),0.80,fc='white')\n",
        "fig = plt.gcf()\n",
        "fig.gca().add_artist(centre_circle)\n",
        "\n",
        "ax1.axis('equal')  # Equal aspect ratio ensures that pie is drawn as a circle.\n",
        "plt.show()"
      ],
      "execution_count": null,
      "outputs": [
        {
          "output_type": "display_data",
          "data": {
            "image/png": "[encoded data removed]",
            "text/plain": [
              "<Figure size 432x288 with 1 Axes>"
            ]
          },
          "metadata": {
            "tags": []
          }
        }
      ]
    },
    {
      "cell_type": "markdown",
      "metadata": {
        "id": "N0ySrSyDcPIj"
      },
      "source": [
        "7. Develop an application (absolute grader) that accepts marks scored by 20 students in ASBD course (as a split up of three : Mid Sem (30), End Sem(50) and Assignments(20). Compute the total and use it to grade the students following absolute grading : >=90 – S ; >=80 – A and so on till D. Compute the Class average for total marks in the course and 50% of class average would be fixed as the cut off for E. Generate a frequency table for the grades as well (Table displaying the grades and counts of them). "
      ]
    },
    {
      "cell_type": "markdown",
      "metadata": {
        "id": "oKnaDhK-cPIk"
      },
      "source": [
        "## Imports ##\n",
        "There are various ways to import excel data into python, the most popular ones being \n",
        ">    **pandas.read_excel** \n",
        "\n",
        "this function reads from the excel file even from a worksheet within the file but this function gets complicated in the reading multiple tables sharing same columns in excel.\n",
        "\n",
        "For this the easiest module is \n",
        ">    **openpyxl**\n",
        " \n",
        "This library has a support to directly read all cells within a specific range using relatively easier way than **pandas.read_excel**"
      ]
    },
    {
      "cell_type": "code",
      "metadata": {
        "id": "IJG_TYxWcPIk"
      },
      "source": [
        "from openpyxl import load_workbook as ldr\n",
        "import pandas as pd"
      ],
      "execution_count": null,
      "outputs": []
    },
    {
      "cell_type": "code",
      "metadata": {
        "id": "27jxEspXcPIk",
        "outputId": "5d30755f-a927-4d02-eb4c-adf25991dc93"
      },
      "source": [
        "worksheet = ldr(filename= 'SampleGrader.xlsx', read_only= True)['Sheet1']\n",
        "data = []\n",
        "for row in worksheet['A2':'C21']:\n",
        "    entry = []\n",
        "    for cell in row:\n",
        "        entry.append(cell.value)\n",
        "    data.append(entry)\n",
        "\n",
        "data = pd.DataFrame(data, columns= ['RollNo', 'Name', 'Marks'])\n",
        "marks_mean = data['Marks'].mean()\n",
        "passing_marks = marks_mean / 2\n",
        "max_marks = max(data.Marks)\n",
        "interval = round((max_marks - passing_marks) / 6, 1) \n",
        "\n",
        "# containing the grade distribtion and grades: (max_marks, min_marks, grade)\n",
        "grade_dist = [ #]\n",
        "    (100 , 90, 'S'),\n",
        "    (90 , 80, 'A'),\n",
        "    (80 , 70, 'B'),\n",
        "    (70 , 60, 'C'),\n",
        "    (60 , 50, 'D'),\n",
        "    (50 , 40, 'E'),\n",
        "    (passing_marks, 0, 'U')\n",
        "\n",
        "]\n",
        "grade_list = []\n",
        "grade_freq = {}\n",
        "for marks in data.Marks:\n",
        "    for max_m, min_m, grade in grade_dist:\n",
        "        if marks >= min_m:\n",
        "            grade_list.append(grade)\n",
        "            grade_freq[grade] = grade_freq.get(grade, 0) + 1\n",
        "            break\n",
        "        else: continue \n",
        "data['Grade'] = grade_list  \n",
        "grade_freq = pd.DataFrame(columns= ['Grade', 'Frequency'], data= grade_freq.items())\n",
        "data, grade_freq"
      ],
      "execution_count": null,
      "outputs": [
        {
          "output_type": "execute_result",
          "data": {
            "text/plain": [
              "(       RollNo             Name  Marks Grade\n",
              " 0   CSE20B001       AJAY KUMAR     20     U\n",
              " 1   CSE20B002      VIJAY KUMAR     30     U\n",
              " 2   CSE20B003          KARTHIK     40     E\n",
              " 3   CSE20B004        AISHWARYA     78     B\n",
              " 4   CSE20B005         ABISHEKH     70     B\n",
              " 5   CSE20B006  RAMESH KRISHNAN     65     C\n",
              " 6   CSE20B007          ANAND V     65     C\n",
              " 7   CSE20B008           OSWALD     88     A\n",
              " 8   CSE20B009       SOWBARNIKA     87     A\n",
              " 9   CSE20B010     VISHNU PRIYA     78     B\n",
              " 10  CSE20B011      SHIV VIDYUT     76     B\n",
              " 11  CSE20B012          SIRISHA     68     C\n",
              " 12  CSE20B013           NIKHIL     45     E\n",
              " 13  CSE20B014         SUDHEERA     69     C\n",
              " 14  CSE20B015   VIGNESH SAIRAJ     93     S\n",
              " 15  CSE20B016         RAMKUMAR     23     U\n",
              " 16  CSE20B017       RAVI KUMAR     45     E\n",
              " 17  CSE20B018   ILAM  BHARATHI     78     B\n",
              " 18  CSE20B019      SOWMYA JAIN     97     S\n",
              " 19  CSE20B020           BALAJI     78     B,\n",
              "   Grade  Frequency\n",
              " 0     U          3\n",
              " 1     E          3\n",
              " 2     B          6\n",
              " 3     C          4\n",
              " 4     A          2\n",
              " 5     S          2)"
            ]
          },
          "metadata": {
            "tags": []
          },
          "execution_count": 14
        }
      ]
    },
    {
      "cell_type": "code",
      "metadata": {
        "id": "4-UqzjR4cPIl",
        "outputId": "ec65dd87-33c8-44a5-ce87-46fc4e404d28"
      },
      "source": [
        "grade_freq.plot.bar(x= 'Grade', y= 'Frequency', color= ['c', 'y', 'g'])"
      ],
      "execution_count": null,
      "outputs": [
        {
          "output_type": "execute_result",
          "data": {
            "text/plain": [
              "<matplotlib.axes._subplots.AxesSubplot at 0x7f97ae5f5e50>"
            ]
          },
          "metadata": {
            "tags": []
          },
          "execution_count": 15
        },
        {
          "output_type": "display_data",
          "data": {
            "image/png": "[encoded data removed]",
            "text/plain": [
              "<Figure size 432x288 with 1 Axes>"
            ]
          },
          "metadata": {
            "tags": [],
            "needs_background": "light"
          }
        }
      ]
    },
    {
      "cell_type": "markdown",
      "metadata": {
        "id": "LdIdfPIUcPIm"
      },
      "source": [
        "8. Extend the application developed in (7) to support relative grading which uses the class average (mean) andstandard deviation to compute the cutoffs for various grades as opposed to fixing them statically; you canr efer the sample grader (excel sheet) attached to understand the formulas for fixing the cutoffs; the grader would involve, mean, standard deviation, max mark, passed students data mean, etc. Understand the excel grader thoroughly before you try mimicking such an application in your development platform. "
      ]
    },
    {
      "cell_type": "markdown",
      "metadata": {
        "id": "bjpzNWaKcPIm"
      },
      "source": [
        "### Code ##\n",
        "This code imports the data from the above question and re-write the parts of the data."
      ]
    },
    {
      "cell_type": "code",
      "metadata": {
        "id": "XSCkujLpcPIn",
        "outputId": "bf215604-b7bf-4630-e408-5aedda4f70ff"
      },
      "source": [
        "grade_dist = [ #]\n",
        "    (100 , max_marks - interval, 'S'),\n",
        "    (max_marks - interval, max_marks - 2 * interval, 'A'),\n",
        "    (max_marks - 2 * interval, max_marks - 3 * interval, 'B'),\n",
        "    (max_marks - 3 * interval, max_marks - 4 * interval, 'C'),\n",
        "    (max_marks - 4 * interval, max_marks - 5 * interval, 'D'),\n",
        "    (max_marks - 5 * interval, round(passing_marks, 0), 'E'),\n",
        "    (passing_marks, 0, 'U')\n",
        "]\n",
        "grade_list = []\n",
        "grade_freq = {}\n",
        "for marks in data.Marks:\n",
        "    for max_m, min_m, grade in grade_dist:\n",
        "        if marks >= min_m:\n",
        "            grade_list.append(grade)\n",
        "            grade_freq[grade] = grade_freq.get(grade, 0) + 1\n",
        "            break\n",
        "        else: continue \n",
        "data['Grade'] = grade_list  \n",
        "grade_freq = pd.DataFrame(columns= ['Grade', 'Frequency'], data= grade_freq.items())\n",
        "print(*(data, '\\n', grade_freq))"
      ],
      "execution_count": null,
      "outputs": [
        {
          "output_type": "stream",
          "text": [
            "       RollNo             Name  Marks Grade\n",
            "0   CSE20B001       AJAY KUMAR     20     U\n",
            "1   CSE20B002      VIJAY KUMAR     30     U\n",
            "2   CSE20B003          KARTHIK     40     E\n",
            "3   CSE20B004        AISHWARYA     78     A\n",
            "4   CSE20B005         ABISHEKH     70     B\n",
            "5   CSE20B006  RAMESH KRISHNAN     65     B\n",
            "6   CSE20B007          ANAND V     65     B\n",
            "7   CSE20B008           OSWALD     88     S\n",
            "8   CSE20B009       SOWBARNIKA     87     S\n",
            "9   CSE20B010     VISHNU PRIYA     78     A\n",
            "10  CSE20B011      SHIV VIDYUT     76     A\n",
            "11  CSE20B012          SIRISHA     68     B\n",
            "12  CSE20B013           NIKHIL     45     D\n",
            "13  CSE20B014         SUDHEERA     69     B\n",
            "14  CSE20B015   VIGNESH SAIRAJ     93     S\n",
            "15  CSE20B016         RAMKUMAR     23     U\n",
            "16  CSE20B017       RAVI KUMAR     45     D\n",
            "17  CSE20B018   ILAM  BHARATHI     78     A\n",
            "18  CSE20B019      SOWMYA JAIN     97     S\n",
            "19  CSE20B020           BALAJI     78     A \n",
            "   Grade  Frequency\n",
            "0     U          3\n",
            "1     E          1\n",
            "2     A          5\n",
            "3     B          5\n",
            "4     S          4\n",
            "5     D          2\n"
          ],
          "name": "stdout"
        }
      ]
    },
    {
      "cell_type": "code",
      "metadata": {
        "id": "ul5QjdbAcPIn",
        "outputId": "12c0cba5-4933-4b6a-ff8a-31f7ada8970b"
      },
      "source": [
        "grade_list = []\n",
        "grade_freq = {}\n",
        "for marks in data.Marks:\n",
        "    for max_m, min_m, grade in grade_dist:\n",
        "        if marks >= min_m:\n",
        "            grade_list.append(grade)\n",
        "            grade_freq[grade] = grade_freq.get(grade, 0) + 1\n",
        "            break\n",
        "        else: continue \n",
        "data['Grade'] = grade_list  \n",
        "grade_freq = pd.DataFrame(columns= ['Grade', 'Frequency'], data= grade_freq.items())\n",
        "data, grade_freq"
      ],
      "execution_count": null,
      "outputs": [
        {
          "output_type": "execute_result",
          "data": {
            "text/plain": [
              "(       RollNo             Name  Marks Grade\n",
              " 0   CSE20B001       AJAY KUMAR     20     U\n",
              " 1   CSE20B002      VIJAY KUMAR     30     U\n",
              " 2   CSE20B003          KARTHIK     40     E\n",
              " 3   CSE20B004        AISHWARYA     78     A\n",
              " 4   CSE20B005         ABISHEKH     70     B\n",
              " 5   CSE20B006  RAMESH KRISHNAN     65     B\n",
              " 6   CSE20B007          ANAND V     65     B\n",
              " 7   CSE20B008           OSWALD     88     S\n",
              " 8   CSE20B009       SOWBARNIKA     87     S\n",
              " 9   CSE20B010     VISHNU PRIYA     78     A\n",
              " 10  CSE20B011      SHIV VIDYUT     76     A\n",
              " 11  CSE20B012          SIRISHA     68     B\n",
              " 12  CSE20B013           NIKHIL     45     D\n",
              " 13  CSE20B014         SUDHEERA     69     B\n",
              " 14  CSE20B015   VIGNESH SAIRAJ     93     S\n",
              " 15  CSE20B016         RAMKUMAR     23     U\n",
              " 16  CSE20B017       RAVI KUMAR     45     D\n",
              " 17  CSE20B018   ILAM  BHARATHI     78     A\n",
              " 18  CSE20B019      SOWMYA JAIN     97     S\n",
              " 19  CSE20B020           BALAJI     78     A,\n",
              "   Grade  Frequency\n",
              " 0     U          3\n",
              " 1     E          1\n",
              " 2     A          5\n",
              " 3     B          5\n",
              " 4     S          4\n",
              " 5     D          2)"
            ]
          },
          "metadata": {
            "tags": []
          },
          "execution_count": 17
        }
      ]
    },
    {
      "cell_type": "markdown",
      "metadata": {
        "id": "tGoT9LfScPIo"
      },
      "source": [
        "9. Consider the following sample of weights for 45 individuals: \n",
        "\n",
        "> 79 71 89 57 76 64 82 82 67 80 81 65 73 79 79 60 58 83 74 68 78 80 78 81 76 65 70 76 58 82 59 73 72 79 87 63 74 90 69 70 83 76 61 66 71 60 57 81 57 65 81 78 77 81 81 63 71 66 56 62 75 64 74 74 70 71 56 69 63 72 81 54 72 91 92.\n",
        "   \n",
        "- For the above data generates histograms and depict them using packages in your platform. Explore the different types of histograms available and test drive the types supported in your platform. "
      ]
    },
    {
      "cell_type": "code",
      "metadata": {
        "id": "mI753OcHcPIo",
        "outputId": "03d109f4-e5f3-41c3-a14e-1a2290737340"
      },
      "source": [
        "import matplotlib.pyplot as plt\n",
        "data = [79, 71, 89, 57, 76, 64, 82, 82, 67, 80, 81, 65, 73, 79, 79, 60, 58, 83, \n",
        "        74, 68, 78, 80, 78, 81, 76, 65, 70, 76, 58, 82, 59, 73, 72, 79, 87, 63, \n",
        "        74, 90, 69, 70, 83, 76, 61, 66, 71, 60, 57, 81, 57, 65, 81, 78, 77, 81,\n",
        "        81, 63, 71, 66, 56, 62, 75, 64, 74, 74, 70, 71, 56, 69, 63, 72, 81, 54, \n",
        "        72, 91, 92,]\n",
        "fig, axs = plt.subplots()\n",
        "# normal histogram\n",
        "plt.hist(data, bins= 11)\n",
        "\n",
        "plt.show()\n",
        "sum(data) / len(data)"
      ],
      "execution_count": null,
      "outputs": [
        {
          "output_type": "display_data",
          "data": {
            "image/png": "[encoded data removed]",
            "text/plain": [
              "<Figure size 432x288 with 1 Axes>"
            ]
          },
          "metadata": {
            "tags": [],
            "needs_background": "light"
          }
        },
        {
          "output_type": "execute_result",
          "data": {
            "text/plain": [
              "72.24"
            ]
          },
          "metadata": {
            "tags": []
          },
          "execution_count": 18
        }
      ]
    }
  ]
}