{
 "cells": [
  {
   "cell_type": "markdown",
   "metadata": {},
   "source": [
    "Quesiton Paper\n",
    "![Quesiton Paper](./QuesPaper-6.jpg)"
   ]
  },
  {
   "cell_type": "markdown",
   "metadata": {},
   "source": [
    "# Part C"
   ]
  },
  {
   "cell_type": "markdown",
   "metadata": {},
   "source": [
    "**Link Given**- [Dermaology](https://archive.ics.uci.edu/ml/datasets/Dermatology)\n",
    "\n",
    "---"
   ]
  },
  {
   "cell_type": "markdown",
   "metadata": {},
   "source": [
    "## COE18B004"
   ]
  },
  {
   "cell_type": "markdown",
   "metadata": {},
   "source": [
    "## Working\n",
    "**Data Preprocessing and Transformation**\n",
    "- The data is checked for data types, missing values etc. issue.\n",
    "    - Issues found- Age column has missing values\n",
    "    - Linear Regression to fill in some age values\n",
    "    - Linear Regression Conclusion\n",
    "    - Missing Values are filled into data and now data is clean\n",
    "- Note that at the end of this, all the data is in int64 form.\n",
    "\n",
    "**Data Transformation for Classification and Clustering**\n",
    "- Split data into test and train\n",
    "\n",
    "**Decision Tree Classifier**\n",
    "- The train data is put into the classifier, \n",
    "- The test data is now tested on test data\n",
    "- Decision Tree Classofier Conclusion\n",
    "\n",
    "**Clustering**\n",
    "- K-Means\n",
    "    - Implmentation\n",
    "    - Conclusion\n",
    "- Hierarchical Clustering\n",
    "    - Implementation\n",
    "    Conclusoin\n",
    "    \n",
    "**PySpark - k-Means Clustering**\n",
    "- PySpark Session get or Create\n",
    "- PySpark K-Means Support, k= 6\n",
    "- Root Mean Square for the Clustering\n",
    "- Conclusion"
   ]
  },
  {
   "cell_type": "code",
   "execution_count": 1,
   "metadata": {},
   "outputs": [],
   "source": [
    "import pandas as pd\n",
    "import numpy as np"
   ]
  },
  {
   "cell_type": "code",
   "execution_count": 2,
   "metadata": {},
   "outputs": [],
   "source": [
    "!rm dermatology.data dermatology.names"
   ]
  },
  {
   "cell_type": "code",
   "execution_count": 3,
   "metadata": {},
   "outputs": [
    {
     "name": "stdout",
     "output_type": "stream",
     "text": [
      "--2021-05-01 22:23:05--  https://archive.ics.uci.edu/ml/machine-learning-databases/dermatology/dermatology.data\n",
      "Resolving archive.ics.uci.edu (archive.ics.uci.edu)... 128.195.10.252\n",
      "Connecting to archive.ics.uci.edu (archive.ics.uci.edu)|128.195.10.252|:443... connected.\n",
      "HTTP request sent, awaiting response... 200 OK\n",
      "Length: 25964 (25K) [application/x-httpd-php]\n",
      "Saving to: ‘dermatology.data’\n",
      "\n",
      "dermatology.data    100%[===================>]  25.36K  61.9KB/s    in 0.4s    \n",
      "\n",
      "2021-05-01 22:23:07 (61.9 KB/s) - ‘dermatology.data’ saved [25964/25964]\n",
      "\n"
     ]
    }
   ],
   "source": [
    "!wget https://archive.ics.uci.edu/ml/machine-learning-databases/dermatology/dermatology.data"
   ]
  },
  {
   "cell_type": "code",
   "execution_count": 4,
   "metadata": {},
   "outputs": [
    {
     "name": "stdout",
     "output_type": "stream",
     "text": [
      "--2021-05-01 22:23:07--  https://archive.ics.uci.edu/ml/machine-learning-databases/dermatology/dermatology.names\n",
      "Resolving archive.ics.uci.edu (archive.ics.uci.edu)... 128.195.10.252\n",
      "Connecting to archive.ics.uci.edu (archive.ics.uci.edu)|128.195.10.252|:443... connected.\n",
      "HTTP request sent, awaiting response... 200 OK\n",
      "Length: 4652 (4.5K) [application/x-httpd-php]\n",
      "Saving to: ‘dermatology.names’\n",
      "\n",
      "dermatology.names   100%[===================>]   4.54K  --.-KB/s    in 0s      \n",
      "\n",
      "2021-05-01 22:23:08 (40.7 MB/s) - ‘dermatology.names’ saved [4652/4652]\n",
      "\n"
     ]
    }
   ],
   "source": [
    "!wget https://archive.ics.uci.edu/ml/machine-learning-databases/dermatology/dermatology.names"
   ]
  },
  {
   "cell_type": "markdown",
   "metadata": {},
   "source": [
    "---\n",
    "### Information given in other file"
   ]
  },
  {
   "cell_type": "markdown",
   "metadata": {},
   "source": [
    "#### *Clinical Attributes: (take values 0, 1, 2, 3, unless otherwise indicated)*"
   ]
  },
  {
   "cell_type": "markdown",
   "metadata": {},
   "source": [
    "    1. erythema\n",
    "    2. scaling\n",
    "    3. definite borders\n",
    "    4. itching\n",
    "    5. koebner phenomenon\n",
    "    6. polygonal papules\n",
    "    7. follicular papules\n",
    "    8. oral mucosal involvement\n",
    "    9. knee and elbow involvement\n",
    "    10. scalp involvement\n",
    "    11. family history, (0 or 1)\n",
    "    34. Age (linear)\n",
    "\n",
    "#### *Histopathological Attributes: (take values 0, 1, 2, 3)*\n",
    "    12. melanin incontinence\n",
    "    13. eosinophils in the infiltrate\n",
    "    14. PNL infiltrate\n",
    "    15. fibrosis of the papillary dermis\n",
    "    16. exocytosis\n",
    "    17. acanthosis\n",
    "    18. hyperkeratosis\n",
    "    19. parakeratosis\n",
    "    20. clubbing of the rete ridges\n",
    "    21. elongation of the rete ridges\n",
    "    22. thinning of the suprapapillary epidermis\n",
    "    23. spongiform pustule\n",
    "    24. munro microabcess\n",
    "    25. focal hypergranulosis\n",
    "    26. disappearance of the granular layer\n",
    "    27. vacuolisation and damage of basal layer\n",
    "    28. spongiosis\n",
    "    29. saw-tooth appearance of retes\n",
    "    30. follicular horn plug\n",
    "    31. perifollicular parakeratosis\n",
    "    32. inflammatory monoluclear inflitrate\n",
    "    33. band-like infiltrate"
   ]
  },
  {
   "cell_type": "markdown",
   "metadata": {},
   "source": [
    "#### Missing Attribute Values: 8 (in Age attribute). Distinguished with '?'.\n",
    "    (from dertermatology.names -- data description file)"
   ]
  },
  {
   "cell_type": "markdown",
   "metadata": {},
   "source": [
    "#### **Class Distribution**:\n",
    "       Database:  Dermatology\n",
    "       \n",
    "       Class code:   Class:                  Number of instances:\n",
    "       1             psoriasis\t\t\t             112\n",
    "       2             seboreic dermatitis             61\n",
    "       3             lichen planus                   72\n",
    "       4             pityriasis rosea                49\n",
    "       5             cronic dermatitis               52    \n",
    "       6             pityriasis rubra pilaris        20\n"
   ]
  },
  {
   "cell_type": "markdown",
   "metadata": {},
   "source": [
    "---"
   ]
  },
  {
   "cell_type": "code",
   "execution_count": 5,
   "metadata": {},
   "outputs": [],
   "source": [
    "col_header = [\n",
    "    \"erythema\", \n",
    "    \"scaling\", \n",
    "    \"definite borders\", \n",
    "    \"itching\", \n",
    "    \"koebner phenomenon\", \n",
    "    \"polygonal papules\", \n",
    "    \"follicular papules\", \n",
    "    \"oral mucosal involvement\", \n",
    "    \"knee and elbow involvement\", \n",
    "    \"scalp involvement\", \n",
    "    \"family history\", \n",
    "    \"melanin incontinence\", \n",
    "    \"eosinophils in the infiltrate\", \n",
    "    \"PNL infiltrate\", \n",
    "    \"fibrosis of the papillary dermis\", \n",
    "    \"exocytosis\", \n",
    "    \"acanthosis\", \n",
    "    \"hyperkeratosis\", \n",
    "    \"parakeratosis\", \n",
    "    \"clubbing of the rete ridges\", \n",
    "    \"elongation of the rete ridges\", \n",
    "    \"thinning of the suprapapillary epidermis\", \n",
    "    \"spongiform pustule\", \n",
    "    \"munro microabcess\", \n",
    "    \"focal hypergranulosis\", \n",
    "    \"disappearance of the granular layer\", \n",
    "    \"vacuolisation and damage of basal layer\", \n",
    "    \"spongiosis\", \n",
    "    \"saw-tooth appearance of retes\", \n",
    "    \"follicular horn plug\", \n",
    "    \"perifollicular parakeratosis\", \n",
    "    \"inflammatory monoluclear inflitrate\", \n",
    "    \"band-like infiltrate\",\n",
    "    \"Age\",\n",
    "    \"Class\"\n",
    "]\n",
    "class_codes = {\n",
    "    1: \"psoriasis\",\n",
    "    2: \"seboreic dermatitis\",\n",
    "    3: \"lichen planus\",\n",
    "    4: \"pityriasis rosea\",\n",
    "    5: \"cronic dermatitis\",\n",
    "    6: \"pityriasis rubra pilaris\"\n",
    "}"
   ]
  },
  {
   "cell_type": "code",
   "execution_count": 6,
   "metadata": {},
   "outputs": [],
   "source": [
    "data = pd.read_csv('dermatology.data', index_col= False, names= col_header)"
   ]
  },
  {
   "cell_type": "markdown",
   "metadata": {},
   "source": [
    "### My Understanding of Data\n",
    "- The above contains contains data converted to numerical category.\n",
    "- The last column imported contains the class code for skin diseases\n",
    "- The data contains mostly 0 - 3 numbers in different attributes, so the Closed-FPI on this dataset would be not be of much use as out of 32 attributes within 0-3, 1 attribute 0-1 the chances are that all the values from 0-3 are there in the itemset considered\n"
   ]
  },
  {
   "cell_type": "markdown",
   "metadata": {},
   "source": [
    "### Data Pre-Processing"
   ]
  },
  {
   "cell_type": "markdown",
   "metadata": {},
   "source": [
    "- Cleaning/Integration"
   ]
  },
  {
   "cell_type": "code",
   "execution_count": 7,
   "metadata": {},
   "outputs": [
    {
     "data": {
      "text/html": [
       "<div>\n",
       "<style scoped>\n",
       "    .dataframe tbody tr th:only-of-type {\n",
       "        vertical-align: middle;\n",
       "    }\n",
       "\n",
       "    .dataframe tbody tr th {\n",
       "        vertical-align: top;\n",
       "    }\n",
       "\n",
       "    .dataframe thead th {\n",
       "        text-align: right;\n",
       "    }\n",
       "</style>\n",
       "<table border=\"1\" class=\"dataframe\">\n",
       "  <thead>\n",
       "    <tr style=\"text-align: right;\">\n",
       "      <th></th>\n",
       "      <th>erythema</th>\n",
       "      <th>scaling</th>\n",
       "      <th>definite borders</th>\n",
       "      <th>itching</th>\n",
       "      <th>koebner phenomenon</th>\n",
       "      <th>polygonal papules</th>\n",
       "      <th>follicular papules</th>\n",
       "      <th>oral mucosal involvement</th>\n",
       "      <th>knee and elbow involvement</th>\n",
       "      <th>scalp involvement</th>\n",
       "      <th>...</th>\n",
       "      <th>disappearance of the granular layer</th>\n",
       "      <th>vacuolisation and damage of basal layer</th>\n",
       "      <th>spongiosis</th>\n",
       "      <th>saw-tooth appearance of retes</th>\n",
       "      <th>follicular horn plug</th>\n",
       "      <th>perifollicular parakeratosis</th>\n",
       "      <th>inflammatory monoluclear inflitrate</th>\n",
       "      <th>band-like infiltrate</th>\n",
       "      <th>Age</th>\n",
       "      <th>Class</th>\n",
       "    </tr>\n",
       "  </thead>\n",
       "  <tbody>\n",
       "    <tr>\n",
       "      <th>0</th>\n",
       "      <td>2</td>\n",
       "      <td>2</td>\n",
       "      <td>0</td>\n",
       "      <td>3</td>\n",
       "      <td>0</td>\n",
       "      <td>0</td>\n",
       "      <td>0</td>\n",
       "      <td>0</td>\n",
       "      <td>1</td>\n",
       "      <td>0</td>\n",
       "      <td>...</td>\n",
       "      <td>0</td>\n",
       "      <td>0</td>\n",
       "      <td>3</td>\n",
       "      <td>0</td>\n",
       "      <td>0</td>\n",
       "      <td>0</td>\n",
       "      <td>1</td>\n",
       "      <td>0</td>\n",
       "      <td>55</td>\n",
       "      <td>2</td>\n",
       "    </tr>\n",
       "    <tr>\n",
       "      <th>1</th>\n",
       "      <td>3</td>\n",
       "      <td>3</td>\n",
       "      <td>3</td>\n",
       "      <td>2</td>\n",
       "      <td>1</td>\n",
       "      <td>0</td>\n",
       "      <td>0</td>\n",
       "      <td>0</td>\n",
       "      <td>1</td>\n",
       "      <td>1</td>\n",
       "      <td>...</td>\n",
       "      <td>0</td>\n",
       "      <td>0</td>\n",
       "      <td>0</td>\n",
       "      <td>0</td>\n",
       "      <td>0</td>\n",
       "      <td>0</td>\n",
       "      <td>1</td>\n",
       "      <td>0</td>\n",
       "      <td>8</td>\n",
       "      <td>1</td>\n",
       "    </tr>\n",
       "    <tr>\n",
       "      <th>2</th>\n",
       "      <td>2</td>\n",
       "      <td>1</td>\n",
       "      <td>2</td>\n",
       "      <td>3</td>\n",
       "      <td>1</td>\n",
       "      <td>3</td>\n",
       "      <td>0</td>\n",
       "      <td>3</td>\n",
       "      <td>0</td>\n",
       "      <td>0</td>\n",
       "      <td>...</td>\n",
       "      <td>0</td>\n",
       "      <td>2</td>\n",
       "      <td>3</td>\n",
       "      <td>2</td>\n",
       "      <td>0</td>\n",
       "      <td>0</td>\n",
       "      <td>2</td>\n",
       "      <td>3</td>\n",
       "      <td>26</td>\n",
       "      <td>3</td>\n",
       "    </tr>\n",
       "    <tr>\n",
       "      <th>3</th>\n",
       "      <td>2</td>\n",
       "      <td>2</td>\n",
       "      <td>2</td>\n",
       "      <td>0</td>\n",
       "      <td>0</td>\n",
       "      <td>0</td>\n",
       "      <td>0</td>\n",
       "      <td>0</td>\n",
       "      <td>3</td>\n",
       "      <td>2</td>\n",
       "      <td>...</td>\n",
       "      <td>3</td>\n",
       "      <td>0</td>\n",
       "      <td>0</td>\n",
       "      <td>0</td>\n",
       "      <td>0</td>\n",
       "      <td>0</td>\n",
       "      <td>3</td>\n",
       "      <td>0</td>\n",
       "      <td>40</td>\n",
       "      <td>1</td>\n",
       "    </tr>\n",
       "    <tr>\n",
       "      <th>4</th>\n",
       "      <td>2</td>\n",
       "      <td>3</td>\n",
       "      <td>2</td>\n",
       "      <td>2</td>\n",
       "      <td>2</td>\n",
       "      <td>2</td>\n",
       "      <td>0</td>\n",
       "      <td>2</td>\n",
       "      <td>0</td>\n",
       "      <td>0</td>\n",
       "      <td>...</td>\n",
       "      <td>2</td>\n",
       "      <td>3</td>\n",
       "      <td>2</td>\n",
       "      <td>3</td>\n",
       "      <td>0</td>\n",
       "      <td>0</td>\n",
       "      <td>2</td>\n",
       "      <td>3</td>\n",
       "      <td>45</td>\n",
       "      <td>3</td>\n",
       "    </tr>\n",
       "  </tbody>\n",
       "</table>\n",
       "<p>5 rows × 35 columns</p>\n",
       "</div>"
      ],
      "text/plain": [
       "   erythema  scaling  definite borders  itching  koebner phenomenon  \\\n",
       "0         2        2                 0        3                   0   \n",
       "1         3        3                 3        2                   1   \n",
       "2         2        1                 2        3                   1   \n",
       "3         2        2                 2        0                   0   \n",
       "4         2        3                 2        2                   2   \n",
       "\n",
       "   polygonal papules  follicular papules  oral mucosal involvement  \\\n",
       "0                  0                   0                         0   \n",
       "1                  0                   0                         0   \n",
       "2                  3                   0                         3   \n",
       "3                  0                   0                         0   \n",
       "4                  2                   0                         2   \n",
       "\n",
       "   knee and elbow involvement  scalp involvement  ...  \\\n",
       "0                           1                  0  ...   \n",
       "1                           1                  1  ...   \n",
       "2                           0                  0  ...   \n",
       "3                           3                  2  ...   \n",
       "4                           0                  0  ...   \n",
       "\n",
       "   disappearance of the granular layer  \\\n",
       "0                                    0   \n",
       "1                                    0   \n",
       "2                                    0   \n",
       "3                                    3   \n",
       "4                                    2   \n",
       "\n",
       "   vacuolisation and damage of basal layer  spongiosis  \\\n",
       "0                                        0           3   \n",
       "1                                        0           0   \n",
       "2                                        2           3   \n",
       "3                                        0           0   \n",
       "4                                        3           2   \n",
       "\n",
       "   saw-tooth appearance of retes  follicular horn plug  \\\n",
       "0                              0                     0   \n",
       "1                              0                     0   \n",
       "2                              2                     0   \n",
       "3                              0                     0   \n",
       "4                              3                     0   \n",
       "\n",
       "   perifollicular parakeratosis  inflammatory monoluclear inflitrate  \\\n",
       "0                             0                                    1   \n",
       "1                             0                                    1   \n",
       "2                             0                                    2   \n",
       "3                             0                                    3   \n",
       "4                             0                                    2   \n",
       "\n",
       "   band-like infiltrate  Age  Class  \n",
       "0                     0   55      2  \n",
       "1                     0    8      1  \n",
       "2                     3   26      3  \n",
       "3                     0   40      1  \n",
       "4                     3   45      3  \n",
       "\n",
       "[5 rows x 35 columns]"
      ]
     },
     "execution_count": 7,
     "metadata": {},
     "output_type": "execute_result"
    }
   ],
   "source": [
    "data.head()"
   ]
  },
  {
   "cell_type": "code",
   "execution_count": 8,
   "metadata": {},
   "outputs": [
    {
     "name": "stdout",
     "output_type": "stream",
     "text": [
      "Missing Column indices: 33 34 35 36 262 263 264 265\n"
     ]
    }
   ],
   "source": [
    "\"\"\"\n",
    "from data description we know the missing values in the data are 8 in number and are in column\n",
    "So better remove these values first and then verify this the data is all numeric\n",
    "\"\"\"\n",
    "missing_val = data.index[data.Age == '?']\n",
    "print(\"Missing Column indices:\", *missing_val)"
   ]
  },
  {
   "cell_type": "code",
   "execution_count": 9,
   "metadata": {},
   "outputs": [
    {
     "data": {
      "text/html": [
       "<div>\n",
       "<style scoped>\n",
       "    .dataframe tbody tr th:only-of-type {\n",
       "        vertical-align: middle;\n",
       "    }\n",
       "\n",
       "    .dataframe tbody tr th {\n",
       "        vertical-align: top;\n",
       "    }\n",
       "\n",
       "    .dataframe thead th {\n",
       "        text-align: right;\n",
       "    }\n",
       "</style>\n",
       "<table border=\"1\" class=\"dataframe\">\n",
       "  <thead>\n",
       "    <tr style=\"text-align: right;\">\n",
       "      <th></th>\n",
       "      <th>erythema</th>\n",
       "      <th>scaling</th>\n",
       "      <th>definite borders</th>\n",
       "      <th>itching</th>\n",
       "      <th>koebner phenomenon</th>\n",
       "      <th>polygonal papules</th>\n",
       "      <th>follicular papules</th>\n",
       "      <th>oral mucosal involvement</th>\n",
       "      <th>knee and elbow involvement</th>\n",
       "      <th>scalp involvement</th>\n",
       "      <th>...</th>\n",
       "      <th>disappearance of the granular layer</th>\n",
       "      <th>vacuolisation and damage of basal layer</th>\n",
       "      <th>spongiosis</th>\n",
       "      <th>saw-tooth appearance of retes</th>\n",
       "      <th>follicular horn plug</th>\n",
       "      <th>perifollicular parakeratosis</th>\n",
       "      <th>inflammatory monoluclear inflitrate</th>\n",
       "      <th>band-like infiltrate</th>\n",
       "      <th>Age</th>\n",
       "      <th>Class</th>\n",
       "    </tr>\n",
       "  </thead>\n",
       "  <tbody>\n",
       "    <tr>\n",
       "      <th>33</th>\n",
       "      <td>2</td>\n",
       "      <td>2</td>\n",
       "      <td>1</td>\n",
       "      <td>0</td>\n",
       "      <td>0</td>\n",
       "      <td>0</td>\n",
       "      <td>0</td>\n",
       "      <td>0</td>\n",
       "      <td>1</td>\n",
       "      <td>0</td>\n",
       "      <td>...</td>\n",
       "      <td>0</td>\n",
       "      <td>0</td>\n",
       "      <td>0</td>\n",
       "      <td>0</td>\n",
       "      <td>0</td>\n",
       "      <td>0</td>\n",
       "      <td>0</td>\n",
       "      <td>0</td>\n",
       "      <td>?</td>\n",
       "      <td>1</td>\n",
       "    </tr>\n",
       "    <tr>\n",
       "      <th>34</th>\n",
       "      <td>2</td>\n",
       "      <td>1</td>\n",
       "      <td>0</td>\n",
       "      <td>0</td>\n",
       "      <td>2</td>\n",
       "      <td>0</td>\n",
       "      <td>0</td>\n",
       "      <td>0</td>\n",
       "      <td>0</td>\n",
       "      <td>0</td>\n",
       "      <td>...</td>\n",
       "      <td>0</td>\n",
       "      <td>0</td>\n",
       "      <td>0</td>\n",
       "      <td>0</td>\n",
       "      <td>0</td>\n",
       "      <td>0</td>\n",
       "      <td>0</td>\n",
       "      <td>0</td>\n",
       "      <td>?</td>\n",
       "      <td>4</td>\n",
       "    </tr>\n",
       "    <tr>\n",
       "      <th>35</th>\n",
       "      <td>2</td>\n",
       "      <td>2</td>\n",
       "      <td>1</td>\n",
       "      <td>2</td>\n",
       "      <td>0</td>\n",
       "      <td>0</td>\n",
       "      <td>0</td>\n",
       "      <td>0</td>\n",
       "      <td>0</td>\n",
       "      <td>0</td>\n",
       "      <td>...</td>\n",
       "      <td>0</td>\n",
       "      <td>0</td>\n",
       "      <td>0</td>\n",
       "      <td>0</td>\n",
       "      <td>0</td>\n",
       "      <td>0</td>\n",
       "      <td>0</td>\n",
       "      <td>0</td>\n",
       "      <td>?</td>\n",
       "      <td>2</td>\n",
       "    </tr>\n",
       "    <tr>\n",
       "      <th>36</th>\n",
       "      <td>2</td>\n",
       "      <td>1</td>\n",
       "      <td>2</td>\n",
       "      <td>3</td>\n",
       "      <td>2</td>\n",
       "      <td>3</td>\n",
       "      <td>0</td>\n",
       "      <td>2</td>\n",
       "      <td>0</td>\n",
       "      <td>0</td>\n",
       "      <td>...</td>\n",
       "      <td>0</td>\n",
       "      <td>2</td>\n",
       "      <td>0</td>\n",
       "      <td>2</td>\n",
       "      <td>0</td>\n",
       "      <td>0</td>\n",
       "      <td>0</td>\n",
       "      <td>3</td>\n",
       "      <td>?</td>\n",
       "      <td>3</td>\n",
       "    </tr>\n",
       "    <tr>\n",
       "      <th>262</th>\n",
       "      <td>2</td>\n",
       "      <td>1</td>\n",
       "      <td>0</td>\n",
       "      <td>2</td>\n",
       "      <td>0</td>\n",
       "      <td>0</td>\n",
       "      <td>0</td>\n",
       "      <td>0</td>\n",
       "      <td>0</td>\n",
       "      <td>0</td>\n",
       "      <td>...</td>\n",
       "      <td>0</td>\n",
       "      <td>0</td>\n",
       "      <td>2</td>\n",
       "      <td>0</td>\n",
       "      <td>0</td>\n",
       "      <td>0</td>\n",
       "      <td>3</td>\n",
       "      <td>0</td>\n",
       "      <td>?</td>\n",
       "      <td>5</td>\n",
       "    </tr>\n",
       "    <tr>\n",
       "      <th>263</th>\n",
       "      <td>1</td>\n",
       "      <td>1</td>\n",
       "      <td>1</td>\n",
       "      <td>3</td>\n",
       "      <td>0</td>\n",
       "      <td>0</td>\n",
       "      <td>0</td>\n",
       "      <td>0</td>\n",
       "      <td>0</td>\n",
       "      <td>0</td>\n",
       "      <td>...</td>\n",
       "      <td>0</td>\n",
       "      <td>0</td>\n",
       "      <td>3</td>\n",
       "      <td>0</td>\n",
       "      <td>0</td>\n",
       "      <td>0</td>\n",
       "      <td>2</td>\n",
       "      <td>0</td>\n",
       "      <td>?</td>\n",
       "      <td>5</td>\n",
       "    </tr>\n",
       "    <tr>\n",
       "      <th>264</th>\n",
       "      <td>1</td>\n",
       "      <td>1</td>\n",
       "      <td>0</td>\n",
       "      <td>2</td>\n",
       "      <td>0</td>\n",
       "      <td>0</td>\n",
       "      <td>0</td>\n",
       "      <td>0</td>\n",
       "      <td>1</td>\n",
       "      <td>0</td>\n",
       "      <td>...</td>\n",
       "      <td>0</td>\n",
       "      <td>0</td>\n",
       "      <td>2</td>\n",
       "      <td>0</td>\n",
       "      <td>0</td>\n",
       "      <td>0</td>\n",
       "      <td>3</td>\n",
       "      <td>0</td>\n",
       "      <td>?</td>\n",
       "      <td>5</td>\n",
       "    </tr>\n",
       "    <tr>\n",
       "      <th>265</th>\n",
       "      <td>1</td>\n",
       "      <td>1</td>\n",
       "      <td>0</td>\n",
       "      <td>3</td>\n",
       "      <td>0</td>\n",
       "      <td>0</td>\n",
       "      <td>0</td>\n",
       "      <td>0</td>\n",
       "      <td>0</td>\n",
       "      <td>0</td>\n",
       "      <td>...</td>\n",
       "      <td>0</td>\n",
       "      <td>0</td>\n",
       "      <td>2</td>\n",
       "      <td>0</td>\n",
       "      <td>0</td>\n",
       "      <td>0</td>\n",
       "      <td>3</td>\n",
       "      <td>0</td>\n",
       "      <td>?</td>\n",
       "      <td>5</td>\n",
       "    </tr>\n",
       "  </tbody>\n",
       "</table>\n",
       "<p>8 rows × 35 columns</p>\n",
       "</div>"
      ],
      "text/plain": [
       "     erythema  scaling  definite borders  itching  koebner phenomenon  \\\n",
       "33          2        2                 1        0                   0   \n",
       "34          2        1                 0        0                   2   \n",
       "35          2        2                 1        2                   0   \n",
       "36          2        1                 2        3                   2   \n",
       "262         2        1                 0        2                   0   \n",
       "263         1        1                 1        3                   0   \n",
       "264         1        1                 0        2                   0   \n",
       "265         1        1                 0        3                   0   \n",
       "\n",
       "     polygonal papules  follicular papules  oral mucosal involvement  \\\n",
       "33                   0                   0                         0   \n",
       "34                   0                   0                         0   \n",
       "35                   0                   0                         0   \n",
       "36                   3                   0                         2   \n",
       "262                  0                   0                         0   \n",
       "263                  0                   0                         0   \n",
       "264                  0                   0                         0   \n",
       "265                  0                   0                         0   \n",
       "\n",
       "     knee and elbow involvement  scalp involvement  ...  \\\n",
       "33                            1                  0  ...   \n",
       "34                            0                  0  ...   \n",
       "35                            0                  0  ...   \n",
       "36                            0                  0  ...   \n",
       "262                           0                  0  ...   \n",
       "263                           0                  0  ...   \n",
       "264                           1                  0  ...   \n",
       "265                           0                  0  ...   \n",
       "\n",
       "     disappearance of the granular layer  \\\n",
       "33                                     0   \n",
       "34                                     0   \n",
       "35                                     0   \n",
       "36                                     0   \n",
       "262                                    0   \n",
       "263                                    0   \n",
       "264                                    0   \n",
       "265                                    0   \n",
       "\n",
       "     vacuolisation and damage of basal layer  spongiosis  \\\n",
       "33                                         0           0   \n",
       "34                                         0           0   \n",
       "35                                         0           0   \n",
       "36                                         2           0   \n",
       "262                                        0           2   \n",
       "263                                        0           3   \n",
       "264                                        0           2   \n",
       "265                                        0           2   \n",
       "\n",
       "     saw-tooth appearance of retes  follicular horn plug  \\\n",
       "33                               0                     0   \n",
       "34                               0                     0   \n",
       "35                               0                     0   \n",
       "36                               2                     0   \n",
       "262                              0                     0   \n",
       "263                              0                     0   \n",
       "264                              0                     0   \n",
       "265                              0                     0   \n",
       "\n",
       "     perifollicular parakeratosis  inflammatory monoluclear inflitrate  \\\n",
       "33                              0                                    0   \n",
       "34                              0                                    0   \n",
       "35                              0                                    0   \n",
       "36                              0                                    0   \n",
       "262                             0                                    3   \n",
       "263                             0                                    2   \n",
       "264                             0                                    3   \n",
       "265                             0                                    3   \n",
       "\n",
       "     band-like infiltrate  Age  Class  \n",
       "33                      0    ?      1  \n",
       "34                      0    ?      4  \n",
       "35                      0    ?      2  \n",
       "36                      3    ?      3  \n",
       "262                     0    ?      5  \n",
       "263                     0    ?      5  \n",
       "264                     0    ?      5  \n",
       "265                     0    ?      5  \n",
       "\n",
       "[8 rows x 35 columns]"
      ]
     },
     "execution_count": 9,
     "metadata": {},
     "output_type": "execute_result"
    }
   ],
   "source": [
    "data_missing_age = data.iloc[missing_val]\n",
    "data_missing_age"
   ]
  },
  {
   "cell_type": "code",
   "execution_count": 10,
   "metadata": {},
   "outputs": [
    {
     "name": "stdout",
     "output_type": "stream",
     "text": [
      "erythema                                     int64\n",
      "scaling                                      int64\n",
      "definite borders                             int64\n",
      "itching                                      int64\n",
      "koebner phenomenon                           int64\n",
      "polygonal papules                            int64\n",
      "follicular papules                           int64\n",
      "oral mucosal involvement                     int64\n",
      "knee and elbow involvement                   int64\n",
      "scalp involvement                            int64\n",
      "family history                               int64\n",
      "melanin incontinence                         int64\n",
      "eosinophils in the infiltrate                int64\n",
      "PNL infiltrate                               int64\n",
      "fibrosis of the papillary dermis             int64\n",
      "exocytosis                                   int64\n",
      "acanthosis                                   int64\n",
      "hyperkeratosis                               int64\n",
      "parakeratosis                                int64\n",
      "clubbing of the rete ridges                  int64\n",
      "elongation of the rete ridges                int64\n",
      "thinning of the suprapapillary epidermis     int64\n",
      "spongiform pustule                           int64\n",
      "munro microabcess                            int64\n",
      "focal hypergranulosis                        int64\n",
      "disappearance of the granular layer          int64\n",
      "vacuolisation and damage of basal layer      int64\n",
      "spongiosis                                   int64\n",
      "saw-tooth appearance of retes                int64\n",
      "follicular horn plug                         int64\n",
      "perifollicular parakeratosis                 int64\n",
      "inflammatory monoluclear inflitrate          int64\n",
      "band-like infiltrate                         int64\n",
      "Age                                         object\n",
      "Class                                        int64\n",
      "dtype: object\n",
      "0      55\n",
      "1       8\n",
      "2      26\n",
      "3      40\n",
      "4      45\n",
      "       ..\n",
      "361    25\n",
      "362    36\n",
      "363    28\n",
      "364    50\n",
      "365    35\n",
      "Name: Age, Length: 366, dtype: object\n"
     ]
    },
    {
     "name": "stderr",
     "output_type": "stream",
     "text": [
      "/home/anant/anaconda3/lib/python3.7/site-packages/ipykernel_launcher.py:9: SettingWithCopyWarning: \n",
      "A value is trying to be set on a copy of a slice from a DataFrame\n",
      "\n",
      "See the caveats in the documentation: https://pandas.pydata.org/pandas-docs/stable/user_guide/indexing.html#returning-a-view-versus-a-copy\n",
      "  if __name__ == '__main__':\n"
     ]
    }
   ],
   "source": [
    "\"\"\"\n",
    "verify that the other values are fine-- all other values are int\n",
    "\"\"\"\n",
    "print(data.dtypes)\n",
    "\n",
    "\"\"\"Conclusion from the output, all other than age are integers\"\"\"\n",
    "for i in data.index:\n",
    "    if i not in missing_val:\n",
    "        data.Age[i] = int(data.Age[i])\n",
    "\"\"\"\n",
    "No error output---> all other than age can be converted to integers, hence are fine\n",
    "\"\"\"\n",
    "print(data.Age)"
   ]
  },
  {
   "cell_type": "markdown",
   "metadata": {},
   "source": [
    "### Linear Regression for Age prediction"
   ]
  },
  {
   "cell_type": "code",
   "execution_count": null,
   "metadata": {},
   "outputs": [],
   "source": []
  },
  {
   "cell_type": "code",
   "execution_count": 11,
   "metadata": {},
   "outputs": [],
   "source": [
    "\"\"\"\n",
    "Add/remove the missing values-\n",
    "from the description contents it is clear that the only attribute having missing values is Age.\n",
    "\n",
    "Better options- Predict the age from the given values using a Regression model\n",
    "\"\"\"\n",
    "\n",
    "from sklearn.linear_model import LinearRegression"
   ]
  },
  {
   "cell_type": "code",
   "execution_count": 12,
   "metadata": {},
   "outputs": [],
   "source": [
    "lin_reg_input = data[~data.index.isin(missing_val)]"
   ]
  },
  {
   "cell_type": "code",
   "execution_count": 13,
   "metadata": {},
   "outputs": [
    {
     "data": {
      "text/plain": [
       "(358, 34)"
      ]
     },
     "execution_count": 13,
     "metadata": {},
     "output_type": "execute_result"
    }
   ],
   "source": [
    "\"\"\"\n",
    "All columns taken except age\n",
    "\"\"\"\n",
    "X = lin_reg_input[[*col_header[:-2], col_header[-1]]].values\n",
    "\"\"\"\n",
    "Shape should 358 x 34\n",
    "\"\"\"\n",
    "X.shape"
   ]
  },
  {
   "cell_type": "code",
   "execution_count": 14,
   "metadata": {},
   "outputs": [
    {
     "data": {
      "text/plain": [
       "array([[2, 2, 0, ..., 1, 0, 2],\n",
       "       [3, 3, 3, ..., 1, 0, 1],\n",
       "       [2, 1, 2, ..., 2, 3, 3],\n",
       "       ...,\n",
       "       [3, 2, 2, ..., 2, 3, 3],\n",
       "       [2, 1, 3, ..., 2, 3, 3],\n",
       "       [3, 2, 2, ..., 3, 0, 1]])"
      ]
     },
     "execution_count": 14,
     "metadata": {},
     "output_type": "execute_result"
    }
   ],
   "source": [
    "X"
   ]
  },
  {
   "cell_type": "code",
   "execution_count": 15,
   "metadata": {},
   "outputs": [
    {
     "data": {
      "text/plain": [
       "(358,)"
      ]
     },
     "execution_count": 15,
     "metadata": {},
     "output_type": "execute_result"
    }
   ],
   "source": [
    "\"\"\"\n",
    "the prediction or age == col_header[-2]\n",
    "\"\"\"\n",
    "# y = np.array(list(map(int, lin_reg_input[col_header[-2]].values)))\n",
    "y = lin_reg_input[col_header[-2]].values\n",
    "\"\"\"\n",
    "Shape should 358 x 1\n",
    "\"\"\"\n",
    "y.shape"
   ]
  },
  {
   "cell_type": "code",
   "execution_count": 16,
   "metadata": {},
   "outputs": [
    {
     "data": {
      "text/plain": [
       "array([55, 8, 26, 40, 45, 41, 18, 57, 22, 30, 20, 21, 22, 10, 65, 40, 30,\n",
       "       38, 23, 17, 8, 51, 42, 44, 22, 33, 10, 17, 43, 50, 50, 10, 34, 15,\n",
       "       26, 46, 51, 62, 15, 35, 30, 48, 46, 12, 52, 60, 32, 35, 41, 48, 51,\n",
       "       19, 22, 29, 25, 33, 8, 40, 33, 42, 36, 60, 36, 21, 40, 21, 34, 13,\n",
       "       52, 48, 17, 25, 33, 62, 52, 27, 40, 31, 27, 10, 55, 30, 42, 48, 22,\n",
       "       31, 50, 43, 30, 42, 22, 18, 35, 60, 28, 13, 20, 64, 43, 20, 34, 39,\n",
       "       60, 38, 44, 36, 41, 18, 39, 40, 47, 16, 27, 52, 25, 0, 33, 46, 7,\n",
       "       30, 29, 23, 8, 44, 17, 16, 55, 40, 34, 29, 34, 25, 70, 37, 41, 32,\n",
       "       20, 19, 61, 27, 36, 40, 52, 27, 30, 45, 34, 27, 46, 52, 28, 40, 55,\n",
       "       32, 33, 47, 35, 61, 22, 10, 20, 55, 67, 51, 20, 22, 45, 55, 56, 18,\n",
       "       40, 30, 33, 40, 42, 36, 27, 56, 60, 20, 7, 30, 19, 52, 55, 23, 50,\n",
       "       38, 25, 18, 35, 22, 52, 50, 33, 44, 18, 25, 52, 35, 40, 55, 20, 60,\n",
       "       33, 27, 50, 70, 28, 30, 53, 27, 50, 42, 45, 35, 30, 42, 18, 25, 36,\n",
       "       40, 35, 19, 50, 47, 30, 42, 55, 60, 65, 47, 35, 52, 60, 7, 8, 25,\n",
       "       60, 50, 33, 27, 55, 62, 19, 50, 40, 62, 36, 27, 47, 50, 35, 25, 60,\n",
       "       22, 35, 36, 10, 12, 8, 35, 62, 48, 30, 57, 62, 36, 18, 25, 16, 50,\n",
       "       55, 27, 55, 22, 70, 22, 45, 40, 28, 36, 27, 42, 27, 50, 34, 8, 19,\n",
       "       36, 70, 52, 25, 36, 50, 34, 17, 24, 22, 55, 12, 43, 50, 36, 26, 16,\n",
       "       32, 51, 56, 47, 51, 58, 27, 32, 27, 62, 53, 46, 37, 49, 18, 46, 33,\n",
       "       22, 44, 36, 63, 56, 60, 42, 32, 51, 33, 68, 50, 9, 16, 35, 40, 22,\n",
       "       10, 7, 25, 9, 55, 45, 56, 36, 75, 45, 24, 40, 25, 25, 36, 28, 50,\n",
       "       35], dtype=object)"
      ]
     },
     "execution_count": 16,
     "metadata": {},
     "output_type": "execute_result"
    }
   ],
   "source": [
    "y"
   ]
  },
  {
   "cell_type": "code",
   "execution_count": 17,
   "metadata": {},
   "outputs": [],
   "source": [
    "reg_model = LinearRegression().fit(X, y)"
   ]
  },
  {
   "cell_type": "code",
   "execution_count": 18,
   "metadata": {},
   "outputs": [
    {
     "name": "stdout",
     "output_type": "stream",
     "text": [
      "0.20708204530924734\n"
     ]
    },
    {
     "data": {
      "text/plain": [
       "'weak model hence a attribute selection hence better attribute selection'"
      ]
     },
     "execution_count": 18,
     "metadata": {},
     "output_type": "execute_result"
    }
   ],
   "source": [
    "print(reg_model.score(X, y))\n",
    "\"\"\"weak model hence a attribute selection hence better attribute selection\"\"\""
   ]
  },
  {
   "cell_type": "code",
   "execution_count": 19,
   "metadata": {},
   "outputs": [
    {
     "name": "stdout",
     "output_type": "stream",
     "text": [
      "Fitting estimator with 34 features.\n",
      "Fitting estimator with 33 features.\n",
      "Fitting estimator with 32 features.\n",
      "Fitting estimator with 31 features.\n",
      "Fitting estimator with 30 features.\n",
      "Fitting estimator with 29 features.\n",
      "Fitting estimator with 28 features.\n",
      "Fitting estimator with 27 features.\n",
      "Fitting estimator with 26 features.\n",
      "Fitting estimator with 25 features.\n",
      "Fitting estimator with 24 features.\n",
      "Fitting estimator with 23 features.\n",
      "Fitting estimator with 22 features.\n",
      "Fitting estimator with 21 features.\n",
      "Fitting estimator with 20 features.\n",
      "Fitting estimator with 19 features.\n",
      "Fitting estimator with 18 features.\n",
      "Fitting estimator with 17 features.\n",
      "Fitting estimator with 16 features.\n"
     ]
    },
    {
     "data": {
      "text/plain": [
       "array([False, False,  True, False, False,  True,  True, False,  True,\n",
       "       False, False, False,  True,  True,  True,  True,  True, False,\n",
       "       False, False, False,  True, False,  True, False,  True,  True,\n",
       "       False, False, False,  True,  True, False, False])"
      ]
     },
     "execution_count": 19,
     "metadata": {},
     "output_type": "execute_result"
    }
   ],
   "source": [
    "from sklearn.feature_selection import RFE\n",
    "from sklearn.svm import LinearSVR\n",
    "estimator = LinearSVR(max_iter= 1000)\n",
    "selector = RFE(estimator, n_features_to_select= 15, step= 1, verbose= True)\n",
    "selector.fit(X, y)\n",
    "selector.support_"
   ]
  },
  {
   "cell_type": "code",
   "execution_count": 20,
   "metadata": {},
   "outputs": [
    {
     "data": {
      "text/plain": [
       "(358, 15)"
      ]
     },
     "execution_count": 20,
     "metadata": {},
     "output_type": "execute_result"
    }
   ],
   "source": [
    "X[:, selector.support_].shape"
   ]
  },
  {
   "cell_type": "code",
   "execution_count": 21,
   "metadata": {},
   "outputs": [],
   "source": [
    "reg_model = LinearRegression().fit(X[:, selector.support_], y)"
   ]
  },
  {
   "cell_type": "code",
   "execution_count": 22,
   "metadata": {},
   "outputs": [
    {
     "data": {
      "text/plain": [
       "0.19388012851833236"
      ]
     },
     "execution_count": 22,
     "metadata": {},
     "output_type": "execute_result"
    }
   ],
   "source": [
    "reg_model.score(X[:, selector.support_], y)"
   ]
  },
  {
   "cell_type": "markdown",
   "metadata": {},
   "source": [
    "**Linear Regression Conclusion**\n",
    "\n",
    "Tried for different values of k, but R2 score is still very less, (less than 0.5, not even moderately good),\n",
    "conclusion Linear Regression is not a good predictor for this data input and output pair.\n",
    "\n",
    "---"
   ]
  },
  {
   "cell_type": "markdown",
   "metadata": {},
   "source": [
    "Fill the values predicted by regressor into data"
   ]
  },
  {
   "cell_type": "code",
   "execution_count": 23,
   "metadata": {},
   "outputs": [
    {
     "name": "stdout",
     "output_type": "stream",
     "text": [
      "Linear Regression Predicted Age: [37.16577552 33.81500634 36.28343569 36.8615573  35.77513881 39.02692596\n",
      " 37.32602885 35.77513881]\n"
     ]
    }
   ],
   "source": [
    "X_test = data_missing_age[[*col_header[:-2], col_header[-1]]].values[:, selector.support_]\n",
    "y_pred = reg_model.predict(X_test)\n",
    "print(\"Linear Regression Predicted Age:\", y_pred)"
   ]
  },
  {
   "cell_type": "code",
   "execution_count": 24,
   "metadata": {},
   "outputs": [
    {
     "name": "stderr",
     "output_type": "stream",
     "text": [
      "/home/anant/anaconda3/lib/python3.7/site-packages/ipykernel_launcher.py:5: SettingWithCopyWarning: \n",
      "A value is trying to be set on a copy of a slice from a DataFrame\n",
      "\n",
      "See the caveats in the documentation: https://pandas.pydata.org/pandas-docs/stable/user_guide/indexing.html#returning-a-view-versus-a-copy\n",
      "  \"\"\"\n"
     ]
    }
   ],
   "source": [
    "\"\"\"\n",
    "The data is now updated back into the original data\n",
    "\"\"\"\n",
    "for i, index in enumerate(data_missing_age.index):\n",
    "    data.Age[index] = int(y_pred[i])\n",
    "data.Age = data.Age.astype(int)"
   ]
  },
  {
   "cell_type": "code",
   "execution_count": 25,
   "metadata": {},
   "outputs": [
    {
     "data": {
      "text/plain": [
       "erythema                                    int64\n",
       "scaling                                     int64\n",
       "definite borders                            int64\n",
       "itching                                     int64\n",
       "koebner phenomenon                          int64\n",
       "polygonal papules                           int64\n",
       "follicular papules                          int64\n",
       "oral mucosal involvement                    int64\n",
       "knee and elbow involvement                  int64\n",
       "scalp involvement                           int64\n",
       "family history                              int64\n",
       "melanin incontinence                        int64\n",
       "eosinophils in the infiltrate               int64\n",
       "PNL infiltrate                              int64\n",
       "fibrosis of the papillary dermis            int64\n",
       "exocytosis                                  int64\n",
       "acanthosis                                  int64\n",
       "hyperkeratosis                              int64\n",
       "parakeratosis                               int64\n",
       "clubbing of the rete ridges                 int64\n",
       "elongation of the rete ridges               int64\n",
       "thinning of the suprapapillary epidermis    int64\n",
       "spongiform pustule                          int64\n",
       "munro microabcess                           int64\n",
       "focal hypergranulosis                       int64\n",
       "disappearance of the granular layer         int64\n",
       "vacuolisation and damage of basal layer     int64\n",
       "spongiosis                                  int64\n",
       "saw-tooth appearance of retes               int64\n",
       "follicular horn plug                        int64\n",
       "perifollicular parakeratosis                int64\n",
       "inflammatory monoluclear inflitrate         int64\n",
       "band-like infiltrate                        int64\n",
       "Age                                         int64\n",
       "Class                                       int64\n",
       "dtype: object"
      ]
     },
     "execution_count": 25,
     "metadata": {},
     "output_type": "execute_result"
    }
   ],
   "source": [
    "data.dtypes"
   ]
  },
  {
   "cell_type": "markdown",
   "metadata": {},
   "source": [
    "**Data preprocessing completed**\n",
    "\n",
    "---"
   ]
  },
  {
   "cell_type": "markdown",
   "metadata": {},
   "source": [
    "### Data Transformation"
   ]
  },
  {
   "cell_type": "code",
   "execution_count": 26,
   "metadata": {},
   "outputs": [],
   "source": [
    "\"\"\"\n",
    "data transformation for Classification and Clustering Implementations\n",
    "\"\"\"\n",
    "from sklearn.model_selection import train_test_split"
   ]
  },
  {
   "cell_type": "code",
   "execution_count": 27,
   "metadata": {},
   "outputs": [],
   "source": [
    "X = data[col_header[:-1]].values\n",
    "y = data[col_header[-1]].values"
   ]
  },
  {
   "cell_type": "code",
   "execution_count": 28,
   "metadata": {},
   "outputs": [],
   "source": [
    "X_train, X_test, y_train, y_test = train_test_split(X, y, test_size= 0.2)"
   ]
  },
  {
   "cell_type": "markdown",
   "metadata": {},
   "source": [
    "### Decision Tree Classifier"
   ]
  },
  {
   "cell_type": "code",
   "execution_count": 29,
   "metadata": {},
   "outputs": [],
   "source": [
    "from sklearn import tree\n",
    "decision_tree_classifier = tree.DecisionTreeClassifier().fit(X_train, y_train)"
   ]
  },
  {
   "cell_type": "code",
   "execution_count": 30,
   "metadata": {},
   "outputs": [
    {
     "data": {
      "text/plain": [
       "[Text(256.9395348837209, 208.38, 'X[21] <= 0.5\\ngini = 0.794\\nsamples = 292\\nvalue = [94, 45, 56, 38, 44, 15]'),\n",
       " Text(225.7953488372093, 190.26, 'X[26] <= 0.5\\ngini = 0.783\\nsamples = 199\\nvalue = [3, 44, 56, 38, 43, 15]'),\n",
       " Text(210.2232558139535, 172.14, 'X[14] <= 0.5\\ngini = 0.736\\nsamples = 144\\nvalue = [3, 44, 1, 38, 43, 15]'),\n",
       " Text(179.07906976744187, 154.01999999999998, 'X[4] <= 0.5\\ngini = 0.639\\nsamples = 100\\nvalue = [3, 44, 0, 38, 0, 15]'),\n",
       " Text(163.50697674418603, 135.89999999999998, 'X[30] <= 0.5\\ngini = 0.544\\nsamples = 70\\nvalue = [3, 44, 0, 8, 0, 15]'),\n",
       " Text(124.57674418604651, 117.77999999999999, 'X[25] <= 0.5\\ngini = 0.341\\nsamples = 54\\nvalue = [3, 43, 0, 8, 0, 0]'),\n",
       " Text(93.43255813953488, 99.66, 'X[19] <= 1.0\\ngini = 0.158\\nsamples = 47\\nvalue = [1, 43, 0, 3, 0, 0]'),\n",
       " Text(77.86046511627907, 81.53999999999999, 'X[17] <= 1.5\\ngini = 0.122\\nsamples = 46\\nvalue = [0, 43, 0, 3, 0, 0]'),\n",
       " Text(62.288372093023256, 63.41999999999999, 'X[33] <= 61.5\\ngini = 0.085\\nsamples = 45\\nvalue = [0, 43, 0, 2, 0, 0]'),\n",
       " Text(31.144186046511628, 45.29999999999998, 'X[17] <= 0.5\\ngini = 0.045\\nsamples = 43\\nvalue = [0, 42, 0, 1, 0, 0]'),\n",
       " Text(15.572093023255814, 27.17999999999998, 'gini = 0.0\\nsamples = 37\\nvalue = [0, 37, 0, 0, 0, 0]'),\n",
       " Text(46.71627906976744, 27.17999999999998, 'X[31] <= 1.5\\ngini = 0.278\\nsamples = 6\\nvalue = [0, 5, 0, 1, 0, 0]'),\n",
       " Text(31.144186046511628, 9.059999999999974, 'gini = 0.0\\nsamples = 5\\nvalue = [0, 5, 0, 0, 0, 0]'),\n",
       " Text(62.288372093023256, 9.059999999999974, 'gini = 0.0\\nsamples = 1\\nvalue = [0, 0, 0, 1, 0, 0]'),\n",
       " Text(93.43255813953488, 45.29999999999998, 'X[3] <= 0.5\\ngini = 0.5\\nsamples = 2\\nvalue = [0, 1, 0, 1, 0, 0]'),\n",
       " Text(77.86046511627907, 27.17999999999998, 'gini = 0.0\\nsamples = 1\\nvalue = [0, 0, 0, 1, 0, 0]'),\n",
       " Text(109.0046511627907, 27.17999999999998, 'gini = 0.0\\nsamples = 1\\nvalue = [0, 1, 0, 0, 0, 0]'),\n",
       " Text(93.43255813953488, 63.41999999999999, 'gini = 0.0\\nsamples = 1\\nvalue = [0, 0, 0, 1, 0, 0]'),\n",
       " Text(109.0046511627907, 81.53999999999999, 'gini = 0.0\\nsamples = 1\\nvalue = [1, 0, 0, 0, 0, 0]'),\n",
       " Text(155.72093023255815, 99.66, 'X[20] <= 1.0\\ngini = 0.408\\nsamples = 7\\nvalue = [2, 0, 0, 5, 0, 0]'),\n",
       " Text(140.14883720930231, 81.53999999999999, 'gini = 0.0\\nsamples = 5\\nvalue = [0, 0, 0, 5, 0, 0]'),\n",
       " Text(171.29302325581395, 81.53999999999999, 'gini = 0.0\\nsamples = 2\\nvalue = [2, 0, 0, 0, 0, 0]'),\n",
       " Text(202.43720930232558, 117.77999999999999, 'X[17] <= 2.5\\ngini = 0.117\\nsamples = 16\\nvalue = [0, 1, 0, 0, 0, 15]'),\n",
       " Text(186.86511627906975, 99.66, 'gini = 0.0\\nsamples = 15\\nvalue = [0, 0, 0, 0, 0, 15]'),\n",
       " Text(218.0093023255814, 99.66, 'gini = 0.0\\nsamples = 1\\nvalue = [0, 1, 0, 0, 0, 0]'),\n",
       " Text(194.65116279069767, 135.89999999999998, 'gini = 0.0\\nsamples = 30\\nvalue = [0, 0, 0, 30, 0, 0]'),\n",
       " Text(241.3674418604651, 154.01999999999998, 'X[23] <= 1.5\\ngini = 0.044\\nsamples = 44\\nvalue = [0, 0, 1, 0, 43, 0]'),\n",
       " Text(225.7953488372093, 135.89999999999998, 'gini = 0.0\\nsamples = 43\\nvalue = [0, 0, 0, 0, 43, 0]'),\n",
       " Text(256.9395348837209, 135.89999999999998, 'gini = 0.0\\nsamples = 1\\nvalue = [0, 0, 1, 0, 0, 0]'),\n",
       " Text(241.3674418604651, 172.14, 'gini = 0.0\\nsamples = 55\\nvalue = [0, 0, 55, 0, 0, 0]'),\n",
       " Text(288.0837209302326, 190.26, 'X[27] <= 0.5\\ngini = 0.042\\nsamples = 93\\nvalue = [91, 1, 0, 0, 1, 0]'),\n",
       " Text(272.51162790697674, 172.14, 'gini = 0.0\\nsamples = 91\\nvalue = [91, 0, 0, 0, 0, 0]'),\n",
       " Text(303.65581395348835, 172.14, 'X[33] <= 46.5\\ngini = 0.5\\nsamples = 2\\nvalue = [0, 1, 0, 0, 1, 0]'),\n",
       " Text(288.0837209302326, 154.01999999999998, 'gini = 0.0\\nsamples = 1\\nvalue = [0, 0, 0, 0, 1, 0]'),\n",
       " Text(319.2279069767442, 154.01999999999998, 'gini = 0.0\\nsamples = 1\\nvalue = [0, 1, 0, 0, 0, 0]')]"
      ]
     },
     "execution_count": 30,
     "metadata": {},
     "output_type": "execute_result"
    },
    {
     "data": {
      "image/png": "[encoded data removed]",
      "text/plain": [
       "<Figure size 432x288 with 1 Axes>"
      ]
     },
     "metadata": {
      "needs_background": "light"
     },
     "output_type": "display_data"
    }
   ],
   "source": [
    "tree.plot_tree(decision_tree_classifier)"
   ]
  },
  {
   "cell_type": "code",
   "execution_count": 31,
   "metadata": {},
   "outputs": [],
   "source": [
    "y_pred = decision_tree_classifier.predict(X_test)"
   ]
  },
  {
   "cell_type": "code",
   "execution_count": 32,
   "metadata": {},
   "outputs": [
    {
     "data": {
      "text/plain": [
       "array([3, 3, 2, 1, 3, 3, 2, 3, 1, 5, 2, 1, 3, 5, 1, 2, 1, 3, 1, 3, 6, 6,\n",
       "       5, 2, 4, 4, 2, 3, 4, 5, 2, 1, 1, 4, 1, 1, 6, 5, 1, 4, 3, 1, 4, 5,\n",
       "       2, 4, 4, 2, 3, 4, 4, 3, 4, 4, 2, 6, 1, 6, 3, 3, 3, 2, 5, 1, 3, 1,\n",
       "       1, 4, 1, 4, 5, 1, 2, 2])"
      ]
     },
     "execution_count": 32,
     "metadata": {},
     "output_type": "execute_result"
    }
   ],
   "source": [
    "y_pred"
   ]
  },
  {
   "cell_type": "code",
   "execution_count": 33,
   "metadata": {},
   "outputs": [],
   "source": [
    "correct_classification_count = np.count_nonzero(y_pred == y_test)"
   ]
  },
  {
   "cell_type": "code",
   "execution_count": 34,
   "metadata": {},
   "outputs": [
    {
     "name": "stdout",
     "output_type": "stream",
     "text": [
      "Test Accuracy= 0.9594594594594594\n"
     ]
    }
   ],
   "source": [
    "accuracy = correct_classification_count / len(y_pred)\n",
    "print(\"Test Accuracy=\", accuracy)"
   ]
  },
  {
   "cell_type": "code",
   "execution_count": 35,
   "metadata": {},
   "outputs": [
    {
     "name": "stdout",
     "output_type": "stream",
     "text": [
      "Train Accuracy= 0.9594594594594594\n"
     ]
    }
   ],
   "source": [
    "\"\"\"\n",
    "Very High accuracy on test set\n",
    "--- \n",
    "Accuracy for train set needs to be there too\n",
    "\"\"\"\n",
    "\n",
    "y_pred = decision_tree_classifier.predict(X_test)\n",
    "correct_classification_count = np.count_nonzero(y_pred == y_test)\n",
    "accuracy = correct_classification_count / len(y_pred)\n",
    "print(\"Train Accuracy=\", accuracy)"
   ]
  },
  {
   "cell_type": "markdown",
   "metadata": {},
   "source": [
    "**Decision Tree Conclusions**\n",
    "- The accuracy is very high for default parameters:\n",
    "    - The not enough data points.\n",
    "---"
   ]
  },
  {
   "cell_type": "markdown",
   "metadata": {},
   "source": [
    "### Clustering"
   ]
  },
  {
   "cell_type": "code",
   "execution_count": 36,
   "metadata": {},
   "outputs": [],
   "source": [
    "from sklearn.cluster import KMeans\n",
    "kmeans_classifier = KMeans(n_clusters= 6, ).fit(X_train)"
   ]
  },
  {
   "cell_type": "code",
   "execution_count": 37,
   "metadata": {},
   "outputs": [
    {
     "data": {
      "text/plain": [
       "array([0, 1, 1, 3, 1, 0, 0, 1, 3, 1, 3, 5, 1, 5, 4, 3, 2, 5, 2, 0, 5, 1,\n",
       "       0, 0, 3, 0, 1, 0, 1, 5, 0, 2, 4, 3, 5, 0, 0, 3, 1, 1, 5, 0, 1, 3,\n",
       "       2, 2, 4, 2, 0, 1, 1, 4, 5, 0, 0, 0, 0, 0, 1, 0, 1, 1, 0, 0, 2, 2,\n",
       "       5, 2, 2, 1, 5, 1, 3, 2, 1, 0, 0, 0, 4, 3, 3, 1, 2, 0, 1, 3, 1, 0,\n",
       "       1, 4, 0, 0, 1, 0, 3, 3, 1, 2, 0, 3, 4, 3, 1, 0, 4, 3, 0, 2, 1, 0,\n",
       "       3, 0, 3, 0, 1, 0, 2, 3, 3, 1, 0, 3, 1, 5, 0, 2, 1, 5, 3, 3, 2, 4,\n",
       "       1, 4, 4, 4, 1, 1, 0, 2, 1, 4, 3, 1, 1, 0, 0, 0, 0, 3, 3, 3, 2, 4,\n",
       "       3, 5, 1, 1, 1, 1, 3, 0, 1, 2, 2, 3, 2, 2, 2, 2, 1, 0, 5, 2, 0, 4,\n",
       "       1, 3, 4, 5, 0, 3, 1, 4, 4, 1, 3, 1, 5, 3, 2, 5, 4, 1, 4, 3, 1, 3,\n",
       "       0, 3, 4, 1, 2, 3, 0, 2, 0, 0, 4, 0, 3, 3, 0, 1, 0, 1, 0, 1, 2, 5,\n",
       "       2, 0, 2, 1, 5, 2, 2, 1, 0, 3, 4, 4, 3, 0, 4, 0, 1, 2, 2, 3, 2, 5,\n",
       "       0, 1, 3, 1, 0, 1, 3, 2, 4, 3, 3, 3, 5, 1, 4, 2, 0, 3, 2, 0, 4, 2,\n",
       "       5, 2, 0, 3, 0, 0, 1, 3, 3, 1, 0, 2, 0, 1, 2, 0, 2, 1, 1, 3, 3, 3,\n",
       "       2, 0, 0, 3, 3, 0], dtype=int32)"
      ]
     },
     "execution_count": 37,
     "metadata": {},
     "output_type": "execute_result"
    }
   ],
   "source": [
    "kmeans_classifier.labels_"
   ]
  },
  {
   "cell_type": "code",
   "execution_count": 38,
   "metadata": {},
   "outputs": [],
   "source": [
    "from itertools import permutations \n",
    "\n",
    "def remap_labels(pred_labels, true_labels):\n",
    "    \"\"\"\n",
    "    Code by- https://stackoverflow.com/users/9988487/adomas-baliuka\n",
    "    \"\"\"\n",
    "    \"\"\"Rename prediction labels (clustered output) to best match true labels.\"\"\"\n",
    "    # from itertools import permutations # import this into script.\n",
    "    pred_labels, true_labels = np.array(pred_labels), np.array(true_labels)\n",
    "    assert pred_labels.ndim == 1 == true_labels.ndim\n",
    "    assert len(pred_labels) == len(true_labels)\n",
    "    cluster_names = np.unique(pred_labels)\n",
    "    accuracy = 0\n",
    "\n",
    "    perms = np.array(list(permutations(np.unique(true_labels))))\n",
    "\n",
    "    remapped_labels = true_labels\n",
    "    for perm in perms:\n",
    "        flipped_labels = np.zeros(len(true_labels))\n",
    "        for label_index, label in enumerate(cluster_names):\n",
    "            flipped_labels[pred_labels == label] = perm[label_index]\n",
    "\n",
    "        testAcc = np.sum(flipped_labels == true_labels) / len(true_labels)\n",
    "        if testAcc > accuracy:\n",
    "            accuracy = testAcc\n",
    "            remapped_labels = flipped_labels\n",
    "    return accuracy, remapped_labels"
   ]
  },
  {
   "cell_type": "code",
   "execution_count": 39,
   "metadata": {},
   "outputs": [
    {
     "data": {
      "text/plain": [
       "(0.2808219178082192,\n",
       " array([1., 5., 5., 3., 5., 1., 1., 5., 3., 5., 3., 6., 5., 6., 4., 3., 2.,\n",
       "        6., 2., 1., 6., 5., 1., 1., 3., 1., 5., 1., 5., 6., 1., 2., 4., 3.,\n",
       "        6., 1., 1., 3., 5., 5., 6., 1., 5., 3., 2., 2., 4., 2., 1., 5., 5.,\n",
       "        4., 6., 1., 1., 1., 1., 1., 5., 1., 5., 5., 1., 1., 2., 2., 6., 2.,\n",
       "        2., 5., 6., 5., 3., 2., 5., 1., 1., 1., 4., 3., 3., 5., 2., 1., 5.,\n",
       "        3., 5., 1., 5., 4., 1., 1., 5., 1., 3., 3., 5., 2., 1., 3., 4., 3.,\n",
       "        5., 1., 4., 3., 1., 2., 5., 1., 3., 1., 3., 1., 5., 1., 2., 3., 3.,\n",
       "        5., 1., 3., 5., 6., 1., 2., 5., 6., 3., 3., 2., 4., 5., 4., 4., 4.,\n",
       "        5., 5., 1., 2., 5., 4., 3., 5., 5., 1., 1., 1., 1., 3., 3., 3., 2.,\n",
       "        4., 3., 6., 5., 5., 5., 5., 3., 1., 5., 2., 2., 3., 2., 2., 2., 2.,\n",
       "        5., 1., 6., 2., 1., 4., 5., 3., 4., 6., 1., 3., 5., 4., 4., 5., 3.,\n",
       "        5., 6., 3., 2., 6., 4., 5., 4., 3., 5., 3., 1., 3., 4., 5., 2., 3.,\n",
       "        1., 2., 1., 1., 4., 1., 3., 3., 1., 5., 1., 5., 1., 5., 2., 6., 2.,\n",
       "        1., 2., 5., 6., 2., 2., 5., 1., 3., 4., 4., 3., 1., 4., 1., 5., 2.,\n",
       "        2., 3., 2., 6., 1., 5., 3., 5., 1., 5., 3., 2., 4., 3., 3., 3., 6.,\n",
       "        5., 4., 2., 1., 3., 2., 1., 4., 2., 6., 2., 1., 3., 1., 1., 5., 3.,\n",
       "        3., 5., 1., 2., 1., 5., 2., 1., 2., 5., 5., 3., 3., 3., 2., 1., 1.,\n",
       "        3., 3., 1.]))"
      ]
     },
     "execution_count": 39,
     "metadata": {},
     "output_type": "execute_result"
    }
   ],
   "source": [
    "\"\"\"\n",
    "Even when taking the best mapped fit for label\n",
    "\"\"\"\n",
    "remap_labels(kmeans_classifier.labels_, y_train)"
   ]
  },
  {
   "cell_type": "markdown",
   "metadata": {},
   "source": [
    "**Conclusions KMeans Clustering**\n",
    "- The accuracy is very low:\n",
    "    - KMeans is not a good Clustering for this\n",
    "    - The dataset is uneven(not same sized data), hence k-means is not good \n",
    "---    "
   ]
  },
  {
   "cell_type": "markdown",
   "metadata": {},
   "source": [
    "### Hierarchical Clustering"
   ]
  },
  {
   "cell_type": "code",
   "execution_count": 40,
   "metadata": {},
   "outputs": [],
   "source": [
    "from sklearn.cluster import AgglomerativeClustering\n",
    "hierarchical_classifier = AgglomerativeClustering(n_clusters= 6).fit(X_train)"
   ]
  },
  {
   "cell_type": "code",
   "execution_count": 41,
   "metadata": {},
   "outputs": [
    {
     "data": {
      "text/plain": [
       "array([2, 0, 0, 1, 0, 2, 3, 0, 1, 0, 1, 5, 0, 5, 4, 1, 0, 5, 0, 2, 5, 0,\n",
       "       3, 3, 1, 2, 0, 2, 0, 5, 3, 0, 4, 1, 2, 3, 3, 1, 3, 0, 5, 3, 0, 1,\n",
       "       0, 0, 4, 0, 3, 0, 3, 4, 2, 3, 2, 2, 2, 3, 0, 3, 3, 3, 3, 3, 0, 0,\n",
       "       5, 0, 0, 0, 5, 0, 1, 0, 0, 2, 2, 3, 4, 1, 1, 0, 1, 3, 0, 1, 0, 2,\n",
       "       0, 1, 3, 3, 0, 3, 1, 1, 0, 0, 2, 1, 4, 1, 0, 2, 4, 1, 3, 0, 0, 2,\n",
       "       1, 2, 1, 2, 0, 3, 0, 1, 1, 0, 2, 1, 0, 5, 2, 0, 0, 2, 1, 1, 0, 1,\n",
       "       0, 4, 4, 4, 3, 0, 3, 0, 3, 4, 4, 0, 0, 2, 3, 3, 2, 1, 1, 1, 0, 4,\n",
       "       1, 2, 3, 0, 3, 0, 1, 3, 0, 0, 0, 1, 0, 0, 0, 0, 0, 3, 5, 0, 3, 4,\n",
       "       3, 1, 4, 5, 3, 1, 0, 4, 4, 0, 1, 0, 5, 4, 0, 5, 4, 0, 4, 1, 0, 1,\n",
       "       3, 1, 4, 0, 0, 1, 3, 0, 2, 2, 4, 3, 1, 1, 2, 0, 2, 3, 3, 3, 1, 5,\n",
       "       0, 2, 0, 0, 5, 0, 0, 3, 3, 1, 4, 1, 1, 3, 4, 2, 0, 0, 0, 1, 0, 5,\n",
       "       3, 0, 1, 0, 3, 0, 1, 0, 4, 1, 1, 0, 2, 0, 4, 0, 3, 1, 0, 2, 4, 0,\n",
       "       2, 0, 3, 1, 3, 2, 0, 1, 1, 0, 2, 0, 2, 0, 0, 3, 0, 0, 0, 1, 1, 1,\n",
       "       0, 2, 3, 0, 1, 3])"
      ]
     },
     "execution_count": 41,
     "metadata": {},
     "output_type": "execute_result"
    }
   ],
   "source": [
    "hierarchical_classifier.labels_"
   ]
  },
  {
   "cell_type": "code",
   "execution_count": 42,
   "metadata": {},
   "outputs": [
    {
     "data": {
      "text/plain": [
       "(0.2945205479452055,\n",
       " array([4., 2., 2., 1., 2., 4., 3., 2., 1., 2., 1., 6., 2., 6., 5., 1., 2.,\n",
       "        6., 2., 4., 6., 2., 3., 3., 1., 4., 2., 4., 2., 6., 3., 2., 5., 1.,\n",
       "        4., 3., 3., 1., 3., 2., 6., 3., 2., 1., 2., 2., 5., 2., 3., 2., 3.,\n",
       "        5., 4., 3., 4., 4., 4., 3., 2., 3., 3., 3., 3., 3., 2., 2., 6., 2.,\n",
       "        2., 2., 6., 2., 1., 2., 2., 4., 4., 3., 5., 1., 1., 2., 1., 3., 2.,\n",
       "        1., 2., 4., 2., 1., 3., 3., 2., 3., 1., 1., 2., 2., 4., 1., 5., 1.,\n",
       "        2., 4., 5., 1., 3., 2., 2., 4., 1., 4., 1., 4., 2., 3., 2., 1., 1.,\n",
       "        2., 4., 1., 2., 6., 4., 2., 2., 4., 1., 1., 2., 1., 2., 5., 5., 5.,\n",
       "        3., 2., 3., 2., 3., 5., 5., 2., 2., 4., 3., 3., 4., 1., 1., 1., 2.,\n",
       "        5., 1., 4., 3., 2., 3., 2., 1., 3., 2., 2., 2., 1., 2., 2., 2., 2.,\n",
       "        2., 3., 6., 2., 3., 5., 3., 1., 5., 6., 3., 1., 2., 5., 5., 2., 1.,\n",
       "        2., 6., 5., 2., 6., 5., 2., 5., 1., 2., 1., 3., 1., 5., 2., 2., 1.,\n",
       "        3., 2., 4., 4., 5., 3., 1., 1., 4., 2., 4., 3., 3., 3., 1., 6., 2.,\n",
       "        4., 2., 2., 6., 2., 2., 3., 3., 1., 5., 1., 1., 3., 5., 4., 2., 2.,\n",
       "        2., 1., 2., 6., 3., 2., 1., 2., 3., 2., 1., 2., 5., 1., 1., 2., 4.,\n",
       "        2., 5., 2., 3., 1., 2., 4., 5., 2., 4., 2., 3., 1., 3., 4., 2., 1.,\n",
       "        1., 2., 4., 2., 4., 2., 2., 3., 2., 2., 2., 1., 1., 1., 2., 4., 3.,\n",
       "        2., 1., 3.]))"
      ]
     },
     "execution_count": 42,
     "metadata": {},
     "output_type": "execute_result"
    }
   ],
   "source": [
    "remap_labels(hierarchical_classifier.labels_, y_train)"
   ]
  },
  {
   "cell_type": "markdown",
   "metadata": {},
   "source": [
    "**Conclusions KMeans Clustering**\n",
    "- The accuracy is very low:\n",
    "    - Not a good choice for this \n",
    "---"
   ]
  },
  {
   "cell_type": "markdown",
   "metadata": {},
   "source": [
    "## PySpark Implementation"
   ]
  },
  {
   "cell_type": "code",
   "execution_count": 43,
   "metadata": {},
   "outputs": [],
   "source": [
    "import sys\n",
    "import os\n",
    "os.environ['SPARK_HOME'] = '/opt/spark'\n",
    "# SparkContext is available as sc and HiveContext is available as sqlContext.\n",
    "sys.path.append('/opt/spark/python')\n",
    "sys.path.append('/opt/spark/data')\n"
   ]
  },
  {
   "cell_type": "code",
   "execution_count": 44,
   "metadata": {},
   "outputs": [],
   "source": [
    "import findspark\n",
    "# sc.stop()\n",
    "from pyspark import SparkContext\n",
    "spark = SparkSession \\\n",
    "    .builder \\\n",
    "    .enableHiveSupport() \\\n",
    "    .getOrCreate()\n",
    "\n",
    "sc = SparkContext.getOrCreate(SparkConf().setMaster(\"local[*]\"))\n"
   ]
  },
  {
   "cell_type": "code",
   "execution_count": 45,
   "metadata": {},
   "outputs": [
    {
     "name": "stdout",
     "output_type": "stream",
     "text": [
      "Root of Squared Error =  3.095812325252097\n"
     ]
    }
   ],
   "source": [
    "from math import sqrt\n",
    "\n",
    "from pyspark.mllib.clustering import KMeans, KMeansModel\n",
    "\n",
    "# Load and parse the data\n",
    "data = sc.textFile(\"dermatology.data\")\n",
    "\n",
    "\"\"\"\n",
    "returns all the complete data without the class and Age--- [:-2] \n",
    "\"\"\"\n",
    "    \n",
    "parsedData = data.map(lambda line: np.array([int(x) for x in line.split(',')[:-2]]))\n",
    "\n",
    "# Build the model (cluster the data)\n",
    "clusters = KMeans.train(parsedData, k= 6, maxIterations=10, initializationMode=\"random\")\n",
    "\n",
    "# Evaluate clustering by computing Within Set Sum of Squared Errors\n",
    "def error(point):\n",
    "    center = clusters.centers[clusters.predict(point)]\n",
    "    return sum([x**2 for x in (point - center)])\n",
    "\n",
    "sum_sq = parsedData.map(lambda point: error(point)).reduce(lambda x, y: x + y)\n",
    "\n",
    "print(\"Root of Squared Error = \", sqrt(sum_sq / 365))\n"
   ]
  },
  {
   "cell_type": "markdown",
   "metadata": {},
   "source": [
    "**Conclusion PySpark K-Means Cluster**\n",
    "- The root mean square value for the above is high\n",
    "    - K Means is not a good choice for the dataset\n",
    "    - The dataset is uneven(not same sized data), hence k-means is not good "
   ]
  },
  {
   "cell_type": "markdown",
   "metadata": {},
   "source": [
    "---------"
   ]
  }
 ],
 "metadata": {
  "kernelspec": {
   "display_name": "Python 3",
   "language": "python",
   "name": "python3"
  },
  "language_info": {
   "codemirror_mode": {
    "name": "ipython",
    "version": 3
   },
   "file_extension": ".py",
   "mimetype": "text/x-python",
   "name": "python",
   "nbconvert_exporter": "python",
   "pygments_lexer": "ipython3",
   "version": "3.7.6"
  }
 },
 "nbformat": 4,
 "nbformat_minor": 4
}
