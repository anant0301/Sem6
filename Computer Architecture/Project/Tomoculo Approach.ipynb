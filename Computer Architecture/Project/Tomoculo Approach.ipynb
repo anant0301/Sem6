{
 "cells": [
  {
   "attachments": {},
   "cell_type": "markdown",
   "metadata": {},
   "source": [
    "# Dynamic Scheduling Tomasulo Approach\n",
    "![Image](1.png)\n",
    "![Image](2\n",
    ".png)\n",
    "![Image](3.png)"
   ]
  },
  {
   "cell_type": "code",
   "execution_count": 2,
   "metadata": {},
   "outputs": [],
   "source": [
    "instr = [\n",
    "    'ADD', 'ADC', 'SUB', 'SBC', 'MUL', 'FADD', 'FSUB', 'FMUL', \n",
    "    'AND', 'OR', 'NAND', 'NOR', 'XOR', 'XNOR', 'NOT', 'NEG',\n",
    "    'LDR', 'STR', 'HLT'\n",
    "]\n"
   ]
  }
 ],
 "metadata": {
  "kernelspec": {
   "display_name": "Python 3",
   "language": "python",
   "name": "python3"
  },
  "language_info": {
   "codemirror_mode": {
    "name": "ipython",
    "version": 3
   },
   "file_extension": ".py",
   "mimetype": "text/x-python",
   "name": "python",
   "nbconvert_exporter": "python",
   "pygments_lexer": "ipython3",
   "version": "3.7.6"
  }
 },
 "nbformat": 4,
 "nbformat_minor": 4
}
